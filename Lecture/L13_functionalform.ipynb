{
 "cells": [
  {
   "cell_type": "code",
   "execution_count": null,
   "metadata": {},
   "outputs": [],
   "source": [
    "library(haven)\n",
    "options(scipen = 5)"
   ]
  },
  {
   "cell_type": "code",
   "execution_count": null,
   "metadata": {},
   "outputs": [],
   "source": [
    "\n",
    "bweight<- read_dta(\"BWGHT.DTA\")\n",
    "#regression model\n",
    "reg1 <-lm(bwght~cigs + parity, data= bweight)\n",
    "summary(reg1)"
   ]
  },
  {
   "cell_type": "code",
   "execution_count": null,
   "metadata": {},
   "outputs": [],
   "source": [
    "#what if bwght is in pounds?\n",
    "bweight$bwght_lbs <- bweight$bwght/16\n",
    "reg2 <-lm(bwght_lbs~cigs + parity, data = bweight)\n",
    "summary(reg2)"
   ]
  },
  {
   "cell_type": "code",
   "execution_count": null,
   "metadata": {},
   "outputs": [],
   "source": [
    "round(summary(reg2)$coefficients[2,1]*16,4)\n",
    "round(summary(reg1)$coefficients[2,1],4)"
   ]
  },
  {
   "cell_type": "code",
   "execution_count": null,
   "metadata": {},
   "outputs": [],
   "source": [
    "#what if cigarettes are in packs?\n",
    "bweight$packs <-bweight$cigs/20\n",
    "reg3<-lm(bwght~packs + parity, data = bweight)\n",
    "summary(reg3)"
   ]
  },
  {
   "cell_type": "code",
   "execution_count": null,
   "metadata": {},
   "outputs": [],
   "source": [
    "# Coefficient on cigarettes\n",
    "round(summary(reg3)$coefficients[2,1]/20,4)\n",
    "round(summary(reg1)$coefficients[2,1],4)\n",
    "# Coefficient on parity\n",
    "round(summary(reg3)$coefficients[3,1],4)\n",
    "round(summary(reg1)$coefficients[3,1],4)"
   ]
  },
  {
   "cell_type": "code",
   "execution_count": null,
   "metadata": {},
   "outputs": [],
   "source": [
    "# Back to lecture"
   ]
  },
  {
   "cell_type": "code",
   "execution_count": null,
   "metadata": {},
   "outputs": [],
   "source": [
    "#load housing price data\n",
    "hprice<-read_dta(\"HPRICE2.DTA\")\n",
    "head(hprice)"
   ]
  },
  {
   "cell_type": "code",
   "execution_count": null,
   "metadata": {},
   "outputs": [],
   "source": [
    "reg4<- lm(price~nox + crime + rooms + dist, data = hprice)\n",
    "summary(reg4)"
   ]
  },
  {
   "cell_type": "code",
   "execution_count": null,
   "metadata": {},
   "outputs": [],
   "source": [
    "# How do you interpret the coefficient on crime? On nox? \n",
    "# Which one are people willing to pay more to avoid?"
   ]
  },
  {
   "cell_type": "code",
   "execution_count": null,
   "metadata": {},
   "outputs": [],
   "source": [
    "#scale function standardizes variables\n",
    "reg5<- lm(scale(price)~scale(nox) + scale(crime) + scale(rooms) + scale(dist), data = hprice)\n",
    "summary(reg5)"
   ]
  },
  {
   "cell_type": "code",
   "execution_count": null,
   "metadata": {},
   "outputs": [],
   "source": [
    "# How do you interpret the coefficient on crime? On nox? \n",
    "# Which one are people willing to pay more to avoid?"
   ]
  },
  {
   "cell_type": "code",
   "execution_count": null,
   "metadata": {},
   "outputs": [],
   "source": [
    "# What if I only scale X variables?\n",
    "reg6<- lm(price~scale(nox) + scale(crime) + rooms + dist, data = hprice)\n",
    "summary(reg6)\n",
    "summary(reg4)"
   ]
  },
  {
   "cell_type": "code",
   "execution_count": null,
   "metadata": {},
   "outputs": [],
   "source": [
    "# How do you interpret the coefficient on crime? On nox? \n",
    "# Which one are people willing to pay more to avoid?"
   ]
  },
  {
   "cell_type": "code",
   "execution_count": null,
   "metadata": {},
   "outputs": [],
   "source": [
    "# Back to lecture"
   ]
  },
  {
   "cell_type": "code",
   "execution_count": null,
   "metadata": {},
   "outputs": [],
   "source": [
    "wagedata<-read_dta(\"WAGE1.DTA\")"
   ]
  },
  {
   "cell_type": "code",
   "execution_count": null,
   "metadata": {},
   "outputs": [],
   "source": [
    "#Examine Data\n",
    "plot(wagedata$exper, wagedata$lwage)"
   ]
  },
  {
   "cell_type": "code",
   "execution_count": null,
   "metadata": {},
   "outputs": [],
   "source": [
    "reg6<-lm(lwage~exper,data = wagedata)\n",
    "summary(reg6)"
   ]
  },
  {
   "cell_type": "code",
   "execution_count": null,
   "metadata": {},
   "outputs": [],
   "source": [
    "reg7<-lm(lwage~log(exper), data = wagedata)\n",
    "summary(reg7)"
   ]
  },
  {
   "cell_type": "code",
   "execution_count": null,
   "metadata": {},
   "outputs": [],
   "source": [
    "reg8<-lm(lwage~exper + expersq, data = wagedata)\n",
    "summary(reg8)"
   ]
  },
  {
   "cell_type": "code",
   "execution_count": null,
   "metadata": {},
   "outputs": [],
   "source": [
    "#turning point\n",
    "round(-summary(reg8)$coefficients[2,1]/(2*summary(reg8)$coefficients[3,1]),2)"
   ]
  },
  {
   "cell_type": "code",
   "execution_count": null,
   "metadata": {},
   "outputs": [],
   "source": [
    "# Which one seems best?\n",
    "# Back to lecture"
   ]
  },
  {
   "cell_type": "code",
   "execution_count": null,
   "metadata": {},
   "outputs": [],
   "source": [
    "# Load new house prices data\n",
    "hprice1<-read_dta(\"hprice1.dta\")\n",
    "head(hprice1,5) # price and assessed value are in $1000s"
   ]
  },
  {
   "cell_type": "code",
   "execution_count": null,
   "metadata": {},
   "outputs": [],
   "source": [
    "# Simple regression\n",
    "reg9<-lm(price ~sqrft+bdrms, data = hprice1)\n",
    "summary(reg9)"
   ]
  },
  {
   "cell_type": "code",
   "execution_count": null,
   "metadata": {},
   "outputs": [],
   "source": [
    "# Interaction\n",
    "#if you include a star in the regression, \n",
    "#it will automatically put in both variables and the interaction term\n",
    "reg10<-lm(price ~sqrft*bdrms, data = hprice1)\n",
    "summary(reg10)"
   ]
  },
  {
   "cell_type": "code",
   "execution_count": null,
   "metadata": {},
   "outputs": [],
   "source": [
    "#How to interpret this?"
   ]
  }
 ],
 "metadata": {
  "kernelspec": {
   "display_name": "R",
   "language": "R",
   "name": "ir"
  },
  "language_info": {
   "codemirror_mode": "r",
   "file_extension": ".r",
   "mimetype": "text/x-r-source",
   "name": "R",
   "pygments_lexer": "r",
   "version": "4.1.1"
  }
 },
 "nbformat": 4,
 "nbformat_minor": 2
}
