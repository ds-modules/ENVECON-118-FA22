{
 "cells": [
  {
   "cell_type": "code",
   "execution_count": null,
   "metadata": {},
   "outputs": [],
   "source": [
    "#data set is in an old version of stata.  Will need library foreign to load it\n",
    "library(foreign)\n",
    "wagedata <- read.dta(\"WAGE1.DTA\")"
   ]
  },
  {
   "cell_type": "code",
   "execution_count": null,
   "metadata": {},
   "outputs": [],
   "source": [
    "#Examine data\n",
    "head(wagedata,10)"
   ]
  },
  {
   "cell_type": "code",
   "execution_count": null,
   "metadata": {},
   "outputs": [],
   "source": [
    "#summarize wages (hourly earnings)\n",
    "summary(wagedata[,\"wage\"])"
   ]
  },
  {
   "cell_type": "code",
   "execution_count": null,
   "metadata": {},
   "outputs": [],
   "source": [
    "#summarize education, experience, and tenure\n",
    "summary(wagedata[,\"educ\"])\n",
    "summary(wagedata[,\"exper\"])\n",
    "summary(wagedata[,\"tenure\"])"
   ]
  },
  {
   "cell_type": "code",
   "execution_count": null,
   "metadata": {},
   "outputs": [],
   "source": [
    "#regress log wage on education\n",
    "Reg1 <- lm(lwage~educ, data = wagedata)\n",
    "#display full results of regression\n",
    "summary(Reg1)"
   ]
  },
  {
   "cell_type": "code",
   "execution_count": null,
   "metadata": {},
   "outputs": [],
   "source": [
    "#control for experience\n",
    "Reg2 <- lm(lwage ~ educ + exper, data = wagedata)\n",
    "#display full results of regression\n",
    "summary(Reg2)"
   ]
  },
  {
   "cell_type": "code",
   "execution_count": null,
   "metadata": {},
   "outputs": [],
   "source": [
    "#allow a quadratic in experience\n",
    "Reg3 <- lm(lwage ~ educ + exper + expersq, data = wagedata)\n",
    "summary(Reg3)"
   ]
  },
  {
   "cell_type": "code",
   "execution_count": null,
   "metadata": {},
   "outputs": [],
   "source": [
    "#control for being non-white: not strongly correlated with wages in these data\n",
    "#what do you expect to happen?\n",
    "Reg4<- lm(lwage ~ educ + exper + expersq + nonwhite, data = wagedata)\n",
    "summary(Reg4)"
   ]
  },
  {
   "cell_type": "code",
   "execution_count": null,
   "metadata": {},
   "outputs": [],
   "source": [
    "#add in tenure to basic regression: relates to wages but not to education\n",
    "#what do you expect to happen to the coefficient and SE on educ?\n",
    "Reg5 <- lm(lwage ~ educ + tenure, data = wagedata)\n",
    "summary(Reg5)\n",
    "summary(Reg1)"
   ]
  },
  {
   "cell_type": "code",
   "execution_count": null,
   "metadata": {},
   "outputs": [],
   "source": [
    "#add in being in a professional occupation (dummy) to basic regression: strongly relates to education\n",
    "#what do you expect to happen to the coefficient and SE on educ?\n",
    "Reg6 <- lm(lwage ~ educ + profocc, data = wagedata)\n",
    "summary(Reg6)\n",
    "summary(Reg1)"
   ]
  },
  {
   "cell_type": "code",
   "execution_count": null,
   "metadata": {},
   "outputs": [],
   "source": [
    "# Back to lecture"
   ]
  },
  {
   "cell_type": "code",
   "execution_count": null,
   "metadata": {},
   "outputs": [],
   "source": [
    "#What about multicollinear variables?\n",
    "#define variable male = 1-female\n",
    "wagedata[,\"male\"] <- 1-wagedata[,\"female\"]\n",
    "#regress log wages on education, male, and female\n",
    "Reg7 <- lm(lwage ~ educ + male + female, data = wagedata)\n",
    "summary(Reg7)"
   ]
  },
  {
   "cell_type": "code",
   "execution_count": null,
   "metadata": {},
   "outputs": [],
   "source": [
    "#What about more complicated multicollinearity?\n",
    "#we can back out age from these data assuming people start education at 6 and are never out of school or work\n",
    "#define age in the data\n",
    "wagedata$age<-wagedata$exper+wagedata$educ+6\n",
    "#What happens if we run our regressions controlling for age, educ, and exper?\n",
    "Reg8 <-lm(lwage ~ educ + exper + age, data = wagedata)\n",
    "summary(Reg8)"
   ]
  },
  {
   "cell_type": "code",
   "execution_count": null,
   "metadata": {},
   "outputs": [],
   "source": [
    "#What if we allow between 0-5 years away from education or work?\n",
    "# *Almost* perfect collinearity\n",
    "wagedata$age2<-wagedata$exper+wagedata$educ+6+runif(nrow(wagedata))*5\n",
    "Reg9 <-lm(lwage ~ educ + exper + age2, data = wagedata)\n",
    "summary(Reg9)"
   ]
  }
 ],
 "metadata": {
  "kernelspec": {
   "display_name": "R",
   "language": "R",
   "name": "ir"
  },
  "language_info": {
   "codemirror_mode": "r",
   "file_extension": ".r",
   "mimetype": "text/x-r-source",
   "name": "R",
   "pygments_lexer": "r",
   "version": "4.1.1"
  }
 },
 "nbformat": 4,
 "nbformat_minor": 2
}
