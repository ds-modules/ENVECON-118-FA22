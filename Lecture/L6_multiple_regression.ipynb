{
 "cells": [
  {
   "cell_type": "code",
   "execution_count": 1,
   "metadata": {},
   "outputs": [
    {
     "name": "stderr",
     "output_type": "stream",
     "text": [
      "Warning message in read.dta(\"WAGE1.DTA\"):\n",
      "“cannot read factor labels from Stata 5 files”\n"
     ]
    }
   ],
   "source": [
    "#data set is in an old version of stata.  Will need library foreign to load it\n",
    "library(foreign)\n",
    "wagedata <- read.dta(\"WAGE1.DTA\")"
   ]
  },
  {
   "cell_type": "code",
   "execution_count": 2,
   "metadata": {},
   "outputs": [
    {
     "data": {
      "text/html": [
       "<table class=\"dataframe\">\n",
       "<caption>A data.frame: 10 × 24</caption>\n",
       "<thead>\n",
       "\t<tr><th></th><th scope=col>wage</th><th scope=col>educ</th><th scope=col>exper</th><th scope=col>tenure</th><th scope=col>nonwhite</th><th scope=col>female</th><th scope=col>married</th><th scope=col>numdep</th><th scope=col>smsa</th><th scope=col>northcen</th><th scope=col>⋯</th><th scope=col>trcommpu</th><th scope=col>trade</th><th scope=col>services</th><th scope=col>profserv</th><th scope=col>profocc</th><th scope=col>clerocc</th><th scope=col>servocc</th><th scope=col>lwage</th><th scope=col>expersq</th><th scope=col>tenursq</th></tr>\n",
       "\t<tr><th></th><th scope=col>&lt;dbl&gt;</th><th scope=col>&lt;int&gt;</th><th scope=col>&lt;int&gt;</th><th scope=col>&lt;int&gt;</th><th scope=col>&lt;int&gt;</th><th scope=col>&lt;int&gt;</th><th scope=col>&lt;int&gt;</th><th scope=col>&lt;int&gt;</th><th scope=col>&lt;int&gt;</th><th scope=col>&lt;int&gt;</th><th scope=col>⋯</th><th scope=col>&lt;int&gt;</th><th scope=col>&lt;int&gt;</th><th scope=col>&lt;int&gt;</th><th scope=col>&lt;int&gt;</th><th scope=col>&lt;int&gt;</th><th scope=col>&lt;int&gt;</th><th scope=col>&lt;int&gt;</th><th scope=col>&lt;dbl&gt;</th><th scope=col>&lt;int&gt;</th><th scope=col>&lt;int&gt;</th></tr>\n",
       "</thead>\n",
       "<tbody>\n",
       "\t<tr><th scope=row>1</th><td> 3.10</td><td>11</td><td> 2</td><td> 0</td><td>0</td><td>1</td><td>0</td><td>2</td><td>1</td><td>0</td><td>⋯</td><td>0</td><td>0</td><td>0</td><td>0</td><td>0</td><td>0</td><td>0</td><td>1.131402</td><td>   4</td><td>  0</td></tr>\n",
       "\t<tr><th scope=row>2</th><td> 3.24</td><td>12</td><td>22</td><td> 2</td><td>0</td><td>1</td><td>1</td><td>3</td><td>1</td><td>0</td><td>⋯</td><td>0</td><td>0</td><td>1</td><td>0</td><td>0</td><td>0</td><td>1</td><td>1.175573</td><td> 484</td><td>  4</td></tr>\n",
       "\t<tr><th scope=row>3</th><td> 3.00</td><td>11</td><td> 2</td><td> 0</td><td>0</td><td>0</td><td>0</td><td>2</td><td>0</td><td>0</td><td>⋯</td><td>0</td><td>1</td><td>0</td><td>0</td><td>0</td><td>0</td><td>0</td><td>1.098612</td><td>   4</td><td>  0</td></tr>\n",
       "\t<tr><th scope=row>4</th><td> 6.00</td><td> 8</td><td>44</td><td>28</td><td>0</td><td>0</td><td>1</td><td>0</td><td>1</td><td>0</td><td>⋯</td><td>0</td><td>0</td><td>0</td><td>0</td><td>0</td><td>1</td><td>0</td><td>1.791759</td><td>1936</td><td>784</td></tr>\n",
       "\t<tr><th scope=row>5</th><td> 5.30</td><td>12</td><td> 7</td><td> 2</td><td>0</td><td>0</td><td>1</td><td>1</td><td>0</td><td>0</td><td>⋯</td><td>0</td><td>0</td><td>0</td><td>0</td><td>0</td><td>0</td><td>0</td><td>1.667707</td><td>  49</td><td>  4</td></tr>\n",
       "\t<tr><th scope=row>6</th><td> 8.75</td><td>16</td><td> 9</td><td> 8</td><td>0</td><td>0</td><td>1</td><td>0</td><td>1</td><td>0</td><td>⋯</td><td>0</td><td>0</td><td>0</td><td>1</td><td>1</td><td>0</td><td>0</td><td>2.169054</td><td>  81</td><td> 64</td></tr>\n",
       "\t<tr><th scope=row>7</th><td>11.25</td><td>18</td><td>15</td><td> 7</td><td>0</td><td>0</td><td>0</td><td>0</td><td>1</td><td>0</td><td>⋯</td><td>0</td><td>1</td><td>0</td><td>0</td><td>1</td><td>0</td><td>0</td><td>2.420368</td><td> 225</td><td> 49</td></tr>\n",
       "\t<tr><th scope=row>8</th><td> 5.00</td><td>12</td><td> 5</td><td> 3</td><td>0</td><td>1</td><td>0</td><td>0</td><td>1</td><td>0</td><td>⋯</td><td>0</td><td>0</td><td>0</td><td>0</td><td>1</td><td>0</td><td>0</td><td>1.609438</td><td>  25</td><td>  9</td></tr>\n",
       "\t<tr><th scope=row>9</th><td> 3.60</td><td>12</td><td>26</td><td> 4</td><td>0</td><td>1</td><td>0</td><td>2</td><td>1</td><td>0</td><td>⋯</td><td>0</td><td>1</td><td>0</td><td>0</td><td>1</td><td>0</td><td>0</td><td>1.280934</td><td> 676</td><td> 16</td></tr>\n",
       "\t<tr><th scope=row>10</th><td>18.18</td><td>17</td><td>22</td><td>21</td><td>0</td><td>0</td><td>1</td><td>0</td><td>1</td><td>0</td><td>⋯</td><td>0</td><td>0</td><td>0</td><td>0</td><td>1</td><td>0</td><td>0</td><td>2.900322</td><td> 484</td><td>441</td></tr>\n",
       "</tbody>\n",
       "</table>\n"
      ],
      "text/latex": [
       "A data.frame: 10 × 24\n",
       "\\begin{tabular}{r|lllllllllllllllllllll}\n",
       "  & wage & educ & exper & tenure & nonwhite & female & married & numdep & smsa & northcen & ⋯ & trcommpu & trade & services & profserv & profocc & clerocc & servocc & lwage & expersq & tenursq\\\\\n",
       "  & <dbl> & <int> & <int> & <int> & <int> & <int> & <int> & <int> & <int> & <int> & ⋯ & <int> & <int> & <int> & <int> & <int> & <int> & <int> & <dbl> & <int> & <int>\\\\\n",
       "\\hline\n",
       "\t1 &  3.10 & 11 &  2 &  0 & 0 & 1 & 0 & 2 & 1 & 0 & ⋯ & 0 & 0 & 0 & 0 & 0 & 0 & 0 & 1.131402 &    4 &   0\\\\\n",
       "\t2 &  3.24 & 12 & 22 &  2 & 0 & 1 & 1 & 3 & 1 & 0 & ⋯ & 0 & 0 & 1 & 0 & 0 & 0 & 1 & 1.175573 &  484 &   4\\\\\n",
       "\t3 &  3.00 & 11 &  2 &  0 & 0 & 0 & 0 & 2 & 0 & 0 & ⋯ & 0 & 1 & 0 & 0 & 0 & 0 & 0 & 1.098612 &    4 &   0\\\\\n",
       "\t4 &  6.00 &  8 & 44 & 28 & 0 & 0 & 1 & 0 & 1 & 0 & ⋯ & 0 & 0 & 0 & 0 & 0 & 1 & 0 & 1.791759 & 1936 & 784\\\\\n",
       "\t5 &  5.30 & 12 &  7 &  2 & 0 & 0 & 1 & 1 & 0 & 0 & ⋯ & 0 & 0 & 0 & 0 & 0 & 0 & 0 & 1.667707 &   49 &   4\\\\\n",
       "\t6 &  8.75 & 16 &  9 &  8 & 0 & 0 & 1 & 0 & 1 & 0 & ⋯ & 0 & 0 & 0 & 1 & 1 & 0 & 0 & 2.169054 &   81 &  64\\\\\n",
       "\t7 & 11.25 & 18 & 15 &  7 & 0 & 0 & 0 & 0 & 1 & 0 & ⋯ & 0 & 1 & 0 & 0 & 1 & 0 & 0 & 2.420368 &  225 &  49\\\\\n",
       "\t8 &  5.00 & 12 &  5 &  3 & 0 & 1 & 0 & 0 & 1 & 0 & ⋯ & 0 & 0 & 0 & 0 & 1 & 0 & 0 & 1.609438 &   25 &   9\\\\\n",
       "\t9 &  3.60 & 12 & 26 &  4 & 0 & 1 & 0 & 2 & 1 & 0 & ⋯ & 0 & 1 & 0 & 0 & 1 & 0 & 0 & 1.280934 &  676 &  16\\\\\n",
       "\t10 & 18.18 & 17 & 22 & 21 & 0 & 0 & 1 & 0 & 1 & 0 & ⋯ & 0 & 0 & 0 & 0 & 1 & 0 & 0 & 2.900322 &  484 & 441\\\\\n",
       "\\end{tabular}\n"
      ],
      "text/markdown": [
       "\n",
       "A data.frame: 10 × 24\n",
       "\n",
       "| <!--/--> | wage &lt;dbl&gt; | educ &lt;int&gt; | exper &lt;int&gt; | tenure &lt;int&gt; | nonwhite &lt;int&gt; | female &lt;int&gt; | married &lt;int&gt; | numdep &lt;int&gt; | smsa &lt;int&gt; | northcen &lt;int&gt; | ⋯ ⋯ | trcommpu &lt;int&gt; | trade &lt;int&gt; | services &lt;int&gt; | profserv &lt;int&gt; | profocc &lt;int&gt; | clerocc &lt;int&gt; | servocc &lt;int&gt; | lwage &lt;dbl&gt; | expersq &lt;int&gt; | tenursq &lt;int&gt; |\n",
       "|---|---|---|---|---|---|---|---|---|---|---|---|---|---|---|---|---|---|---|---|---|---|\n",
       "| 1 |  3.10 | 11 |  2 |  0 | 0 | 1 | 0 | 2 | 1 | 0 | ⋯ | 0 | 0 | 0 | 0 | 0 | 0 | 0 | 1.131402 |    4 |   0 |\n",
       "| 2 |  3.24 | 12 | 22 |  2 | 0 | 1 | 1 | 3 | 1 | 0 | ⋯ | 0 | 0 | 1 | 0 | 0 | 0 | 1 | 1.175573 |  484 |   4 |\n",
       "| 3 |  3.00 | 11 |  2 |  0 | 0 | 0 | 0 | 2 | 0 | 0 | ⋯ | 0 | 1 | 0 | 0 | 0 | 0 | 0 | 1.098612 |    4 |   0 |\n",
       "| 4 |  6.00 |  8 | 44 | 28 | 0 | 0 | 1 | 0 | 1 | 0 | ⋯ | 0 | 0 | 0 | 0 | 0 | 1 | 0 | 1.791759 | 1936 | 784 |\n",
       "| 5 |  5.30 | 12 |  7 |  2 | 0 | 0 | 1 | 1 | 0 | 0 | ⋯ | 0 | 0 | 0 | 0 | 0 | 0 | 0 | 1.667707 |   49 |   4 |\n",
       "| 6 |  8.75 | 16 |  9 |  8 | 0 | 0 | 1 | 0 | 1 | 0 | ⋯ | 0 | 0 | 0 | 1 | 1 | 0 | 0 | 2.169054 |   81 |  64 |\n",
       "| 7 | 11.25 | 18 | 15 |  7 | 0 | 0 | 0 | 0 | 1 | 0 | ⋯ | 0 | 1 | 0 | 0 | 1 | 0 | 0 | 2.420368 |  225 |  49 |\n",
       "| 8 |  5.00 | 12 |  5 |  3 | 0 | 1 | 0 | 0 | 1 | 0 | ⋯ | 0 | 0 | 0 | 0 | 1 | 0 | 0 | 1.609438 |   25 |   9 |\n",
       "| 9 |  3.60 | 12 | 26 |  4 | 0 | 1 | 0 | 2 | 1 | 0 | ⋯ | 0 | 1 | 0 | 0 | 1 | 0 | 0 | 1.280934 |  676 |  16 |\n",
       "| 10 | 18.18 | 17 | 22 | 21 | 0 | 0 | 1 | 0 | 1 | 0 | ⋯ | 0 | 0 | 0 | 0 | 1 | 0 | 0 | 2.900322 |  484 | 441 |\n",
       "\n"
      ],
      "text/plain": [
       "   wage  educ exper tenure nonwhite female married numdep smsa northcen ⋯\n",
       "1   3.10 11    2     0     0        1      0       2      1    0        ⋯\n",
       "2   3.24 12   22     2     0        1      1       3      1    0        ⋯\n",
       "3   3.00 11    2     0     0        0      0       2      0    0        ⋯\n",
       "4   6.00  8   44    28     0        0      1       0      1    0        ⋯\n",
       "5   5.30 12    7     2     0        0      1       1      0    0        ⋯\n",
       "6   8.75 16    9     8     0        0      1       0      1    0        ⋯\n",
       "7  11.25 18   15     7     0        0      0       0      1    0        ⋯\n",
       "8   5.00 12    5     3     0        1      0       0      1    0        ⋯\n",
       "9   3.60 12   26     4     0        1      0       2      1    0        ⋯\n",
       "10 18.18 17   22    21     0        0      1       0      1    0        ⋯\n",
       "   trcommpu trade services profserv profocc clerocc servocc lwage    expersq\n",
       "1  0        0     0        0        0       0       0       1.131402    4   \n",
       "2  0        0     1        0        0       0       1       1.175573  484   \n",
       "3  0        1     0        0        0       0       0       1.098612    4   \n",
       "4  0        0     0        0        0       1       0       1.791759 1936   \n",
       "5  0        0     0        0        0       0       0       1.667707   49   \n",
       "6  0        0     0        1        1       0       0       2.169054   81   \n",
       "7  0        1     0        0        1       0       0       2.420368  225   \n",
       "8  0        0     0        0        1       0       0       1.609438   25   \n",
       "9  0        1     0        0        1       0       0       1.280934  676   \n",
       "10 0        0     0        0        1       0       0       2.900322  484   \n",
       "   tenursq\n",
       "1    0    \n",
       "2    4    \n",
       "3    0    \n",
       "4  784    \n",
       "5    4    \n",
       "6   64    \n",
       "7   49    \n",
       "8    9    \n",
       "9   16    \n",
       "10 441    "
      ]
     },
     "metadata": {},
     "output_type": "display_data"
    }
   ],
   "source": [
    "#Examine data\n",
    "head(wagedata,10)"
   ]
  },
  {
   "cell_type": "code",
   "execution_count": 3,
   "metadata": {},
   "outputs": [
    {
     "data": {
      "text/plain": [
       "   Min. 1st Qu.  Median    Mean 3rd Qu.    Max. \n",
       "  0.530   3.330   4.650   5.896   6.880  24.980 "
      ]
     },
     "metadata": {},
     "output_type": "display_data"
    }
   ],
   "source": [
    "#summarize wages (hourly earnings)\n",
    "summary(wagedata[,\"wage\"])"
   ]
  },
  {
   "cell_type": "code",
   "execution_count": 4,
   "metadata": {},
   "outputs": [
    {
     "data": {
      "text/plain": [
       "   Min. 1st Qu.  Median    Mean 3rd Qu.    Max. \n",
       "   0.00   12.00   12.00   12.56   14.00   18.00 "
      ]
     },
     "metadata": {},
     "output_type": "display_data"
    },
    {
     "data": {
      "text/plain": [
       "   Min. 1st Qu.  Median    Mean 3rd Qu.    Max. \n",
       "   1.00    5.00   13.50   17.02   26.00   51.00 "
      ]
     },
     "metadata": {},
     "output_type": "display_data"
    },
    {
     "data": {
      "text/plain": [
       "   Min. 1st Qu.  Median    Mean 3rd Qu.    Max. \n",
       "  0.000   0.000   2.000   5.105   7.000  44.000 "
      ]
     },
     "metadata": {},
     "output_type": "display_data"
    }
   ],
   "source": [
    "#summarize education, experience, and tenure\n",
    "summary(wagedata[,\"educ\"])\n",
    "summary(wagedata[,\"exper\"])\n",
    "summary(wagedata[,\"tenure\"])"
   ]
  },
  {
   "cell_type": "code",
   "execution_count": 5,
   "metadata": {},
   "outputs": [
    {
     "data": {
      "text/plain": [
       "\n",
       "Call:\n",
       "lm(formula = lwage ~ educ, data = wagedata)\n",
       "\n",
       "Residuals:\n",
       "     Min       1Q   Median       3Q      Max \n",
       "-2.21158 -0.36393 -0.07263  0.29712  1.52339 \n",
       "\n",
       "Coefficients:\n",
       "            Estimate Std. Error t value Pr(>|t|)    \n",
       "(Intercept) 0.583773   0.097336   5.998 3.74e-09 ***\n",
       "educ        0.082744   0.007567  10.935  < 2e-16 ***\n",
       "---\n",
       "Signif. codes:  0 ‘***’ 0.001 ‘**’ 0.01 ‘*’ 0.05 ‘.’ 0.1 ‘ ’ 1\n",
       "\n",
       "Residual standard error: 0.4801 on 524 degrees of freedom\n",
       "Multiple R-squared:  0.1858,\tAdjusted R-squared:  0.1843 \n",
       "F-statistic: 119.6 on 1 and 524 DF,  p-value: < 2.2e-16\n"
      ]
     },
     "metadata": {},
     "output_type": "display_data"
    }
   ],
   "source": [
    "#regress log wage on education\n",
    "Reg1 <- lm(lwage~educ, data = wagedata)\n",
    "#display full results of regression\n",
    "summary(Reg1)"
   ]
  },
  {
   "cell_type": "code",
   "execution_count": 6,
   "metadata": {},
   "outputs": [
    {
     "data": {
      "text/plain": [
       "\n",
       "Call:\n",
       "lm(formula = lwage ~ educ + exper, data = wagedata)\n",
       "\n",
       "Residuals:\n",
       "     Min       1Q   Median       3Q      Max \n",
       "-2.05800 -0.30136 -0.04539  0.30601  1.44425 \n",
       "\n",
       "Coefficients:\n",
       "            Estimate Std. Error t value Pr(>|t|)    \n",
       "(Intercept) 0.216854   0.108595   1.997   0.0464 *  \n",
       "educ        0.097936   0.007622  12.848  < 2e-16 ***\n",
       "exper       0.010347   0.001555   6.653 7.24e-11 ***\n",
       "---\n",
       "Signif. codes:  0 ‘***’ 0.001 ‘**’ 0.01 ‘*’ 0.05 ‘.’ 0.1 ‘ ’ 1\n",
       "\n",
       "Residual standard error: 0.4614 on 523 degrees of freedom\n",
       "Multiple R-squared:  0.2493,\tAdjusted R-squared:  0.2465 \n",
       "F-statistic: 86.86 on 2 and 523 DF,  p-value: < 2.2e-16\n"
      ]
     },
     "metadata": {},
     "output_type": "display_data"
    }
   ],
   "source": [
    "#control for experience\n",
    "Reg2 <- lm(lwage ~ educ + exper, data = wagedata)\n",
    "#display full results of regression\n",
    "summary(Reg2)"
   ]
  },
  {
   "cell_type": "code",
   "execution_count": 7,
   "metadata": {},
   "outputs": [
    {
     "data": {
      "text/plain": [
       "\n",
       "Call:\n",
       "lm(formula = lwage ~ educ + exper + expersq, data = wagedata)\n",
       "\n",
       "Residuals:\n",
       "     Min       1Q   Median       3Q      Max \n",
       "-1.96387 -0.29375 -0.04009  0.29497  1.30216 \n",
       "\n",
       "Coefficients:\n",
       "              Estimate Std. Error t value Pr(>|t|)    \n",
       "(Intercept)  0.1279975  0.1059323   1.208    0.227    \n",
       "educ         0.0903658  0.0074680  12.100  < 2e-16 ***\n",
       "exper        0.0410089  0.0051965   7.892 1.77e-14 ***\n",
       "expersq     -0.0007136  0.0001158  -6.164 1.42e-09 ***\n",
       "---\n",
       "Signif. codes:  0 ‘***’ 0.001 ‘**’ 0.01 ‘*’ 0.05 ‘.’ 0.1 ‘ ’ 1\n",
       "\n",
       "Residual standard error: 0.4459 on 522 degrees of freedom\n",
       "Multiple R-squared:  0.3003,\tAdjusted R-squared:  0.2963 \n",
       "F-statistic: 74.67 on 3 and 522 DF,  p-value: < 2.2e-16\n"
      ]
     },
     "metadata": {},
     "output_type": "display_data"
    }
   ],
   "source": [
    "#allow a quadratic in experience\n",
    "Reg3 <- lm(lwage ~ educ + exper + expersq, data = wagedata)\n",
    "summary(Reg3)"
   ]
  },
  {
   "cell_type": "code",
   "execution_count": 10,
   "metadata": {},
   "outputs": [
    {
     "data": {
      "text/plain": [
       "\n",
       "Call:\n",
       "lm(formula = lwage ~ educ + exper + expersq + nonwhite, data = wagedata)\n",
       "\n",
       "Residuals:\n",
       "     Min       1Q   Median       3Q      Max \n",
       "-1.96504 -0.29497 -0.04092  0.29623  1.30092 \n",
       "\n",
       "Coefficients:\n",
       "              Estimate Std. Error t value Pr(>|t|)    \n",
       "(Intercept)  0.1304809  0.1069908   1.220    0.223    \n",
       "educ         0.0902510  0.0075041  12.027  < 2e-16 ***\n",
       "exper        0.0410322  0.0052031   7.886 1.84e-14 ***\n",
       "expersq     -0.0007142  0.0001159  -6.161 1.45e-09 ***\n",
       "nonwhite    -0.0111807  0.0643820  -0.174    0.862    \n",
       "---\n",
       "Signif. codes:  0 ‘***’ 0.001 ‘**’ 0.01 ‘*’ 0.05 ‘.’ 0.1 ‘ ’ 1\n",
       "\n",
       "Residual standard error: 0.4463 on 521 degrees of freedom\n",
       "Multiple R-squared:  0.3003,\tAdjusted R-squared:  0.2949 \n",
       "F-statistic:  55.9 on 4 and 521 DF,  p-value: < 2.2e-16\n"
      ]
     },
     "metadata": {},
     "output_type": "display_data"
    }
   ],
   "source": [
    "#control for being non-white: not strongly correlated with wages in these data\n",
    "#what do you expect to happen?\n",
    "Reg4<- lm(lwage ~ educ + exper + expersq + nonwhite, data = wagedata)\n",
    "summary(Reg4)"
   ]
  },
  {
   "cell_type": "code",
   "execution_count": 11,
   "metadata": {},
   "outputs": [
    {
     "data": {
      "text/plain": [
       "\n",
       "Call:\n",
       "lm(formula = lwage ~ educ + tenure, data = wagedata)\n",
       "\n",
       "Residuals:\n",
       "     Min       1Q   Median       3Q      Max \n",
       "-2.10350 -0.29287 -0.04081  0.28672  1.44967 \n",
       "\n",
       "Coefficients:\n",
       "            Estimate Std. Error t value Pr(>|t|)    \n",
       "(Intercept) 0.404474   0.091696   4.411 1.25e-05 ***\n",
       "educ        0.086528   0.006991  12.377  < 2e-16 ***\n",
       "tenure      0.025814   0.002680   9.634  < 2e-16 ***\n",
       "---\n",
       "Signif. codes:  0 ‘***’ 0.001 ‘**’ 0.01 ‘*’ 0.05 ‘.’ 0.1 ‘ ’ 1\n",
       "\n",
       "Residual standard error: 0.4428 on 523 degrees of freedom\n",
       "Multiple R-squared:  0.3085,\tAdjusted R-squared:  0.3059 \n",
       "F-statistic: 116.7 on 2 and 523 DF,  p-value: < 2.2e-16\n"
      ]
     },
     "metadata": {},
     "output_type": "display_data"
    },
    {
     "data": {
      "text/plain": [
       "\n",
       "Call:\n",
       "lm(formula = lwage ~ educ, data = wagedata)\n",
       "\n",
       "Residuals:\n",
       "     Min       1Q   Median       3Q      Max \n",
       "-2.21158 -0.36393 -0.07263  0.29712  1.52339 \n",
       "\n",
       "Coefficients:\n",
       "            Estimate Std. Error t value Pr(>|t|)    \n",
       "(Intercept) 0.583773   0.097336   5.998 3.74e-09 ***\n",
       "educ        0.082744   0.007567  10.935  < 2e-16 ***\n",
       "---\n",
       "Signif. codes:  0 ‘***’ 0.001 ‘**’ 0.01 ‘*’ 0.05 ‘.’ 0.1 ‘ ’ 1\n",
       "\n",
       "Residual standard error: 0.4801 on 524 degrees of freedom\n",
       "Multiple R-squared:  0.1858,\tAdjusted R-squared:  0.1843 \n",
       "F-statistic: 119.6 on 1 and 524 DF,  p-value: < 2.2e-16\n"
      ]
     },
     "metadata": {},
     "output_type": "display_data"
    }
   ],
   "source": [
    "#add in tenure to basic regression: relates to wages but not to education\n",
    "#what do you expect to happen to the coefficient and SE on educ?\n",
    "Reg5 <- lm(lwage ~ educ + tenure, data = wagedata)\n",
    "summary(Reg5)\n",
    "summary(Reg1)"
   ]
  },
  {
   "cell_type": "code",
   "execution_count": 13,
   "metadata": {},
   "outputs": [
    {
     "data": {
      "text/plain": [
       "\n",
       "Call:\n",
       "lm(formula = lwage ~ educ + profocc, data = wagedata)\n",
       "\n",
       "Residuals:\n",
       "     Min       1Q   Median       3Q      Max \n",
       "-2.10405 -0.30459 -0.04389  0.30578  1.29300 \n",
       "\n",
       "Coefficients:\n",
       "            Estimate Std. Error t value Pr(>|t|)    \n",
       "(Intercept) 0.827195   0.099273   8.333 7.00e-16 ***\n",
       "educ        0.053498   0.008339   6.416 3.14e-10 ***\n",
       "profocc     0.337920   0.047862   7.060 5.31e-12 ***\n",
       "---\n",
       "Signif. codes:  0 ‘***’ 0.001 ‘**’ 0.01 ‘*’ 0.05 ‘.’ 0.1 ‘ ’ 1\n",
       "\n",
       "Residual standard error: 0.4592 on 523 degrees of freedom\n",
       "Multiple R-squared:  0.2567,\tAdjusted R-squared:  0.2538 \n",
       "F-statistic: 90.29 on 2 and 523 DF,  p-value: < 2.2e-16\n"
      ]
     },
     "metadata": {},
     "output_type": "display_data"
    },
    {
     "data": {
      "text/plain": [
       "\n",
       "Call:\n",
       "lm(formula = lwage ~ educ, data = wagedata)\n",
       "\n",
       "Residuals:\n",
       "     Min       1Q   Median       3Q      Max \n",
       "-2.21158 -0.36393 -0.07263  0.29712  1.52339 \n",
       "\n",
       "Coefficients:\n",
       "            Estimate Std. Error t value Pr(>|t|)    \n",
       "(Intercept) 0.583773   0.097336   5.998 3.74e-09 ***\n",
       "educ        0.082744   0.007567  10.935  < 2e-16 ***\n",
       "---\n",
       "Signif. codes:  0 ‘***’ 0.001 ‘**’ 0.01 ‘*’ 0.05 ‘.’ 0.1 ‘ ’ 1\n",
       "\n",
       "Residual standard error: 0.4801 on 524 degrees of freedom\n",
       "Multiple R-squared:  0.1858,\tAdjusted R-squared:  0.1843 \n",
       "F-statistic: 119.6 on 1 and 524 DF,  p-value: < 2.2e-16\n"
      ]
     },
     "metadata": {},
     "output_type": "display_data"
    }
   ],
   "source": [
    "#add in being in a professional occupation (dummy) to basic regression: strongly relates to education\n",
    "#what do you expect to happen to the coefficient and SE on educ?\n",
    "Reg6 <- lm(lwage ~ educ + profocc, data = wagedata)\n",
    "summary(Reg6)\n",
    "summary(Reg1)"
   ]
  },
  {
   "cell_type": "code",
   "execution_count": null,
   "metadata": {},
   "outputs": [],
   "source": [
    "# Back to lecture"
   ]
  },
  {
   "cell_type": "code",
   "execution_count": 17,
   "metadata": {},
   "outputs": [
    {
     "data": {
      "text/plain": [
       "\n",
       "Call:\n",
       "lm(formula = lwage ~ educ + male + female, data = wagedata)\n",
       "\n",
       "Residuals:\n",
       "     Min       1Q   Median       3Q      Max \n",
       "-2.02672 -0.27470 -0.03731  0.26219  1.34738 \n",
       "\n",
       "Coefficients: (1 not defined because of singularities)\n",
       "            Estimate Std. Error t value Pr(>|t|)    \n",
       "(Intercept) 0.465404   0.091227   5.102 4.72e-07 ***\n",
       "educ        0.077203   0.007047  10.955  < 2e-16 ***\n",
       "male        0.360865   0.039024   9.247  < 2e-16 ***\n",
       "female            NA         NA      NA       NA    \n",
       "---\n",
       "Signif. codes:  0 ‘***’ 0.001 ‘**’ 0.01 ‘*’ 0.05 ‘.’ 0.1 ‘ ’ 1\n",
       "\n",
       "Residual standard error: 0.4455 on 523 degrees of freedom\n",
       "Multiple R-squared:  0.3002,\tAdjusted R-squared:  0.2975 \n",
       "F-statistic: 112.2 on 2 and 523 DF,  p-value: < 2.2e-16\n"
      ]
     },
     "metadata": {},
     "output_type": "display_data"
    }
   ],
   "source": [
    "#What about multicollinear variables?\n",
    "#define variable male = 1-female\n",
    "wagedata[,\"male\"] <- 1-wagedata[,\"female\"]\n",
    "#regress log wages on education, male, and female\n",
    "Reg7 <- lm(lwage ~ educ + male + female, data = wagedata)\n",
    "summary(Reg7)"
   ]
  },
  {
   "cell_type": "code",
   "execution_count": 18,
   "metadata": {},
   "outputs": [
    {
     "data": {
      "text/plain": [
       "\n",
       "Call:\n",
       "lm(formula = lwage ~ educ + exper + age, data = wagedata)\n",
       "\n",
       "Residuals:\n",
       "     Min       1Q   Median       3Q      Max \n",
       "-2.05800 -0.30136 -0.04539  0.30601  1.44425 \n",
       "\n",
       "Coefficients: (1 not defined because of singularities)\n",
       "            Estimate Std. Error t value Pr(>|t|)    \n",
       "(Intercept) 0.216854   0.108595   1.997   0.0464 *  \n",
       "educ        0.097936   0.007622  12.848  < 2e-16 ***\n",
       "exper       0.010347   0.001555   6.653 7.24e-11 ***\n",
       "age               NA         NA      NA       NA    \n",
       "---\n",
       "Signif. codes:  0 ‘***’ 0.001 ‘**’ 0.01 ‘*’ 0.05 ‘.’ 0.1 ‘ ’ 1\n",
       "\n",
       "Residual standard error: 0.4614 on 523 degrees of freedom\n",
       "Multiple R-squared:  0.2493,\tAdjusted R-squared:  0.2465 \n",
       "F-statistic: 86.86 on 2 and 523 DF,  p-value: < 2.2e-16\n"
      ]
     },
     "metadata": {},
     "output_type": "display_data"
    }
   ],
   "source": [
    "#What about more complicated multicollinearity?\n",
    "#we can back out age from these data assuming people start education at 6 and are never out of school or work\n",
    "#define age in the data\n",
    "wagedata$age<-wagedata$exper+wagedata$educ+6\n",
    "#What happens if we run our regressions controlling for age, educ, and exper?\n",
    "Reg8 <-lm(lwage ~ educ + exper + age, data = wagedata)\n",
    "summary(Reg8)"
   ]
  },
  {
   "cell_type": "code",
   "execution_count": 24,
   "metadata": {},
   "outputs": [
    {
     "data": {
      "text/plain": [
       "\n",
       "Call:\n",
       "lm(formula = lwage ~ educ + exper + age2, data = wagedata)\n",
       "\n",
       "Residuals:\n",
       "    Min      1Q  Median      3Q     Max \n",
       "-2.0513 -0.3056 -0.0489  0.3050  1.4415 \n",
       "\n",
       "Coefficients:\n",
       "             Estimate Std. Error t value Pr(>|t|)    \n",
       "(Intercept)  0.248106   0.161947   1.532    0.126    \n",
       "educ         0.101647   0.016171   6.286  6.9e-10 ***\n",
       "exper        0.014037   0.014262   0.984    0.325    \n",
       "age2        -0.003701   0.014218  -0.260    0.795    \n",
       "---\n",
       "Signif. codes:  0 ‘***’ 0.001 ‘**’ 0.01 ‘*’ 0.05 ‘.’ 0.1 ‘ ’ 1\n",
       "\n",
       "Residual standard error: 0.4618 on 522 degrees of freedom\n",
       "Multiple R-squared:  0.2494,\tAdjusted R-squared:  0.2451 \n",
       "F-statistic: 57.83 on 3 and 522 DF,  p-value: < 2.2e-16\n"
      ]
     },
     "metadata": {},
     "output_type": "display_data"
    }
   ],
   "source": [
    "#What if we allow between 0-5 years away from education or work?\n",
    "# *Almost* perfect collinearity\n",
    "wagedata$age2<-wagedata$exper+wagedata$educ+6+runif(nrow(wagedata))*5\n",
    "Reg9 <-lm(lwage ~ educ + exper + age2, data = wagedata)\n",
    "summary(Reg9)"
   ]
  }
 ],
 "metadata": {
  "kernelspec": {
   "display_name": "R",
   "language": "R",
   "name": "ir"
  },
  "language_info": {
   "codemirror_mode": "r",
   "file_extension": ".r",
   "mimetype": "text/x-r-source",
   "name": "R",
   "pygments_lexer": "r",
   "version": "4.1.1"
  }
 },
 "nbformat": 4,
 "nbformat_minor": 2
}
