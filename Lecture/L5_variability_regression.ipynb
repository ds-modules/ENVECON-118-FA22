{
 "cells": [
  {
   "cell_type": "code",
   "execution_count": null,
   "metadata": {},
   "outputs": [],
   "source": [
    "#load tidyverse for some needed packages\n",
    "library(tidyverse)\n",
    "#load our dataset\n",
    "co2 <- read.csv(\"co2gdp_all.csv\")"
   ]
  },
  {
   "cell_type": "code",
   "execution_count": null,
   "metadata": {
    "scrolled": true
   },
   "outputs": [],
   "source": [
    "#examine data\n",
    "head(co2,10)\n",
    "nrow(co2)"
   ]
  },
  {
   "cell_type": "code",
   "execution_count": null,
   "metadata": {
    "scrolled": true
   },
   "outputs": [],
   "source": [
    "#eliminate missing values\n",
    "co2 <-subset(co2, is.na(co2[,\"co2percaptons\"])==F)\n",
    "co2 <-subset(co2, is.na(co2[,\"gdp_dollars\"])==F)"
   ]
  },
  {
   "cell_type": "code",
   "execution_count": null,
   "metadata": {},
   "outputs": [],
   "source": [
    "head(co2,10)\n",
    "nrow(co2)"
   ]
  },
  {
   "cell_type": "code",
   "execution_count": null,
   "metadata": {},
   "outputs": [],
   "source": [
    "#generate random samples \n",
    "#runif draws a uniform random number between 0-1.  10% of observations will be less than 0.1\n",
    "#drawing sample 1\n",
    "co2[,\"sample1\"]<-runif(nrow(co2))<0.1\n",
    "#drawing sample 2\n",
    "co2[,\"sample2\"]<-runif(nrow(co2))<0.1\n",
    "#for simplicity, make a new dataset with each of our samples\n",
    "co2_sample1 <-subset(co2,sample1==TRUE)\n",
    "co2_sample2 <-subset(co2,sample2==TRUE)"
   ]
  },
  {
   "cell_type": "code",
   "execution_count": null,
   "metadata": {},
   "outputs": [],
   "source": [
    "#view sample 1\n",
    "co2_sample1"
   ]
  },
  {
   "cell_type": "code",
   "execution_count": null,
   "metadata": {},
   "outputs": [],
   "source": [
    "#view sample 2\n",
    "co2_sample2"
   ]
  },
  {
   "cell_type": "code",
   "execution_count": null,
   "metadata": {},
   "outputs": [],
   "source": [
    "#scatter plot sample 1\n",
    "plot(co2_sample1$gdppercapitapppconstant2005inter,co2_sample1$co2percaptons)"
   ]
  },
  {
   "cell_type": "code",
   "execution_count": null,
   "metadata": {},
   "outputs": [],
   "source": [
    "#scatter plot sample 2\n",
    "plot(co2_sample2$gdppercapitapppconstant2005inter,co2_sample2$co2percaptons)"
   ]
  },
  {
   "cell_type": "code",
   "execution_count": null,
   "metadata": {},
   "outputs": [],
   "source": [
    "#regress co2 on gdp in sample 1\n",
    "s1_reg <- lm(co2percaptons ~gdppercapitapppconstant2005inter, data = co2_sample1)\n",
    "summary(s1_reg)"
   ]
  },
  {
   "cell_type": "code",
   "execution_count": null,
   "metadata": {},
   "outputs": [],
   "source": [
    "#regress co2 on gdp in sample 2\n",
    "s2_reg <- lm(co2percaptons ~gdppercapitapppconstant2005inter, data = co2_sample2)\n",
    "summary(s2_reg)"
   ]
  },
  {
   "cell_type": "code",
   "execution_count": null,
   "metadata": {},
   "outputs": [],
   "source": [
    "#Back to lecture notes"
   ]
  },
  {
   "cell_type": "code",
   "execution_count": null,
   "metadata": {},
   "outputs": [],
   "source": [
    "#Calculating standard errors adjusting for heteroskedasticity\n",
    "#Load required packages\n",
    "library(sandwich)\n",
    "library(lmtest)\n",
    "#Adjusted standard errors\n",
    "coeftest(s1_reg, vcov = vcovHC)\n",
    "#Unadjusted standard errors; assumes SLR5 holds\n",
    "summary(s1_reg)"
   ]
  },
  {
   "cell_type": "code",
   "execution_count": null,
   "metadata": {},
   "outputs": [],
   "source": [
    "#Back to lecture notes"
   ]
  },
  {
   "cell_type": "code",
   "execution_count": null,
   "metadata": {},
   "outputs": [],
   "source": [
    "#Compute the \"true\" beta_1 for the population\n",
    "reg<-summary(lm(co2percaptons ~gdppercapitapppconstant2005inter, data = co2))\n",
    "beta1<-reg$coefficients[2]\n",
    "reg"
   ]
  },
  {
   "cell_type": "code",
   "execution_count": null,
   "metadata": {},
   "outputs": [],
   "source": [
    "#Let's draw a 10% sample 100 times and see how the estimates compare\n",
    "betas1<-numeric(100)\n",
    "for(s in 1:100) {\n",
    "    co2[,\"sample\"]<-runif(nrow(co2))<0.1\n",
    "    betas1[s]<-summary(lm(co2percaptons ~gdppercapitapppconstant2005inter, \n",
    "                         data = subset(co2,sample==TRUE)))$coefficients[2]\n",
    "}\n",
    "#Histogram of estimated betas\n",
    "hist(betas1,20,xlim=c(0,1))\n",
    "abline(v=mean(betas1),col=\"red\",lwd=2)\n",
    "abline(v=beta1,col=\"blue\",lwd=2)"
   ]
  },
  {
   "cell_type": "code",
   "execution_count": null,
   "metadata": {},
   "outputs": [],
   "source": [
    "#What if we take a 25% sample?\n",
    "betas2<-numeric(100)\n",
    "for(s in 1:100) {\n",
    "    co2[,\"sample\"]<-runif(nrow(co2))<0.25\n",
    "    betas2[s]<-summary(lm(co2percaptons ~gdppercapitapppconstant2005inter, \n",
    "                         data = subset(co2,sample==TRUE)))$coefficients[2]\n",
    "}\n",
    "#Histogram of estimated betas\n",
    "hist(betas2,20,xlim=c(0,1))\n",
    "abline(v=mean(betas2),col=\"red\",lwd=2)\n",
    "abline(v=beta1,col=\"blue\",lwd=2)"
   ]
  }
 ],
 "metadata": {
  "kernelspec": {
   "display_name": "R",
   "language": "R",
   "name": "ir"
  },
  "language_info": {
   "codemirror_mode": "r",
   "file_extension": ".r",
   "mimetype": "text/x-r-source",
   "name": "R",
   "pygments_lexer": "r",
   "version": "4.1.1"
  }
 },
 "nbformat": 4,
 "nbformat_minor": 2
}
