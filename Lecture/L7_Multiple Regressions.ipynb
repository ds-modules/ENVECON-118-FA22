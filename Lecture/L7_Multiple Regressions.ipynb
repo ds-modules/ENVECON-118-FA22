{
 "cells": [
  {
   "cell_type": "code",
   "execution_count": null,
   "metadata": {},
   "outputs": [],
   "source": [
    "library(foreign)\n",
    "wagedata<- read.dta(\"WAGE1.DTA\")"
   ]
  },
  {
   "cell_type": "code",
   "execution_count": null,
   "metadata": {},
   "outputs": [],
   "source": [
    "#Multicollinearity\n",
    "\n",
    "#Examine data\n",
    "head(wagedata,10)\n",
    "#regress log wages on education and experience\n",
    "Reg1 <- lm(lwage ~ educ + exper + female, data = wagedata)\n",
    "summary(Reg1)"
   ]
  },
  {
   "cell_type": "code",
   "execution_count": null,
   "metadata": {},
   "outputs": [],
   "source": [
    "#What about multicollinear variables?\n",
    "#define variable male = 1-female\n",
    "wagedata[,\"male\"] <- 1-wagedata[,\"female\"]\n",
    "#regress log wages on education, experience, male, and female\n",
    "Reg2 <- lm(lwage ~ educ + exper + female + male, data = wagedata)\n",
    "summary(Reg2)"
   ]
  },
  {
   "cell_type": "code",
   "execution_count": null,
   "metadata": {},
   "outputs": [],
   "source": [
    "#What about more complicated multicollinearity?\n",
    "#we can back out age from these data assuming people start education at 6 and are never out of school or work\n",
    "#define age in the data\n",
    "wagedata$age<-wagedata$exper+wagedata$educ+6\n",
    "#What happens if we run our regressions controlling for age, educ, and exper?\n",
    "Reg3 <-lm(lwage ~ educ + exper + female + age, data = wagedata)\n",
    "summary(Reg3)"
   ]
  },
  {
   "cell_type": "code",
   "execution_count": null,
   "metadata": {},
   "outputs": [],
   "source": [
    "#What if we allow between 0-5 years away from education or work?\n",
    "# *Almost* perfect collinearity\n",
    "wagedata$age2<-wagedata$exper+wagedata$educ+6+runif(nrow(wagedata))*5\n",
    "Reg4 <-lm(lwage ~ educ + exper + female+ age2, data = wagedata)\n",
    "summary(Reg4)\n",
    "summary(Reg1)"
   ]
  },
  {
   "cell_type": "code",
   "execution_count": null,
   "metadata": {},
   "outputs": [],
   "source": [
    "# Back to lecture"
   ]
  },
  {
   "cell_type": "code",
   "execution_count": null,
   "metadata": {},
   "outputs": [],
   "source": [
    "# R^2 and Adjusted R^2\n",
    "\n",
    "#Adding relevant variables\n",
    "Reg5 <- lm(lwage ~ educ, data = wagedata)\n",
    "Reg6 <- lm(lwage ~ educ + exper, data = wagedata)\n",
    "Reg7 <- lm(lwage ~ educ + exper + female, data = wagedata)\n",
    "summary(Reg5)\n",
    "summary(Reg6)\n",
    "summary(Reg7)"
   ]
  },
  {
   "cell_type": "code",
   "execution_count": null,
   "metadata": {},
   "outputs": [],
   "source": [
    "#Adding non-relevant variables\n",
    "Reg8 <- lm(lwage ~ educ + exper + female + nonwhite, data = wagedata)\n",
    "wagedata$noise<-runif(nrow(wagedata))\n",
    "Reg9 <- lm(lwage ~ educ + exper + female + nonwhite + noise, data = wagedata)\n",
    "summary(Reg7)\n",
    "summary(Reg8)\n",
    "summary(Reg9)"
   ]
  },
  {
   "cell_type": "code",
   "execution_count": null,
   "metadata": {},
   "outputs": [],
   "source": [
    "# Back to lecture"
   ]
  },
  {
   "cell_type": "code",
   "execution_count": null,
   "metadata": {},
   "outputs": [],
   "source": [
    "# MLR standard errors\n",
    "\n",
    "Reg0 <- lm(lwage ~ educ, data = wagedata)\n",
    "#What does the difference in SE(educ) when adding controls imply about the components of SE(educ)?\n",
    "summary(Reg0)\n",
    "summary(Reg1)"
   ]
  },
  {
   "cell_type": "code",
   "execution_count": null,
   "metadata": {},
   "outputs": [],
   "source": [
    "#What about adding a highly-correlated variable?\n",
    "wagedata$age<-wagedata$exper+wagedata$educ+6+runif(nrow(wagedata))*5\n",
    "Reg10 <-lm(lwage ~ educ + exper + female + age, data = wagedata)\n",
    "#What does the difference in SE(educ) when adding this variable imply about how the components of SE(educ) changed?\n",
    "summary(Reg1)\n",
    "summary(Reg10)"
   ]
  }
 ],
 "metadata": {
  "kernelspec": {
   "display_name": "R",
   "language": "R",
   "name": "ir"
  },
  "language_info": {
   "codemirror_mode": "r",
   "file_extension": ".r",
   "mimetype": "text/x-r-source",
   "name": "R",
   "pygments_lexer": "r",
   "version": "4.1.1"
  }
 },
 "nbformat": 4,
 "nbformat_minor": 2
}
