{
 "cells": [
  {
   "cell_type": "code",
   "execution_count": null,
   "metadata": {},
   "outputs": [],
   "source": [
    "library(haven)\n",
    "options(scipen = 5)"
   ]
  },
  {
   "cell_type": "code",
   "execution_count": null,
   "metadata": {},
   "outputs": [],
   "source": [
    "# Data on monthly wages\n",
    "wagedata2<-read_dta(\"WAGE2.DTA\")\n",
    "head(wagedata2)"
   ]
  },
  {
   "cell_type": "code",
   "execution_count": null,
   "metadata": {},
   "outputs": [],
   "source": [
    "# Measurement error in the dependent variable\n",
    "# True model\n",
    "reg10<- lm(wage ~ age+ educ + exper, data = wagedata2)\n",
    "summary(reg10)"
   ]
  },
  {
   "cell_type": "code",
   "execution_count": null,
   "metadata": {},
   "outputs": [],
   "source": [
    "# Monthly wage distribution\n",
    "summary(wagedata2$wage)"
   ]
  },
  {
   "cell_type": "code",
   "execution_count": null,
   "metadata": {},
   "outputs": [],
   "source": [
    "# Suppose we measure wages with classical random error of -250 to +500\n",
    "wagedata2$wage2=wagedata2$wage+runif(nrow(wagedata2),-250,500)\n",
    "summary(wagedata2$wage2)\n",
    "# Estimates with classical error in wage\n",
    "reg11<- lm(wage2 ~age+  educ + exper , data = wagedata2)\n",
    "summary(reg11)"
   ]
  },
  {
   "cell_type": "code",
   "execution_count": null,
   "metadata": {},
   "outputs": [],
   "source": [
    "# Let's run some simulations with classical measurement error\n",
    "library(ggplot2)"
   ]
  },
  {
   "cell_type": "code",
   "execution_count": null,
   "metadata": {},
   "outputs": [],
   "source": [
    "estimates <- data.frame(matrix(NA,    # Create empty data frame\n",
    "                          nrow = 1000,\n",
    "                          ncol = 1)) \n",
    "estimates$coef<-0\n",
    "estimates$tstat<-0\n",
    "set.seed(1000)\n",
    "for(i in 1:1000) {\n",
    "    wagedata2$error=runif(nrow(wagedata2), -250,500)\n",
    "    wagedata2$wage2=wagedata2$wage+wagedata2$error\n",
    "    rege<-lm(wage2 ~age+  educ + exper , data = wagedata2)\n",
    "    estimates[i,'coef']<-summary(rege)$coefficients[3,1] \n",
    "    estimates[i,'tstat']<-summary(rege)$coefficients[3,3] \n",
    "}"
   ]
  },
  {
   "cell_type": "code",
   "execution_count": null,
   "metadata": {},
   "outputs": [],
   "source": [
    "# Distribution of beta_2 relative to truth\n",
    "truth<-summary(reg10)$coefficients[3,1]\n",
    "p <- ggplot(estimates, aes(x=coef)) + \n",
    "    geom_density(fill = \"blue\", alpha = .5) +\n",
    "    geom_vline( xintercept = truth)\n",
    "p\n",
    "mean(estimates$coef)\n",
    "truth"
   ]
  },
  {
   "cell_type": "code",
   "execution_count": null,
   "metadata": {},
   "outputs": [],
   "source": [
    "# Distribution of t for beta_2 relative to truth\n",
    "truth<-summary(reg10)$coefficients[3,3]\n",
    "p <- ggplot(estimates, aes(x=tstat)) + \n",
    "    geom_density(fill = \"blue\", alpha = .5) +\n",
    "    geom_vline( xintercept = truth)\n",
    "p\n",
    "mean(estimates$tstat)\n",
    "truth"
   ]
  },
  {
   "cell_type": "code",
   "execution_count": null,
   "metadata": {},
   "outputs": [],
   "source": [
    "# Suppose we measure wages with non-classical error, correlated with educ\n",
    "wagedata2$wage3=wagedata2$wage+runif(nrow(wagedata2),-50,50)*wagedata2$educ*2\n",
    "summary(wagedata2$wage3)\n",
    "reg12<- lm(wage3 ~age+  educ + exper , data = wagedata2)\n",
    "summary(reg12)\n",
    "summary(reg10)"
   ]
  },
  {
   "cell_type": "code",
   "execution_count": null,
   "metadata": {},
   "outputs": [],
   "source": [
    "# Suppose we measure wages with non-classical error, correlated with age\n",
    "wagedata2$wage3=wagedata2$wage+runif(nrow(wagedata2),-100,100)*wagedata2$age/2\n",
    "summary(wagedata2$wage3)\n",
    "reg13<- lm(wage3 ~age+  educ + exper , data = wagedata2)\n",
    "summary(reg13)\n",
    "summary(reg10)"
   ]
  },
  {
   "cell_type": "code",
   "execution_count": null,
   "metadata": {},
   "outputs": [],
   "source": [
    "# Dataset on labor supply in Kenya in 2020 during Covid\n",
    "kenya<-read_dta(\"kenya_labor_covid.dta\")\n",
    "head(kenya)"
   ]
  },
  {
   "cell_type": "code",
   "execution_count": null,
   "metadata": {},
   "outputs": [],
   "source": [
    "# Classical error in x\n",
    "kenya$current_5_17=kenya$current_num_5_17+runif(nrow(kenya),0,1)"
   ]
  },
  {
   "cell_type": "code",
   "execution_count": null,
   "metadata": {},
   "outputs": [],
   "source": [
    "reg1<- lm(workinghrs_l7~ age + gender + ishead + marital +\n",
    "          current_num_adults+current_num_5_17 +current_num_0_4, data = kenya)\n",
    "summary(reg1)\n",
    "reg2<- lm(workinghrs_l7~ age + gender + ishead + marital +\n",
    "          current_num_adults+current_5_17 +current_num_0_4, data = kenya)\n",
    "summary(reg2)"
   ]
  },
  {
   "cell_type": "code",
   "execution_count": null,
   "metadata": {},
   "outputs": [],
   "source": [
    "# Bigger error in x\n",
    "kenya$current_5_17=kenya$current_num_5_17+runif(nrow(kenya),0,4)\n",
    "reg3<- lm(workinghrs_l7~ age + gender + ishead + marital +\n",
    "          current_num_adults+current_5_17 +current_num_0_4, data = kenya)\n",
    "summary(reg3)"
   ]
  },
  {
   "cell_type": "code",
   "execution_count": null,
   "metadata": {},
   "outputs": [],
   "source": [
    "# Back to lecture"
   ]
  },
  {
   "cell_type": "code",
   "execution_count": null,
   "metadata": {},
   "outputs": [],
   "source": [
    "# RCT\n",
    "jobdata<-read_dta(\"jip_dataset_forclass.dta\")\n",
    "head(jobdata)"
   ]
  },
  {
   "cell_type": "code",
   "execution_count": null,
   "metadata": {},
   "outputs": [],
   "source": [
    "# Make sure categorical variables are recognized as such\n",
    "jobdata$geo_stata_zone <-as.factor(jobdata$geo_stata_zone) \n",
    "jobdata$trade_strata<- as.factor(jobdata$trade_strata)\n",
    "jobdata$caste<-as.factor(jobdata$caste)"
   ]
  },
  {
   "cell_type": "code",
   "execution_count": null,
   "metadata": {},
   "outputs": [],
   "source": [
    "#run simple regression on endline survey data\n",
    "reg1<- lm(emp~access + priority, data = jobdata, subset = survey_round==3)\n",
    "summary(reg1)"
   ]
  },
  {
   "cell_type": "code",
   "execution_count": null,
   "metadata": {},
   "outputs": [],
   "source": [
    "# Interpret intercept and coefficient on access"
   ]
  },
  {
   "cell_type": "code",
   "execution_count": null,
   "metadata": {},
   "outputs": [],
   "source": [
    "#add controls\n",
    "reg2<- lm(emp~access + priority + geo_stata_zone + trade_strata + \n",
    "          a_sex + age + educ + caste, data = jobdata, subset = survey_round==3)\n",
    "summary(reg2)"
   ]
  },
  {
   "cell_type": "code",
   "execution_count": null,
   "metadata": {},
   "outputs": [],
   "source": [
    "# Back to lecture"
   ]
  }
 ],
 "metadata": {
  "kernelspec": {
   "display_name": "R",
   "language": "R",
   "name": "ir"
  },
  "language_info": {
   "codemirror_mode": "r",
   "file_extension": ".r",
   "mimetype": "text/x-r-source",
   "name": "R",
   "pygments_lexer": "r",
   "version": "4.1.1"
  }
 },
 "nbformat": 4,
 "nbformat_minor": 2
}
