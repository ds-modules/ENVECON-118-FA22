{
 "cells": [
  {
   "cell_type": "code",
   "execution_count": null,
   "metadata": {},
   "outputs": [],
   "source": [
    "library(haven)\n",
    "options(scipen = 5)"
   ]
  },
  {
   "cell_type": "code",
   "execution_count": null,
   "metadata": {
    "scrolled": true
   },
   "outputs": [],
   "source": [
    "#Load Ed Data\n",
    "meapdata<-read_dta(\"MEAP93.dta\")\n",
    "head(meapdata)"
   ]
  },
  {
   "cell_type": "code",
   "execution_count": null,
   "metadata": {},
   "outputs": [],
   "source": [
    "#regress graduation rate on enrollment, total compensation and number of staff\n",
    "reg1<-lm(gradrate~enroll + totcomp + staff, data = meapdata)\n",
    "summary(reg1)"
   ]
  },
  {
   "cell_type": "code",
   "execution_count": null,
   "metadata": {},
   "outputs": [],
   "source": [
    "#MLR 1 regress test scores on log enrollment, log compensation, and log staff\n",
    "reg2<-lm(gradrate~lenroll + ltotcomp + lstaff, data = meapdata)\n",
    "summary(reg2)"
   ]
  },
  {
   "cell_type": "code",
   "execution_count": null,
   "metadata": {},
   "outputs": [],
   "source": [
    "#MLR 2 regress test scores on enrollment, compensation, and staff for a non-random sample\n",
    "meapdata$bigenroll=as.numeric(meapdata$enroll>2000)\n",
    "reg3<-lm(gradrate~enroll + totcomp + staff, data = meapdata[meapdata$bigenroll==1,])\n",
    "reg4<-lm(gradrate~enroll + totcomp + staff, data = meapdata[meapdata$bigenroll==0,])\n",
    "summary(reg1)\n",
    "summary(reg3)\n",
    "summary(reg4)"
   ]
  },
  {
   "cell_type": "code",
   "execution_count": null,
   "metadata": {},
   "outputs": [],
   "source": [
    "#MLR 3 regress test scores on enrollment, compensation, staff, and salary\n",
    "reg5<-lm(gradrate~enroll + totcomp + staff + salary, data = meapdata)\n",
    "summary(reg1)\n",
    "summary(reg5)"
   ]
  },
  {
   "cell_type": "code",
   "execution_count": null,
   "metadata": {},
   "outputs": [],
   "source": [
    "#MLR 4 regress test scores on enrollment, compensation, staff, and eligibility for school lunch\n",
    "reg6<-lm(gradrate~enroll + totcomp + staff + lnchprg, data = meapdata)\n",
    "summary(reg1)\n",
    "summary(reg6)\n",
    "# What does this imply about relationship between totcomp and lnchprg?\n",
    "# What does this imply about relationship between enroll and lnchprg?"
   ]
  },
  {
   "cell_type": "code",
   "execution_count": null,
   "metadata": {},
   "outputs": [],
   "source": [
    "# Confidence intervals\n",
    "# Find the critical value\n",
    "\n",
    "# Calculate intervals\n",
    "\n",
    "# Print result\n"
   ]
  },
  {
   "cell_type": "code",
   "execution_count": null,
   "metadata": {},
   "outputs": [],
   "source": [
    "# What do the confidence intervals imply about the economic significance of eligibility for school lunch?"
   ]
  }
 ],
 "metadata": {
  "kernelspec": {
   "display_name": "R",
   "language": "R",
   "name": "ir"
  },
  "language_info": {
   "codemirror_mode": "r",
   "file_extension": ".r",
   "mimetype": "text/x-r-source",
   "name": "R",
   "pygments_lexer": "r",
   "version": "4.1.1"
  }
 },
 "nbformat": 4,
 "nbformat_minor": 2
}
