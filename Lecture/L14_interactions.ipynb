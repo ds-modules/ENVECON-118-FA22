{
 "cells": [
  {
   "cell_type": "code",
   "execution_count": null,
   "metadata": {},
   "outputs": [],
   "source": [
    "library(haven)\n",
    "options(scipen = 5)"
   ]
  },
  {
   "cell_type": "code",
   "execution_count": null,
   "metadata": {},
   "outputs": [],
   "source": [
    "# Load new house prices data\n",
    "hprice1<-read_dta(\"hprice1.dta\")\n",
    "head(hprice1,5) # price and assessed value are in $1000s"
   ]
  },
  {
   "cell_type": "code",
   "execution_count": null,
   "metadata": {},
   "outputs": [],
   "source": [
    "# Simple regression\n",
    "reg1<-lm(price ~sqrft+bdrms, data = hprice1)\n",
    "summary(reg1)"
   ]
  },
  {
   "cell_type": "code",
   "execution_count": null,
   "metadata": {
    "scrolled": true
   },
   "outputs": [],
   "source": [
    "# Interaction\n",
    "#if you include a star in the regression, \n",
    "#it will automatically put in both variables and the interaction term\n",
    "reg2<-lm(price ~sqrft*bdrms, data = hprice1)\n",
    "summary(reg2)"
   ]
  },
  {
   "cell_type": "code",
   "execution_count": null,
   "metadata": {},
   "outputs": [],
   "source": [
    "# Back to lecture"
   ]
  },
  {
   "cell_type": "code",
   "execution_count": null,
   "metadata": {},
   "outputs": [],
   "source": [
    "# Load wages data\n",
    "wages<-read_dta(\"WAGE1.DTA\")\n",
    "head(wages,5) # price and assessed value are in $1000s"
   ]
  },
  {
   "cell_type": "code",
   "execution_count": null,
   "metadata": {},
   "outputs": [],
   "source": [
    "reg3<-lm(lwage~exper*profocc, data= wages)\n",
    "summary(reg3)"
   ]
  },
  {
   "cell_type": "code",
   "execution_count": null,
   "metadata": {},
   "outputs": [],
   "source": [
    "# How to interpret these coefficients?\n",
    "# How to test whether wages increase with experience?"
   ]
  },
  {
   "cell_type": "code",
   "execution_count": null,
   "metadata": {},
   "outputs": [],
   "source": [
    "library(car)\n",
    "linearHypothesis(reg3, c(\"exper = 0\",\"exper:profocc=0\"))\n",
    "summary(lm(lwage~exper, data= wages))"
   ]
  },
  {
   "cell_type": "code",
   "execution_count": null,
   "metadata": {},
   "outputs": [],
   "source": [
    "# Back to lecture"
   ]
  },
  {
   "cell_type": "code",
   "execution_count": null,
   "metadata": {},
   "outputs": [],
   "source": [
    "reg4<-lm(price ~sqrft+bdrms+assess, data = hprice1)\n",
    "summary(reg4)\n",
    "summary(reg1)"
   ]
  },
  {
   "cell_type": "code",
   "execution_count": null,
   "metadata": {},
   "outputs": [],
   "source": [
    "# Back to lecture"
   ]
  },
  {
   "cell_type": "code",
   "execution_count": null,
   "metadata": {},
   "outputs": [],
   "source": [
    "gpadata<-read_dta(\"gpa2.dta\")\n",
    "head(gpadata)"
   ]
  },
  {
   "cell_type": "code",
   "execution_count": null,
   "metadata": {},
   "outputs": [],
   "source": [
    "reg5<-lm(colgpa~sat+ hsperc + hsize + hsizesq, data= gpadata)\n",
    "summary(reg5)"
   ]
  },
  {
   "cell_type": "code",
   "execution_count": null,
   "metadata": {},
   "outputs": [],
   "source": [
    "#What is the predicted college gpa for someone with a SAT of 1200, hsperc = 30, and hsize = 5?  "
   ]
  },
  {
   "cell_type": "code",
   "execution_count": null,
   "metadata": {},
   "outputs": [],
   "source": [
    "# Predicted value: sum of coefficients times values\n",
    "summary(reg5)$coef\n",
    "regco=summary(reg5)$coef\n",
    "predgpa1 = regco[1,1] + 1200*regco[2,1] +regco[3,1]*30 +regco[4,1]*5+ regco[5,1]*25\n",
    "#print\n",
    "paste0(\"The predicted college gpa for someone with a SAT of 1200,\",\n",
    "       \" hsperc = 30, and hsize = 5 is \",round(predgpa1,3))\n",
    "# An easier way to do this with a dot product of two vectors:\n",
    "predgpa2 = c(1,1200,30,5,25) %*% summary(reg5)$coef[,1]\n",
    "as.numeric(round(predgpa2,3))"
   ]
  },
  {
   "cell_type": "code",
   "execution_count": null,
   "metadata": {},
   "outputs": [],
   "source": [
    "# Transform data to get CI\n",
    "gpadata$sat0<- gpadata$sat-1200\n",
    "gpadata$hsperc0 <-gpadata$hsperc-30\n",
    "gpadata$hsize0<-gpadata$hsize-5\n",
    "gpadata$hsizesq0<-gpadata$hsizesq-25\n",
    "\n",
    "reg6<-lm(colgpa~sat0+hsperc0 + hsize0 + hsizesq0, data = gpadata)\n",
    "summary(reg6)"
   ]
  },
  {
   "cell_type": "code",
   "execution_count": null,
   "metadata": {},
   "outputs": [],
   "source": [
    "round(summary(reg6)$coef[1,1],3)==round(predgpa1,3)\n",
    "paste0(\"A 95% confidence interval around the predicted GPA is [\",\n",
    "      round(predgpa1-1.96*summary(reg6)$coef[1,2],3),\",\",\n",
    "      round(predgpa1+1.96*summary(reg6)$coef[1,2],3),\"].\")"
   ]
  }
 ],
 "metadata": {
  "kernelspec": {
   "display_name": "R",
   "language": "R",
   "name": "ir"
  },
  "language_info": {
   "codemirror_mode": "r",
   "file_extension": ".r",
   "mimetype": "text/x-r-source",
   "name": "R",
   "pygments_lexer": "r",
   "version": "4.1.1"
  }
 },
 "nbformat": 4,
 "nbformat_minor": 2
}
