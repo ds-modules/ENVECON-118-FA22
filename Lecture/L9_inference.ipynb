{
 "cells": [
  {
   "cell_type": "code",
   "execution_count": null,
   "metadata": {},
   "outputs": [],
   "source": [
    "# Confidence intervals recap\n",
    "\n",
    "# Suppose we are interested in mean height for the population of 100 students in the class. \n",
    "# Let X be the random variable height, in inches.\n",
    "# I generate here a simulated set of 100 student heights\n",
    "set.seed(12345)\n",
    "X=65+runif(100,min=-8,max=10) # Simulated heights are uniformly distributed from 57 to 75 inches\n",
    "data=data.frame(X)\n",
    "# Calculate the true population mean\n",
    "mu=mean(data$X)\n",
    "round(mu,3)"
   ]
  },
  {
   "cell_type": "code",
   "execution_count": null,
   "metadata": {},
   "outputs": [],
   "source": [
    "# Let's simulate drawing 1000 different samples of 25 students\n",
    "n=25\n",
    "# We will calculate a 95% confidence interval for each sample\n",
    "# With n=25 and a t distribution, c_0.025=1.984\n",
    "bar_xs<-numeric(1000) # we'll record the sample mean for each sample\n",
    "inside<-numeric(1000) # we'll record whether mu is within the CI for each sample\n",
    "for(s in 1:1000) {\n",
    "    data$sample<-runif(100)<0.25\n",
    "    bar_x=mean(data[data$sample==TRUE,\"X\"])\n",
    "    sd_x=sd(data[data$sample==TRUE,\"X\"])\n",
    "    bar_xs[s]=bar_x\n",
    "    lci=round(bar_x-1.984*sd_x/sqrt(n),3)\n",
    "    rci=round(bar_x+1.984*sd_x/sqrt(n),3)\n",
    "    inside[s]=(mu>=lci & mu<=rci)\n",
    "}"
   ]
  },
  {
   "cell_type": "code",
   "execution_count": null,
   "metadata": {},
   "outputs": [],
   "source": [
    "# Histogram of estimated sample means\n",
    "hist(bar_xs,50)\n",
    "abline(v=mean(bar_xs),col=\"red\",lwd=2) # mean of observed sample means\n",
    "abline(v=mu,col=\"blue\",lwd=2) # true population mean"
   ]
  },
  {
   "cell_type": "code",
   "execution_count": null,
   "metadata": {},
   "outputs": [],
   "source": [
    "# For how many samples was the true population mean inside our 95% confidence interval?\n",
    "# We would expect it to be very close to 95%\n",
    "mean(inside)"
   ]
  },
  {
   "cell_type": "code",
   "execution_count": null,
   "metadata": {},
   "outputs": [],
   "source": [
    "# Back to lecture"
   ]
  },
  {
   "cell_type": "code",
   "execution_count": null,
   "metadata": {},
   "outputs": [],
   "source": [
    "# Hypothesis test\n",
    "# H_0: mu_0>= 67 -> use 67 because if can reject one-sided test at 67, can reject for anything larger\n",
    "mu_0=67\n",
    "c=-1.711\n",
    "# Draw sample and get estimates\n",
    "data$sample<-runif(100)<0.25\n",
    "bar_x=mean(data[data$sample==TRUE,\"X\"])\n",
    "sd_x=sd(data[data$sample==TRUE,\"X\"])\n",
    "# Calculate test statistic\n",
    "t=(bar_x-mu_0)/(sd_x/sqrt(n))\n",
    "round(t,3)\n",
    "print(paste0(\"Is \",round(t,3), \" less than \",c,\"? \",t<c))"
   ]
  },
  {
   "cell_type": "code",
   "execution_count": null,
   "metadata": {},
   "outputs": [],
   "source": [
    "# What about another sample?\n",
    "# Draw sample and get estimates\n",
    "data$sample<-runif(100)<0.25\n",
    "bar_x=mean(data[data$sample==TRUE,\"X\"])\n",
    "sd_x=sd(data[data$sample==TRUE,\"X\"])\n",
    "# Calculate test statistic\n",
    "t=(bar_x-mu_0)/(sd_x/sqrt(n))\n",
    "round(t,3)\n",
    "print(paste0(\"Is \",round(t,3), \" less than \",c,\"? \",t<c))"
   ]
  },
  {
   "cell_type": "code",
   "execution_count": null,
   "metadata": {},
   "outputs": [],
   "source": [
    "# Simulated t tests for 1000 samples\n",
    "t_s<-numeric(1000) # we'll record the test statistic for each sample\n",
    "reject_s<-numeric(1000) # we'll record whether we reject the null at a 95% confidence level for each sample\n",
    "for(s in 1:1000) {\n",
    "    data$sample<-runif(100)<0.25\n",
    "    bar_x=mean(data[data$sample==TRUE,\"X\"])\n",
    "    sd_x=sd(data[data$sample==TRUE,\"X\"])\n",
    "    t=round((bar_x-mu_0)/(sd_x/sqrt(n)),3)\n",
    "    t_s[s]=t\n",
    "    reject_s[s]=(t<c)\n",
    "}"
   ]
  },
  {
   "cell_type": "code",
   "execution_count": null,
   "metadata": {},
   "outputs": [],
   "source": [
    "# What share of tests rejected the null?\n",
    "summary(t_s)\n",
    "mean(reject_s)\n",
    "# But the null is false! The true mu is 66.169"
   ]
  },
  {
   "cell_type": "code",
   "execution_count": null,
   "metadata": {},
   "outputs": [],
   "source": [
    "# Back to lecture"
   ]
  },
  {
   "cell_type": "code",
   "execution_count": null,
   "metadata": {},
   "outputs": [],
   "source": [
    "# Hypothesis: mu=66\n",
    "mu_0=66\n",
    "c=2.064\n",
    "# Simulated t tests for 1000 samples\n",
    "t_s<-numeric(1000) # we'll record the test statistic for each sample\n",
    "reject_s<-numeric(1000) # we'll record whether we reject the null at a 95% confidence level for each sample\n",
    "for(s in 1:1000) {\n",
    "    data$sample<-runif(100)<0.25\n",
    "    bar_x=mean(data[data$sample==TRUE,\"X\"])\n",
    "    sd_x=sd(data[data$sample==TRUE,\"X\"])\n",
    "    t=round((bar_x-mu_0)/(sd_x/sqrt(n)),3)\n",
    "    t_s[s]=abs(t)\n",
    "    reject_s[s]=(t>c)\n",
    "}"
   ]
  },
  {
   "cell_type": "code",
   "execution_count": null,
   "metadata": {},
   "outputs": [],
   "source": [
    "# What share of tests rejected the null?\n",
    "summary(t_s)\n",
    "mean(reject_s)"
   ]
  },
  {
   "cell_type": "code",
   "execution_count": null,
   "metadata": {},
   "outputs": [],
   "source": [
    "# Back to lecture"
   ]
  },
  {
   "cell_type": "code",
   "execution_count": null,
   "metadata": {},
   "outputs": [],
   "source": [
    "# load some needed packages and data\n",
    "library(haven)\n",
    "library(tidyverse)\n",
    "yields <- read_dta(\"irr_yields.dta\")"
   ]
  },
  {
   "cell_type": "code",
   "execution_count": null,
   "metadata": {},
   "outputs": [],
   "source": [
    "head(yields)"
   ]
  },
  {
   "cell_type": "code",
   "execution_count": null,
   "metadata": {},
   "outputs": [],
   "source": [
    "# find out means of log yield by irrigated status\n",
    "#declare the dataset\n",
    "means<-yields %>%\n",
    "#tell it to sort by irrigation status\n",
    "group_by(irr_loc) %>%\n",
    "#ask it what the means are (dropping missing values)\n",
    "summarize(meanyield = mean(ln_tot_yield, na.rm = T)) \n",
    "means"
   ]
  },
  {
   "cell_type": "code",
   "execution_count": null,
   "metadata": {},
   "outputs": [],
   "source": [
    "#same for standard deviations\n",
    "sds<-yields %>%\n",
    "group_by(irr_loc) %>%\n",
    "summarize(sdyield = sd(ln_tot_yield, na.rm = T)) \n",
    "sds"
   ]
  },
  {
   "cell_type": "code",
   "execution_count": null,
   "metadata": {},
   "outputs": [],
   "source": [
    "#find out sample sizes\n",
    "ns<-yields %>%\n",
    "group_by(irr_loc) %>%\n",
    "filter(is.na(ln_tot_yield == F)) %>%\n",
    "count(ln_tot_yield)\n",
    "ns"
   ]
  },
  {
   "cell_type": "code",
   "execution_count": null,
   "metadata": {},
   "outputs": [],
   "source": [
    "# calculate t\n",
    "t<-(means[2,2]-means[1,2])/sqrt((sds[2,2]^2/ns[2,3] + sds[1,2]^2/ns[1,3]))\n",
    "t"
   ]
  }
 ],
 "metadata": {
  "kernelspec": {
   "display_name": "R",
   "language": "R",
   "name": "ir"
  },
  "language_info": {
   "codemirror_mode": "r",
   "file_extension": ".r",
   "mimetype": "text/x-r-source",
   "name": "R",
   "pygments_lexer": "r",
   "version": "4.1.1"
  }
 },
 "nbformat": 4,
 "nbformat_minor": 2
}
