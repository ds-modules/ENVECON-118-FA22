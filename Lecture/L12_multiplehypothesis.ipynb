{
 "cells": [
  {
   "cell_type": "code",
   "execution_count": null,
   "metadata": {},
   "outputs": [],
   "source": [
    "library(haven)\n",
    "options(scipen = 4)"
   ]
  },
  {
   "cell_type": "code",
   "execution_count": null,
   "metadata": {
    "scrolled": true
   },
   "outputs": [],
   "source": [
    "#load Ed Data\n",
    "meapdata<-read_dta(\"MEAP93.dta\")\n",
    "head(meapdata)"
   ]
  },
  {
   "cell_type": "code",
   "execution_count": null,
   "metadata": {},
   "outputs": [],
   "source": [
    "#regress graduation rates on enrollment, total compensation, number of staff, and eligibility for free lunch\n",
    "reg1<-lm(gradrate~enroll + totcomp + staff + lnchprg, data = meapdata)\n",
    "summary(reg1)"
   ]
  },
  {
   "cell_type": "code",
   "execution_count": null,
   "metadata": {},
   "outputs": [],
   "source": [
    "str(summary(reg1))"
   ]
  },
  {
   "cell_type": "code",
   "execution_count": null,
   "metadata": {},
   "outputs": [],
   "source": [
    "summary(reg1)$coefficients"
   ]
  },
  {
   "cell_type": "code",
   "execution_count": null,
   "metadata": {},
   "outputs": [],
   "source": [
    "# Confidence intervals\n",
    "# Find the critical value\n",
    "c = qt(p=0.05/2, df=403,lower.tail=F)\n",
    "# Calculate intervals\n",
    "lci=round(summary(reg1)$coefficients[2,1] - c* summary(reg1)$coefficients[2,2],5)\n",
    "rci=round(summary(reg1)$coefficients[2,1] + c* summary(reg1)$coefficients[2,2],5)\n",
    "# Print result\n",
    "print(paste0(\"The estimated 95% confidence interval for beta_2 is [\",lci,\",\",rci,\"]\"))"
   ]
  },
  {
   "cell_type": "code",
   "execution_count": null,
   "metadata": {},
   "outputs": [],
   "source": [
    "# What does the confidence interval imply about the economic significance of eligibility for school lunch?\n",
    "\n",
    "# Back to lecture"
   ]
  },
  {
   "cell_type": "code",
   "execution_count": null,
   "metadata": {},
   "outputs": [],
   "source": [
    "#load college dataset\n",
    "twoyeardata<- read_dta(\"twoyear.dta\")\n",
    "head(twoyeardata)"
   ]
  },
  {
   "cell_type": "code",
   "execution_count": null,
   "metadata": {},
   "outputs": [],
   "source": [
    "#generate regression model\n",
    "reg2 <- lm(lwage ~ jc + univ + exper, data = twoyeardata)\n",
    "summary(reg2)\n",
    "# Can we test beta_1-beta_2=0?"
   ]
  },
  {
   "cell_type": "code",
   "execution_count": null,
   "metadata": {},
   "outputs": [],
   "source": [
    "# Back to lecture"
   ]
  },
  {
   "cell_type": "code",
   "execution_count": null,
   "metadata": {},
   "outputs": [],
   "source": [
    "#test for equality of coefficients: rewrite the model\n",
    "twoyeardata$allcoll = twoyeardata$jc+twoyeardata$univ\n",
    "reg3 <- lm(lwage ~ jc + allcoll + exper, data = twoyeardata)\n",
    "summary(reg3)\n",
    "# What is the result of our hypothesis test?\n",
    "# How do I interpret the coefficients on jc and allcoll?"
   ]
  },
  {
   "cell_type": "code",
   "execution_count": null,
   "metadata": {},
   "outputs": [],
   "source": [
    "# Notice relationships between coefficients\n",
    "summary(reg3)$coefficients[3,1] # allcoll coeff\n",
    "summary(reg2)$coefficients[3,1] # univ coeff\n",
    "summary(reg3)$coefficients[3,1]+summary(reg3)$coefficients[2,1] # allcoll + jc coeff\n",
    "summary(reg2)$coefficients[2,1] # jc coeff"
   ]
  },
  {
   "cell_type": "code",
   "execution_count": null,
   "metadata": {},
   "outputs": [],
   "source": [
    "#test for equality of coefficients alternative: need \"car\" package\n",
    "library(car)\n",
    "#command linearHypothesis takes the regression object, and then states the model\n",
    "linearHypothesis(reg2, \"jc = univ\")\n",
    "# Notice same p-value\n",
    "round(linearHypothesis(reg2, \"jc = univ\")[2,6],4)==round(summary(reg3)$coefficients[2,4],4)"
   ]
  },
  {
   "cell_type": "code",
   "execution_count": null,
   "metadata": {},
   "outputs": [],
   "source": [
    "# Back to lecture"
   ]
  },
  {
   "cell_type": "code",
   "execution_count": null,
   "metadata": {},
   "outputs": [],
   "source": [
    "#read in birthweight data\n",
    "bweight <- read_dta(\"BWGHT.DTA\")\n",
    "head(bweight)"
   ]
  },
  {
   "cell_type": "code",
   "execution_count": null,
   "metadata": {},
   "outputs": [],
   "source": [
    "#regress birthweight in ounces on daily maternal cigarette consumption and parity (birth order)\n",
    "reg4<-lm(bwght~cigs + parity + faminc, data = bweight)\n",
    "summary(reg4)\n",
    "# How do we interpret beta_1? sign, size, significance"
   ]
  },
  {
   "cell_type": "code",
   "execution_count": null,
   "metadata": {},
   "outputs": [],
   "source": [
    "# Back to lecture"
   ]
  },
  {
   "cell_type": "code",
   "execution_count": null,
   "metadata": {},
   "outputs": [],
   "source": [
    "#Add SES variables\n",
    "reg5 <- lm(bwght~cigs + parity + faminc + motheduc + fatheduc, data = bweight)\n",
    "summary(reg5)"
   ]
  },
  {
   "cell_type": "code",
   "execution_count": null,
   "metadata": {},
   "outputs": [],
   "source": [
    "# For consistency, need the same sample in both models\n",
    "# Only keep observations where all variables are not missing for F calculation\n",
    "bweight<- subset(bweight, is.na(fatheduc) == F & is.na(motheduc)== F)\n",
    "#regress birthweight on cigarette consumption,  birth order, and family income\n",
    "reg6<- lm(bwght ~ cigs + parity + faminc, data = bweight)\n",
    "summary(reg6)"
   ]
  },
  {
   "cell_type": "code",
   "execution_count": null,
   "metadata": {},
   "outputs": [],
   "source": [
    "#include family education controls\n",
    "reg7 <- lm(bwght ~ cigs + parity + faminc + motheduc + fatheduc, data = bweight)\n",
    "summary(reg7)"
   ]
  },
  {
   "cell_type": "code",
   "execution_count": null,
   "metadata": {},
   "outputs": [],
   "source": [
    "#calculate sums of squared residuals\n",
    "#unrestricted model\n",
    "SSRU<-sum(resid(reg7)^2)\n",
    "SSRU\n",
    "#restricted model\n",
    "SSRR<-sum(resid(reg6)^2)\n",
    "SSRR\n",
    "#identify n\n",
    "n <- nobs(reg7)\n",
    "n"
   ]
  },
  {
   "cell_type": "code",
   "execution_count": null,
   "metadata": {},
   "outputs": [],
   "source": [
    "#calculate F statistic\n",
    "# number of restrictions/numerator df\n",
    "q=2\n",
    "F1<- round(((SSRR-SSRU)/q)/(SSRU/(n-5-1)),4)\n",
    "F1"
   ]
  },
  {
   "cell_type": "code",
   "execution_count": null,
   "metadata": {},
   "outputs": [],
   "source": [
    "# Get the critical value\n",
    "# syntax: qf(p, df1, df2. lower.tail=TRUE)\n",
    "F_crit=round(qf(0.05,q,n-5-1,lower.tail=FALSE),4)\n",
    "print(paste0(\"Is \",F1,\" > \",F_crit,\"? \",F1>F_crit))"
   ]
  },
  {
   "cell_type": "code",
   "execution_count": null,
   "metadata": {},
   "outputs": [],
   "source": [
    "# Back to lecture"
   ]
  },
  {
   "cell_type": "code",
   "execution_count": null,
   "metadata": {},
   "outputs": [],
   "source": [
    "#R-squared calculation\n",
    "#Pull unrestricted R-squared from regression output\n",
    "Rsq_u <-summary(reg7)$r.squared\n",
    "Rsq_u\n",
    "#Pull restricted R-squared from regression output\n",
    "Rsq_r <-summary(reg6)$r.squared\n",
    "Rsq_r\n",
    "F2 <- round(((Rsq_u-Rsq_r)/q)/((1-Rsq_u)/(n-5-1)),4)\n",
    "F2\n",
    "F2==F1"
   ]
  },
  {
   "cell_type": "code",
   "execution_count": null,
   "metadata": {},
   "outputs": [],
   "source": [
    "# Use linearHypothesis test \n",
    "linearHypothesis(reg7,c(\"motheduc = 0\", \"fatheduc = 0\"))\n",
    "F3<- round(linearHypothesis(reg7,c(\"motheduc = 0\", \"fatheduc = 0\"))[2,5],4)\n",
    "F3==F1\n",
    "# Advantage that this also gives you a p-value"
   ]
  },
  {
   "cell_type": "code",
   "execution_count": null,
   "metadata": {},
   "outputs": [],
   "source": [
    "# But can also get p-value directly from F distribution\n",
    "# syntax pf(F-stat, q, denominator df, lower.tail=TRUE)\n",
    "pf(F3, q, n-5-1, lower.tail = FALSE)"
   ]
  },
  {
   "cell_type": "code",
   "execution_count": null,
   "metadata": {},
   "outputs": [],
   "source": [
    "# Overall F-statistic\n",
    "q=5\n",
    "F_overall=round(((Rsq_u)/q)/((1-Rsq_u)/(n-q-1)),4)\n",
    "F_overall\n",
    "summary(reg7)"
   ]
  },
  {
   "cell_type": "code",
   "execution_count": null,
   "metadata": {},
   "outputs": [],
   "source": [
    "str(summary(reg7))"
   ]
  },
  {
   "cell_type": "code",
   "execution_count": null,
   "metadata": {},
   "outputs": [],
   "source": [
    "summary(reg7)$fstatistic\n",
    "round(summary(reg7)$fstatistic[1],4)==F_overall"
   ]
  }
 ],
 "metadata": {
  "kernelspec": {
   "display_name": "R",
   "language": "R",
   "name": "ir"
  },
  "language_info": {
   "codemirror_mode": "r",
   "file_extension": ".r",
   "mimetype": "text/x-r-source",
   "name": "R",
   "pygments_lexer": "r",
   "version": "4.1.1"
  }
 },
 "nbformat": 4,
 "nbformat_minor": 2
}
