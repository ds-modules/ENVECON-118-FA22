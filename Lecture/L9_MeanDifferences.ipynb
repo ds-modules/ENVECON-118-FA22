{
 "cells": [
  {
   "cell_type": "code",
   "execution_count": null,
   "metadata": {},
   "outputs": [],
   "source": [
    "# load some needed packages and data\n",
    "library(haven)\n",
    "library(tidyverse)\n",
    "yields <- read_dta(\"irr_yields.dta\")\n"
   ]
  },
  {
   "cell_type": "code",
   "execution_count": null,
   "metadata": {},
   "outputs": [],
   "source": [
    "head(yields)"
   ]
  },
  {
   "cell_type": "code",
   "execution_count": null,
   "metadata": {},
   "outputs": [],
   "source": [
    "# find out means of log yield by irrigated status\n",
    "#declare the dataset\n",
    "means<-yields %>%\n",
    "#tell it to sort by irrigation status\n",
    "group_by(irr_loc) %>%\n",
    "#ask it what the means are (dropping missing values)\n",
    "summarize(meanyield = mean(ln_tot_yield, na.rm = T)) \n",
    "means"
   ]
  },
  {
   "cell_type": "code",
   "execution_count": null,
   "metadata": {},
   "outputs": [],
   "source": [
    "#same for standard deviations\n",
    "sds<-yields %>%\n",
    "group_by(irr_loc) %>%\n",
    "summarize(sdyield = sd(ln_tot_yield, na.rm = T)) \n",
    "sds"
   ]
  },
  {
   "cell_type": "code",
   "execution_count": null,
   "metadata": {},
   "outputs": [],
   "source": [
    "#find out n\n",
    "ns<-yields %>%\n",
    "group_by(irr_loc) %>%\n",
    "filter(is.na(ln_tot_yield == F)) %>%\n",
    "count(ln_tot_yield)\n",
    "ns"
   ]
  },
  {
   "cell_type": "code",
   "execution_count": null,
   "metadata": {},
   "outputs": [],
   "source": [
    "# calculate t\n",
    "t<-(means[2,2]-means[1,2])/sqrt((sds[2,2]^2/ns[2,3] + sds[1,2]^2/ns[1,3]))\n",
    "t"
   ]
  }
 ],
 "metadata": {
  "kernelspec": {
   "display_name": "R",
   "language": "R",
   "name": "ir"
  },
  "language_info": {
   "codemirror_mode": "r",
   "file_extension": ".r",
   "mimetype": "text/x-r-source",
   "name": "R",
   "pygments_lexer": "r",
   "version": "4.1.1"
  }
 },
 "nbformat": 4,
 "nbformat_minor": 2
}
