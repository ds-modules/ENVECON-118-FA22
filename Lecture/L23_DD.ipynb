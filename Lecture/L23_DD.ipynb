{
 "cells": [
  {
   "cell_type": "code",
   "execution_count": null,
   "metadata": {},
   "outputs": [],
   "source": [
    "library(haven)\n",
    "library(tidyverse)\n",
    "options(scipen = 999)"
   ]
  },
  {
   "cell_type": "code",
   "execution_count": null,
   "metadata": {},
   "outputs": [],
   "source": [
    "# Load data on traffic laws and death rates in 1990 and 1985\n",
    "trafficdata<-read_dta(\"traffic_long.dta\")\n",
    "head(trafficdata)"
   ]
  },
  {
   "cell_type": "code",
   "execution_count": null,
   "metadata": {},
   "outputs": [],
   "source": [
    "#describe law changes\n",
    "paste0(\"states with open container laws in 1985: \",sum(trafficdata[trafficdata$year==85,]$open))\n",
    "paste0(\"states with open container laws in 1990: \",sum(trafficdata[trafficdata$year==90,]$open))\n",
    "paste0(\"states with admin per se laws in 1985: \",sum(trafficdata[trafficdata$year==85,]$admn))\n",
    "paste0(\"states with admin per se laws in 1990: \",sum(trafficdata[trafficdata$year==90,]$admn))"
   ]
  },
  {
   "cell_type": "code",
   "execution_count": null,
   "metadata": {},
   "outputs": [],
   "source": [
    "# Difference-in-Differences: open container law\n",
    "trafficdata$post=as.numeric(trafficdata$year==90)\n",
    "\n",
    "# Mechanical computation of change in means\n",
    "A<-mean(trafficdata[trafficdata$open_treat==0 & trafficdata$post==1,]$dthrte -\n",
    "        trafficdata[trafficdata$open_treat==0 & trafficdata$post==0,]$dthrte)\n",
    "round(A,4)\n",
    "B<-mean(trafficdata[trafficdata$open_treat==1 & trafficdata$post==1,]$dthrte -\n",
    "        trafficdata[trafficdata$open_treat==1 & trafficdata$post==0,]$dthrte)    \n",
    "round(B,4)\n",
    "paste0(\"DD treatment impact of change in open container law is \",round(B-A,4),\" deaths\")\n",
    "\n",
    "# Via regression\n",
    "reg1<-lm(dthrte~post*open_treat, data = trafficdata)\n",
    "summary(reg1)"
   ]
  },
  {
   "cell_type": "code",
   "execution_count": null,
   "metadata": {},
   "outputs": [],
   "source": [
    "# How do we interpret each coefficient?"
   ]
  },
  {
   "cell_type": "code",
   "execution_count": null,
   "metadata": {},
   "outputs": [],
   "source": [
    "# DD: admin per se laws\n",
    "reg2<-lm(dthrte~post*admn_treat, data = trafficdata)\n",
    "summary(reg2)"
   ]
  },
  {
   "cell_type": "code",
   "execution_count": null,
   "metadata": {},
   "outputs": [],
   "source": [
    "# How do we interpret each coefficient?"
   ]
  },
  {
   "cell_type": "code",
   "execution_count": null,
   "metadata": {},
   "outputs": [],
   "source": [
    "# Back to lecture"
   ]
  },
  {
   "cell_type": "code",
   "execution_count": null,
   "metadata": {},
   "outputs": [],
   "source": [
    "subset(trafficdata$state, trafficdata$open_treat ==1 & trafficdata$post==1)\n",
    "subset(trafficdata$state, trafficdata$admn_treat ==1 & trafficdata$post==1)\n",
    "subset(trafficdata$state, trafficdata$speed_treat ==1 & trafficdata$post==1)"
   ]
  },
  {
   "cell_type": "code",
   "execution_count": null,
   "metadata": {},
   "outputs": [],
   "source": [
    "# Does this suggest any concerns with the above DD estimations?"
   ]
  },
  {
   "cell_type": "code",
   "execution_count": null,
   "metadata": {},
   "outputs": [],
   "source": [
    "# DD: control for all three traffic law changes\n",
    "reg3<-lm(dthrte~post*admn_treat + post*open_treat + post*speed_treat, data = trafficdata)\n",
    "summary(reg3)"
   ]
  },
  {
   "cell_type": "code",
   "execution_count": null,
   "metadata": {},
   "outputs": [],
   "source": [
    "# How do we interpret post:admn_treat?"
   ]
  },
  {
   "cell_type": "code",
   "execution_count": null,
   "metadata": {},
   "outputs": [],
   "source": [
    "# DD: admin per se laws, sample with no change in open container law, all treated by speeding law\n",
    "reg4<-lm(dthrte~post*admn_treat, data = trafficdata[trafficdata$open_treat==0 & trafficdata$speed_treat==1,])\n",
    "summary(reg4)"
   ]
  },
  {
   "cell_type": "code",
   "execution_count": null,
   "metadata": {},
   "outputs": [],
   "source": [
    "# Are we confident in either estimate?"
   ]
  }
 ],
 "metadata": {
  "kernelspec": {
   "display_name": "R",
   "language": "R",
   "name": "ir"
  },
  "language_info": {
   "codemirror_mode": "r",
   "file_extension": ".r",
   "mimetype": "text/x-r-source",
   "name": "R",
   "pygments_lexer": "r",
   "version": "4.1.1"
  }
 },
 "nbformat": 4,
 "nbformat_minor": 2
}
