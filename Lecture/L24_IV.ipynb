{
 "cells": [
  {
   "cell_type": "code",
   "execution_count": 1,
   "metadata": {},
   "outputs": [
    {
     "name": "stderr",
     "output_type": "stream",
     "text": [
      "Loading required package: car\n",
      "\n",
      "Loading required package: carData\n",
      "\n",
      "Loading required package: lmtest\n",
      "\n",
      "Loading required package: zoo\n",
      "\n",
      "\n",
      "Attaching package: ‘zoo’\n",
      "\n",
      "\n",
      "The following objects are masked from ‘package:base’:\n",
      "\n",
      "    as.Date, as.Date.numeric\n",
      "\n",
      "\n",
      "Loading required package: sandwich\n",
      "\n",
      "Loading required package: survival\n",
      "\n"
     ]
    },
    {
     "data": {
      "text/html": [
       "<table>\n",
       "<caption>A tibble: 6 × 22</caption>\n",
       "<thead>\n",
       "\t<tr><th scope=col>inlf</th><th scope=col>hours</th><th scope=col>kidslt6</th><th scope=col>kidsge6</th><th scope=col>age</th><th scope=col>educ</th><th scope=col>wage</th><th scope=col>repwage</th><th scope=col>hushrs</th><th scope=col>husage</th><th scope=col>⋯</th><th scope=col>faminc</th><th scope=col>mtr</th><th scope=col>motheduc</th><th scope=col>fatheduc</th><th scope=col>unem</th><th scope=col>city</th><th scope=col>exper</th><th scope=col>nwifeinc</th><th scope=col>lwage</th><th scope=col>expersq</th></tr>\n",
       "\t<tr><th scope=col>&lt;dbl&gt;</th><th scope=col>&lt;dbl&gt;</th><th scope=col>&lt;dbl&gt;</th><th scope=col>&lt;dbl&gt;</th><th scope=col>&lt;dbl&gt;</th><th scope=col>&lt;dbl&gt;</th><th scope=col>&lt;dbl&gt;</th><th scope=col>&lt;dbl&gt;</th><th scope=col>&lt;dbl&gt;</th><th scope=col>&lt;dbl&gt;</th><th scope=col>⋯</th><th scope=col>&lt;dbl&gt;</th><th scope=col>&lt;dbl&gt;</th><th scope=col>&lt;dbl&gt;</th><th scope=col>&lt;dbl&gt;</th><th scope=col>&lt;dbl&gt;</th><th scope=col>&lt;dbl&gt;</th><th scope=col>&lt;dbl&gt;</th><th scope=col>&lt;dbl&gt;</th><th scope=col>&lt;dbl&gt;</th><th scope=col>&lt;dbl&gt;</th></tr>\n",
       "</thead>\n",
       "<tbody>\n",
       "\t<tr><td>1</td><td>1610</td><td>1</td><td>0</td><td>32</td><td>12</td><td>3.3540</td><td>2.65</td><td>2708</td><td>34</td><td>⋯</td><td>16310</td><td>0.7215</td><td>12</td><td> 7</td><td> 5.0</td><td>0</td><td>14</td><td>10.910060</td><td>1.21015370</td><td> 196</td></tr>\n",
       "\t<tr><td>1</td><td>1656</td><td>0</td><td>2</td><td>30</td><td>12</td><td>1.3889</td><td>2.65</td><td>2310</td><td>30</td><td>⋯</td><td>21800</td><td>0.6615</td><td> 7</td><td> 7</td><td>11.0</td><td>1</td><td> 5</td><td>19.499981</td><td>0.32851210</td><td>  25</td></tr>\n",
       "\t<tr><td>1</td><td>1980</td><td>1</td><td>3</td><td>35</td><td>12</td><td>4.5455</td><td>4.04</td><td>3072</td><td>40</td><td>⋯</td><td>21040</td><td>0.6915</td><td>12</td><td> 7</td><td> 5.0</td><td>0</td><td>15</td><td>12.039910</td><td>1.51413774</td><td> 225</td></tr>\n",
       "\t<tr><td>1</td><td> 456</td><td>0</td><td>3</td><td>34</td><td>12</td><td>1.0965</td><td>3.25</td><td>1920</td><td>53</td><td>⋯</td><td> 7300</td><td>0.7815</td><td> 7</td><td> 7</td><td> 5.0</td><td>0</td><td> 6</td><td> 6.799996</td><td>0.09212332</td><td>  36</td></tr>\n",
       "\t<tr><td>1</td><td>1568</td><td>1</td><td>2</td><td>31</td><td>14</td><td>4.5918</td><td>3.60</td><td>2000</td><td>32</td><td>⋯</td><td>27300</td><td>0.6215</td><td>12</td><td>14</td><td> 9.5</td><td>1</td><td> 7</td><td>20.100058</td><td>1.52427220</td><td>  49</td></tr>\n",
       "\t<tr><td>1</td><td>2032</td><td>0</td><td>0</td><td>54</td><td>12</td><td>4.7421</td><td>4.70</td><td>1040</td><td>57</td><td>⋯</td><td>19495</td><td>0.6915</td><td>14</td><td> 7</td><td> 7.5</td><td>1</td><td>33</td><td> 9.859054</td><td>1.55648005</td><td>1089</td></tr>\n",
       "</tbody>\n",
       "</table>\n"
      ],
      "text/latex": [
       "A tibble: 6 × 22\n",
       "\\begin{tabular}{lllllllllllllllllllll}\n",
       " inlf & hours & kidslt6 & kidsge6 & age & educ & wage & repwage & hushrs & husage & ⋯ & faminc & mtr & motheduc & fatheduc & unem & city & exper & nwifeinc & lwage & expersq\\\\\n",
       " <dbl> & <dbl> & <dbl> & <dbl> & <dbl> & <dbl> & <dbl> & <dbl> & <dbl> & <dbl> & ⋯ & <dbl> & <dbl> & <dbl> & <dbl> & <dbl> & <dbl> & <dbl> & <dbl> & <dbl> & <dbl>\\\\\n",
       "\\hline\n",
       "\t 1 & 1610 & 1 & 0 & 32 & 12 & 3.3540 & 2.65 & 2708 & 34 & ⋯ & 16310 & 0.7215 & 12 &  7 &  5.0 & 0 & 14 & 10.910060 & 1.21015370 &  196\\\\\n",
       "\t 1 & 1656 & 0 & 2 & 30 & 12 & 1.3889 & 2.65 & 2310 & 30 & ⋯ & 21800 & 0.6615 &  7 &  7 & 11.0 & 1 &  5 & 19.499981 & 0.32851210 &   25\\\\\n",
       "\t 1 & 1980 & 1 & 3 & 35 & 12 & 4.5455 & 4.04 & 3072 & 40 & ⋯ & 21040 & 0.6915 & 12 &  7 &  5.0 & 0 & 15 & 12.039910 & 1.51413774 &  225\\\\\n",
       "\t 1 &  456 & 0 & 3 & 34 & 12 & 1.0965 & 3.25 & 1920 & 53 & ⋯ &  7300 & 0.7815 &  7 &  7 &  5.0 & 0 &  6 &  6.799996 & 0.09212332 &   36\\\\\n",
       "\t 1 & 1568 & 1 & 2 & 31 & 14 & 4.5918 & 3.60 & 2000 & 32 & ⋯ & 27300 & 0.6215 & 12 & 14 &  9.5 & 1 &  7 & 20.100058 & 1.52427220 &   49\\\\\n",
       "\t 1 & 2032 & 0 & 0 & 54 & 12 & 4.7421 & 4.70 & 1040 & 57 & ⋯ & 19495 & 0.6915 & 14 &  7 &  7.5 & 1 & 33 &  9.859054 & 1.55648005 & 1089\\\\\n",
       "\\end{tabular}\n"
      ],
      "text/markdown": [
       "\n",
       "A tibble: 6 × 22\n",
       "\n",
       "| inlf &lt;dbl&gt; | hours &lt;dbl&gt; | kidslt6 &lt;dbl&gt; | kidsge6 &lt;dbl&gt; | age &lt;dbl&gt; | educ &lt;dbl&gt; | wage &lt;dbl&gt; | repwage &lt;dbl&gt; | hushrs &lt;dbl&gt; | husage &lt;dbl&gt; | ⋯ ⋯ | faminc &lt;dbl&gt; | mtr &lt;dbl&gt; | motheduc &lt;dbl&gt; | fatheduc &lt;dbl&gt; | unem &lt;dbl&gt; | city &lt;dbl&gt; | exper &lt;dbl&gt; | nwifeinc &lt;dbl&gt; | lwage &lt;dbl&gt; | expersq &lt;dbl&gt; |\n",
       "|---|---|---|---|---|---|---|---|---|---|---|---|---|---|---|---|---|---|---|---|---|\n",
       "| 1 | 1610 | 1 | 0 | 32 | 12 | 3.3540 | 2.65 | 2708 | 34 | ⋯ | 16310 | 0.7215 | 12 |  7 |  5.0 | 0 | 14 | 10.910060 | 1.21015370 |  196 |\n",
       "| 1 | 1656 | 0 | 2 | 30 | 12 | 1.3889 | 2.65 | 2310 | 30 | ⋯ | 21800 | 0.6615 |  7 |  7 | 11.0 | 1 |  5 | 19.499981 | 0.32851210 |   25 |\n",
       "| 1 | 1980 | 1 | 3 | 35 | 12 | 4.5455 | 4.04 | 3072 | 40 | ⋯ | 21040 | 0.6915 | 12 |  7 |  5.0 | 0 | 15 | 12.039910 | 1.51413774 |  225 |\n",
       "| 1 |  456 | 0 | 3 | 34 | 12 | 1.0965 | 3.25 | 1920 | 53 | ⋯ |  7300 | 0.7815 |  7 |  7 |  5.0 | 0 |  6 |  6.799996 | 0.09212332 |   36 |\n",
       "| 1 | 1568 | 1 | 2 | 31 | 14 | 4.5918 | 3.60 | 2000 | 32 | ⋯ | 27300 | 0.6215 | 12 | 14 |  9.5 | 1 |  7 | 20.100058 | 1.52427220 |   49 |\n",
       "| 1 | 2032 | 0 | 0 | 54 | 12 | 4.7421 | 4.70 | 1040 | 57 | ⋯ | 19495 | 0.6915 | 14 |  7 |  7.5 | 1 | 33 |  9.859054 | 1.55648005 | 1089 |\n",
       "\n"
      ],
      "text/plain": [
       "  inlf hours kidslt6 kidsge6 age educ wage   repwage hushrs husage ⋯ faminc\n",
       "1 1    1610  1       0       32  12   3.3540 2.65    2708   34     ⋯ 16310 \n",
       "2 1    1656  0       2       30  12   1.3889 2.65    2310   30     ⋯ 21800 \n",
       "3 1    1980  1       3       35  12   4.5455 4.04    3072   40     ⋯ 21040 \n",
       "4 1     456  0       3       34  12   1.0965 3.25    1920   53     ⋯  7300 \n",
       "5 1    1568  1       2       31  14   4.5918 3.60    2000   32     ⋯ 27300 \n",
       "6 1    2032  0       0       54  12   4.7421 4.70    1040   57     ⋯ 19495 \n",
       "  mtr    motheduc fatheduc unem city exper nwifeinc  lwage      expersq\n",
       "1 0.7215 12        7        5.0 0    14    10.910060 1.21015370  196   \n",
       "2 0.6615  7        7       11.0 1     5    19.499981 0.32851210   25   \n",
       "3 0.6915 12        7        5.0 0    15    12.039910 1.51413774  225   \n",
       "4 0.7815  7        7        5.0 0     6     6.799996 0.09212332   36   \n",
       "5 0.6215 12       14        9.5 1     7    20.100058 1.52427220   49   \n",
       "6 0.6915 14        7        7.5 1    33     9.859054 1.55648005 1089   "
      ]
     },
     "metadata": {},
     "output_type": "display_data"
    }
   ],
   "source": [
    "library(haven)\n",
    "library(AER)\n",
    "wagedata<-read_dta(\"MROZ.DTA\")\n",
    "head(wagedata)\n",
    "\n",
    "#drop missing obs\n",
    "wagedata<-subset(wagedata, is.na(wagedata$lwage)==F)"
   ]
  },
  {
   "cell_type": "code",
   "execution_count": 2,
   "metadata": {},
   "outputs": [
    {
     "data": {
      "text/plain": [
       "\n",
       "Call:\n",
       "lm(formula = lwage ~ educ, data = wagedata)\n",
       "\n",
       "Residuals:\n",
       "     Min       1Q   Median       3Q      Max \n",
       "-3.10256 -0.31473  0.06434  0.40081  2.10029 \n",
       "\n",
       "Coefficients:\n",
       "            Estimate Std. Error t value Pr(>|t|)    \n",
       "(Intercept)  -0.1852     0.1852  -1.000    0.318    \n",
       "educ          0.1086     0.0144   7.545 2.76e-13 ***\n",
       "---\n",
       "Signif. codes:  0 ‘***’ 0.001 ‘**’ 0.01 ‘*’ 0.05 ‘.’ 0.1 ‘ ’ 1\n",
       "\n",
       "Residual standard error: 0.68 on 426 degrees of freedom\n",
       "Multiple R-squared:  0.1179,\tAdjusted R-squared:  0.1158 \n",
       "F-statistic: 56.93 on 1 and 426 DF,  p-value: 2.761e-13\n"
      ]
     },
     "metadata": {},
     "output_type": "display_data"
    }
   ],
   "source": [
    "reg1 <-lm(lwage ~ educ, data = wagedata)\n",
    "summary(reg1)"
   ]
  },
  {
   "cell_type": "code",
   "execution_count": 3,
   "metadata": {},
   "outputs": [
    {
     "data": {
      "text/plain": [
       "\n",
       "Call:\n",
       "lm(formula = educ ~ fatheduc, data = wagedata)\n",
       "\n",
       "Residuals:\n",
       "    Min      1Q  Median      3Q     Max \n",
       "-8.4704 -1.1231 -0.1231  0.9546  5.9546 \n",
       "\n",
       "Coefficients:\n",
       "            Estimate Std. Error t value Pr(>|t|)    \n",
       "(Intercept) 10.23705    0.27594  37.099   <2e-16 ***\n",
       "fatheduc     0.26944    0.02859   9.426   <2e-16 ***\n",
       "---\n",
       "Signif. codes:  0 ‘***’ 0.001 ‘**’ 0.01 ‘*’ 0.05 ‘.’ 0.1 ‘ ’ 1\n",
       "\n",
       "Residual standard error: 2.081 on 426 degrees of freedom\n",
       "Multiple R-squared:  0.1726,\tAdjusted R-squared:  0.1706 \n",
       "F-statistic: 88.84 on 1 and 426 DF,  p-value: < 2.2e-16\n"
      ]
     },
     "metadata": {},
     "output_type": "display_data"
    }
   ],
   "source": [
    "reg2<- lm(educ~fatheduc, data = wagedata)\n",
    "summary(reg2)"
   ]
  },
  {
   "cell_type": "code",
   "execution_count": 4,
   "metadata": {},
   "outputs": [
    {
     "data": {
      "text/plain": [
       "\n",
       "Call:\n",
       "ivreg(formula = lwage ~ educ | fatheduc, data = wagedata)\n",
       "\n",
       "Residuals:\n",
       "    Min      1Q  Median      3Q     Max \n",
       "-3.0870 -0.3393  0.0525  0.4042  2.0677 \n",
       "\n",
       "Coefficients:\n",
       "            Estimate Std. Error t value Pr(>|t|)  \n",
       "(Intercept)  0.44110    0.44610   0.989   0.3233  \n",
       "educ         0.05917    0.03514   1.684   0.0929 .\n",
       "---\n",
       "Signif. codes:  0 ‘***’ 0.001 ‘**’ 0.01 ‘*’ 0.05 ‘.’ 0.1 ‘ ’ 1\n",
       "\n",
       "Residual standard error: 0.6894 on 426 degrees of freedom\n",
       "Multiple R-Squared: 0.09344,\tAdjusted R-squared: 0.09131 \n",
       "Wald test: 2.835 on 1 and 426 DF,  p-value: 0.09294 \n"
      ]
     },
     "metadata": {},
     "output_type": "display_data"
    }
   ],
   "source": [
    "#IV regression,\n",
    "reg3<- ivreg(lwage~educ|fatheduc, data = wagedata)\n",
    "summary(reg3)"
   ]
  },
  {
   "cell_type": "code",
   "execution_count": null,
   "metadata": {},
   "outputs": [],
   "source": [
    "#reduced form regression\n",
    "reg4<- lm(lwage~fatheduc, data = wagedata)\n",
    "summary(reg4)"
   ]
  },
  {
   "cell_type": "code",
   "execution_count": 5,
   "metadata": {},
   "outputs": [
    {
     "data": {
      "text/plain": [
       "\n",
       "Call:\n",
       "lm(formula = lwage ~ educhat, data = wagedata)\n",
       "\n",
       "Residuals:\n",
       "    Min      1Q  Median      3Q     Max \n",
       "-3.2126 -0.3763  0.0563  0.4173  2.0604 \n",
       "\n",
       "Coefficients:\n",
       "            Estimate Std. Error t value Pr(>|t|)\n",
       "(Intercept)  0.44110    0.46711   0.944    0.346\n",
       "educhat      0.05917    0.03680   1.608    0.109\n",
       "\n",
       "Residual standard error: 0.7219 on 426 degrees of freedom\n",
       "Multiple R-squared:  0.006034,\tAdjusted R-squared:  0.003701 \n",
       "F-statistic: 2.586 on 1 and 426 DF,  p-value: 0.1086\n"
      ]
     },
     "metadata": {},
     "output_type": "display_data"
    }
   ],
   "source": [
    "#store predicted values\n",
    "wagedata$educhat = reg2$fitted.values\n",
    "#regress outcomes on predicted values\n",
    "reg5<- lm(lwage~educhat, data = wagedata)\n",
    "summary(reg5)"
   ]
  },
  {
   "cell_type": "code",
   "execution_count": 6,
   "metadata": {},
   "outputs": [
    {
     "data": {
      "text/html": [
       "<table>\n",
       "<caption>A tibble: 6 × 17</caption>\n",
       "<thead>\n",
       "\t<tr><th scope=col>wage</th><th scope=col>hours</th><th scope=col>IQ</th><th scope=col>KWW</th><th scope=col>educ</th><th scope=col>exper</th><th scope=col>tenure</th><th scope=col>age</th><th scope=col>married</th><th scope=col>black</th><th scope=col>south</th><th scope=col>urban</th><th scope=col>sibs</th><th scope=col>brthord</th><th scope=col>meduc</th><th scope=col>feduc</th><th scope=col>lwage</th></tr>\n",
       "\t<tr><th scope=col>&lt;dbl&gt;</th><th scope=col>&lt;dbl&gt;</th><th scope=col>&lt;dbl&gt;</th><th scope=col>&lt;dbl&gt;</th><th scope=col>&lt;dbl&gt;</th><th scope=col>&lt;dbl&gt;</th><th scope=col>&lt;dbl&gt;</th><th scope=col>&lt;dbl&gt;</th><th scope=col>&lt;dbl&gt;</th><th scope=col>&lt;dbl&gt;</th><th scope=col>&lt;dbl&gt;</th><th scope=col>&lt;dbl&gt;</th><th scope=col>&lt;dbl&gt;</th><th scope=col>&lt;dbl&gt;</th><th scope=col>&lt;dbl&gt;</th><th scope=col>&lt;dbl&gt;</th><th scope=col>&lt;dbl&gt;</th></tr>\n",
       "</thead>\n",
       "<tbody>\n",
       "\t<tr><td> 769</td><td>40</td><td> 93</td><td>35</td><td>12</td><td>11</td><td> 2</td><td>31</td><td>1</td><td>0</td><td>0</td><td>1</td><td> 1</td><td> 2</td><td> 8</td><td> 8</td><td>6.645091</td></tr>\n",
       "\t<tr><td> 808</td><td>50</td><td>119</td><td>41</td><td>18</td><td>11</td><td>16</td><td>37</td><td>1</td><td>0</td><td>0</td><td>1</td><td> 1</td><td>NA</td><td>14</td><td>14</td><td>6.694562</td></tr>\n",
       "\t<tr><td> 825</td><td>40</td><td>108</td><td>46</td><td>14</td><td>11</td><td> 9</td><td>33</td><td>1</td><td>0</td><td>0</td><td>1</td><td> 1</td><td> 2</td><td>14</td><td>14</td><td>6.715384</td></tr>\n",
       "\t<tr><td> 650</td><td>40</td><td> 96</td><td>32</td><td>12</td><td>13</td><td> 7</td><td>32</td><td>1</td><td>0</td><td>0</td><td>1</td><td> 4</td><td> 3</td><td>12</td><td>12</td><td>6.476973</td></tr>\n",
       "\t<tr><td> 562</td><td>40</td><td> 74</td><td>27</td><td>11</td><td>14</td><td> 5</td><td>34</td><td>1</td><td>0</td><td>0</td><td>1</td><td>10</td><td> 6</td><td> 6</td><td>11</td><td>6.331502</td></tr>\n",
       "\t<tr><td>1400</td><td>40</td><td>116</td><td>43</td><td>16</td><td>14</td><td> 2</td><td>35</td><td>1</td><td>1</td><td>0</td><td>1</td><td> 1</td><td> 2</td><td> 8</td><td>NA</td><td>7.244227</td></tr>\n",
       "</tbody>\n",
       "</table>\n"
      ],
      "text/latex": [
       "A tibble: 6 × 17\n",
       "\\begin{tabular}{lllllllllllllllll}\n",
       " wage & hours & IQ & KWW & educ & exper & tenure & age & married & black & south & urban & sibs & brthord & meduc & feduc & lwage\\\\\n",
       " <dbl> & <dbl> & <dbl> & <dbl> & <dbl> & <dbl> & <dbl> & <dbl> & <dbl> & <dbl> & <dbl> & <dbl> & <dbl> & <dbl> & <dbl> & <dbl> & <dbl>\\\\\n",
       "\\hline\n",
       "\t  769 & 40 &  93 & 35 & 12 & 11 &  2 & 31 & 1 & 0 & 0 & 1 &  1 &  2 &  8 &  8 & 6.645091\\\\\n",
       "\t  808 & 50 & 119 & 41 & 18 & 11 & 16 & 37 & 1 & 0 & 0 & 1 &  1 & NA & 14 & 14 & 6.694562\\\\\n",
       "\t  825 & 40 & 108 & 46 & 14 & 11 &  9 & 33 & 1 & 0 & 0 & 1 &  1 &  2 & 14 & 14 & 6.715384\\\\\n",
       "\t  650 & 40 &  96 & 32 & 12 & 13 &  7 & 32 & 1 & 0 & 0 & 1 &  4 &  3 & 12 & 12 & 6.476973\\\\\n",
       "\t  562 & 40 &  74 & 27 & 11 & 14 &  5 & 34 & 1 & 0 & 0 & 1 & 10 &  6 &  6 & 11 & 6.331502\\\\\n",
       "\t 1400 & 40 & 116 & 43 & 16 & 14 &  2 & 35 & 1 & 1 & 0 & 1 &  1 &  2 &  8 & NA & 7.244227\\\\\n",
       "\\end{tabular}\n"
      ],
      "text/markdown": [
       "\n",
       "A tibble: 6 × 17\n",
       "\n",
       "| wage &lt;dbl&gt; | hours &lt;dbl&gt; | IQ &lt;dbl&gt; | KWW &lt;dbl&gt; | educ &lt;dbl&gt; | exper &lt;dbl&gt; | tenure &lt;dbl&gt; | age &lt;dbl&gt; | married &lt;dbl&gt; | black &lt;dbl&gt; | south &lt;dbl&gt; | urban &lt;dbl&gt; | sibs &lt;dbl&gt; | brthord &lt;dbl&gt; | meduc &lt;dbl&gt; | feduc &lt;dbl&gt; | lwage &lt;dbl&gt; |\n",
       "|---|---|---|---|---|---|---|---|---|---|---|---|---|---|---|---|---|\n",
       "|  769 | 40 |  93 | 35 | 12 | 11 |  2 | 31 | 1 | 0 | 0 | 1 |  1 |  2 |  8 |  8 | 6.645091 |\n",
       "|  808 | 50 | 119 | 41 | 18 | 11 | 16 | 37 | 1 | 0 | 0 | 1 |  1 | NA | 14 | 14 | 6.694562 |\n",
       "|  825 | 40 | 108 | 46 | 14 | 11 |  9 | 33 | 1 | 0 | 0 | 1 |  1 |  2 | 14 | 14 | 6.715384 |\n",
       "|  650 | 40 |  96 | 32 | 12 | 13 |  7 | 32 | 1 | 0 | 0 | 1 |  4 |  3 | 12 | 12 | 6.476973 |\n",
       "|  562 | 40 |  74 | 27 | 11 | 14 |  5 | 34 | 1 | 0 | 0 | 1 | 10 |  6 |  6 | 11 | 6.331502 |\n",
       "| 1400 | 40 | 116 | 43 | 16 | 14 |  2 | 35 | 1 | 1 | 0 | 1 |  1 |  2 |  8 | NA | 7.244227 |\n",
       "\n"
      ],
      "text/plain": [
       "  wage hours IQ  KWW educ exper tenure age married black south urban sibs\n",
       "1  769 40     93 35  12   11     2     31  1       0     0     1      1  \n",
       "2  808 50    119 41  18   11    16     37  1       0     0     1      1  \n",
       "3  825 40    108 46  14   11     9     33  1       0     0     1      1  \n",
       "4  650 40     96 32  12   13     7     32  1       0     0     1      4  \n",
       "5  562 40     74 27  11   14     5     34  1       0     0     1     10  \n",
       "6 1400 40    116 43  16   14     2     35  1       1     0     1      1  \n",
       "  brthord meduc feduc lwage   \n",
       "1  2       8     8    6.645091\n",
       "2 NA      14    14    6.694562\n",
       "3  2      14    14    6.715384\n",
       "4  3      12    12    6.476973\n",
       "5  6       6    11    6.331502\n",
       "6  2       8    NA    7.244227"
      ]
     },
     "metadata": {},
     "output_type": "display_data"
    }
   ],
   "source": [
    "wage2data<-read_dta(\"WAGE2.DTA\")\n",
    "head(wage2data)"
   ]
  },
  {
   "cell_type": "code",
   "execution_count": 7,
   "metadata": {},
   "outputs": [
    {
     "data": {
      "text/plain": [
       "\n",
       "Call:\n",
       "lm(formula = wage ~ IQ, data = wage2data)\n",
       "\n",
       "Residuals:\n",
       "   Min     1Q Median     3Q    Max \n",
       "-898.7 -256.5  -47.3  201.1 2072.6 \n",
       "\n",
       "Coefficients:\n",
       "            Estimate Std. Error t value Pr(>|t|)    \n",
       "(Intercept) 116.9916    85.6415   1.366    0.172    \n",
       "IQ            8.3031     0.8364   9.927   <2e-16 ***\n",
       "---\n",
       "Signif. codes:  0 ‘***’ 0.001 ‘**’ 0.01 ‘*’ 0.05 ‘.’ 0.1 ‘ ’ 1\n",
       "\n",
       "Residual standard error: 384.8 on 933 degrees of freedom\n",
       "Multiple R-squared:  0.09554,\tAdjusted R-squared:  0.09457 \n",
       "F-statistic: 98.55 on 1 and 933 DF,  p-value: < 2.2e-16\n"
      ]
     },
     "metadata": {},
     "output_type": "display_data"
    }
   ],
   "source": [
    "#test correlation between wages and IQ\n",
    "reg6<-lm(wage~IQ, data = wage2data)\n",
    "summary(reg6)"
   ]
  },
  {
   "cell_type": "code",
   "execution_count": 8,
   "metadata": {},
   "outputs": [
    {
     "data": {
      "text/plain": [
       "\n",
       "Call:\n",
       "lm(formula = IQ ~ KWW, data = wage2data)\n",
       "\n",
       "Residuals:\n",
       "    Min      1Q  Median      3Q     Max \n",
       "-48.305  -8.972   0.991   9.324  35.547 \n",
       "\n",
       "Coefficients:\n",
       "            Estimate Std. Error t value Pr(>|t|)    \n",
       "(Intercept) 72.15589    2.14694   33.61   <2e-16 ***\n",
       "KWW          0.81485    0.05874   13.87   <2e-16 ***\n",
       "---\n",
       "Signif. codes:  0 ‘***’ 0.001 ‘**’ 0.01 ‘*’ 0.05 ‘.’ 0.1 ‘ ’ 1\n",
       "\n",
       "Residual standard error: 13.71 on 933 degrees of freedom\n",
       "Multiple R-squared:  0.171,\tAdjusted R-squared:  0.1701 \n",
       "F-statistic: 192.4 on 1 and 933 DF,  p-value: < 2.2e-16\n"
      ]
     },
     "metadata": {},
     "output_type": "display_data"
    }
   ],
   "source": [
    "#examine correlation between IQ scores and KWW\n",
    "reg7 <- lm(IQ~KWW, data = wage2data)\n",
    "summary(reg7)"
   ]
  },
  {
   "cell_type": "code",
   "execution_count": 9,
   "metadata": {},
   "outputs": [
    {
     "data": {
      "text/plain": [
       "\n",
       "Call:\n",
       "ivreg(formula = wage ~ IQ | KWW, data = wage2data)\n",
       "\n",
       "Residuals:\n",
       "     Min       1Q   Median       3Q      Max \n",
       "-1170.55  -275.90   -29.93   259.76  1998.92 \n",
       "\n",
       "Coefficients:\n",
       "             Estimate Std. Error t value Pr(>|t|)    \n",
       "(Intercept) -1187.858    229.865  -5.168  2.9e-07 ***\n",
       "IQ             21.186      2.265   9.353  < 2e-16 ***\n",
       "---\n",
       "Signif. codes:  0 ‘***’ 0.001 ‘**’ 0.01 ‘*’ 0.05 ‘.’ 0.1 ‘ ’ 1\n",
       "\n",
       "Residual standard error: 430.9 on 933 degrees of freedom\n",
       "Multiple R-Squared: -0.1345,\tAdjusted R-squared: -0.1357 \n",
       "Wald test: 87.47 on 1 and 933 DF,  p-value: < 2.2e-16 \n"
      ]
     },
     "metadata": {},
     "output_type": "display_data"
    }
   ],
   "source": [
    "#construct instrumental variables regression\n",
    "reg8<-ivreg(wage~IQ|KWW, data = wage2data)\n",
    "summary(reg8)"
   ]
  },
  {
   "cell_type": "code",
   "execution_count": null,
   "metadata": {},
   "outputs": [],
   "source": [
    "\n",
    "Card_Data <-read_dta(\"CARD.DTA\")\n",
    "head(Card_Data)"
   ]
  },
  {
   "cell_type": "code",
   "execution_count": null,
   "metadata": {},
   "outputs": [],
   "source": [
    "#compare regular and linear regression\n",
    "reg9<-lm(log(wage)~educ + exper + expersq + smsa + south, data = Card_Data)\n",
    "summary(reg9)\n",
    "reg10<-ivreg(log(wage) ~educ + exper + expersq+ smsa + south | nearc4 + exper + expersq + smsa + south , data =Card_Data)\n",
    "summary(reg10)"
   ]
  },
  {
   "cell_type": "code",
   "execution_count": null,
   "metadata": {},
   "outputs": [],
   "source": []
  }
 ],
 "metadata": {
  "kernelspec": {
   "display_name": "R",
   "language": "R",
   "name": "ir"
  },
  "language_info": {
   "codemirror_mode": "r",
   "file_extension": ".r",
   "mimetype": "text/x-r-source",
   "name": "R",
   "pygments_lexer": "r",
   "version": "4.1.1"
  }
 },
 "nbformat": 4,
 "nbformat_minor": 2
}
