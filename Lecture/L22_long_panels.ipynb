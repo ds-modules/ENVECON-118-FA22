{
 "cells": [
  {
   "cell_type": "code",
   "execution_count": null,
   "metadata": {},
   "outputs": [],
   "source": [
    "library(haven)\n",
    "library(tidyverse)\n",
    "options(scipen = 999)"
   ]
  },
  {
   "cell_type": "code",
   "execution_count": null,
   "metadata": {},
   "outputs": [],
   "source": [
    "# Load data on annual crime at county level over time\n",
    "crimedata<- read_dta(\"CRIME4.DTA\")\n",
    "head(crimedata,10)\n",
    "nrow(crimedata)/7"
   ]
  },
  {
   "cell_type": "code",
   "execution_count": null,
   "metadata": {},
   "outputs": [],
   "source": [
    "# Data already set up for first difference estimation\n",
    "head(crimedata[,c(\"lcrmrte\", \"clcrmrte\", \"year\", \"d83\", \"d84\")])\n",
    "colnames(crimedata)"
   ]
  },
  {
   "cell_type": "code",
   "execution_count": null,
   "metadata": {},
   "outputs": [],
   "source": [
    "#does being \"hard on crime\" reduce the crime rate?\n",
    "#run pooled regression in logs\n",
    "reg0 <- lm(lcrmrte ~ lprbarr + lprbconv + lprbpris + lavgsen + lpolpc + \n",
    "           d82 + d83 + d84 + d85 + d86 + d87, data = crimedata)\n",
    "# number of crimes per capita\n",
    "# \"probabilities\" that any crime results in an arrest, \n",
    "    # that arrests result in a conviction, \n",
    "    # and that convictions result in a prison sentence\n",
    "# average prison sentence in days\n",
    "# number of police officers per capita\n",
    "summary(reg0)"
   ]
  },
  {
   "cell_type": "code",
   "execution_count": null,
   "metadata": {},
   "outputs": [],
   "source": [
    "# Interpret coefficient on lprbpris. Does it make sense?\n",
    "# Interpret coefficient on lpolpc. Does it make sense?\n",
    "# Interpret coefficients on year dummies (ref year 1981)"
   ]
  },
  {
   "cell_type": "code",
   "execution_count": null,
   "metadata": {},
   "outputs": [],
   "source": [
    "#run first differenced regression\n",
    "reg1<- lm(clcrmrte~ clprbarr + clprbcon + clprbpri + clavgsen + clpolpc\n",
    "          + d83 + d84 + d85 + d86 + d87, data = crimedata)\n",
    "# Note we leave out d82: the reference change in years is d82-d81\n",
    "summary(reg1)"
   ]
  },
  {
   "cell_type": "code",
   "execution_count": null,
   "metadata": {},
   "outputs": [],
   "source": [
    "# Interpret coefficient on clprbpri. Did it change? Does it make sense?\n",
    "# Interpret coefficient on clpolpc. Did it change? Does it make sense?"
   ]
  },
  {
   "cell_type": "code",
   "execution_count": null,
   "metadata": {},
   "outputs": [],
   "source": [
    "# Back to lecture"
   ]
  },
  {
   "cell_type": "code",
   "execution_count": null,
   "metadata": {},
   "outputs": [],
   "source": [
    "#run fixed effects regression\n",
    "crimedata$county<-as.factor(crimedata$county)\n",
    "reg2<-lm(lcrmrte ~ lprbarr + lprbconv + lprbpris + lavgsen + lpolpc\n",
    "         + d82 + d83 + d84 + d85 + d86 + d87 + county, data = crimedata)\n",
    "summary(reg2)"
   ]
  },
  {
   "cell_type": "code",
   "execution_count": null,
   "metadata": {},
   "outputs": [],
   "source": [
    "# Are the results similar to the FD results?\n",
    "# Interpret the coefficient on d83 (ref category is d81)\n",
    "# Interpet the coefficient on county3 (ref category is county1)"
   ]
  },
  {
   "cell_type": "code",
   "execution_count": null,
   "metadata": {},
   "outputs": [],
   "source": [
    "#run fixed effects regression using felm\n",
    "library(lfe)\n",
    "reg3 <- felm(lcrmrte~ lprbarr + lprbconv + lprbpris + lavgsen + lpolpc \n",
    "             + d82 + d83 + d84 + d85 + d86 + d87|county, data = crimedata)\n",
    "summary(reg3)"
   ]
  },
  {
   "cell_type": "code",
   "execution_count": null,
   "metadata": {},
   "outputs": [],
   "source": [
    "# Back to lecture"
   ]
  },
  {
   "cell_type": "code",
   "execution_count": null,
   "metadata": {},
   "outputs": [],
   "source": [
    "#Compute clustered standard errors using vcovCL - can be used for first differences or fixed effects\n",
    "library(sandwich)\n",
    "#The vcovCL command outputs the variance-covariance matrix from a regression. \n",
    "#The diagonal elements of this matrix are the variances of the beta coefficients.\n",
    "#If we take the square root of these variances we get our standard errors.\n",
    "#vcovCL allows you to estimate clustered standard errors based on regression output\n",
    "#Here we compute SE from the FE estimation clustered at the country level\n",
    "reg2$clus_se <- sqrt(diag(vcovCL(reg2, cluster = crimedata$county)))\n",
    "#cbind will \"bind\" the column of coefficients to the column of clustered standard errors\n",
    "cbind(reg2$coefficients, reg2$clus_se)[1:12,] # don't show the country FE estimates"
   ]
  },
  {
   "cell_type": "code",
   "execution_count": null,
   "metadata": {},
   "outputs": [],
   "source": [
    "# How do these clustered SEs compare to the unadjusted SEs?\n",
    "# What are the implications for inference?"
   ]
  },
  {
   "cell_type": "code",
   "execution_count": null,
   "metadata": {},
   "outputs": [],
   "source": [
    "#compute clustered standard errors in fixed effects regression directly using felm\n",
    "#see ?felm for syntax\n",
    "reg4 <- felm(lcrmrte~ lprbarr + lprbconv + lprbpris + lavgsen + lpolpc \n",
    "             + d83 + d84 + d85 + d86 + d87|county|0|county, data = crimedata)\n",
    "summary(reg4)\n",
    "summary(reg3)"
   ]
  }
 ],
 "metadata": {
  "kernelspec": {
   "display_name": "R",
   "language": "R",
   "name": "ir"
  },
  "language_info": {
   "codemirror_mode": "r",
   "file_extension": ".r",
   "mimetype": "text/x-r-source",
   "name": "R",
   "pygments_lexer": "r",
   "version": "4.1.1"
  }
 },
 "nbformat": 4,
 "nbformat_minor": 2
}
