{
 "cells": [
  {
   "cell_type": "code",
   "execution_count": null,
   "metadata": {},
   "outputs": [],
   "source": [
    "library(haven)\n",
    "options(scipen = 999)"
   ]
  },
  {
   "cell_type": "code",
   "execution_count": null,
   "metadata": {},
   "outputs": [],
   "source": [
    "# RCT\n",
    "jobdata<-read_dta(\"jip_dataset_forclass.dta\")\n",
    "head(jobdata)"
   ]
  },
  {
   "cell_type": "code",
   "execution_count": null,
   "metadata": {},
   "outputs": [],
   "source": [
    "# Make sure categorical variables are recognized as such\n",
    "# In R, that means labeling them as \"factor\" variables\n",
    "jobdata$geo_stata_zone <-as.factor(jobdata$geo_stata_zone) \n",
    "jobdata$trade_strata<- as.factor(jobdata$trade_strata)\n",
    "jobdata$caste<-as.factor(jobdata$caste)"
   ]
  },
  {
   "cell_type": "code",
   "execution_count": null,
   "metadata": {},
   "outputs": [],
   "source": [
    "# Run simple regression on endline survey data\n",
    "reg1<- lm(emp~access + priority, data = jobdata, subset = survey_round==3)\n",
    "summary(reg1)"
   ]
  },
  {
   "cell_type": "code",
   "execution_count": null,
   "metadata": {},
   "outputs": [],
   "source": [
    "# Interpret intercept and coefficient on access"
   ]
  },
  {
   "cell_type": "code",
   "execution_count": null,
   "metadata": {},
   "outputs": [],
   "source": [
    "#add controls\n",
    "reg2<- lm(emp~access + priority + geo_stata_zone + trade_strata + \n",
    "          a_sex + age + educ + caste, data = jobdata, subset = survey_round==3)\n",
    "summary(reg2)"
   ]
  },
  {
   "cell_type": "code",
   "execution_count": null,
   "metadata": {},
   "outputs": [],
   "source": [
    "# Back to lecture"
   ]
  }
 ],
 "metadata": {
  "kernelspec": {
   "display_name": "R",
   "language": "R",
   "name": "ir"
  },
  "language_info": {
   "codemirror_mode": "r",
   "file_extension": ".r",
   "mimetype": "text/x-r-source",
   "name": "R",
   "pygments_lexer": "r",
   "version": "4.1.1"
  }
 },
 "nbformat": 4,
 "nbformat_minor": 2
}
