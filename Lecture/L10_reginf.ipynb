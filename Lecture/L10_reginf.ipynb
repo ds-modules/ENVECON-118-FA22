{
 "cells": [
  {
   "cell_type": "code",
   "execution_count": null,
   "metadata": {},
   "outputs": [],
   "source": [
    "library(haven)\n",
    "wagedata<-read_dta(\"WAGE1.DTA\")\n",
    "reg1<-lm(lwage~educ + exper + tenure, data = wagedata)\n",
    "summary(reg1)\n",
    "# Interpret \\hat{\\beta_2}\n",
    "# What components of the output below will be useful for this hypothesis test?"
   ]
  },
  {
   "cell_type": "code",
   "execution_count": null,
   "metadata": {},
   "outputs": [],
   "source": [
    "meapdata<-read_dta(\"MEAP93.dta\")\n",
    "head(meapdata)"
   ]
  },
  {
   "cell_type": "code",
   "execution_count": null,
   "metadata": {},
   "outputs": [],
   "source": [
    "reg2<-lm(math10~enroll + totcomp + staff, data = meapdata)\n",
    "summary(reg2)\n",
    "# Where is the t value we care about?\n",
    "# How could we construct that t value if it weren't given?"
   ]
  },
  {
   "cell_type": "code",
   "execution_count": null,
   "metadata": {},
   "outputs": [],
   "source": [
    "reg3<-lm(math10~lenroll + ltotcomp + lstaff, data = meapdata)\n",
    "summary(reg3)"
   ]
  },
  {
   "cell_type": "code",
   "execution_count": null,
   "metadata": {},
   "outputs": [],
   "source": [
    "reg4<-lm(math10~enroll + totcomp + staff + lnchprg, data = meapdata)\n",
    "summary(reg2)\n",
    "summary(reg4)"
   ]
  }
 ],
 "metadata": {
  "kernelspec": {
   "display_name": "R",
   "language": "R",
   "name": "ir"
  },
  "language_info": {
   "codemirror_mode": "r",
   "file_extension": ".r",
   "mimetype": "text/x-r-source",
   "name": "R",
   "pygments_lexer": "r",
   "version": "4.1.1"
  }
 },
 "nbformat": 4,
 "nbformat_minor": 5
}
