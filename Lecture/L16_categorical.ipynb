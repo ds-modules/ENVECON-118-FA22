{
 "cells": [
  {
   "cell_type": "code",
   "execution_count": null,
   "metadata": {},
   "outputs": [],
   "source": [
    "library(haven)\n",
    "options(scipen = 5)"
   ]
  },
  {
   "cell_type": "code",
   "execution_count": null,
   "metadata": {},
   "outputs": [],
   "source": [
    "# load wages data\n",
    "wagedata<- read_dta(\"WAGE1.DTA\")"
   ]
  },
  {
   "cell_type": "code",
   "execution_count": null,
   "metadata": {},
   "outputs": [],
   "source": [
    "# 1) interaction model\n",
    "reg8<-lm(wage~educ+exper + tenure+ married*female, data = wagedata)\n",
    "summary(reg8)"
   ]
  },
  {
   "cell_type": "code",
   "execution_count": null,
   "metadata": {},
   "outputs": [],
   "source": [
    "# 2) combined categorical model\n",
    "wagedata$marrmale=as.numeric(wagedata$female==0 & wagedata$married==1)\n",
    "wagedata$singmale=as.numeric(wagedata$female==0 & wagedata$married==0)\n",
    "wagedata$marrfem=as.numeric(wagedata$female==1 & wagedata$married==1)\n",
    "wagedata$singfem=as.numeric(wagedata$female==1 & wagedata$married==0)\n",
    "reg9<-lm(wage~educ+exper + tenure+ marrmale +singfem+marrfem, data = wagedata)\n",
    "summary(reg9)"
   ]
  },
  {
   "cell_type": "code",
   "execution_count": null,
   "metadata": {},
   "outputs": [],
   "source": [
    "# Hypothesis tests\n",
    "library(car)\n",
    "# Does the impact of marital status differ for women?\n",
    "linearHypothesis(reg8, \"married:female=0\")\n",
    "linearHypothesis(reg9, \"marrfem-singfem =marrmale \")\n",
    "# Does sex matter?\n",
    "linearHypothesis(reg8, c(\"female = 0\",\"married:female=0\"))\n",
    "linearHypothesis(reg9, c(\"singfem = 0\",\"marrfem-marrmale=0\"))"
   ]
  },
  {
   "cell_type": "code",
   "execution_count": null,
   "metadata": {},
   "outputs": [],
   "source": [
    "# Back to lecture"
   ]
  },
  {
   "cell_type": "code",
   "execution_count": null,
   "metadata": {},
   "outputs": [],
   "source": [
    "#run controlled regression\n",
    "reg1<-lm(lwage~female + educ + exper + tenure, data = wagedata)\n",
    "summary(reg1)"
   ]
  },
  {
   "cell_type": "code",
   "execution_count": null,
   "metadata": {},
   "outputs": [],
   "source": [
    "#add controls\n",
    "reg2<-lm(lwage~female + educ + exper + tenure + profocc + services, data = wagedata)\n",
    "summary(reg2)"
   ]
  },
  {
   "cell_type": "code",
   "execution_count": null,
   "metadata": {},
   "outputs": [],
   "source": [
    "# Back to lecture"
   ]
  },
  {
   "cell_type": "code",
   "execution_count": null,
   "metadata": {},
   "outputs": [],
   "source": [
    "#marriage premium\n",
    "reg3<-lm(lwage~ educ + exper + tenure + female*married , data = wagedata)\n",
    "summary(reg3)"
   ]
  },
  {
   "cell_type": "code",
   "execution_count": null,
   "metadata": {},
   "outputs": [],
   "source": [
    "# Back to lecture"
   ]
  },
  {
   "cell_type": "code",
   "execution_count": null,
   "metadata": {},
   "outputs": [],
   "source": [
    "#returns to education\n",
    "reg4<-lm(lwage~female*educ, data = wagedata)\n",
    "summary(reg4)"
   ]
  },
  {
   "cell_type": "code",
   "execution_count": null,
   "metadata": {},
   "outputs": [],
   "source": [
    "# How to interpret?\n",
    "# Back to lecture"
   ]
  },
  {
   "cell_type": "code",
   "execution_count": null,
   "metadata": {},
   "outputs": [],
   "source": [
    "#restricted regression\n",
    "regr<- lm(lwage~ educ + exper + tenure, data = wagedata)\n",
    "summary(regr)\n",
    "#calculate sum of squared residuals\n",
    "SSR_P <- sum(regr$residuals^2)\n",
    "SSR_P\n",
    "#calculate n\n",
    "n_all <- nobs(regr)\n",
    "n_all"
   ]
  },
  {
   "cell_type": "code",
   "execution_count": null,
   "metadata": {},
   "outputs": [],
   "source": [
    "# Regression with interactions\n",
    "regint <- lm(lwage~educ*female + exper*female + tenure*female, data = wagedata)\n",
    "summary(regint)\n",
    "ssr_interu<-sum(regint$residuals^2)\n",
    "ssr_interu"
   ]
  },
  {
   "cell_type": "code",
   "execution_count": null,
   "metadata": {},
   "outputs": [],
   "source": [
    "#F test on interaction terms\n",
    "Finter <- ((SSR_P-ssr_interu)/4)/((ssr_interu)/(n_all-8))\n",
    "Finter # F-stat\n",
    "pf(Finter, 4, n_all-8, lower.tail = FALSE) # p-value"
   ]
  },
  {
   "cell_type": "code",
   "execution_count": null,
   "metadata": {},
   "outputs": [],
   "source": [
    "#Female-only regression\n",
    "regf<-lm(lwage~ educ + exper + tenure, data = wagedata, subset = (female==1))\n",
    "SSR_F <- sum(regf$residuals^2)\n",
    "SSR_F\n",
    "#Not Female-only regression\n",
    "regnf<-lm(lwage~ educ + exper + tenure, data = wagedata, subset = (female==0))\n",
    "SSR_NF <- sum(regnf$residuals^2)\n",
    "SSR_NF"
   ]
  },
  {
   "cell_type": "code",
   "execution_count": null,
   "metadata": {},
   "outputs": [],
   "source": [
    "#Calculate F-statistic for Chow test\n",
    "Chow<-((SSR_P-(SSR_F + SSR_NF))/(3+1))/((SSR_F + SSR_NF)/(n_all-2*(3+1)))\n",
    "Chow # F-stat\n",
    "pf(Finter, 4, n_all-2*(3+1), lower.tail = FALSE) # p-value"
   ]
  }
 ],
 "metadata": {
  "kernelspec": {
   "display_name": "R",
   "language": "R",
   "name": "ir"
  },
  "language_info": {
   "codemirror_mode": "r",
   "file_extension": ".r",
   "mimetype": "text/x-r-source",
   "name": "R",
   "pygments_lexer": "r",
   "version": "4.1.1"
  }
 },
 "nbformat": 4,
 "nbformat_minor": 2
}
