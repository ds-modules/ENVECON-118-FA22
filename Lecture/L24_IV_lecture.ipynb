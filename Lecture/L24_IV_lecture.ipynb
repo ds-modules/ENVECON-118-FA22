{
 "cells": [
  {
   "cell_type": "code",
   "execution_count": 1,
   "metadata": {},
   "outputs": [
    {
     "name": "stderr",
     "output_type": "stream",
     "text": [
      "Loading required package: car\n",
      "Loading required package: lmtest\n",
      "Loading required package: zoo\n",
      "\n",
      "Attaching package: ‘zoo’\n",
      "\n",
      "The following objects are masked from ‘package:base’:\n",
      "\n",
      "    as.Date, as.Date.numeric\n",
      "\n",
      "Loading required package: sandwich\n",
      "Loading required package: survival\n"
     ]
    },
    {
     "data": {
      "text/html": [
       "<table>\n",
       "<caption>A tibble: 6 × 22</caption>\n",
       "<thead>\n",
       "\t<tr><th scope=col>inlf</th><th scope=col>hours</th><th scope=col>kidslt6</th><th scope=col>kidsge6</th><th scope=col>age</th><th scope=col>educ</th><th scope=col>wage</th><th scope=col>repwage</th><th scope=col>hushrs</th><th scope=col>husage</th><th scope=col>⋯</th><th scope=col>faminc</th><th scope=col>mtr</th><th scope=col>motheduc</th><th scope=col>fatheduc</th><th scope=col>unem</th><th scope=col>city</th><th scope=col>exper</th><th scope=col>nwifeinc</th><th scope=col>lwage</th><th scope=col>expersq</th></tr>\n",
       "\t<tr><th scope=col>&lt;dbl&gt;</th><th scope=col>&lt;dbl&gt;</th><th scope=col>&lt;dbl&gt;</th><th scope=col>&lt;dbl&gt;</th><th scope=col>&lt;dbl&gt;</th><th scope=col>&lt;dbl&gt;</th><th scope=col>&lt;dbl&gt;</th><th scope=col>&lt;dbl&gt;</th><th scope=col>&lt;dbl&gt;</th><th scope=col>&lt;dbl&gt;</th><th scope=col>⋯</th><th scope=col>&lt;dbl&gt;</th><th scope=col>&lt;dbl&gt;</th><th scope=col>&lt;dbl&gt;</th><th scope=col>&lt;dbl&gt;</th><th scope=col>&lt;dbl&gt;</th><th scope=col>&lt;dbl&gt;</th><th scope=col>&lt;dbl&gt;</th><th scope=col>&lt;dbl&gt;</th><th scope=col>&lt;dbl&gt;</th><th scope=col>&lt;dbl&gt;</th></tr>\n",
       "</thead>\n",
       "<tbody>\n",
       "\t<tr><td>1</td><td>1610</td><td>1</td><td>0</td><td>32</td><td>12</td><td>3.3540</td><td>2.65</td><td>2708</td><td>34</td><td>⋯</td><td>16310</td><td>0.7215</td><td>12</td><td> 7</td><td> 5.0</td><td>0</td><td>14</td><td>10.910060</td><td>1.21015370</td><td> 196</td></tr>\n",
       "\t<tr><td>1</td><td>1656</td><td>0</td><td>2</td><td>30</td><td>12</td><td>1.3889</td><td>2.65</td><td>2310</td><td>30</td><td>⋯</td><td>21800</td><td>0.6615</td><td> 7</td><td> 7</td><td>11.0</td><td>1</td><td> 5</td><td>19.499981</td><td>0.32851210</td><td>  25</td></tr>\n",
       "\t<tr><td>1</td><td>1980</td><td>1</td><td>3</td><td>35</td><td>12</td><td>4.5455</td><td>4.04</td><td>3072</td><td>40</td><td>⋯</td><td>21040</td><td>0.6915</td><td>12</td><td> 7</td><td> 5.0</td><td>0</td><td>15</td><td>12.039910</td><td>1.51413774</td><td> 225</td></tr>\n",
       "\t<tr><td>1</td><td> 456</td><td>0</td><td>3</td><td>34</td><td>12</td><td>1.0965</td><td>3.25</td><td>1920</td><td>53</td><td>⋯</td><td> 7300</td><td>0.7815</td><td> 7</td><td> 7</td><td> 5.0</td><td>0</td><td> 6</td><td> 6.799996</td><td>0.09212332</td><td>  36</td></tr>\n",
       "\t<tr><td>1</td><td>1568</td><td>1</td><td>2</td><td>31</td><td>14</td><td>4.5918</td><td>3.60</td><td>2000</td><td>32</td><td>⋯</td><td>27300</td><td>0.6215</td><td>12</td><td>14</td><td> 9.5</td><td>1</td><td> 7</td><td>20.100058</td><td>1.52427220</td><td>  49</td></tr>\n",
       "\t<tr><td>1</td><td>2032</td><td>0</td><td>0</td><td>54</td><td>12</td><td>4.7421</td><td>4.70</td><td>1040</td><td>57</td><td>⋯</td><td>19495</td><td>0.6915</td><td>14</td><td> 7</td><td> 7.5</td><td>1</td><td>33</td><td> 9.859054</td><td>1.55648005</td><td>1089</td></tr>\n",
       "</tbody>\n",
       "</table>\n"
      ],
      "text/latex": [
       "A tibble: 6 × 22\n",
       "\\begin{tabular}{r|llllllllllllllllllllll}\n",
       " inlf & hours & kidslt6 & kidsge6 & age & educ & wage & repwage & hushrs & husage & huseduc & huswage & faminc & mtr & motheduc & fatheduc & unem & city & exper & nwifeinc & lwage & expersq\\\\\n",
       " <dbl> & <dbl> & <dbl> & <dbl> & <dbl> & <dbl> & <dbl> & <dbl> & <dbl> & <dbl> & <dbl> & <dbl> & <dbl> & <dbl> & <dbl> & <dbl> & <dbl> & <dbl> & <dbl> & <dbl> & <dbl> & <dbl>\\\\\n",
       "\\hline\n",
       "\t 1 & 1610 & 1 & 0 & 32 & 12 & 3.3540 & 2.65 & 2708 & 34 & 12 &  4.0288 & 16310 & 0.7215 & 12 &  7 &  5.0 & 0 & 14 & 10.910060 & 1.21015370 &  196\\\\\n",
       "\t 1 & 1656 & 0 & 2 & 30 & 12 & 1.3889 & 2.65 & 2310 & 30 &  9 &  8.4416 & 21800 & 0.6615 &  7 &  7 & 11.0 & 1 &  5 & 19.499981 & 0.32851210 &   25\\\\\n",
       "\t 1 & 1980 & 1 & 3 & 35 & 12 & 4.5455 & 4.04 & 3072 & 40 & 12 &  3.5807 & 21040 & 0.6915 & 12 &  7 &  5.0 & 0 & 15 & 12.039910 & 1.51413774 &  225\\\\\n",
       "\t 1 &  456 & 0 & 3 & 34 & 12 & 1.0965 & 3.25 & 1920 & 53 & 10 &  3.5417 &  7300 & 0.7815 &  7 &  7 &  5.0 & 0 &  6 &  6.799996 & 0.09212332 &   36\\\\\n",
       "\t 1 & 1568 & 1 & 2 & 31 & 14 & 4.5918 & 3.60 & 2000 & 32 & 12 & 10.0000 & 27300 & 0.6215 & 12 & 14 &  9.5 & 1 &  7 & 20.100058 & 1.52427220 &   49\\\\\n",
       "\t 1 & 2032 & 0 & 0 & 54 & 12 & 4.7421 & 4.70 & 1040 & 57 & 11 &  6.7106 & 19495 & 0.6915 & 14 &  7 &  7.5 & 1 & 33 &  9.859054 & 1.55648005 & 1089\\\\\n",
       "\\end{tabular}\n"
      ],
      "text/markdown": [
       "\n",
       "A tibble: 6 × 22\n",
       "\n",
       "| inlf &lt;dbl&gt; | hours &lt;dbl&gt; | kidslt6 &lt;dbl&gt; | kidsge6 &lt;dbl&gt; | age &lt;dbl&gt; | educ &lt;dbl&gt; | wage &lt;dbl&gt; | repwage &lt;dbl&gt; | hushrs &lt;dbl&gt; | husage &lt;dbl&gt; | ⋯ ⋯ | faminc &lt;dbl&gt; | mtr &lt;dbl&gt; | motheduc &lt;dbl&gt; | fatheduc &lt;dbl&gt; | unem &lt;dbl&gt; | city &lt;dbl&gt; | exper &lt;dbl&gt; | nwifeinc &lt;dbl&gt; | lwage &lt;dbl&gt; | expersq &lt;dbl&gt; |\n",
       "|---|---|---|---|---|---|---|---|---|---|---|---|---|---|---|---|---|---|---|---|---|\n",
       "| 1 | 1610 | 1 | 0 | 32 | 12 | 3.3540 | 2.65 | 2708 | 34 | ⋯ | 16310 | 0.7215 | 12 |  7 |  5.0 | 0 | 14 | 10.910060 | 1.21015370 |  196 |\n",
       "| 1 | 1656 | 0 | 2 | 30 | 12 | 1.3889 | 2.65 | 2310 | 30 | ⋯ | 21800 | 0.6615 |  7 |  7 | 11.0 | 1 |  5 | 19.499981 | 0.32851210 |   25 |\n",
       "| 1 | 1980 | 1 | 3 | 35 | 12 | 4.5455 | 4.04 | 3072 | 40 | ⋯ | 21040 | 0.6915 | 12 |  7 |  5.0 | 0 | 15 | 12.039910 | 1.51413774 |  225 |\n",
       "| 1 |  456 | 0 | 3 | 34 | 12 | 1.0965 | 3.25 | 1920 | 53 | ⋯ |  7300 | 0.7815 |  7 |  7 |  5.0 | 0 |  6 |  6.799996 | 0.09212332 |   36 |\n",
       "| 1 | 1568 | 1 | 2 | 31 | 14 | 4.5918 | 3.60 | 2000 | 32 | ⋯ | 27300 | 0.6215 | 12 | 14 |  9.5 | 1 |  7 | 20.100058 | 1.52427220 |   49 |\n",
       "| 1 | 2032 | 0 | 0 | 54 | 12 | 4.7421 | 4.70 | 1040 | 57 | ⋯ | 19495 | 0.6915 | 14 |  7 |  7.5 | 1 | 33 |  9.859054 | 1.55648005 | 1089 |\n",
       "\n"
      ],
      "text/plain": [
       "  inlf hours kidslt6 kidsge6 age educ wage   repwage hushrs husage ⋯ faminc\n",
       "1 1    1610  1       0       32  12   3.3540 2.65    2708   34     ⋯ 16310 \n",
       "2 1    1656  0       2       30  12   1.3889 2.65    2310   30     ⋯ 21800 \n",
       "3 1    1980  1       3       35  12   4.5455 4.04    3072   40     ⋯ 21040 \n",
       "4 1     456  0       3       34  12   1.0965 3.25    1920   53     ⋯  7300 \n",
       "5 1    1568  1       2       31  14   4.5918 3.60    2000   32     ⋯ 27300 \n",
       "6 1    2032  0       0       54  12   4.7421 4.70    1040   57     ⋯ 19495 \n",
       "  mtr    motheduc fatheduc unem city exper nwifeinc  lwage      expersq\n",
       "1 0.7215 12        7        5.0 0    14    10.910060 1.21015370  196   \n",
       "2 0.6615  7        7       11.0 1     5    19.499981 0.32851210   25   \n",
       "3 0.6915 12        7        5.0 0    15    12.039910 1.51413774  225   \n",
       "4 0.7815  7        7        5.0 0     6     6.799996 0.09212332   36   \n",
       "5 0.6215 12       14        9.5 1     7    20.100058 1.52427220   49   \n",
       "6 0.6915 14        7        7.5 1    33     9.859054 1.55648005 1089   "
      ]
     },
     "metadata": {},
     "output_type": "display_data"
    }
   ],
   "source": [
    "library(haven)\n",
    "library(AER)\n",
    "wagedata<-read_dta(\"MROZ.DTA\")\n",
    "head(wagedata)\n",
    "\n",
    "#drop missing obs\n",
    "wagedata<-subset(wagedata, is.na(wagedata$lwage)==F)"
   ]
  },
  {
   "cell_type": "code",
   "execution_count": null,
   "metadata": {},
   "outputs": [],
   "source": [
    "reg1 <-lm(lwage ~ educ, data = wagedata)\n",
    "summary(reg1)"
   ]
  },
  {
   "cell_type": "code",
   "execution_count": null,
   "metadata": {},
   "outputs": [],
   "source": [
    "reg2<- lm(educ~fatheduc, data = wagedata)\n",
    "summary(reg2)"
   ]
  },
  {
   "cell_type": "code",
   "execution_count": null,
   "metadata": {},
   "outputs": [],
   "source": [
    "#IV regression,\n",
    "reg3<- ivreg(lwage~educ|fatheduc, data = wagedata)\n",
    "summary(reg3)"
   ]
  },
  {
   "cell_type": "code",
   "execution_count": null,
   "metadata": {},
   "outputs": [],
   "source": [
    "#reduced form regression\n",
    "reg4<- lm(lwage~fatheduc, data = wagedata)\n",
    "summary(reg4)"
   ]
  },
  {
   "cell_type": "code",
   "execution_count": null,
   "metadata": {},
   "outputs": [],
   "source": [
    "#store predicted values\n",
    "wagedata$educhat = reg2$fitted.values\n",
    "#regress outcomes on predicted values\n",
    "reg5<- lm(lwage~educhat, data = wagedata)\n",
    "summary(reg5)"
   ]
  },
  {
   "cell_type": "code",
   "execution_count": null,
   "metadata": {},
   "outputs": [],
   "source": [
    "wage2data<-read_dta(\"WAGE2.DTA\")\n",
    "head(wage2data)"
   ]
  },
  {
   "cell_type": "code",
   "execution_count": null,
   "metadata": {},
   "outputs": [],
   "source": [
    "#test correlation between wages and IQ\n",
    "reg6<-lm(wage~IQ, data = wage2data)\n",
    "summary(reg6)"
   ]
  },
  {
   "cell_type": "code",
   "execution_count": null,
   "metadata": {},
   "outputs": [],
   "source": [
    "#examine correlation between IQ scores and KWW\n",
    "reg7 <- lm(IQ~KWW, data = wage2data)\n",
    "summary(reg7)"
   ]
  },
  {
   "cell_type": "code",
   "execution_count": null,
   "metadata": {},
   "outputs": [],
   "source": [
    "#construct instrumental variables regression\n",
    "reg8<-ivreg(wage~IQ|KWW, data = wage2data)\n",
    "summary(reg8)"
   ]
  },
  {
   "cell_type": "code",
   "execution_count": 2,
   "metadata": {},
   "outputs": [
    {
     "data": {
      "text/html": [
       "<table>\n",
       "<caption>A tibble: 6 × 34</caption>\n",
       "<thead>\n",
       "\t<tr><th scope=col>id</th><th scope=col>nearc2</th><th scope=col>nearc4</th><th scope=col>educ</th><th scope=col>age</th><th scope=col>fatheduc</th><th scope=col>motheduc</th><th scope=col>weight</th><th scope=col>momdad14</th><th scope=col>sinmom14</th><th scope=col>⋯</th><th scope=col>smsa66</th><th scope=col>wage</th><th scope=col>enroll</th><th scope=col>KWW</th><th scope=col>IQ</th><th scope=col>married</th><th scope=col>libcrd14</th><th scope=col>exper</th><th scope=col>lwage</th><th scope=col>expersq</th></tr>\n",
       "\t<tr><th scope=col>&lt;dbl&gt;</th><th scope=col>&lt;dbl&gt;</th><th scope=col>&lt;dbl&gt;</th><th scope=col>&lt;dbl&gt;</th><th scope=col>&lt;dbl&gt;</th><th scope=col>&lt;dbl&gt;</th><th scope=col>&lt;dbl&gt;</th><th scope=col>&lt;dbl&gt;</th><th scope=col>&lt;dbl&gt;</th><th scope=col>&lt;dbl&gt;</th><th scope=col>⋯</th><th scope=col>&lt;dbl&gt;</th><th scope=col>&lt;dbl&gt;</th><th scope=col>&lt;dbl&gt;</th><th scope=col>&lt;dbl&gt;</th><th scope=col>&lt;dbl&gt;</th><th scope=col>&lt;dbl&gt;</th><th scope=col>&lt;dbl&gt;</th><th scope=col>&lt;dbl&gt;</th><th scope=col>&lt;dbl&gt;</th><th scope=col>&lt;dbl&gt;</th></tr>\n",
       "</thead>\n",
       "<tbody>\n",
       "\t<tr><td>2</td><td>0</td><td>0</td><td> 7</td><td>29</td><td>NA</td><td>NA</td><td>158413</td><td>1</td><td>0</td><td>⋯</td><td>1</td><td>548</td><td>0</td><td>15</td><td> NA</td><td>1</td><td>0</td><td>16</td><td>6.306275</td><td>256</td></tr>\n",
       "\t<tr><td>3</td><td>0</td><td>0</td><td>12</td><td>27</td><td> 8</td><td> 8</td><td>380166</td><td>1</td><td>0</td><td>⋯</td><td>1</td><td>481</td><td>0</td><td>35</td><td> 93</td><td>1</td><td>1</td><td> 9</td><td>6.175867</td><td> 81</td></tr>\n",
       "\t<tr><td>4</td><td>0</td><td>0</td><td>12</td><td>34</td><td>14</td><td>12</td><td>367470</td><td>1</td><td>0</td><td>⋯</td><td>1</td><td>721</td><td>0</td><td>42</td><td>103</td><td>1</td><td>1</td><td>16</td><td>6.580639</td><td>256</td></tr>\n",
       "\t<tr><td>5</td><td>1</td><td>1</td><td>11</td><td>27</td><td>11</td><td>12</td><td>380166</td><td>1</td><td>0</td><td>⋯</td><td>1</td><td>250</td><td>0</td><td>25</td><td> 88</td><td>1</td><td>1</td><td>10</td><td>5.521461</td><td>100</td></tr>\n",
       "\t<tr><td>6</td><td>1</td><td>1</td><td>12</td><td>34</td><td> 8</td><td> 7</td><td>367470</td><td>1</td><td>0</td><td>⋯</td><td>1</td><td>729</td><td>0</td><td>34</td><td>108</td><td>1</td><td>0</td><td>16</td><td>6.591674</td><td>256</td></tr>\n",
       "\t<tr><td>7</td><td>1</td><td>1</td><td>12</td><td>26</td><td> 9</td><td>12</td><td>380166</td><td>1</td><td>0</td><td>⋯</td><td>1</td><td>500</td><td>0</td><td>38</td><td> 85</td><td>1</td><td>1</td><td> 8</td><td>6.214608</td><td> 64</td></tr>\n",
       "</tbody>\n",
       "</table>\n"
      ],
      "text/latex": [
       "A tibble: 6 × 34\n",
       "\\begin{tabular}{r|llllllllllllllllllllllllllllllllll}\n",
       " id & nearc2 & nearc4 & educ & age & fatheduc & motheduc & weight & momdad14 & sinmom14 & step14 & reg661 & reg662 & reg663 & reg664 & reg665 & reg666 & reg667 & reg668 & reg669 & south66 & black & smsa & south & smsa66 & wage & enroll & KWW & IQ & married & libcrd14 & exper & lwage & expersq\\\\\n",
       " <dbl> & <dbl> & <dbl> & <dbl> & <dbl> & <dbl> & <dbl> & <dbl> & <dbl> & <dbl> & <dbl> & <dbl> & <dbl> & <dbl> & <dbl> & <dbl> & <dbl> & <dbl> & <dbl> & <dbl> & <dbl> & <dbl> & <dbl> & <dbl> & <dbl> & <dbl> & <dbl> & <dbl> & <dbl> & <dbl> & <dbl> & <dbl> & <dbl> & <dbl>\\\\\n",
       "\\hline\n",
       "\t 2 & 0 & 0 &  7 & 29 & NA & NA & 158413 & 1 & 0 & 0 & 1 & 0 & 0 & 0 & 0 & 0 & 0 & 0 & 0 & 0 & 1 & 1 & 0 & 1 & 548 & 0 & 15 &  NA & 1 & 0 & 16 & 6.306275 & 256\\\\\n",
       "\t 3 & 0 & 0 & 12 & 27 &  8 &  8 & 380166 & 1 & 0 & 0 & 1 & 0 & 0 & 0 & 0 & 0 & 0 & 0 & 0 & 0 & 0 & 1 & 0 & 1 & 481 & 0 & 35 &  93 & 1 & 1 &  9 & 6.175867 &  81\\\\\n",
       "\t 4 & 0 & 0 & 12 & 34 & 14 & 12 & 367470 & 1 & 0 & 0 & 1 & 0 & 0 & 0 & 0 & 0 & 0 & 0 & 0 & 0 & 0 & 1 & 0 & 1 & 721 & 0 & 42 & 103 & 1 & 1 & 16 & 6.580639 & 256\\\\\n",
       "\t 5 & 1 & 1 & 11 & 27 & 11 & 12 & 380166 & 1 & 0 & 0 & 0 & 1 & 0 & 0 & 0 & 0 & 0 & 0 & 0 & 0 & 0 & 1 & 0 & 1 & 250 & 0 & 25 &  88 & 1 & 1 & 10 & 5.521461 & 100\\\\\n",
       "\t 6 & 1 & 1 & 12 & 34 &  8 &  7 & 367470 & 1 & 0 & 0 & 0 & 1 & 0 & 0 & 0 & 0 & 0 & 0 & 0 & 0 & 0 & 1 & 0 & 1 & 729 & 0 & 34 & 108 & 1 & 0 & 16 & 6.591674 & 256\\\\\n",
       "\t 7 & 1 & 1 & 12 & 26 &  9 & 12 & 380166 & 1 & 0 & 0 & 0 & 1 & 0 & 0 & 0 & 0 & 0 & 0 & 0 & 0 & 0 & 1 & 0 & 1 & 500 & 0 & 38 &  85 & 1 & 1 &  8 & 6.214608 &  64\\\\\n",
       "\\end{tabular}\n"
      ],
      "text/markdown": [
       "\n",
       "A tibble: 6 × 34\n",
       "\n",
       "| id &lt;dbl&gt; | nearc2 &lt;dbl&gt; | nearc4 &lt;dbl&gt; | educ &lt;dbl&gt; | age &lt;dbl&gt; | fatheduc &lt;dbl&gt; | motheduc &lt;dbl&gt; | weight &lt;dbl&gt; | momdad14 &lt;dbl&gt; | sinmom14 &lt;dbl&gt; | ⋯ ⋯ | smsa66 &lt;dbl&gt; | wage &lt;dbl&gt; | enroll &lt;dbl&gt; | KWW &lt;dbl&gt; | IQ &lt;dbl&gt; | married &lt;dbl&gt; | libcrd14 &lt;dbl&gt; | exper &lt;dbl&gt; | lwage &lt;dbl&gt; | expersq &lt;dbl&gt; |\n",
       "|---|---|---|---|---|---|---|---|---|---|---|---|---|---|---|---|---|---|---|---|---|\n",
       "| 2 | 0 | 0 |  7 | 29 | NA | NA | 158413 | 1 | 0 | ⋯ | 1 | 548 | 0 | 15 |  NA | 1 | 0 | 16 | 6.306275 | 256 |\n",
       "| 3 | 0 | 0 | 12 | 27 |  8 |  8 | 380166 | 1 | 0 | ⋯ | 1 | 481 | 0 | 35 |  93 | 1 | 1 |  9 | 6.175867 |  81 |\n",
       "| 4 | 0 | 0 | 12 | 34 | 14 | 12 | 367470 | 1 | 0 | ⋯ | 1 | 721 | 0 | 42 | 103 | 1 | 1 | 16 | 6.580639 | 256 |\n",
       "| 5 | 1 | 1 | 11 | 27 | 11 | 12 | 380166 | 1 | 0 | ⋯ | 1 | 250 | 0 | 25 |  88 | 1 | 1 | 10 | 5.521461 | 100 |\n",
       "| 6 | 1 | 1 | 12 | 34 |  8 |  7 | 367470 | 1 | 0 | ⋯ | 1 | 729 | 0 | 34 | 108 | 1 | 0 | 16 | 6.591674 | 256 |\n",
       "| 7 | 1 | 1 | 12 | 26 |  9 | 12 | 380166 | 1 | 0 | ⋯ | 1 | 500 | 0 | 38 |  85 | 1 | 1 |  8 | 6.214608 |  64 |\n",
       "\n"
      ],
      "text/plain": [
       "  id nearc2 nearc4 educ age fatheduc motheduc weight momdad14 sinmom14 ⋯ smsa66\n",
       "1 2  0      0       7   29  NA       NA       158413 1        0        ⋯ 1     \n",
       "2 3  0      0      12   27   8        8       380166 1        0        ⋯ 1     \n",
       "3 4  0      0      12   34  14       12       367470 1        0        ⋯ 1     \n",
       "4 5  1      1      11   27  11       12       380166 1        0        ⋯ 1     \n",
       "5 6  1      1      12   34   8        7       367470 1        0        ⋯ 1     \n",
       "6 7  1      1      12   26   9       12       380166 1        0        ⋯ 1     \n",
       "  wage enroll KWW IQ  married libcrd14 exper lwage    expersq\n",
       "1 548  0      15   NA 1       0        16    6.306275 256    \n",
       "2 481  0      35   93 1       1         9    6.175867  81    \n",
       "3 721  0      42  103 1       1        16    6.580639 256    \n",
       "4 250  0      25   88 1       1        10    5.521461 100    \n",
       "5 729  0      34  108 1       0        16    6.591674 256    \n",
       "6 500  0      38   85 1       1         8    6.214608  64    "
      ]
     },
     "metadata": {},
     "output_type": "display_data"
    }
   ],
   "source": [
    "\n",
    "Card_Data <-read_dta(\"CARD.DTA\")\n",
    "head(Card_Data)"
   ]
  },
  {
   "cell_type": "code",
   "execution_count": 3,
   "metadata": {},
   "outputs": [
    {
     "data": {
      "text/plain": [
       "\n",
       "Call:\n",
       "lm(formula = log(wage) ~ educ + exper + expersq + smsa + south, \n",
       "    data = Card_Data)\n",
       "\n",
       "Residuals:\n",
       "     Min       1Q   Median       3Q      Max \n",
       "-1.71487 -0.22987  0.02268  0.24898  1.38552 \n",
       "\n",
       "Coefficients:\n",
       "              Estimate Std. Error t value Pr(>|t|)    \n",
       "(Intercept)  4.6110144  0.0678950  67.914  < 2e-16 ***\n",
       "educ         0.0815797  0.0034990  23.315  < 2e-16 ***\n",
       "exper        0.0838357  0.0067735  12.377  < 2e-16 ***\n",
       "expersq     -0.0022021  0.0003238  -6.800 1.26e-11 ***\n",
       "smsa         0.1508006  0.0158360   9.523  < 2e-16 ***\n",
       "south       -0.1751761  0.0146486 -11.959  < 2e-16 ***\n",
       "---\n",
       "Signif. codes:  0 ‘***’ 0.001 ‘**’ 0.01 ‘*’ 0.05 ‘.’ 0.1 ‘ ’ 1\n",
       "\n",
       "Residual standard error: 0.3813 on 3004 degrees of freedom\n",
       "Multiple R-squared:  0.2632,\tAdjusted R-squared:  0.2619 \n",
       "F-statistic: 214.6 on 5 and 3004 DF,  p-value: < 2.2e-16\n"
      ]
     },
     "metadata": {},
     "output_type": "display_data"
    },
    {
     "data": {
      "text/plain": [
       "\n",
       "Call:\n",
       "ivreg(formula = log(wage) ~ educ + exper + expersq + smsa + south | \n",
       "    nearc4 + exper + expersq + smsa + south, data = Card_Data)\n",
       "\n",
       "Residuals:\n",
       "     Min       1Q   Median       3Q      Max \n",
       "-1.90599 -0.24474  0.02401  0.25927  1.44633 \n",
       "\n",
       "Coefficients:\n",
       "              Estimate Std. Error t value Pr(>|t|)    \n",
       "(Intercept)  3.7034266  0.8209565   4.511 6.70e-06 ***\n",
       "educ         0.1354200  0.0486571   2.783  0.00542 ** \n",
       "exper        0.1067727  0.0218354   4.890 1.06e-06 ***\n",
       "expersq     -0.0022553  0.0003397  -6.638 3.76e-11 ***\n",
       "smsa         0.1249987  0.0284822   4.389 1.18e-05 ***\n",
       "south       -0.1409356  0.0344048  -4.096 4.31e-05 ***\n",
       "---\n",
       "Signif. codes:  0 ‘***’ 0.001 ‘**’ 0.01 ‘*’ 0.05 ‘.’ 0.1 ‘ ’ 1\n",
       "\n",
       "Residual standard error: 0.396 on 3004 degrees of freedom\n",
       "Multiple R-Squared: 0.2051,\tAdjusted R-squared: 0.2038 \n",
       "Wald test: 99.67 on 5 and 3004 DF,  p-value: < 2.2e-16 \n"
      ]
     },
     "metadata": {},
     "output_type": "display_data"
    }
   ],
   "source": [
    "#compare regular and linear regression\n",
    "reg9<-lm(log(wage)~educ + exper + expersq + smsa + south, data = Card_Data)\n",
    "summary(reg9)\n",
    "reg10<-ivreg(log(wage) ~educ + exper + expersq+ smsa + south | nearc4 + exper + expersq + smsa + south , data =Card_Data)\n",
    "summary(reg10)"
   ]
  },
  {
   "cell_type": "code",
   "execution_count": null,
   "metadata": {},
   "outputs": [],
   "source": []
  }
 ],
 "metadata": {
  "kernelspec": {
   "display_name": "R",
   "language": "R",
   "name": "ir"
  },
  "language_info": {
   "codemirror_mode": "r",
   "file_extension": ".r",
   "mimetype": "text/x-r-source",
   "name": "R",
   "pygments_lexer": "r",
   "version": "3.4.4"
  }
 },
 "nbformat": 4,
 "nbformat_minor": 2
}
