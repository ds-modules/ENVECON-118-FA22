{
 "cells": [
  {
   "cell_type": "code",
   "execution_count": null,
   "metadata": {},
   "outputs": [],
   "source": [
    "library(haven)\n",
    "options(scipen = 5)"
   ]
  },
  {
   "cell_type": "code",
   "execution_count": null,
   "metadata": {},
   "outputs": [],
   "source": [
    "#load gpa dataset \n",
    "gpadata<-read_dta(\"gpa2.dta\")\n",
    "head(gpadata)"
   ]
  },
  {
   "cell_type": "code",
   "execution_count": null,
   "metadata": {},
   "outputs": [],
   "source": [
    "#regress gpa on sat score, class percentile, and high school class size and class size squared\n",
    "reg1<-lm(colgpa~sat+ hsperc + hsize + hsizesq, data= gpadata)\n",
    "summary(reg1)"
   ]
  },
  {
   "cell_type": "code",
   "execution_count": null,
   "metadata": {},
   "outputs": [],
   "source": [
    "# Predicted value: sum of coefficients times values\n",
    "summary(reg1)$coef\n",
    "regco=summary(reg1)$coef\n",
    "predgpa1 = regco[1,1] + 1200*regco[2,1] +regco[3,1]*30 +regco[4,1]*5+ regco[5,1]*25\n",
    "#print\n",
    "paste0(\"The predicted college gpa for someone with a SAT of 1200,\",\n",
    "       \" hsperc = 30, and hsize = 5 is \",round(predgpa1,3))"
   ]
  },
  {
   "cell_type": "code",
   "execution_count": null,
   "metadata": {},
   "outputs": [],
   "source": [
    "# An easier way to do this with a dot product of two vectors:\n",
    "predgpa2 = c(1,1200,30,5,25) %*% summary(reg1)$coef[,1]\n",
    "as.numeric(round(predgpa2,3))"
   ]
  },
  {
   "cell_type": "code",
   "execution_count": null,
   "metadata": {},
   "outputs": [],
   "source": [
    "#transform data to get point estimate of prediction and SE\n",
    "gpadata$sat0<- gpadata$sat-1200\n",
    "gpadata$hsperc0 <-gpadata$hsperc-30\n",
    "gpadata$hsize0<-gpadata$hsize-5\n",
    "gpadata$hsizesq0<-gpadata$hsizesq-25\n",
    "\n",
    "reg2<-lm(colgpa~sat0+hsperc0 + hsize0 + hsizesq0, data = gpadata)\n",
    "summary(reg2)"
   ]
  },
  {
   "cell_type": "code",
   "execution_count": null,
   "metadata": {},
   "outputs": [],
   "source": [
    "# Is the intercept the same as our original estimate?\n",
    "round(summary(reg2)$coef[1,1],3)==round(predgpa1,3)\n",
    "# What is the confidence interval?\n",
    "paste0(\"A 95% confidence interval around the predicted GPA is [\",\n",
    "      round(summary(reg2)$coef[1,1]-1.96*summary(reg2)$coef[1,2],3),\",\",\n",
    "      round(summary(reg2)$coef[1,1]+1.96*summary(reg2)$coef[1,2],3),\"].\")\n",
    "paste0(\"The range is \",round(2*1.96*summary(reg2)$coef[1,2],3))"
   ]
  },
  {
   "cell_type": "code",
   "execution_count": null,
   "metadata": {},
   "outputs": [],
   "source": [
    "# How do we interpret this?"
   ]
  },
  {
   "cell_type": "code",
   "execution_count": null,
   "metadata": {},
   "outputs": [],
   "source": [
    "# Does the choice of parameters for our prediction affect prediction SE?\n",
    "# Suppose we wanted to predict outcomes for someone from one of the biggest schools\n",
    "summary(gpadata$hsize)\n",
    "# Will the SE for the predicted value be the same, smaller, or larger?"
   ]
  },
  {
   "cell_type": "code",
   "execution_count": null,
   "metadata": {},
   "outputs": [],
   "source": [
    "#transform data to get point estimate of prediction and SE\n",
    "#same values except hsize\n",
    "gpadata$sat0<- gpadata$sat-1200 # same\n",
    "gpadata$hsperc0 <-gpadata$hsperc-30 # same\n",
    "gpadata$hsize0<-gpadata$hsize-9 # different\n",
    "gpadata$hsizesq0<-gpadata$hsizesq-81 # different\n",
    "reg3<-lm(colgpa~sat0+hsperc0 + hsize0 + hsizesq0, data = gpadata)\n",
    "summary(reg3)"
   ]
  },
  {
   "cell_type": "code",
   "execution_count": null,
   "metadata": {},
   "outputs": [],
   "source": [
    "# What is the confidence interval?\n",
    "paste0(\"A 95% confidence interval around the predicted GPA is [\",\n",
    "      round(summary(reg3)$coef[1,1]-1.96*summary(reg3)$coef[1,2],3),\",\",\n",
    "      round(summary(reg3)$coef[1,1]+1.96*summary(reg3)$coef[1,2],3),\"].\")\n",
    "paste0(\"The range is \",round(2*1.96*summary(reg3)$coef[1,2],3))"
   ]
  },
  {
   "cell_type": "code",
   "execution_count": null,
   "metadata": {},
   "outputs": [],
   "source": [
    "# Why is this estimate less precise?\n",
    "# Where should the predicted value SE be smallest?"
   ]
  },
  {
   "cell_type": "code",
   "execution_count": null,
   "metadata": {},
   "outputs": [],
   "source": [
    "# Use median values for each variable\n",
    "gpadata$sat0<- gpadata$sat-median(gpadata$sat)\n",
    "gpadata$hsperc0 <-gpadata$hsperc-median(gpadata$hsperc)\n",
    "gpadata$hsize0<-gpadata$hsize-median(gpadata$hsize)\n",
    "gpadata$hsizesq0<-gpadata$hsizesq-median(gpadata$hsize)^2\n",
    "reg4<-lm(colgpa~sat0+hsperc0 + hsize0 + hsizesq0, data = gpadata)\n",
    "summary(reg4)"
   ]
  },
  {
   "cell_type": "code",
   "execution_count": null,
   "metadata": {},
   "outputs": [],
   "source": [
    "# Back to lecture"
   ]
  },
  {
   "cell_type": "code",
   "execution_count": null,
   "metadata": {},
   "outputs": [],
   "source": [
    "# Confidence interval for a new observation\n",
    "# Use same approach as before to get the point estimate and prediction error\n",
    "summary(reg2)"
   ]
  },
  {
   "cell_type": "code",
   "execution_count": null,
   "metadata": {},
   "outputs": [],
   "source": [
    "#Retrieve estimate of sigma_u^2-hat\n",
    "summary(reg2)$sigma^2\n",
    "#Calculate SE(u-hat)\n",
    "uhat_se=sqrt(summary(reg2)$coef[1,2]^2+summary(reg2)$sigma^2)\n",
    "uhat_se\n",
    "#Calculate CI\n",
    "paste0(\"A 95% confidence interval around the predicted GPA is [\",\n",
    "      round(summary(reg2)$coef[1,1]-1.96*uhat_se,3),\",\",\n",
    "      round(summary(reg2)$coef[1,1]+1.96*uhat_se,3),\"].\")\n",
    "paste0(\"The range is \",round(2*1.96*uhat_se,3))"
   ]
  },
  {
   "cell_type": "code",
   "execution_count": null,
   "metadata": {},
   "outputs": [],
   "source": [
    "# Back to lecture"
   ]
  },
  {
   "cell_type": "code",
   "execution_count": null,
   "metadata": {},
   "outputs": [],
   "source": [
    "# Load wage data\n",
    "wagedata<- read_dta(\"WAGE1.DTA\")"
   ]
  },
  {
   "cell_type": "code",
   "execution_count": null,
   "metadata": {},
   "outputs": [],
   "source": [
    "# Regression with female binary variable\n",
    "reg4<-lm(wage~female + educ + exper + tenure, data = wagedata)\n",
    "summary(reg4)"
   ]
  },
  {
   "cell_type": "code",
   "execution_count": null,
   "metadata": {},
   "outputs": [],
   "source": [
    "# wage is average hourly earnings in $, for this sample from 1979\n",
    "# How to interpret intercept? Coefficient on female?"
   ]
  },
  {
   "cell_type": "code",
   "execution_count": null,
   "metadata": {},
   "outputs": [],
   "source": [
    "# Back to lecture"
   ]
  },
  {
   "cell_type": "code",
   "execution_count": null,
   "metadata": {},
   "outputs": [],
   "source": [
    "# create edcat categorical variable\n",
    "wagedata$edcat <- cut(wagedata$educ, breaks=c(0,8,11,15,18),\n",
    "                     labels=c('No primary','Compl. prim.','Compl. sec.','Compl. post-sec.'))\n",
    "wagedata[1:10,c(\"educ\",\"edcat\")]\n",
    "class(wagedata$edcat)"
   ]
  },
  {
   "cell_type": "code",
   "execution_count": null,
   "metadata": {},
   "outputs": [],
   "source": [
    "# create individual edcat dummies\n",
    "wagedata$noprim=as.numeric(wagedata$edcat==\"No primary\")\n",
    "wagedata$prim=as.numeric(wagedata$edcat==\"Compl. prim.\")\n",
    "wagedata$sec=as.numeric(wagedata$edcat==\"Compl. sec.\")\n",
    "wagedata$postsec=as.numeric(wagedata$edcat==\"Compl. post-sec.\")\n",
    "wagedata[1:10,c(\"educ\",\"edcat\",\"noprim\",\"prim\",\"sec\",\"postsec\")]"
   ]
  },
  {
   "cell_type": "code",
   "execution_count": null,
   "metadata": {},
   "outputs": [],
   "source": [
    "# Run regression\n",
    "reg5<-lm(wage~prim+sec+postsec+female + exper + tenure, data = wagedata)\n",
    "summary(reg5)"
   ]
  },
  {
   "cell_type": "code",
   "execution_count": null,
   "metadata": {},
   "outputs": [],
   "source": [
    "# How to interpret coefficients?\n",
    "# What if I change my reference category\n",
    "reg6<-lm(wage~noprim+sec+postsec+female + exper + tenure, data = wagedata)\n",
    "summary(reg6)"
   ]
  },
  {
   "cell_type": "code",
   "execution_count": null,
   "metadata": {},
   "outputs": [],
   "source": [
    "# Direct way to run regression with categorical (factor) data in R\n",
    "reg7<-lm(wage~as.factor(edcat)+female + exper + tenure, data = wagedata)\n",
    "summary(reg7)"
   ]
  },
  {
   "cell_type": "code",
   "execution_count": null,
   "metadata": {},
   "outputs": [],
   "source": [
    "# Back to lecture"
   ]
  },
  {
   "cell_type": "code",
   "execution_count": null,
   "metadata": {},
   "outputs": [],
   "source": [
    "# Two binary variables interacting\n",
    "# 1) interaction model\n",
    "reg8<-lm(wage~educ+exper + tenure+ married*female, data = wagedata)\n",
    "summary(reg8)"
   ]
  },
  {
   "cell_type": "code",
   "execution_count": null,
   "metadata": {},
   "outputs": [],
   "source": [
    "# 2) combined categorical model\n",
    "wagedata$marrmale=as.numeric(wagedata$female==0 & wagedata$married==1)\n",
    "wagedata$singmale=as.numeric(wagedata$female==0 & wagedata$married==0)\n",
    "wagedata$marrfem=as.numeric(wagedata$female==1 & wagedata$married==1)\n",
    "wagedata$singfem=as.numeric(wagedata$female==1 & wagedata$married==0)\n",
    "reg9<-lm(wage~educ+exper + tenure+ marrmale +singfem+marrfem, data = wagedata)\n",
    "summary(reg9)"
   ]
  },
  {
   "cell_type": "code",
   "execution_count": null,
   "metadata": {},
   "outputs": [],
   "source": [
    "sum(summary(reg8)$coef[5:7,1])\n",
    "round(sum(summary(reg8)$coef[5:7,1]),3)==round(summary(reg9)$coef[7,1],3)"
   ]
  },
  {
   "cell_type": "code",
   "execution_count": null,
   "metadata": {},
   "outputs": [],
   "source": [
    "# Back to lecture"
   ]
  },
  {
   "cell_type": "code",
   "execution_count": null,
   "metadata": {},
   "outputs": [],
   "source": [
    "# Hypothesis tests\n",
    "library(car)\n",
    "# Does sex matter?\n",
    "linearHypothesis(reg8, c(\"female = 0\",\"married+married:female=0\"))\n",
    "linearHypothesis(reg9, c(\"singfem = 0\",\"marrfem=0\"))\n",
    "# Does marital status matter for women?\n",
    "linearHypothesis(reg8, \"married:female+married=0\")\n",
    "linearHypothesis(reg9, \"singfem = marrfem\")"
   ]
  },
  {
   "cell_type": "code",
   "execution_count": null,
   "metadata": {},
   "outputs": [],
   "source": [
    "# Other ways to test if marital status matters for women\n",
    "# 1) rewrite the model with single women as reference category\n",
    "reg10<-lm(wage~educ+exper + tenure+ marrmale +singmale+marrfem, data = wagedata)\n",
    "summary(reg10)\n",
    "# 2) rewrite the model plugging in the linear combination\n",
    "reg11<-lm(wage~educ+exper + tenure+ marrmale +female+marrfem, data = wagedata)\n",
    "summary(reg11)"
   ]
  }
 ],
 "metadata": {
  "kernelspec": {
   "display_name": "R",
   "language": "R",
   "name": "ir"
  },
  "language_info": {
   "codemirror_mode": "r",
   "file_extension": ".r",
   "mimetype": "text/x-r-source",
   "name": "R",
   "pygments_lexer": "r",
   "version": "4.1.1"
  }
 },
 "nbformat": 4,
 "nbformat_minor": 2
}
