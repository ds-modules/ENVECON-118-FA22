{
 "cells": [
  {
   "cell_type": "code",
   "execution_count": null,
   "metadata": {},
   "outputs": [],
   "source": [
    "library(haven)\n",
    "library(tidyverse)\n",
    "options(scipen = 999)"
   ]
  },
  {
   "cell_type": "code",
   "execution_count": null,
   "metadata": {},
   "outputs": [],
   "source": [
    "crimedata<- read_dta(\"crime2_forlecture.dta\")\n",
    "head(crimedata)"
   ]
  },
  {
   "cell_type": "code",
   "execution_count": null,
   "metadata": {},
   "outputs": [],
   "source": [
    "# Basic simple regression\n",
    "reg1<- lm(crimes~unem, data = crimedata)\n",
    "summary(reg1)\n",
    "mean(crimedata$crimes)"
   ]
  },
  {
   "cell_type": "code",
   "execution_count": null,
   "metadata": {},
   "outputs": [],
   "source": [
    "# Interpret beta_1"
   ]
  },
  {
   "cell_type": "code",
   "execution_count": null,
   "metadata": {},
   "outputs": [],
   "source": [
    "# What if we add some controls?\n",
    "reg2<- lm(crimes~unem+officers+pop, data = crimedata)\n",
    "summary(reg2)"
   ]
  },
  {
   "cell_type": "code",
   "execution_count": null,
   "metadata": {},
   "outputs": [],
   "source": [
    "# Interpret beta_1. Does it make sense?"
   ]
  },
  {
   "cell_type": "code",
   "execution_count": null,
   "metadata": {},
   "outputs": [],
   "source": [
    "#First differences\n",
    "\n",
    "#set up a \"wide\" dataset to take differences within units\n",
    "#one way to create a wide dataset: first, create 2 data sets, one for each year\n",
    "crimedata82 = subset(crimedata, year == 82)\n",
    "crimedata87 = subset(crimedata, year == 87)\n",
    "#merge data on city id\n",
    "crimedatawide = merge(crimedata82, crimedata87, by = c(\"city\"), suffixes = c(\".82\",\".87\"))\n",
    "head(crimedatawide)"
   ]
  },
  {
   "cell_type": "code",
   "execution_count": null,
   "metadata": {},
   "outputs": [],
   "source": [
    "#generate first differenced variables\n",
    "crimedatawide$dcrime<-crimedatawide$crimes.87-crimedatawide$crimes.82\n",
    "crimedatawide$dunem<-crimedatawide$unem.87-crimedatawide$unem.82\n",
    "crimedatawide$dofficers<-crimedatawide$officers.87-crimedatawide$officers.82\n",
    "crimedatawide$dpop<-crimedatawide$pop.87-crimedatawide$pop.82\n",
    "\n",
    "#run simple differenced regression\n",
    "reg3<-lm(dcrime~dunem, data = crimedatawide)\n",
    "summary(reg3)"
   ]
  },
  {
   "cell_type": "code",
   "execution_count": null,
   "metadata": {},
   "outputs": [],
   "source": [
    "# Interpret beta_1"
   ]
  },
  {
   "cell_type": "code",
   "execution_count": null,
   "metadata": {},
   "outputs": [],
   "source": [
    "#run differenced regression with controls\n",
    "reg4<-lm(dcrime~dunem+dofficers+dpop, data = crimedatawide)\n",
    "summary(reg4)"
   ]
  },
  {
   "cell_type": "code",
   "execution_count": null,
   "metadata": {},
   "outputs": [],
   "source": [
    "# Interpret beta_1\n",
    "# Why do the results with controls differ from when we don't first difference?\n",
    "\n",
    "# Back to lecture"
   ]
  },
  {
   "cell_type": "code",
   "execution_count": null,
   "metadata": {},
   "outputs": [],
   "source": [
    "# Fixed effects approach\n",
    "crimedata$city<-as.factor(crimedata$city)\n",
    "crimedata$y87<-crimedata$year==87\n",
    "#run regression with city dummies\n",
    "reg5<-lm(crimes~unem + city + y87 , data = crimedata)\n",
    "summary(reg5)"
   ]
  },
  {
   "cell_type": "code",
   "execution_count": null,
   "metadata": {},
   "outputs": [],
   "source": [
    "# Same beta_1 coefficient, SE, t-stat as with first differences!\n",
    "\n",
    "# interpret the coefficients on city46 and y87TRUE"
   ]
  },
  {
   "cell_type": "code",
   "execution_count": null,
   "metadata": {},
   "outputs": [],
   "source": [
    "# Another way to run fixed effects regressions\n",
    "library(lfe)\n",
    "reg5b<-felm(crimes~unem | as.factor(city) + as.factor(year), data = crimedata)\n",
    "summary(reg5b)"
   ]
  },
  {
   "cell_type": "code",
   "execution_count": null,
   "metadata": {},
   "outputs": [],
   "source": [
    "# Cleaner output if we don't care about interpreting individual fixed effects\n",
    "\n",
    "# Back to lecture"
   ]
  }
 ],
 "metadata": {
  "kernelspec": {
   "display_name": "R",
   "language": "R",
   "name": "ir"
  },
  "language_info": {
   "codemirror_mode": "r",
   "file_extension": ".r",
   "mimetype": "text/x-r-source",
   "name": "R",
   "pygments_lexer": "r",
   "version": "4.1.1"
  }
 },
 "nbformat": 4,
 "nbformat_minor": 2
}
