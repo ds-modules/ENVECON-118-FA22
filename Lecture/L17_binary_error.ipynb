{
 "cells": [
  {
   "cell_type": "code",
   "execution_count": 1,
   "metadata": {},
   "outputs": [],
   "source": [
    "library(haven)\n",
    "options(scipen = 5)"
   ]
  },
  {
   "cell_type": "code",
   "execution_count": 2,
   "metadata": {},
   "outputs": [
    {
     "data": {
      "text/html": [
       "<table class=\"dataframe\">\n",
       "<caption>A tibble: 6 × 24</caption>\n",
       "<thead>\n",
       "\t<tr><th scope=col>id</th><th scope=col>individual</th><th scope=col>wave</th><th scope=col>age</th><th scope=col>gender</th><th scope=col>ishead</th><th scope=col>marital</th><th scope=col>childcare_hr</th><th scope=col>employed</th><th scope=col>ag_hrs</th><th scope=col>⋯</th><th scope=col>s2_q9a_county</th><th scope=col>working_l7</th><th scope=col>workinghrs_l7</th><th scope=col>current_num_adults</th><th scope=col>month</th><th scope=col>post</th><th scope=col>hhent</th><th scope=col>hhag</th><th scope=col>ag_hh</th><th scope=col>ent_hh</th></tr>\n",
       "\t<tr><th scope=col>&lt;dbl+lbl&gt;</th><th scope=col>&lt;dbl+lbl&gt;</th><th scope=col>&lt;dbl+lbl&gt;</th><th scope=col>&lt;dbl+lbl&gt;</th><th scope=col>&lt;dbl+lbl&gt;</th><th scope=col>&lt;dbl+lbl&gt;</th><th scope=col>&lt;dbl+lbl&gt;</th><th scope=col>&lt;dbl+lbl&gt;</th><th scope=col>&lt;dbl+lbl&gt;</th><th scope=col>&lt;dbl+lbl&gt;</th><th scope=col>⋯</th><th scope=col>&lt;dbl+lbl&gt;</th><th scope=col>&lt;dbl&gt;</th><th scope=col>&lt;dbl&gt;</th><th scope=col>&lt;dbl&gt;</th><th scope=col>&lt;dbl&gt;</th><th scope=col>&lt;dbl+lbl&gt;</th><th scope=col>&lt;dbl&gt;</th><th scope=col>&lt;dbl&gt;</th><th scope=col>&lt;dbl&gt;</th><th scope=col>&lt;dbl&gt;</th></tr>\n",
       "</thead>\n",
       "<tbody>\n",
       "\t<tr><td>1878</td><td>3</td><td>1</td><td>40</td><td>1</td><td>0</td><td>NA</td><td>NA</td><td>0</td><td>0</td><td>⋯</td><td>16</td><td>0</td><td> 0</td><td>6</td><td>725</td><td>0</td><td>0</td><td>0</td><td>0</td><td>0</td></tr>\n",
       "\t<tr><td> 705</td><td>1</td><td>1</td><td>42</td><td>1</td><td>0</td><td> 1</td><td>84</td><td>0</td><td>0</td><td>⋯</td><td> 1</td><td>0</td><td> 0</td><td>4</td><td>725</td><td>0</td><td>0</td><td>0</td><td>0</td><td>0</td></tr>\n",
       "\t<tr><td>4338</td><td>1</td><td>1</td><td>30</td><td>1</td><td>1</td><td> 3</td><td>35</td><td>1</td><td>0</td><td>⋯</td><td>32</td><td>1</td><td>45</td><td>6</td><td>724</td><td>0</td><td>0</td><td>0</td><td>0</td><td>0</td></tr>\n",
       "\t<tr><td>4847</td><td>4</td><td>1</td><td>19</td><td>0</td><td>0</td><td>NA</td><td>NA</td><td>0</td><td>2</td><td>⋯</td><td>15</td><td>1</td><td> 2</td><td>4</td><td>725</td><td>0</td><td>0</td><td>1</td><td>1</td><td>0</td></tr>\n",
       "\t<tr><td>1600</td><td>1</td><td>1</td><td>59</td><td>1</td><td>1</td><td> 8</td><td>NA</td><td>0</td><td>6</td><td>⋯</td><td>46</td><td>1</td><td> 6</td><td>3</td><td>725</td><td>0</td><td>0</td><td>1</td><td>1</td><td>0</td></tr>\n",
       "\t<tr><td>2710</td><td>2</td><td>1</td><td>38</td><td>1</td><td>0</td><td>NA</td><td>NA</td><td>0</td><td>0</td><td>⋯</td><td>41</td><td>0</td><td> 0</td><td>2</td><td>725</td><td>0</td><td>0</td><td>0</td><td>0</td><td>1</td></tr>\n",
       "</tbody>\n",
       "</table>\n"
      ],
      "text/latex": [
       "A tibble: 6 × 24\n",
       "\\begin{tabular}{lllllllllllllllllllll}\n",
       " id & individual & wave & age & gender & ishead & marital & childcare\\_hr & employed & ag\\_hrs & ⋯ & s2\\_q9a\\_county & working\\_l7 & workinghrs\\_l7 & current\\_num\\_adults & month & post & hhent & hhag & ag\\_hh & ent\\_hh\\\\\n",
       " <dbl+lbl> & <dbl+lbl> & <dbl+lbl> & <dbl+lbl> & <dbl+lbl> & <dbl+lbl> & <dbl+lbl> & <dbl+lbl> & <dbl+lbl> & <dbl+lbl> & ⋯ & <dbl+lbl> & <dbl> & <dbl> & <dbl> & <dbl> & <dbl+lbl> & <dbl> & <dbl> & <dbl> & <dbl>\\\\\n",
       "\\hline\n",
       "\t 1878 & 3 & 1 & 40 & 1 & 0 & NA & NA & 0 & 0 & ⋯ & 16 & 0 &  0 & 6 & 725 & 0 & 0 & 0 & 0 & 0\\\\\n",
       "\t  705 & 1 & 1 & 42 & 1 & 0 &  1 & 84 & 0 & 0 & ⋯ &  1 & 0 &  0 & 4 & 725 & 0 & 0 & 0 & 0 & 0\\\\\n",
       "\t 4338 & 1 & 1 & 30 & 1 & 1 &  3 & 35 & 1 & 0 & ⋯ & 32 & 1 & 45 & 6 & 724 & 0 & 0 & 0 & 0 & 0\\\\\n",
       "\t 4847 & 4 & 1 & 19 & 0 & 0 & NA & NA & 0 & 2 & ⋯ & 15 & 1 &  2 & 4 & 725 & 0 & 0 & 1 & 1 & 0\\\\\n",
       "\t 1600 & 1 & 1 & 59 & 1 & 1 &  8 & NA & 0 & 6 & ⋯ & 46 & 1 &  6 & 3 & 725 & 0 & 0 & 1 & 1 & 0\\\\\n",
       "\t 2710 & 2 & 1 & 38 & 1 & 0 & NA & NA & 0 & 0 & ⋯ & 41 & 0 &  0 & 2 & 725 & 0 & 0 & 0 & 0 & 1\\\\\n",
       "\\end{tabular}\n"
      ],
      "text/markdown": [
       "\n",
       "A tibble: 6 × 24\n",
       "\n",
       "| id &lt;dbl+lbl&gt; | individual &lt;dbl+lbl&gt; | wave &lt;dbl+lbl&gt; | age &lt;dbl+lbl&gt; | gender &lt;dbl+lbl&gt; | ishead &lt;dbl+lbl&gt; | marital &lt;dbl+lbl&gt; | childcare_hr &lt;dbl+lbl&gt; | employed &lt;dbl+lbl&gt; | ag_hrs &lt;dbl+lbl&gt; | ⋯ ⋯ | s2_q9a_county &lt;dbl+lbl&gt; | working_l7 &lt;dbl&gt; | workinghrs_l7 &lt;dbl&gt; | current_num_adults &lt;dbl&gt; | month &lt;dbl&gt; | post &lt;dbl+lbl&gt; | hhent &lt;dbl&gt; | hhag &lt;dbl&gt; | ag_hh &lt;dbl&gt; | ent_hh &lt;dbl&gt; |\n",
       "|---|---|---|---|---|---|---|---|---|---|---|---|---|---|---|---|---|---|---|---|---|\n",
       "| 1878 | 3 | 1 | 40 | 1 | 0 | NA | NA | 0 | 0 | ⋯ | 16 | 0 |  0 | 6 | 725 | 0 | 0 | 0 | 0 | 0 |\n",
       "|  705 | 1 | 1 | 42 | 1 | 0 |  1 | 84 | 0 | 0 | ⋯ |  1 | 0 |  0 | 4 | 725 | 0 | 0 | 0 | 0 | 0 |\n",
       "| 4338 | 1 | 1 | 30 | 1 | 1 |  3 | 35 | 1 | 0 | ⋯ | 32 | 1 | 45 | 6 | 724 | 0 | 0 | 0 | 0 | 0 |\n",
       "| 4847 | 4 | 1 | 19 | 0 | 0 | NA | NA | 0 | 2 | ⋯ | 15 | 1 |  2 | 4 | 725 | 0 | 0 | 1 | 1 | 0 |\n",
       "| 1600 | 1 | 1 | 59 | 1 | 1 |  8 | NA | 0 | 6 | ⋯ | 46 | 1 |  6 | 3 | 725 | 0 | 0 | 1 | 1 | 0 |\n",
       "| 2710 | 2 | 1 | 38 | 1 | 0 | NA | NA | 0 | 0 | ⋯ | 41 | 0 |  0 | 2 | 725 | 0 | 0 | 0 | 0 | 1 |\n",
       "\n"
      ],
      "text/plain": [
       "  id   individual wave age gender ishead marital childcare_hr employed ag_hrs ⋯\n",
       "1 1878 3          1    40  1      0      NA      NA           0        0      ⋯\n",
       "2  705 1          1    42  1      0       1      84           0        0      ⋯\n",
       "3 4338 1          1    30  1      1       3      35           1        0      ⋯\n",
       "4 4847 4          1    19  0      0      NA      NA           0        2      ⋯\n",
       "5 1600 1          1    59  1      1       8      NA           0        6      ⋯\n",
       "6 2710 2          1    38  1      0      NA      NA           0        0      ⋯\n",
       "  s2_q9a_county working_l7 workinghrs_l7 current_num_adults month post hhent\n",
       "1 16            0           0            6                  725   0    0    \n",
       "2  1            0           0            4                  725   0    0    \n",
       "3 32            1          45            6                  724   0    0    \n",
       "4 15            1           2            4                  725   0    0    \n",
       "5 46            1           6            3                  725   0    0    \n",
       "6 41            0           0            2                  725   0    0    \n",
       "  hhag ag_hh ent_hh\n",
       "1 0    0     0     \n",
       "2 0    0     0     \n",
       "3 0    0     0     \n",
       "4 1    1     0     \n",
       "5 1    1     0     \n",
       "6 0    0     1     "
      ]
     },
     "metadata": {},
     "output_type": "display_data"
    }
   ],
   "source": [
    "# Dataset on labor supply in Kenya in 2020 during Covid\n",
    "kenya<-read_dta(\"kenya_labor_covid.dta\")\n",
    "head(kenya)"
   ]
  },
  {
   "cell_type": "code",
   "execution_count": 3,
   "metadata": {},
   "outputs": [
    {
     "data": {
      "text/plain": [
       "\n",
       "Call:\n",
       "lm(formula = employed ~ age + gender + ishead + marital + current_num_adults + \n",
       "    current_num_5_17 + current_num_0_4, data = kenya)\n",
       "\n",
       "Residuals:\n",
       "     Min       1Q   Median       3Q      Max \n",
       "-0.22386 -0.14944 -0.09639 -0.04857  1.09615 \n",
       "\n",
       "Coefficients:\n",
       "                     Estimate Std. Error t value Pr(>|t|)    \n",
       "(Intercept)         0.2187575  0.0134786  16.230  < 2e-16 ***\n",
       "age                -0.0011141  0.0002734  -4.075 4.63e-05 ***\n",
       "gender             -0.0595661  0.0063145  -9.433  < 2e-16 ***\n",
       "ishead              0.0492732  0.0072448   6.801 1.08e-11 ***\n",
       "marital            -0.0029067  0.0008985  -3.235  0.00122 ** \n",
       "current_num_adults -0.0189835  0.0022918  -8.283  < 2e-16 ***\n",
       "current_num_5_17   -0.0058214  0.0018085  -3.219  0.00129 ** \n",
       "current_num_0_4     0.0028351  0.0036712   0.772  0.43997    \n",
       "---\n",
       "Signif. codes:  0 ‘***’ 0.001 ‘**’ 0.01 ‘*’ 0.05 ‘.’ 0.1 ‘ ’ 1\n",
       "\n",
       "Residual standard error: 0.3106 on 12906 degrees of freedom\n",
       "  (18837 observations deleted due to missingness)\n",
       "Multiple R-squared:  0.03351,\tAdjusted R-squared:  0.03299 \n",
       "F-statistic: 63.93 on 7 and 12906 DF,  p-value: < 2.2e-16\n"
      ]
     },
     "metadata": {},
     "output_type": "display_data"
    }
   ],
   "source": [
    "reg1<- lm(employed~ age + gender + ishead + marital +\n",
    "          current_num_adults+current_num_5_17 +current_num_0_4, data = kenya)\n",
    "summary(reg1)"
   ]
  },
  {
   "cell_type": "code",
   "execution_count": 4,
   "metadata": {},
   "outputs": [],
   "source": [
    "# How to interpret the intercept?\n",
    "# How to interpret the coefficient on gender (dummy where female=1)?"
   ]
  },
  {
   "cell_type": "code",
   "execution_count": 5,
   "metadata": {},
   "outputs": [
    {
     "data": {
      "text/html": [
       "0.018"
      ],
      "text/latex": [
       "0.018"
      ],
      "text/markdown": [
       "0.018"
      ],
      "text/plain": [
       "[1] 0.018"
      ]
     },
     "metadata": {},
     "output_type": "display_data"
    },
    {
     "data": {
      "text/html": [
       "-0.016"
      ],
      "text/latex": [
       "-0.016"
      ],
      "text/markdown": [
       "-0.016"
      ],
      "text/plain": [
       "[1] -0.016"
      ]
     },
     "metadata": {},
     "output_type": "display_data"
    }
   ],
   "source": [
    "# Predicted value for 30 year old woman with some characteristics\n",
    "predempl = c(1,30,1,0,1,4,5,0) %*% summary(reg1)$coef[,1]\n",
    "as.numeric(round(predempl,3))\n",
    "# And for a 60 year old\n",
    "predempl2 = c(1,60,1,0,1,4,5,0) %*% summary(reg1)$coef[,1]\n",
    "as.numeric(round(predempl2,3))"
   ]
  },
  {
   "cell_type": "code",
   "execution_count": 6,
   "metadata": {},
   "outputs": [],
   "source": [
    "# Any issue here?\n",
    "# Not specific to this particular model\n",
    "# Back to lecture"
   ]
  },
  {
   "cell_type": "code",
   "execution_count": 7,
   "metadata": {},
   "outputs": [
    {
     "data": {
      "text/plain": [
       "\n",
       "Call:\n",
       "glm(formula = employed ~ gender, family = \"binomial\", data = kenya)\n",
       "\n",
       "Deviance Residuals: \n",
       "    Min       1Q   Median       3Q      Max  \n",
       "-0.4733  -0.4733  -0.3119  -0.3119   2.4688  \n",
       "\n",
       "Coefficients:\n",
       "            Estimate Std. Error z value Pr(>|z|)    \n",
       "(Intercept) -2.13272    0.02637  -80.86   <2e-16 ***\n",
       "gender      -0.86605    0.04505  -19.23   <2e-16 ***\n",
       "---\n",
       "Signif. codes:  0 ‘***’ 0.001 ‘**’ 0.01 ‘*’ 0.05 ‘.’ 0.1 ‘ ’ 1\n",
       "\n",
       "(Dispersion parameter for binomial family taken to be 1)\n",
       "\n",
       "    Null deviance: 16985  on 31750  degrees of freedom\n",
       "Residual deviance: 16591  on 31749  degrees of freedom\n",
       "AIC: 16595\n",
       "\n",
       "Number of Fisher Scoring iterations: 5\n"
      ]
     },
     "metadata": {},
     "output_type": "display_data"
    }
   ],
   "source": [
    "# Logit model with binary dep var\n",
    "reg2<- glm(employed~ gender, data = kenya, family = \"binomial\")\n",
    "summary(reg2)"
   ]
  },
  {
   "cell_type": "code",
   "execution_count": 8,
   "metadata": {},
   "outputs": [
    {
     "data": {
      "text/html": [
       "0.0474811463046757"
      ],
      "text/latex": [
       "0.0474811463046757"
      ],
      "text/markdown": [
       "0.0474811463046757"
      ],
      "text/plain": [
       "[1] 0.04748115"
      ]
     },
     "metadata": {},
     "output_type": "display_data"
    },
    {
     "data": {
      "text/html": [
       "0.105956773853453"
      ],
      "text/latex": [
       "0.105956773853453"
      ],
      "text/markdown": [
       "0.105956773853453"
      ],
      "text/plain": [
       "[1] 0.1059568"
      ]
     },
     "metadata": {},
     "output_type": "display_data"
    },
    {
     "data": {
      "text/html": [
       "0.420607880284415"
      ],
      "text/latex": [
       "0.420607880284415"
      ],
      "text/markdown": [
       "0.420607880284415"
      ],
      "text/plain": [
       "[1] 0.4206079"
      ]
     },
     "metadata": {},
     "output_type": "display_data"
    },
    {
     "data": {
      "text/html": [
       "-0.866054280072562"
      ],
      "text/latex": [
       "-0.866054280072562"
      ],
      "text/markdown": [
       "-0.866054280072562"
      ],
      "text/plain": [
       "[1] -0.8660543"
      ]
     },
     "metadata": {},
     "output_type": "display_data"
    }
   ],
   "source": [
    "# How to interpret the coefficient for gender?\n",
    "mean(kenya[kenya$gender==1,]$employed)\n",
    "mean(kenya[kenya$gender==0,]$employed)\n",
    "orf=mean(kenya[kenya$gender==1,]$employed)/(1-mean(kenya[kenya$gender==1,]$employed))\n",
    "orm=mean(kenya[kenya$gender==0,]$employed)/(1-mean(kenya[kenya$gender==0,]$employed))\n",
    "orf/orm\n",
    "log(orf/orm)"
   ]
  },
  {
   "cell_type": "code",
   "execution_count": 9,
   "metadata": {},
   "outputs": [
    {
     "data": {
      "text/html": [
       "-0.866"
      ],
      "text/latex": [
       "-0.866"
      ],
      "text/markdown": [
       "-0.866"
      ],
      "text/plain": [
       "[1] -0.866"
      ]
     },
     "metadata": {},
     "output_type": "display_data"
    },
    {
     "data": {
      "text/html": [
       "0.421"
      ],
      "text/latex": [
       "0.421"
      ],
      "text/markdown": [
       "0.421"
      ],
      "text/plain": [
       "[1] 0.421"
      ]
     },
     "metadata": {},
     "output_type": "display_data"
    }
   ],
   "source": [
    "# Converting log odds\n",
    "logodds=round(summary(reg2)$coef[2,1],3) # log odds\n",
    "oddsratio=round(exp(logodds),3) # odds\n",
    "logodds\n",
    "oddsratio"
   ]
  },
  {
   "cell_type": "code",
   "execution_count": 10,
   "metadata": {},
   "outputs": [
    {
     "data": {
      "text/plain": [
       "\n",
       "Call:\n",
       "glm(formula = employed ~ gender + age, family = \"binomial\", data = kenya)\n",
       "\n",
       "Deviance Residuals: \n",
       "    Min       1Q   Median       3Q      Max  \n",
       "-0.5779  -0.4517  -0.3454  -0.2939   2.5665  \n",
       "\n",
       "Coefficients:\n",
       "             Estimate Std. Error z value Pr(>|z|)    \n",
       "(Intercept) -2.667256   0.066367 -40.190   <2e-16 ***\n",
       "gender      -0.858921   0.045106 -19.042   <2e-16 ***\n",
       "age          0.015034   0.001667   9.019   <2e-16 ***\n",
       "---\n",
       "Signif. codes:  0 ‘***’ 0.001 ‘**’ 0.01 ‘*’ 0.05 ‘.’ 0.1 ‘ ’ 1\n",
       "\n",
       "(Dispersion parameter for binomial family taken to be 1)\n",
       "\n",
       "    Null deviance: 16985  on 31750  degrees of freedom\n",
       "Residual deviance: 16511  on 31748  degrees of freedom\n",
       "AIC: 16517\n",
       "\n",
       "Number of Fisher Scoring iterations: 5\n"
      ]
     },
     "metadata": {},
     "output_type": "display_data"
    }
   ],
   "source": [
    "# Logit model with continuous dep var\n",
    "reg3<- glm(employed~ gender+age, data = kenya, family = \"binomial\")\n",
    "summary(reg3)"
   ]
  },
  {
   "cell_type": "code",
   "execution_count": 11,
   "metadata": {},
   "outputs": [
    {
     "data": {
      "text/html": [
       "1.015"
      ],
      "text/latex": [
       "1.015"
      ],
      "text/markdown": [
       "1.015"
      ],
      "text/plain": [
       "[1] 1.015"
      ]
     },
     "metadata": {},
     "output_type": "display_data"
    }
   ],
   "source": [
    "# How to interpret coefficient on age?\n",
    "round(exp(summary(reg3)$coef[3,1]),3)\n",
    "# Back to lecture"
   ]
  },
  {
   "cell_type": "code",
   "execution_count": 12,
   "metadata": {},
   "outputs": [
    {
     "data": {
      "text/html": [
       "<table class=\"dataframe\">\n",
       "<caption>A tibble: 6 × 17</caption>\n",
       "<thead>\n",
       "\t<tr><th scope=col>wage</th><th scope=col>hours</th><th scope=col>IQ</th><th scope=col>KWW</th><th scope=col>educ</th><th scope=col>exper</th><th scope=col>tenure</th><th scope=col>age</th><th scope=col>married</th><th scope=col>black</th><th scope=col>south</th><th scope=col>urban</th><th scope=col>sibs</th><th scope=col>brthord</th><th scope=col>meduc</th><th scope=col>feduc</th><th scope=col>lwage</th></tr>\n",
       "\t<tr><th scope=col>&lt;dbl&gt;</th><th scope=col>&lt;dbl&gt;</th><th scope=col>&lt;dbl&gt;</th><th scope=col>&lt;dbl&gt;</th><th scope=col>&lt;dbl&gt;</th><th scope=col>&lt;dbl&gt;</th><th scope=col>&lt;dbl&gt;</th><th scope=col>&lt;dbl&gt;</th><th scope=col>&lt;dbl&gt;</th><th scope=col>&lt;dbl&gt;</th><th scope=col>&lt;dbl&gt;</th><th scope=col>&lt;dbl&gt;</th><th scope=col>&lt;dbl&gt;</th><th scope=col>&lt;dbl&gt;</th><th scope=col>&lt;dbl&gt;</th><th scope=col>&lt;dbl&gt;</th><th scope=col>&lt;dbl&gt;</th></tr>\n",
       "</thead>\n",
       "<tbody>\n",
       "\t<tr><td> 769</td><td>40</td><td> 93</td><td>35</td><td>12</td><td>11</td><td> 2</td><td>31</td><td>1</td><td>0</td><td>0</td><td>1</td><td> 1</td><td> 2</td><td> 8</td><td> 8</td><td>6.645091</td></tr>\n",
       "\t<tr><td> 808</td><td>50</td><td>119</td><td>41</td><td>18</td><td>11</td><td>16</td><td>37</td><td>1</td><td>0</td><td>0</td><td>1</td><td> 1</td><td>NA</td><td>14</td><td>14</td><td>6.694562</td></tr>\n",
       "\t<tr><td> 825</td><td>40</td><td>108</td><td>46</td><td>14</td><td>11</td><td> 9</td><td>33</td><td>1</td><td>0</td><td>0</td><td>1</td><td> 1</td><td> 2</td><td>14</td><td>14</td><td>6.715384</td></tr>\n",
       "\t<tr><td> 650</td><td>40</td><td> 96</td><td>32</td><td>12</td><td>13</td><td> 7</td><td>32</td><td>1</td><td>0</td><td>0</td><td>1</td><td> 4</td><td> 3</td><td>12</td><td>12</td><td>6.476973</td></tr>\n",
       "\t<tr><td> 562</td><td>40</td><td> 74</td><td>27</td><td>11</td><td>14</td><td> 5</td><td>34</td><td>1</td><td>0</td><td>0</td><td>1</td><td>10</td><td> 6</td><td> 6</td><td>11</td><td>6.331502</td></tr>\n",
       "\t<tr><td>1400</td><td>40</td><td>116</td><td>43</td><td>16</td><td>14</td><td> 2</td><td>35</td><td>1</td><td>1</td><td>0</td><td>1</td><td> 1</td><td> 2</td><td> 8</td><td>NA</td><td>7.244227</td></tr>\n",
       "</tbody>\n",
       "</table>\n"
      ],
      "text/latex": [
       "A tibble: 6 × 17\n",
       "\\begin{tabular}{lllllllllllllllll}\n",
       " wage & hours & IQ & KWW & educ & exper & tenure & age & married & black & south & urban & sibs & brthord & meduc & feduc & lwage\\\\\n",
       " <dbl> & <dbl> & <dbl> & <dbl> & <dbl> & <dbl> & <dbl> & <dbl> & <dbl> & <dbl> & <dbl> & <dbl> & <dbl> & <dbl> & <dbl> & <dbl> & <dbl>\\\\\n",
       "\\hline\n",
       "\t  769 & 40 &  93 & 35 & 12 & 11 &  2 & 31 & 1 & 0 & 0 & 1 &  1 &  2 &  8 &  8 & 6.645091\\\\\n",
       "\t  808 & 50 & 119 & 41 & 18 & 11 & 16 & 37 & 1 & 0 & 0 & 1 &  1 & NA & 14 & 14 & 6.694562\\\\\n",
       "\t  825 & 40 & 108 & 46 & 14 & 11 &  9 & 33 & 1 & 0 & 0 & 1 &  1 &  2 & 14 & 14 & 6.715384\\\\\n",
       "\t  650 & 40 &  96 & 32 & 12 & 13 &  7 & 32 & 1 & 0 & 0 & 1 &  4 &  3 & 12 & 12 & 6.476973\\\\\n",
       "\t  562 & 40 &  74 & 27 & 11 & 14 &  5 & 34 & 1 & 0 & 0 & 1 & 10 &  6 &  6 & 11 & 6.331502\\\\\n",
       "\t 1400 & 40 & 116 & 43 & 16 & 14 &  2 & 35 & 1 & 1 & 0 & 1 &  1 &  2 &  8 & NA & 7.244227\\\\\n",
       "\\end{tabular}\n"
      ],
      "text/markdown": [
       "\n",
       "A tibble: 6 × 17\n",
       "\n",
       "| wage &lt;dbl&gt; | hours &lt;dbl&gt; | IQ &lt;dbl&gt; | KWW &lt;dbl&gt; | educ &lt;dbl&gt; | exper &lt;dbl&gt; | tenure &lt;dbl&gt; | age &lt;dbl&gt; | married &lt;dbl&gt; | black &lt;dbl&gt; | south &lt;dbl&gt; | urban &lt;dbl&gt; | sibs &lt;dbl&gt; | brthord &lt;dbl&gt; | meduc &lt;dbl&gt; | feduc &lt;dbl&gt; | lwage &lt;dbl&gt; |\n",
       "|---|---|---|---|---|---|---|---|---|---|---|---|---|---|---|---|---|\n",
       "|  769 | 40 |  93 | 35 | 12 | 11 |  2 | 31 | 1 | 0 | 0 | 1 |  1 |  2 |  8 |  8 | 6.645091 |\n",
       "|  808 | 50 | 119 | 41 | 18 | 11 | 16 | 37 | 1 | 0 | 0 | 1 |  1 | NA | 14 | 14 | 6.694562 |\n",
       "|  825 | 40 | 108 | 46 | 14 | 11 |  9 | 33 | 1 | 0 | 0 | 1 |  1 |  2 | 14 | 14 | 6.715384 |\n",
       "|  650 | 40 |  96 | 32 | 12 | 13 |  7 | 32 | 1 | 0 | 0 | 1 |  4 |  3 | 12 | 12 | 6.476973 |\n",
       "|  562 | 40 |  74 | 27 | 11 | 14 |  5 | 34 | 1 | 0 | 0 | 1 | 10 |  6 |  6 | 11 | 6.331502 |\n",
       "| 1400 | 40 | 116 | 43 | 16 | 14 |  2 | 35 | 1 | 1 | 0 | 1 |  1 |  2 |  8 | NA | 7.244227 |\n",
       "\n"
      ],
      "text/plain": [
       "  wage hours IQ  KWW educ exper tenure age married black south urban sibs\n",
       "1  769 40     93 35  12   11     2     31  1       0     0     1      1  \n",
       "2  808 50    119 41  18   11    16     37  1       0     0     1      1  \n",
       "3  825 40    108 46  14   11     9     33  1       0     0     1      1  \n",
       "4  650 40     96 32  12   13     7     32  1       0     0     1      4  \n",
       "5  562 40     74 27  11   14     5     34  1       0     0     1     10  \n",
       "6 1400 40    116 43  16   14     2     35  1       1     0     1      1  \n",
       "  brthord meduc feduc lwage   \n",
       "1  2       8     8    6.645091\n",
       "2 NA      14    14    6.694562\n",
       "3  2      14    14    6.715384\n",
       "4  3      12    12    6.476973\n",
       "5  6       6    11    6.331502\n",
       "6  2       8    NA    7.244227"
      ]
     },
     "metadata": {},
     "output_type": "display_data"
    }
   ],
   "source": [
    "# Proxy variables\n",
    "# Load data on monthly wages\n",
    "wagedata2<-read_dta(\"WAGE2.DTA\")\n",
    "head(wagedata2)"
   ]
  },
  {
   "cell_type": "code",
   "execution_count": 13,
   "metadata": {},
   "outputs": [
    {
     "data": {
      "text/plain": [
       "   Min. 1st Qu.  Median    Mean 3rd Qu.    Max. \n",
       "-4.2767 -0.3659  0.7164  0.6267  1.7271  5.3282 "
      ]
     },
     "metadata": {},
     "output_type": "display_data"
    }
   ],
   "source": [
    "# Suppose unobserved ability=delta_0 + \\delta_1 IQ + v\n",
    "wagedata2$ability=-10+0.1*wagedata2$IQ+runif(nrow(wagedata2))\n",
    "summary(wagedata2$ability)"
   ]
  },
  {
   "cell_type": "code",
   "execution_count": 14,
   "metadata": {},
   "outputs": [
    {
     "data": {
      "text/plain": [
       "\n",
       "Call:\n",
       "lm(formula = lwage ~ educ + exper, data = wagedata2)\n",
       "\n",
       "Residuals:\n",
       "     Min       1Q   Median       3Q      Max \n",
       "-1.86915 -0.24001  0.03564  0.26132  1.30061 \n",
       "\n",
       "Coefficients:\n",
       "            Estimate Std. Error t value      Pr(>|t|)    \n",
       "(Intercept) 5.502710   0.112037  49.115       < 2e-16 ***\n",
       "educ        0.077782   0.006577  11.827       < 2e-16 ***\n",
       "exper       0.019777   0.003303   5.988 0.00000000302 ***\n",
       "---\n",
       "Signif. codes:  0 ‘***’ 0.001 ‘**’ 0.01 ‘*’ 0.05 ‘.’ 0.1 ‘ ’ 1\n",
       "\n",
       "Residual standard error: 0.393 on 932 degrees of freedom\n",
       "Multiple R-squared:  0.1309,\tAdjusted R-squared:  0.129 \n",
       "F-statistic: 70.16 on 2 and 932 DF,  p-value: < 2.2e-16\n"
      ]
     },
     "metadata": {},
     "output_type": "display_data"
    },
    {
     "data": {
      "text/plain": [
       "\n",
       "Call:\n",
       "lm(formula = lwage ~ educ + exper + ability, data = wagedata2)\n",
       "\n",
       "Residuals:\n",
       "     Min       1Q   Median       3Q      Max \n",
       "-1.94180 -0.21957  0.02028  0.25767  1.28603 \n",
       "\n",
       "Coefficients:\n",
       "            Estimate Std. Error t value Pr(>|t|)    \n",
       "(Intercept) 5.738978   0.117429  48.872  < 2e-16 ***\n",
       "educ        0.057857   0.007322   7.902 7.73e-15 ***\n",
       "exper       0.019553   0.003246   6.023 2.46e-09 ***\n",
       "ability     0.055333   0.009546   5.796 9.27e-09 ***\n",
       "---\n",
       "Signif. codes:  0 ‘***’ 0.001 ‘**’ 0.01 ‘*’ 0.05 ‘.’ 0.1 ‘ ’ 1\n",
       "\n",
       "Residual standard error: 0.3863 on 931 degrees of freedom\n",
       "Multiple R-squared:  0.1611,\tAdjusted R-squared:  0.1584 \n",
       "F-statistic: 59.61 on 3 and 931 DF,  p-value: < 2.2e-16\n"
      ]
     },
     "metadata": {},
     "output_type": "display_data"
    }
   ],
   "source": [
    "#biased model\n",
    "reg4<-lm(lwage ~ educ + exper, data = wagedata2)\n",
    "summary(reg4)\n",
    "#true model\n",
    "reg5<-lm(lwage ~ educ + exper + ability, data = wagedata2)\n",
    "summary(reg5)"
   ]
  },
  {
   "cell_type": "code",
   "execution_count": 15,
   "metadata": {},
   "outputs": [],
   "source": [
    "# How is the coefficient on educ biased? \n",
    "# What does that imply about the relationship between educ and ability?"
   ]
  },
  {
   "cell_type": "code",
   "execution_count": 16,
   "metadata": {},
   "outputs": [
    {
     "data": {
      "text/plain": [
       "\n",
       "Call:\n",
       "lm(formula = lwage ~ educ + exper + IQ, data = wagedata2)\n",
       "\n",
       "Residuals:\n",
       "     Min       1Q   Median       3Q      Max \n",
       "-1.93902 -0.21414  0.02295  0.26270  1.25771 \n",
       "\n",
       "Coefficients:\n",
       "             Estimate Std. Error t value Pr(>|t|)    \n",
       "(Intercept) 5.1980851  0.1215426  42.768  < 2e-16 ***\n",
       "educ        0.0571080  0.0073480   7.772 2.04e-14 ***\n",
       "exper       0.0195249  0.0032444   6.018 2.53e-09 ***\n",
       "IQ          0.0057856  0.0009797   5.906 4.92e-09 ***\n",
       "---\n",
       "Signif. codes:  0 ‘***’ 0.001 ‘**’ 0.01 ‘*’ 0.05 ‘.’ 0.1 ‘ ’ 1\n",
       "\n",
       "Residual standard error: 0.3861 on 931 degrees of freedom\n",
       "Multiple R-squared:  0.1622,\tAdjusted R-squared:  0.1595 \n",
       "F-statistic:  60.1 on 3 and 931 DF,  p-value: < 2.2e-16\n"
      ]
     },
     "metadata": {},
     "output_type": "display_data"
    }
   ],
   "source": [
    "# Regression with proxy variable\n",
    "reg6<- lm(lwage ~ educ + exper + IQ, data = wagedata2)\n",
    "summary(reg6)"
   ]
  },
  {
   "cell_type": "code",
   "execution_count": 17,
   "metadata": {},
   "outputs": [
    {
     "data": {
      "text/plain": [
       "    Min.  1st Qu.   Median     Mean  3rd Qu.     Max. \n",
       "-4.20976 -0.08822  1.06600  0.98351  2.09138  5.85958 "
      ]
     },
     "metadata": {},
     "output_type": "display_data"
    }
   ],
   "source": [
    "# What if IQ had been less of a good proxy?\n",
    "# Suppose unobserved ability=delta_0 + \\delta_1 IQ + \\delta_2 educ + v_2\n",
    "wagedata2$ability2=-11+0.1*wagedata2$IQ+0.1*wagedata2$educ+ runif(nrow(wagedata2))\n",
    "summary(wagedata2$ability2)"
   ]
  },
  {
   "cell_type": "code",
   "execution_count": 18,
   "metadata": {},
   "outputs": [
    {
     "data": {
      "text/plain": [
       "\n",
       "Call:\n",
       "lm(formula = lwage ~ educ + exper + ability2, data = wagedata2)\n",
       "\n",
       "Residuals:\n",
       "     Min       1Q   Median       3Q      Max \n",
       "-1.92984 -0.22120  0.01756  0.25675  1.27646 \n",
       "\n",
       "Coefficients:\n",
       "            Estimate Std. Error t value Pr(>|t|)    \n",
       "(Intercept) 5.789899   0.120853  47.909  < 2e-16 ***\n",
       "educ        0.052537   0.007805   6.731 2.94e-11 ***\n",
       "exper       0.019616   0.003247   6.042 2.20e-09 ***\n",
       "ability2    0.055604   0.009631   5.774 1.06e-08 ***\n",
       "---\n",
       "Signif. codes:  0 ‘***’ 0.001 ‘**’ 0.01 ‘*’ 0.05 ‘.’ 0.1 ‘ ’ 1\n",
       "\n",
       "Residual standard error: 0.3864 on 931 degrees of freedom\n",
       "Multiple R-squared:  0.1609,\tAdjusted R-squared:  0.1582 \n",
       "F-statistic: 59.51 on 3 and 931 DF,  p-value: < 2.2e-16\n"
      ]
     },
     "metadata": {},
     "output_type": "display_data"
    },
    {
     "data": {
      "text/plain": [
       "\n",
       "Call:\n",
       "lm(formula = lwage ~ educ + exper + IQ, data = wagedata2)\n",
       "\n",
       "Residuals:\n",
       "     Min       1Q   Median       3Q      Max \n",
       "-1.93902 -0.21414  0.02295  0.26270  1.25771 \n",
       "\n",
       "Coefficients:\n",
       "             Estimate Std. Error t value Pr(>|t|)    \n",
       "(Intercept) 5.1980851  0.1215426  42.768  < 2e-16 ***\n",
       "educ        0.0571080  0.0073480   7.772 2.04e-14 ***\n",
       "exper       0.0195249  0.0032444   6.018 2.53e-09 ***\n",
       "IQ          0.0057856  0.0009797   5.906 4.92e-09 ***\n",
       "---\n",
       "Signif. codes:  0 ‘***’ 0.001 ‘**’ 0.01 ‘*’ 0.05 ‘.’ 0.1 ‘ ’ 1\n",
       "\n",
       "Residual standard error: 0.3861 on 931 degrees of freedom\n",
       "Multiple R-squared:  0.1622,\tAdjusted R-squared:  0.1595 \n",
       "F-statistic:  60.1 on 3 and 931 DF,  p-value: < 2.2e-16\n"
      ]
     },
     "metadata": {},
     "output_type": "display_data"
    }
   ],
   "source": [
    "# True model\n",
    "reg7<- lm(lwage ~ educ + exper + ability2, data = wagedata2)\n",
    "summary(reg7)\n",
    "# Regression with proxy variable\n",
    "summary(reg6)"
   ]
  },
  {
   "cell_type": "code",
   "execution_count": 19,
   "metadata": {},
   "outputs": [],
   "source": [
    "# Including the proxy helps, but not as much"
   ]
  },
  {
   "cell_type": "code",
   "execution_count": 20,
   "metadata": {},
   "outputs": [
    {
     "data": {
      "text/plain": [
       "    Min.  1st Qu.   Median     Mean  3rd Qu.     Max. \n",
       "-4.74554 -1.86332 -0.01685 -0.09780  1.62335  4.36436 "
      ]
     },
     "metadata": {},
     "output_type": "display_data"
    },
    {
     "data": {
      "text/plain": [
       "\n",
       "Call:\n",
       "lm(formula = lwage ~ educ + exper + ability3, data = wagedata2)\n",
       "\n",
       "Residuals:\n",
       "     Min       1Q   Median       3Q      Max \n",
       "-1.84110 -0.24558  0.02749  0.26467  1.27195 \n",
       "\n",
       "Coefficients:\n",
       "            Estimate Std. Error t value      Pr(>|t|)    \n",
       "(Intercept) 5.550932   0.115974  47.864       < 2e-16 ***\n",
       "educ        0.074448   0.006897  10.794       < 2e-16 ***\n",
       "exper       0.019576   0.003302   5.928 0.00000000431 ***\n",
       "ability3    0.010141   0.006373   1.591         0.112    \n",
       "---\n",
       "Signif. codes:  0 ‘***’ 0.001 ‘**’ 0.01 ‘*’ 0.05 ‘.’ 0.1 ‘ ’ 1\n",
       "\n",
       "Residual standard error: 0.3927 on 931 degrees of freedom\n",
       "Multiple R-squared:  0.1332,\tAdjusted R-squared:  0.1304 \n",
       "F-statistic:  47.7 on 3 and 931 DF,  p-value: < 2.2e-16\n"
      ]
     },
     "metadata": {},
     "output_type": "display_data"
    },
    {
     "data": {
      "text/plain": [
       "\n",
       "Call:\n",
       "lm(formula = lwage ~ educ + exper + IQ, data = wagedata2)\n",
       "\n",
       "Residuals:\n",
       "     Min       1Q   Median       3Q      Max \n",
       "-1.93902 -0.21414  0.02295  0.26270  1.25771 \n",
       "\n",
       "Coefficients:\n",
       "             Estimate Std. Error t value Pr(>|t|)    \n",
       "(Intercept) 5.1980851  0.1215426  42.768  < 2e-16 ***\n",
       "educ        0.0571080  0.0073480   7.772 2.04e-14 ***\n",
       "exper       0.0195249  0.0032444   6.018 2.53e-09 ***\n",
       "IQ          0.0057856  0.0009797   5.906 4.92e-09 ***\n",
       "---\n",
       "Signif. codes:  0 ‘***’ 0.001 ‘**’ 0.01 ‘*’ 0.05 ‘.’ 0.1 ‘ ’ 1\n",
       "\n",
       "Residual standard error: 0.3861 on 931 degrees of freedom\n",
       "Multiple R-squared:  0.1622,\tAdjusted R-squared:  0.1595 \n",
       "F-statistic:  60.1 on 3 and 931 DF,  p-value: < 2.2e-16\n"
      ]
     },
     "metadata": {},
     "output_type": "display_data"
    },
    {
     "data": {
      "text/plain": [
       "\n",
       "Call:\n",
       "lm(formula = lwage ~ educ + exper, data = wagedata2)\n",
       "\n",
       "Residuals:\n",
       "     Min       1Q   Median       3Q      Max \n",
       "-1.86915 -0.24001  0.03564  0.26132  1.30061 \n",
       "\n",
       "Coefficients:\n",
       "            Estimate Std. Error t value      Pr(>|t|)    \n",
       "(Intercept) 5.502710   0.112037  49.115       < 2e-16 ***\n",
       "educ        0.077782   0.006577  11.827       < 2e-16 ***\n",
       "exper       0.019777   0.003303   5.988 0.00000000302 ***\n",
       "---\n",
       "Signif. codes:  0 ‘***’ 0.001 ‘**’ 0.01 ‘*’ 0.05 ‘.’ 0.1 ‘ ’ 1\n",
       "\n",
       "Residual standard error: 0.393 on 932 degrees of freedom\n",
       "Multiple R-squared:  0.1309,\tAdjusted R-squared:  0.129 \n",
       "F-statistic: 70.16 on 2 and 932 DF,  p-value: < 2.2e-16\n"
      ]
     },
     "metadata": {},
     "output_type": "display_data"
    }
   ],
   "source": [
    "# What if IQ is a pretty bad proxy?\n",
    "wagedata2$ability3=-8+0.01*wagedata2$IQ+0.25*wagedata2$educ+ runif(nrow(wagedata2))*7\n",
    "summary(wagedata2$ability3)\n",
    "# True model\n",
    "reg9<- lm(lwage ~ educ + exper + ability3, data = wagedata2)\n",
    "summary(reg9)\n",
    "# Regression with proxy variable\n",
    "summary(reg6)\n",
    "# Original biased regression\n",
    "summary(reg4)"
   ]
  },
  {
   "cell_type": "code",
   "execution_count": 21,
   "metadata": {},
   "outputs": [],
   "source": [
    "# We actually increase our bias with this bad proxy\n",
    "# Back to lecture"
   ]
  },
  {
   "cell_type": "code",
   "execution_count": 22,
   "metadata": {},
   "outputs": [
    {
     "data": {
      "text/plain": [
       "\n",
       "Call:\n",
       "lm(formula = wage ~ age + educ + exper, data = wagedata2)\n",
       "\n",
       "Residuals:\n",
       "    Min      1Q  Median      3Q     Max \n",
       "-879.71 -250.74  -42.82  193.49 2211.57 \n",
       "\n",
       "Coefficients:\n",
       "            Estimate Std. Error t value Pr(>|t|)    \n",
       "(Intercept) -559.621    152.095  -3.679 0.000247 ***\n",
       "age           12.552      4.730   2.654 0.008091 ** \n",
       "educ          71.434      6.530  10.940  < 2e-16 ***\n",
       "exper         12.127      3.774   3.213 0.001358 ** \n",
       "---\n",
       "Signif. codes:  0 ‘***’ 0.001 ‘**’ 0.01 ‘*’ 0.05 ‘.’ 0.1 ‘ ’ 1\n",
       "\n",
       "Residual standard error: 375.1 on 931 degrees of freedom\n",
       "Multiple R-squared:  0.1423,\tAdjusted R-squared:  0.1396 \n",
       "F-statistic:  51.5 on 3 and 931 DF,  p-value: < 2.2e-16\n"
      ]
     },
     "metadata": {},
     "output_type": "display_data"
    }
   ],
   "source": [
    "# Measurement error in the dependent variable\n",
    "# True model\n",
    "reg10<- lm(wage ~ age+ educ + exper, data = wagedata2)\n",
    "summary(reg10)"
   ]
  },
  {
   "cell_type": "code",
   "execution_count": 23,
   "metadata": {},
   "outputs": [
    {
     "data": {
      "text/plain": [
       "   Min. 1st Qu.  Median    Mean 3rd Qu.    Max. \n",
       "  115.0   669.0   905.0   957.9  1160.0  3078.0 "
      ]
     },
     "metadata": {},
     "output_type": "display_data"
    }
   ],
   "source": [
    "# Monthly wage distribution\n",
    "summary(wagedata2$wage)"
   ]
  },
  {
   "cell_type": "code",
   "execution_count": 24,
   "metadata": {},
   "outputs": [
    {
     "data": {
      "text/plain": [
       "   Min. 1st Qu.  Median    Mean 3rd Qu.    Max. \n",
       "  106.0   766.8  1028.6  1091.4  1343.9  3558.1 "
      ]
     },
     "metadata": {},
     "output_type": "display_data"
    },
    {
     "data": {
      "text/plain": [
       "\n",
       "Call:\n",
       "lm(formula = wage2 ~ age + educ + exper, data = wagedata2)\n",
       "\n",
       "Residuals:\n",
       "     Min       1Q   Median       3Q      Max \n",
       "-1046.23  -284.50   -43.05   244.46  2382.30 \n",
       "\n",
       "Coefficients:\n",
       "            Estimate Std. Error t value Pr(>|t|)    \n",
       "(Intercept) -398.899    173.920  -2.294   0.0220 *  \n",
       "age           15.932      5.408   2.946   0.0033 ** \n",
       "educ          65.046      7.467   8.711   <2e-16 ***\n",
       "exper          7.544      4.316   1.748   0.0808 .  \n",
       "---\n",
       "Signif. codes:  0 ‘***’ 0.001 ‘**’ 0.01 ‘*’ 0.05 ‘.’ 0.1 ‘ ’ 1\n",
       "\n",
       "Residual standard error: 428.9 on 931 degrees of freedom\n",
       "Multiple R-squared:  0.1032,\tAdjusted R-squared:  0.1003 \n",
       "F-statistic: 35.72 on 3 and 931 DF,  p-value: < 2.2e-16\n"
      ]
     },
     "metadata": {},
     "output_type": "display_data"
    }
   ],
   "source": [
    "# Suppose we measure wages with classical random error of -250 to +500\n",
    "wagedata2$wage2=wagedata2$wage+runif(nrow(wagedata2),-250,500)\n",
    "summary(wagedata2$wage2)\n",
    "# Estimates with classical error in wage\n",
    "reg11<- lm(wage2 ~age+  educ + exper , data = wagedata2)\n",
    "summary(reg11)"
   ]
  },
  {
   "cell_type": "code",
   "execution_count": 25,
   "metadata": {},
   "outputs": [],
   "source": [
    "# Let's run some simulations with classical measurement error\n",
    "library(ggplot2)"
   ]
  },
  {
   "cell_type": "code",
   "execution_count": 26,
   "metadata": {},
   "outputs": [],
   "source": [
    "estimates <- data.frame(matrix(NA,    # Create empty data frame\n",
    "                          nrow = 1000,\n",
    "                          ncol = 1)) \n",
    "estimates$coef<-0\n",
    "estimates$tstat<-0\n",
    "set.seed(1000)\n",
    "for(i in 1:1000) {\n",
    "    wagedata2$error=runif(nrow(wagedata2), -250,500)\n",
    "    wagedata2$wage2=wagedata2$wage+wagedata2$error\n",
    "    rege<-lm(wage2 ~age+  educ + exper , data = wagedata2)\n",
    "    estimates[i,'coef']<-summary(rege)$coefficients[3,1] \n",
    "    estimates[i,'tstat']<-summary(rege)$coefficients[3,3] \n",
    "}"
   ]
  },
  {
   "cell_type": "code",
   "execution_count": 27,
   "metadata": {},
   "outputs": [
    {
     "data": {
      "text/html": [
       "71.3090812050681"
      ],
      "text/latex": [
       "71.3090812050681"
      ],
      "text/markdown": [
       "71.3090812050681"
      ],
      "text/plain": [
       "[1] 71.30908"
      ]
     },
     "metadata": {},
     "output_type": "display_data"
    },
    {
     "data": {
      "text/html": [
       "71.4339895958531"
      ],
      "text/latex": [
       "71.4339895958531"
      ],
      "text/markdown": [
       "71.4339895958531"
      ],
      "text/plain": [
       "[1] 71.43399"
      ]
     },
     "metadata": {},
     "output_type": "display_data"
    },
    {
     "data": {
      "image/png": "[encoded data removed]",
      "text/plain": [
       "plot without title"
      ]
     },
     "metadata": {
      "image/png": {
       "height": 420,
       "width": 420
      }
     },
     "output_type": "display_data"
    }
   ],
   "source": [
    "# Distribution of beta_2 relative to truth\n",
    "truth<-summary(reg10)$coefficients[3,1]\n",
    "p <- ggplot(estimates, aes(x=coef)) + \n",
    "    geom_density(fill = \"blue\", alpha = .5) +\n",
    "    geom_vline( xintercept = truth)\n",
    "p\n",
    "mean(estimates$coef)\n",
    "truth"
   ]
  },
  {
   "cell_type": "code",
   "execution_count": 28,
   "metadata": {},
   "outputs": [
    {
     "data": {
      "text/html": [
       "9.46623906581135"
      ],
      "text/latex": [
       "9.46623906581135"
      ],
      "text/markdown": [
       "9.46623906581135"
      ],
      "text/plain": [
       "[1] 9.466239"
      ]
     },
     "metadata": {},
     "output_type": "display_data"
    },
    {
     "data": {
      "text/html": [
       "10.9396128676214"
      ],
      "text/latex": [
       "10.9396128676214"
      ],
      "text/markdown": [
       "10.9396128676214"
      ],
      "text/plain": [
       "[1] 10.93961"
      ]
     },
     "metadata": {},
     "output_type": "display_data"
    },
    {
     "data": {
      "image/png": "[encoded data removed]",
      "text/plain": [
       "plot without title"
      ]
     },
     "metadata": {
      "image/png": {
       "height": 420,
       "width": 420
      }
     },
     "output_type": "display_data"
    }
   ],
   "source": [
    "# Distribution of t for beta_2 relative to truth\n",
    "truth<-summary(reg10)$coefficients[3,3]\n",
    "p <- ggplot(estimates, aes(x=tstat)) + \n",
    "    geom_density(fill = \"blue\", alpha = .5) +\n",
    "    geom_vline( xintercept = truth)\n",
    "p\n",
    "mean(estimates$tstat)\n",
    "truth"
   ]
  },
  {
   "cell_type": "code",
   "execution_count": 29,
   "metadata": {},
   "outputs": [
    {
     "data": {
      "text/plain": [
       "   Min. 1st Qu.  Median    Mean 3rd Qu.    Max. \n",
       "  61.91  665.68  902.20  954.00 1158.51 3087.31 "
      ]
     },
     "metadata": {},
     "output_type": "display_data"
    },
    {
     "data": {
      "text/plain": [
       "\n",
       "Call:\n",
       "lm(formula = wage3 ~ age + educ + exper, data = wagedata2)\n",
       "\n",
       "Residuals:\n",
       "    Min      1Q  Median      3Q     Max \n",
       "-978.24 -262.52  -37.44  208.75 2224.86 \n",
       "\n",
       "Coefficients:\n",
       "            Estimate Std. Error t value Pr(>|t|)    \n",
       "(Intercept) -576.984    156.958  -3.676  0.00025 ***\n",
       "age           12.398      4.881   2.540  0.01124 *  \n",
       "educ          72.700      6.739  10.789  < 2e-16 ***\n",
       "exper         12.255      3.895   3.146  0.00171 ** \n",
       "---\n",
       "Signif. codes:  0 ‘***’ 0.001 ‘**’ 0.01 ‘*’ 0.05 ‘.’ 0.1 ‘ ’ 1\n",
       "\n",
       "Residual standard error: 387.1 on 931 degrees of freedom\n",
       "Multiple R-squared:  0.1382,\tAdjusted R-squared:  0.1355 \n",
       "F-statistic: 49.78 on 3 and 931 DF,  p-value: < 2.2e-16\n"
      ]
     },
     "metadata": {},
     "output_type": "display_data"
    },
    {
     "data": {
      "text/plain": [
       "\n",
       "Call:\n",
       "lm(formula = wage ~ age + educ + exper, data = wagedata2)\n",
       "\n",
       "Residuals:\n",
       "    Min      1Q  Median      3Q     Max \n",
       "-879.71 -250.74  -42.82  193.49 2211.57 \n",
       "\n",
       "Coefficients:\n",
       "            Estimate Std. Error t value Pr(>|t|)    \n",
       "(Intercept) -559.621    152.095  -3.679 0.000247 ***\n",
       "age           12.552      4.730   2.654 0.008091 ** \n",
       "educ          71.434      6.530  10.940  < 2e-16 ***\n",
       "exper         12.127      3.774   3.213 0.001358 ** \n",
       "---\n",
       "Signif. codes:  0 ‘***’ 0.001 ‘**’ 0.01 ‘*’ 0.05 ‘.’ 0.1 ‘ ’ 1\n",
       "\n",
       "Residual standard error: 375.1 on 931 degrees of freedom\n",
       "Multiple R-squared:  0.1423,\tAdjusted R-squared:  0.1396 \n",
       "F-statistic:  51.5 on 3 and 931 DF,  p-value: < 2.2e-16\n"
      ]
     },
     "metadata": {},
     "output_type": "display_data"
    }
   ],
   "source": [
    "# Suppose we measure wages with non-classical error, correlated with educ\n",
    "wagedata2$wage3=wagedata2$wage+runif(nrow(wagedata2),-500,500)/wagedata2$educ*4\n",
    "summary(wagedata2$wage3)\n",
    "reg12<- lm(wage3 ~age+  educ + exper , data = wagedata2)\n",
    "summary(reg12)\n",
    "summary(reg10)"
   ]
  },
  {
   "cell_type": "code",
   "execution_count": 30,
   "metadata": {},
   "outputs": [
    {
     "data": {
      "text/plain": [
       "   Min. 1st Qu.  Median    Mean 3rd Qu.    Max. \n",
       "-1488.8   153.6   942.8   968.7  1760.8  4298.4 "
      ]
     },
     "metadata": {},
     "output_type": "display_data"
    },
    {
     "data": {
      "text/plain": [
       "\n",
       "Call:\n",
       "lm(formula = wage3 ~ age + educ + exper, data = wagedata2)\n",
       "\n",
       "Residuals:\n",
       "     Min       1Q   Median       3Q      Max \n",
       "-2424.98  -823.23   -26.26   786.92  3083.86 \n",
       "\n",
       "Coefficients:\n",
       "            Estimate Std. Error t value Pr(>|t|)   \n",
       "(Intercept)  -99.129    419.128  -0.237  0.81309   \n",
       "age            8.001     13.033   0.614  0.53943   \n",
       "educ          56.752     17.994   3.154  0.00166 **\n",
       "exper          3.350     10.401   0.322  0.74748   \n",
       "---\n",
       "Signif. codes:  0 ‘***’ 0.001 ‘**’ 0.01 ‘*’ 0.05 ‘.’ 0.1 ‘ ’ 1\n",
       "\n",
       "Residual standard error: 1034 on 931 degrees of freedom\n",
       "Multiple R-squared:  0.01389,\tAdjusted R-squared:  0.01071 \n",
       "F-statistic:  4.37 on 3 and 931 DF,  p-value: 0.004583\n"
      ]
     },
     "metadata": {},
     "output_type": "display_data"
    },
    {
     "data": {
      "text/plain": [
       "\n",
       "Call:\n",
       "lm(formula = wage ~ age + educ + exper, data = wagedata2)\n",
       "\n",
       "Residuals:\n",
       "    Min      1Q  Median      3Q     Max \n",
       "-879.71 -250.74  -42.82  193.49 2211.57 \n",
       "\n",
       "Coefficients:\n",
       "            Estimate Std. Error t value Pr(>|t|)    \n",
       "(Intercept) -559.621    152.095  -3.679 0.000247 ***\n",
       "age           12.552      4.730   2.654 0.008091 ** \n",
       "educ          71.434      6.530  10.940  < 2e-16 ***\n",
       "exper         12.127      3.774   3.213 0.001358 ** \n",
       "---\n",
       "Signif. codes:  0 ‘***’ 0.001 ‘**’ 0.01 ‘*’ 0.05 ‘.’ 0.1 ‘ ’ 1\n",
       "\n",
       "Residual standard error: 375.1 on 931 degrees of freedom\n",
       "Multiple R-squared:  0.1423,\tAdjusted R-squared:  0.1396 \n",
       "F-statistic:  51.5 on 3 and 931 DF,  p-value: < 2.2e-16\n"
      ]
     },
     "metadata": {},
     "output_type": "display_data"
    }
   ],
   "source": [
    "# Suppose we measure wages with non-classical error, correlated with age\n",
    "wagedata2$wage3=wagedata2$wage+runif(nrow(wagedata2),-100,100)*wagedata2$age/2\n",
    "summary(wagedata2$wage3)\n",
    "reg13<- lm(wage3 ~age+  educ + exper , data = wagedata2)\n",
    "summary(reg13)\n",
    "summary(reg10)"
   ]
  }
 ],
 "metadata": {
  "kernelspec": {
   "display_name": "R",
   "language": "R",
   "name": "ir"
  },
  "language_info": {
   "codemirror_mode": "r",
   "file_extension": ".r",
   "mimetype": "text/x-r-source",
   "name": "R",
   "pygments_lexer": "r",
   "version": "4.1.1"
  }
 },
 "nbformat": 4,
 "nbformat_minor": 2
}
