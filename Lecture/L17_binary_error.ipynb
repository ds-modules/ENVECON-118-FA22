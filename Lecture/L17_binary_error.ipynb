{
 "cells": [
  {
   "cell_type": "code",
   "execution_count": null,
   "metadata": {},
   "outputs": [],
   "source": [
    "library(haven)\n",
    "options(scipen = 5)"
   ]
  },
  {
   "cell_type": "code",
   "execution_count": null,
   "metadata": {},
   "outputs": [],
   "source": [
    "# Dataset on labor supply in Kenya in 2020 during Covid\n",
    "kenya<-read_dta(\"kenya_labor_covid.dta\")\n",
    "head(kenya)"
   ]
  },
  {
   "cell_type": "code",
   "execution_count": null,
   "metadata": {},
   "outputs": [],
   "source": [
    "reg1<- lm(employed~ age + gender + ishead + marital +\n",
    "          current_num_adults+current_num_5_17 +current_num_0_4, data = kenya)\n",
    "summary(reg1)"
   ]
  },
  {
   "cell_type": "code",
   "execution_count": null,
   "metadata": {},
   "outputs": [],
   "source": [
    "# How to interpret the intercept?\n",
    "# How to interpret the coefficient on gender (dummy where female=1)?"
   ]
  },
  {
   "cell_type": "code",
   "execution_count": null,
   "metadata": {},
   "outputs": [],
   "source": [
    "# Predicted value for 30 year old woman with some characteristics\n",
    "predempl = c(1,30,1,0,1,4,5,0) %*% summary(reg1)$coef[,1]\n",
    "as.numeric(round(predempl,3))\n",
    "# And for a 60 year old\n",
    "predempl2 = c(1,60,1,0,1,4,5,0) %*% summary(reg1)$coef[,1]\n",
    "as.numeric(round(predempl2,3))"
   ]
  },
  {
   "cell_type": "code",
   "execution_count": null,
   "metadata": {},
   "outputs": [],
   "source": [
    "# Any issue here?\n",
    "# Not specific to this particular model\n",
    "# Back to lecture"
   ]
  },
  {
   "cell_type": "code",
   "execution_count": null,
   "metadata": {},
   "outputs": [],
   "source": [
    "# Logit model with binary dep var\n",
    "reg2<- glm(employed~ gender, data = kenya, family = \"binomial\")\n",
    "summary(reg2)"
   ]
  },
  {
   "cell_type": "code",
   "execution_count": null,
   "metadata": {},
   "outputs": [],
   "source": [
    "# How to interpret the coefficient for gender?\n",
    "mean(kenya[kenya$gender==1,]$employed)\n",
    "mean(kenya[kenya$gender==0,]$employed)\n",
    "orf=mean(kenya[kenya$gender==1,]$employed)/(1-mean(kenya[kenya$gender==1,]$employed))\n",
    "orm=mean(kenya[kenya$gender==0,]$employed)/(1-mean(kenya[kenya$gender==0,]$employed))\n",
    "orf/orm\n",
    "log(orf/orm)"
   ]
  },
  {
   "cell_type": "code",
   "execution_count": null,
   "metadata": {},
   "outputs": [],
   "source": [
    "# Converting log odds\n",
    "logodds=round(summary(reg2)$coef[2,1],3) # log odds\n",
    "oddsratio=round(exp(logodds),3) # odds\n",
    "logodds\n",
    "oddsratio"
   ]
  },
  {
   "cell_type": "code",
   "execution_count": null,
   "metadata": {},
   "outputs": [],
   "source": [
    "# Logit model with continuous dep var\n",
    "reg3<- glm(employed~ gender+age, data = kenya, family = \"binomial\")\n",
    "summary(reg3)"
   ]
  },
  {
   "cell_type": "code",
   "execution_count": null,
   "metadata": {},
   "outputs": [],
   "source": [
    "# How to interpret coefficient on age?\n",
    "round(exp(summary(reg3)$coef[3,1]),3)\n",
    "# Back to lecture"
   ]
  },
  {
   "cell_type": "code",
   "execution_count": null,
   "metadata": {},
   "outputs": [],
   "source": [
    "# Proxy variables\n",
    "# Load data on monthly wages\n",
    "wagedata2<-read_dta(\"WAGE2.DTA\")\n",
    "head(wagedata2)"
   ]
  },
  {
   "cell_type": "code",
   "execution_count": null,
   "metadata": {},
   "outputs": [],
   "source": [
    "# Suppose unobserved ability=delta_0 + \\delta_1 IQ + v\n",
    "wagedata2$ability=-10+0.1*wagedata2$IQ+runif(nrow(wagedata2))\n",
    "summary(wagedata2$ability)"
   ]
  },
  {
   "cell_type": "code",
   "execution_count": null,
   "metadata": {},
   "outputs": [],
   "source": [
    "#biased model\n",
    "reg4<-lm(lwage ~ educ + exper, data = wagedata2)\n",
    "summary(reg4)\n",
    "#true model\n",
    "reg5<-lm(lwage ~ educ + exper + ability, data = wagedata2)\n",
    "summary(reg5)"
   ]
  },
  {
   "cell_type": "code",
   "execution_count": null,
   "metadata": {},
   "outputs": [],
   "source": [
    "# How is the coefficient on educ biased? \n",
    "# What does that imply about the relationship between educ and ability?"
   ]
  },
  {
   "cell_type": "code",
   "execution_count": null,
   "metadata": {},
   "outputs": [],
   "source": [
    "# Regression with proxy variable\n",
    "reg6<- lm(lwage ~ educ + exper + IQ, data = wagedata2)\n",
    "summary(reg6)"
   ]
  },
  {
   "cell_type": "code",
   "execution_count": null,
   "metadata": {},
   "outputs": [],
   "source": [
    "# What if IQ had been less of a good proxy?\n",
    "# Suppose unobserved ability=delta_0 + \\delta_1 IQ + \\delta_2 educ + v_2\n",
    "wagedata2$ability2=-11+0.1*wagedata2$IQ+0.1*wagedata2$educ+ runif(nrow(wagedata2))\n",
    "summary(wagedata2$ability2)"
   ]
  },
  {
   "cell_type": "code",
   "execution_count": null,
   "metadata": {},
   "outputs": [],
   "source": [
    "# True model\n",
    "reg7<- lm(lwage ~ educ + exper + ability2, data = wagedata2)\n",
    "summary(reg7)\n",
    "# Regression with proxy variable\n",
    "summary(reg6)"
   ]
  },
  {
   "cell_type": "code",
   "execution_count": null,
   "metadata": {},
   "outputs": [],
   "source": [
    "# Including the proxy helps, but not as much"
   ]
  },
  {
   "cell_type": "code",
   "execution_count": null,
   "metadata": {},
   "outputs": [],
   "source": [
    "# What if IQ is a pretty bad proxy?\n",
    "wagedata2$ability3=-8+0.01*wagedata2$IQ+0.25*wagedata2$educ+ runif(nrow(wagedata2))*7\n",
    "summary(wagedata2$ability3)\n",
    "# True model\n",
    "reg9<- lm(lwage ~ educ + exper + ability3, data = wagedata2)\n",
    "summary(reg9)\n",
    "# Regression with proxy variable\n",
    "summary(reg6)\n",
    "# Original biased regression\n",
    "summary(reg4)"
   ]
  },
  {
   "cell_type": "code",
   "execution_count": null,
   "metadata": {},
   "outputs": [],
   "source": [
    "# We actually increase our bias with this bad proxy\n",
    "# Back to lecture"
   ]
  },
  {
   "cell_type": "code",
   "execution_count": null,
   "metadata": {},
   "outputs": [],
   "source": [
    "# Measurement error in the dependent variable\n",
    "# True model\n",
    "reg10<- lm(wage ~ age+ educ + exper, data = wagedata2)\n",
    "summary(reg10)"
   ]
  },
  {
   "cell_type": "code",
   "execution_count": null,
   "metadata": {},
   "outputs": [],
   "source": [
    "# Monthly wage distribution\n",
    "summary(wagedata2$wage)"
   ]
  },
  {
   "cell_type": "code",
   "execution_count": null,
   "metadata": {},
   "outputs": [],
   "source": [
    "# Suppose we measure wages with classical random error of -250 to +500\n",
    "wagedata2$wage2=wagedata2$wage+runif(nrow(wagedata2),-250,500)\n",
    "summary(wagedata2$wage2)\n",
    "# Estimates with classical error in wage\n",
    "reg11<- lm(wage2 ~age+  educ + exper , data = wagedata2)\n",
    "summary(reg11)"
   ]
  },
  {
   "cell_type": "code",
   "execution_count": null,
   "metadata": {},
   "outputs": [],
   "source": [
    "# Let's run some simulations with classical measurement error\n",
    "library(ggplot2)"
   ]
  },
  {
   "cell_type": "code",
   "execution_count": null,
   "metadata": {},
   "outputs": [],
   "source": [
    "estimates <- data.frame(matrix(NA,    # Create empty data frame\n",
    "                          nrow = 1000,\n",
    "                          ncol = 1)) \n",
    "estimates$coef<-0\n",
    "estimates$tstat<-0\n",
    "set.seed(1000)\n",
    "for(i in 1:1000) {\n",
    "    wagedata2$error=runif(nrow(wagedata2), -250,500)\n",
    "    wagedata2$wage2=wagedata2$wage+wagedata2$error\n",
    "    rege<-lm(wage2 ~age+  educ + exper , data = wagedata2)\n",
    "    estimates[i,'coef']<-summary(rege)$coefficients[3,1] \n",
    "    estimates[i,'tstat']<-summary(rege)$coefficients[3,3] \n",
    "}"
   ]
  },
  {
   "cell_type": "code",
   "execution_count": null,
   "metadata": {},
   "outputs": [],
   "source": [
    "# Distribution of beta_2 relative to truth\n",
    "truth<-summary(reg10)$coefficients[3,1]\n",
    "p <- ggplot(estimates, aes(x=coef)) + \n",
    "    geom_density(fill = \"blue\", alpha = .5) +\n",
    "    geom_vline( xintercept = truth)\n",
    "p\n",
    "mean(estimates$coef)\n",
    "truth"
   ]
  },
  {
   "cell_type": "code",
   "execution_count": null,
   "metadata": {},
   "outputs": [],
   "source": [
    "# Distribution of t for beta_2 relative to truth\n",
    "truth<-summary(reg10)$coefficients[3,3]\n",
    "p <- ggplot(estimates, aes(x=tstat)) + \n",
    "    geom_density(fill = \"blue\", alpha = .5) +\n",
    "    geom_vline( xintercept = truth)\n",
    "p\n",
    "mean(estimates$tstat)\n",
    "truth"
   ]
  },
  {
   "cell_type": "code",
   "execution_count": null,
   "metadata": {},
   "outputs": [],
   "source": [
    "# Suppose we measure wages with non-classical error, correlated with educ\n",
    "wagedata2$wage3=wagedata2$wage+runif(nrow(wagedata2),-500,500)/wagedata2$educ*4\n",
    "summary(wagedata2$wage3)\n",
    "reg12<- lm(wage3 ~age+  educ + exper , data = wagedata2)\n",
    "summary(reg12)\n",
    "summary(reg10)"
   ]
  },
  {
   "cell_type": "code",
   "execution_count": null,
   "metadata": {},
   "outputs": [],
   "source": [
    "# Suppose we measure wages with non-classical error, correlated with age\n",
    "wagedata2$wage3=wagedata2$wage+runif(nrow(wagedata2),-100,100)*wagedata2$age/2\n",
    "summary(wagedata2$wage3)\n",
    "reg13<- lm(wage3 ~age+  educ + exper , data = wagedata2)\n",
    "summary(reg13)\n",
    "summary(reg10)"
   ]
  }
 ],
 "metadata": {
  "kernelspec": {
   "display_name": "R",
   "language": "R",
   "name": "ir"
  },
  "language_info": {
   "codemirror_mode": "r",
   "file_extension": ".r",
   "mimetype": "text/x-r-source",
   "name": "R",
   "pygments_lexer": "r",
   "version": "4.1.1"
  }
 },
 "nbformat": 4,
 "nbformat_minor": 2
}
