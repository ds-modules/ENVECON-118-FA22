{
 "cells": [
  {
   "cell_type": "code",
   "execution_count": null,
   "metadata": {},
   "outputs": [],
   "source": [
    "library(foreign)\n",
    "wagedata<- read.dta(\"WAGE1.DTA\")"
   ]
  },
  {
   "cell_type": "code",
   "execution_count": null,
   "metadata": {},
   "outputs": [],
   "source": [
    "# R^2 and Adjusted R^2\n",
    "\n",
    "#Adding relevant variables\n",
    "Reg1 <- lm(lwage ~ educ, data = wagedata)\n",
    "Reg2 <- lm(lwage ~ educ + exper + female, data = wagedata)\n",
    "summary(Reg1)\n",
    "summary(Reg2)"
   ]
  },
  {
   "cell_type": "code",
   "execution_count": null,
   "metadata": {},
   "outputs": [],
   "source": [
    "#Adding non-relevant variable\n",
    "Reg3 <- lm(lwage ~ educ + exper + female + nonwhite, data = wagedata)\n",
    "summary(Reg2)\n",
    "summary(Reg3)"
   ]
  },
  {
   "cell_type": "code",
   "execution_count": null,
   "metadata": {},
   "outputs": [],
   "source": [
    "# Back to lecture"
   ]
  },
  {
   "cell_type": "code",
   "execution_count": null,
   "metadata": {},
   "outputs": [],
   "source": [
    "# MLR standard errors\n",
    "#What does the difference in SE(educ) when adding controls imply about the components of SE(educ)?\n",
    "summary(Reg1)\n",
    "summary(Reg2)"
   ]
  },
  {
   "cell_type": "code",
   "execution_count": null,
   "metadata": {},
   "outputs": [],
   "source": [
    "#What about adding a highly-correlated variable?\n",
    "wagedata$age<-wagedata$exper+wagedata$educ+6+runif(nrow(wagedata))*5\n",
    "Reg4 <-lm(lwage ~ educ + exper + female + age, data = wagedata)\n",
    "#What does the difference in SE(educ) when adding this variable imply about how the components of SE(educ) changed?\n",
    "summary(Reg2)\n",
    "summary(Reg4)"
   ]
  }
 ],
 "metadata": {
  "kernelspec": {
   "display_name": "R",
   "language": "R",
   "name": "ir"
  },
  "language_info": {
   "codemirror_mode": "r",
   "file_extension": ".r",
   "mimetype": "text/x-r-source",
   "name": "R",
   "pygments_lexer": "r",
   "version": "4.1.1"
  }
 },
 "nbformat": 4,
 "nbformat_minor": 2
}
