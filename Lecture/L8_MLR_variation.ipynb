{
 "cells": [
  {
   "cell_type": "code",
   "execution_count": null,
   "metadata": {},
   "outputs": [],
   "source": [
    "library(foreign)\n",
    "wagedata<- read.dta(\"WAGE1.DTA\")"
   ]
  },
  {
   "cell_type": "code",
   "execution_count": null,
   "metadata": {},
   "outputs": [],
   "source": [
    "# R^2 and Adjusted R^2\n",
    "\n",
    "#Adding relevant variables\n",
    "Reg1 <- lm(lwage ~ educ, data = wagedata)\n",
    "Reg2 <- lm(lwage ~ educ + exper + female, data = wagedata)\n",
    "summary(Reg1)\n",
    "summary(Reg2)"
   ]
  },
  {
   "cell_type": "code",
   "execution_count": null,
   "metadata": {},
   "outputs": [],
   "source": [
    "#Adding non-relevant variable\n",
    "Reg3 <- lm(lwage ~ educ + exper + female + nonwhite, data = wagedata)\n",
    "summary(Reg2)\n",
    "summary(Reg3)"
   ]
  },
  {
   "cell_type": "code",
   "execution_count": null,
   "metadata": {},
   "outputs": [],
   "source": [
    "# Back to lecture"
   ]
  },
  {
   "cell_type": "code",
   "execution_count": null,
   "metadata": {},
   "outputs": [],
   "source": [
    "# MLR standard errors\n",
    "#What does the difference in SE(educ) when adding controls imply about the components of SE(educ)?\n",
    "summary(Reg1)\n",
    "summary(Reg2)"
   ]
  },
  {
   "cell_type": "code",
   "execution_count": null,
   "metadata": {},
   "outputs": [],
   "source": [
    "#What about adding a highly-correlated variable?\n",
    "wagedata$age<-wagedata$exper+wagedata$educ+6+runif(nrow(wagedata))*5\n",
    "Reg4 <-lm(lwage ~ educ + exper + female + age, data = wagedata)\n",
    "#What does the difference in SE(educ) when adding this variable imply about how the components of SE(educ) changed?\n",
    "summary(Reg2)\n",
    "summary(Reg4)"
   ]
  },
  {
   "cell_type": "code",
   "execution_count": null,
   "metadata": {},
   "outputs": [],
   "source": [
    "# Back to lecture"
   ]
  },
  {
   "cell_type": "code",
   "execution_count": null,
   "metadata": {},
   "outputs": [],
   "source": [
    "# Confidence intervals simulation\n",
    "\n",
    "# Suppose we are interested in mean height for the population of 100 students in the class. \n",
    "# Let X be the random variable height, in inches.\n",
    "# I generate here a simulated set of 100 student heights\n",
    "set.seed(12345)\n",
    "X=65+runif(100,min=-8,max=10) # Simulated heights are uniformly distributed from 57 to 75 inches\n",
    "# Calculate the true population mean\n",
    "mu=mean(X)\n",
    "round(mu,3)"
   ]
  },
  {
   "cell_type": "code",
   "execution_count": null,
   "metadata": {},
   "outputs": [],
   "source": [
    "# Suppose I draw a random sample of 25 students\n",
    "data=data.frame(X)\n",
    "data$sample<-runif(100)<0.25\n",
    "head(data,10)"
   ]
  },
  {
   "cell_type": "code",
   "execution_count": null,
   "metadata": {},
   "outputs": [],
   "source": [
    "# Calculate the sample mean and sample SD\n",
    "bar_x=mean(data[data$sample==TRUE,\"X\"])\n",
    "sd_x=sd(data[data$sample==TRUE,\"X\"])\n",
    "c(bar_x,sd_x)"
   ]
  },
  {
   "cell_type": "code",
   "execution_count": null,
   "metadata": {},
   "outputs": [],
   "source": [
    "# Suppose we want to estimate a 95\\% confidence interval for the population mean of height in the class\n",
    "# We have estimated sigma^2_x with the sample SD, so our normalized variable will have a t distribution\n",
    "# We want the critical value for a 95\\% confidence interval with n-1=99 degrees of freedom: 1.984\n",
    "# We know Pr(-1.984<(bar_x-mu)/(sd_x/sqrt(n))<1.984)=0.95\n",
    "# Rearranging gives Pr(bar_x-1.984*sd_x/sqrt(n)<mu<bar_x+1.984*sd_x/sqrt(n))=0.95\n",
    "# This means that there is a 95\\% probability that the population mean is within this interval for a given sample\n",
    "# Substitute in with what we've calculated for this sample\n",
    "n=25\n",
    "lci=round(bar_x-1.984*sd_x/sqrt(n),3)\n",
    "rci=round(bar_x+1.984*sd_x/sqrt(n),3)\n",
    "print(paste0(\"The 95% confidence interval is [\",lci,\",\",rci,\"].\"))\n",
    "print(paste0(\"True mu of \",round(mu,3),\" is in this interval? \",(mu>=lci & mu<=rci)))"
   ]
  },
  {
   "cell_type": "code",
   "execution_count": null,
   "metadata": {},
   "outputs": [],
   "source": [
    "# Let's simulate this process drawing 1000 different samples of 25 students\n",
    "# We will calculate a 95% confidence interval for each sample\n",
    "bar_xs<-numeric(1000)\n",
    "inside<-numeric(1000)\n",
    "for(s in 1:1000) {\n",
    "    data$sample<-runif(100)<0.25\n",
    "    bar_x=mean(data[data$sample==TRUE,\"X\"])\n",
    "    sd_x=sd(data[data$sample==TRUE,\"X\"])\n",
    "    bar_xs[s]=bar_x\n",
    "    lci=round(bar_x-1.984*sd_x/sqrt(n),3)\n",
    "    rci=round(bar_x+1.984*sd_x/sqrt(n),3)\n",
    "    inside[s]=(mu>=lci & mu<=rci)\n",
    "}"
   ]
  },
  {
   "cell_type": "code",
   "execution_count": null,
   "metadata": {},
   "outputs": [],
   "source": [
    "# Histogram of estimated sample means\n",
    "hist(bar_xs,50)\n",
    "abline(v=mean(bar_xs),col=\"red\",lwd=2) # mean of observed sample means\n",
    "abline(v=mu,col=\"blue\",lwd=2) # true population mean\n",
    "# It looks approximately normal and centered around mu, as suggested by the Central Limit Theorem\n",
    "# If we increased our sample size, the shape would get even closer to normal"
   ]
  },
  {
   "cell_type": "code",
   "execution_count": null,
   "metadata": {},
   "outputs": [],
   "source": [
    "# For how many samples was the true population mean inside our 95% confidence interval?\n",
    "# We would expect it to be very close to 95%\n",
    "mean(inside)\n",
    "# This illustrates what it means to estimate a 95% confidence interval: for 95% of samples, it will contain mu"
   ]
  }
 ],
 "metadata": {
  "kernelspec": {
   "display_name": "R",
   "language": "R",
   "name": "ir"
  },
  "language_info": {
   "codemirror_mode": "r",
   "file_extension": ".r",
   "mimetype": "text/x-r-source",
   "name": "R",
   "pygments_lexer": "r",
   "version": "4.1.1"
  }
 },
 "nbformat": 4,
 "nbformat_minor": 2
}
