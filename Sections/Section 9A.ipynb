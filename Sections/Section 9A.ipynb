{
 "cells": [
  {
   "cell_type": "markdown",
   "metadata": {},
   "source": [
    "# EEP C118 Section 9A: Measurement Error"
   ]
  },
  {
   "cell_type": "markdown",
   "metadata": {},
   "source": [
    "Suppose we want to know the relationship between hours slept and hours worked, but we have concerns about measurement error. We will use `sleep.dta` which contains the relevant data. Remember to read in `.dta` files, we need to use the `haven` package."
   ]
  },
  {
   "cell_type": "markdown",
   "metadata": {},
   "source": [
    "### 0. Data Prep"
   ]
  },
  {
   "cell_type": "code",
   "execution_count": 4,
   "metadata": {},
   "outputs": [],
   "source": [
    "library(tidyverse)\n",
    "library(haven)\n",
    "sleepdata <- read_dta(\"sleep75.dta\")"
   ]
  },
  {
   "cell_type": "code",
   "execution_count": 5,
   "metadata": {},
   "outputs": [
    {
     "data": {
      "text/html": [
       "<style>\n",
       ".list-inline {list-style: none; margin:0; padding: 0}\n",
       ".list-inline>li {display: inline-block}\n",
       ".list-inline>li:not(:last-child)::after {content: \"\\00b7\"; padding: 0 .5ex}\n",
       "</style>\n",
       "<ol class=list-inline><li>'age'</li><li>'black'</li><li>'case'</li><li>'clerical'</li><li>'construc'</li><li>'educ'</li><li>'earns74'</li><li>'gdhlth'</li><li>'inlf'</li><li>'leis1'</li><li>'leis2'</li><li>'leis3'</li><li>'smsa'</li><li>'lhrwage'</li><li>'lothinc'</li><li>'male'</li><li>'marr'</li><li>'prot'</li><li>'rlxall'</li><li>'selfe'</li><li>'sleep'</li><li>'slpnaps'</li><li>'south'</li><li>'spsepay'</li><li>'spwrk75'</li><li>'totwrk'</li><li>'union'</li><li>'worknrm'</li><li>'workscnd'</li><li>'exper'</li><li>'yngkid'</li><li>'yrsmarr'</li><li>'hrwage'</li><li>'agesq'</li></ol>\n"
      ],
      "text/latex": [
       "\\begin{enumerate*}\n",
       "\\item 'age'\n",
       "\\item 'black'\n",
       "\\item 'case'\n",
       "\\item 'clerical'\n",
       "\\item 'construc'\n",
       "\\item 'educ'\n",
       "\\item 'earns74'\n",
       "\\item 'gdhlth'\n",
       "\\item 'inlf'\n",
       "\\item 'leis1'\n",
       "\\item 'leis2'\n",
       "\\item 'leis3'\n",
       "\\item 'smsa'\n",
       "\\item 'lhrwage'\n",
       "\\item 'lothinc'\n",
       "\\item 'male'\n",
       "\\item 'marr'\n",
       "\\item 'prot'\n",
       "\\item 'rlxall'\n",
       "\\item 'selfe'\n",
       "\\item 'sleep'\n",
       "\\item 'slpnaps'\n",
       "\\item 'south'\n",
       "\\item 'spsepay'\n",
       "\\item 'spwrk75'\n",
       "\\item 'totwrk'\n",
       "\\item 'union'\n",
       "\\item 'worknrm'\n",
       "\\item 'workscnd'\n",
       "\\item 'exper'\n",
       "\\item 'yngkid'\n",
       "\\item 'yrsmarr'\n",
       "\\item 'hrwage'\n",
       "\\item 'agesq'\n",
       "\\end{enumerate*}\n"
      ],
      "text/markdown": [
       "1. 'age'\n",
       "2. 'black'\n",
       "3. 'case'\n",
       "4. 'clerical'\n",
       "5. 'construc'\n",
       "6. 'educ'\n",
       "7. 'earns74'\n",
       "8. 'gdhlth'\n",
       "9. 'inlf'\n",
       "10. 'leis1'\n",
       "11. 'leis2'\n",
       "12. 'leis3'\n",
       "13. 'smsa'\n",
       "14. 'lhrwage'\n",
       "15. 'lothinc'\n",
       "16. 'male'\n",
       "17. 'marr'\n",
       "18. 'prot'\n",
       "19. 'rlxall'\n",
       "20. 'selfe'\n",
       "21. 'sleep'\n",
       "22. 'slpnaps'\n",
       "23. 'south'\n",
       "24. 'spsepay'\n",
       "25. 'spwrk75'\n",
       "26. 'totwrk'\n",
       "27. 'union'\n",
       "28. 'worknrm'\n",
       "29. 'workscnd'\n",
       "30. 'exper'\n",
       "31. 'yngkid'\n",
       "32. 'yrsmarr'\n",
       "33. 'hrwage'\n",
       "34. 'agesq'\n",
       "\n",
       "\n"
      ],
      "text/plain": [
       " [1] \"age\"      \"black\"    \"case\"     \"clerical\" \"construc\" \"educ\"    \n",
       " [7] \"earns74\"  \"gdhlth\"   \"inlf\"     \"leis1\"    \"leis2\"    \"leis3\"   \n",
       "[13] \"smsa\"     \"lhrwage\"  \"lothinc\"  \"male\"     \"marr\"     \"prot\"    \n",
       "[19] \"rlxall\"   \"selfe\"    \"sleep\"    \"slpnaps\"  \"south\"    \"spsepay\" \n",
       "[25] \"spwrk75\"  \"totwrk\"   \"union\"    \"worknrm\"  \"workscnd\" \"exper\"   \n",
       "[31] \"yngkid\"   \"yrsmarr\"  \"hrwage\"   \"agesq\"   "
      ]
     },
     "metadata": {},
     "output_type": "display_data"
    }
   ],
   "source": [
    "colnames(sleepdata)"
   ]
  },
  {
   "cell_type": "markdown",
   "metadata": {},
   "source": [
    "Let's make a new variable called _sleephrs_ that is hours slept per night."
   ]
  },
  {
   "cell_type": "code",
   "execution_count": 6,
   "metadata": {},
   "outputs": [
    {
     "data": {
      "text/plain": [
       "   Min. 1st Qu.  Median    Mean 3rd Qu.    Max. \n",
       "  1.798   7.179   7.787   7.777   8.410  11.179 "
      ]
     },
     "metadata": {},
     "output_type": "display_data"
    }
   ],
   "source": [
    "sleepdata$sleephrs<-sleepdata$sleep/(7*60)\n",
    "summary(sleepdata$sleephrs)"
   ]
  },
  {
   "cell_type": "markdown",
   "metadata": {},
   "source": [
    "Let's do the same thing for _totwrk_, making a variable called _wrkhrs_."
   ]
  },
  {
   "cell_type": "code",
   "execution_count": 7,
   "metadata": {},
   "outputs": [
    {
     "data": {
      "text/plain": [
       "   Min. 1st Qu.  Median    Mean 3rd Qu.    Max. \n",
       "  0.000   3.699   5.448   5.055   6.409  15.274 "
      ]
     },
     "metadata": {},
     "output_type": "display_data"
    }
   ],
   "source": [
    "sleepdata$wrkhrs<-sleepdata$totwrk/(7*60)\n",
    "summary(sleepdata$wrkhrs)"
   ]
  },
  {
   "cell_type": "markdown",
   "metadata": {},
   "source": [
    "Great! Now let's run a regression and look at the results."
   ]
  },
  {
   "cell_type": "code",
   "execution_count": 8,
   "metadata": {},
   "outputs": [
    {
     "data": {
      "text/plain": [
       "\n",
       "Call:\n",
       "lm(formula = sleephrs ~ wrkhrs, data = sleepdata)\n",
       "\n",
       "Residuals:\n",
       "    Min      1Q  Median      3Q     Max \n",
       "-5.7856 -0.5720  0.0117  0.5965  3.1898 \n",
       "\n",
       "Coefficients:\n",
       "            Estimate Std. Error t value Pr(>|t|)    \n",
       "(Intercept)  8.53899    0.09265  92.165   <2e-16 ***\n",
       "wrkhrs      -0.15075    0.01674  -9.005   <2e-16 ***\n",
       "---\n",
       "Signif. codes:  0 ‘***’ 0.001 ‘**’ 0.01 ‘*’ 0.05 ‘.’ 0.1 ‘ ’ 1\n",
       "\n",
       "Residual standard error: 1.003 on 704 degrees of freedom\n",
       "Multiple R-squared:  0.1033,\tAdjusted R-squared:  0.102 \n",
       "F-statistic: 81.09 on 1 and 704 DF,  p-value: < 2.2e-16\n"
      ]
     },
     "metadata": {},
     "output_type": "display_data"
    }
   ],
   "source": [
    "slr<-lm(sleephrs~wrkhrs, data=sleepdata)\n",
    "summary(slr)"
   ]
  },
  {
   "cell_type": "markdown",
   "metadata": {},
   "source": [
    "### 1. Classical measurement error in an independent variable"
   ]
  },
  {
   "cell_type": "code",
   "execution_count": 10,
   "metadata": {},
   "outputs": [
    {
     "data": {
      "text/plain": [
       "    Min.  1st Qu.   Median     Mean  3rd Qu.     Max. \n",
       "0.005399 0.968199 1.984864 1.982547 3.017711 3.996401 "
      ]
     },
     "metadata": {},
     "output_type": "display_data"
    },
    {
     "data": {
      "text/plain": [
       "   Min. 1st Qu.  Median    Mean 3rd Qu.    Max. \n",
       " 0.2061  5.5205  7.1721  7.0371  8.8014 18.0349 "
      ]
     },
     "metadata": {},
     "output_type": "display_data"
    },
    {
     "data": {
      "text/plain": [
       "   Min. 1st Qu.  Median    Mean 3rd Qu.    Max. \n",
       "  0.000   3.699   5.448   5.055   6.409  15.274 "
      ]
     },
     "metadata": {},
     "output_type": "display_data"
    },
    {
     "data": {
      "text/plain": [
       "\n",
       "Call:\n",
       "lm(formula = sleephrs ~ wrkhrse, data = sleepdata)\n",
       "\n",
       "Residuals:\n",
       "    Min      1Q  Median      3Q     Max \n",
       "-5.7925 -0.5726  0.0055  0.6275  3.1953 \n",
       "\n",
       "Coefficients:\n",
       "            Estimate Std. Error t value Pr(>|t|)    \n",
       "(Intercept)  8.64156    0.11110  77.785  < 2e-16 ***\n",
       "wrkhrse     -0.12285    0.01483  -8.282 6.07e-16 ***\n",
       "---\n",
       "Signif. codes:  0 ‘***’ 0.001 ‘**’ 0.01 ‘*’ 0.05 ‘.’ 0.1 ‘ ’ 1\n",
       "\n",
       "Residual standard error: 1.011 on 704 degrees of freedom\n",
       "Multiple R-squared:  0.08879,\tAdjusted R-squared:  0.0875 \n",
       "F-statistic:  68.6 on 1 and 704 DF,  p-value: 6.074e-16\n"
      ]
     },
     "metadata": {},
     "output_type": "display_data"
    }
   ],
   "source": [
    "# create error variable: random number between 0 and 4\n",
    "sleepdata$error=runif(nrow(sleepdata), 0,4)\n",
    "summary(sleepdata$error)\n",
    "# Add random noise to work hours\n",
    "sleepdata$wrkhrse=sleepdata$wrkhrs+sleepdata$error\n",
    "summary(sleepdata$wrkhrse)\n",
    "summary(sleepdata$wrkhrs)\n",
    "slr_cme<-lm(sleephrs~wrkhrse, data=sleepdata)\n",
    "summary(slr_cme)"
   ]
  },
  {
   "cell_type": "markdown",
   "metadata": {},
   "source": [
    "**What happened to our estimated relationship between work hours and sleep hours?**\n",
    "\n",
    "**What would happen if the random error in the measurement of work hours was larger?**"
   ]
  },
  {
   "cell_type": "code",
   "execution_count": 11,
   "metadata": {},
   "outputs": [
    {
     "data": {
      "text/plain": [
       "   Min. 1st Qu.  Median    Mean 3rd Qu.    Max. \n",
       "0.02018 1.81735 3.89180 3.92152 6.03313 7.98151 "
      ]
     },
     "metadata": {},
     "output_type": "display_data"
    },
    {
     "data": {
      "text/plain": [
       "   Min. 1st Qu.  Median    Mean 3rd Qu.    Max. \n",
       "  0.579   6.599   9.035   8.976  11.444  18.098 "
      ]
     },
     "metadata": {},
     "output_type": "display_data"
    },
    {
     "data": {
      "text/plain": [
       "   Min. 1st Qu.  Median    Mean 3rd Qu.    Max. \n",
       "  0.000   3.699   5.448   5.055   6.409  15.274 "
      ]
     },
     "metadata": {},
     "output_type": "display_data"
    },
    {
     "data": {
      "text/plain": [
       "\n",
       "Call:\n",
       "lm(formula = sleephrs ~ wrkhrse, data = sleepdata)\n",
       "\n",
       "Residuals:\n",
       "    Min      1Q  Median      3Q     Max \n",
       "-5.9401 -0.5899  0.0386  0.6116  3.4902 \n",
       "\n",
       "Coefficients:\n",
       "            Estimate Std. Error t value Pr(>|t|)    \n",
       "(Intercept)  8.39040    0.11684  71.814  < 2e-16 ***\n",
       "wrkhrse     -0.06833    0.01227  -5.569 3.64e-08 ***\n",
       "---\n",
       "Signif. codes:  0 ‘***’ 0.001 ‘**’ 0.01 ‘*’ 0.05 ‘.’ 0.1 ‘ ’ 1\n",
       "\n",
       "Residual standard error: 1.036 on 704 degrees of freedom\n",
       "Multiple R-squared:  0.0422,\tAdjusted R-squared:  0.04084 \n",
       "F-statistic: 31.02 on 1 and 704 DF,  p-value: 3.642e-08\n"
      ]
     },
     "metadata": {},
     "output_type": "display_data"
    }
   ],
   "source": [
    "# create error variable: random number between 0 and 8\n",
    "sleepdata$error=runif(nrow(sleepdata), 0,8)\n",
    "summary(sleepdata$error)\n",
    "# Add random noise to work hours\n",
    "sleepdata$wrkhrse=sleepdata$wrkhrs+sleepdata$error\n",
    "summary(sleepdata$wrkhrse)\n",
    "summary(sleepdata$wrkhrs)\n",
    "slr_cme2<-lm(sleephrs~wrkhrse, data=sleepdata)\n",
    "summary(slr_cme2)"
   ]
  },
  {
   "cell_type": "markdown",
   "metadata": {},
   "source": [
    "**What about coefficient estimates for covariates? Are they affected by classical measurement error?**"
   ]
  },
  {
   "cell_type": "code",
   "execution_count": 12,
   "metadata": {},
   "outputs": [
    {
     "data": {
      "text/plain": [
       "\n",
       "Call:\n",
       "lm(formula = sleephrs ~ wrkhrs + male + age, data = sleepdata)\n",
       "\n",
       "Residuals:\n",
       "    Min      1Q  Median      3Q     Max \n",
       "-5.5482 -0.5740 -0.0034  0.6284  3.1975 \n",
       "\n",
       "Coefficients:\n",
       "             Estimate Std. Error t value Pr(>|t|)    \n",
       "(Intercept)  8.247958   0.161669  51.018   <2e-16 ***\n",
       "wrkhrs      -0.165900   0.018001  -9.216   <2e-16 ***\n",
       "male         0.202731   0.081827   2.478   0.0135 *  \n",
       "age          0.006512   0.003318   1.962   0.0501 .  \n",
       "---\n",
       "Signif. codes:  0 ‘***’ 0.001 ‘**’ 0.01 ‘*’ 0.05 ‘.’ 0.1 ‘ ’ 1\n",
       "\n",
       "Residual standard error: 0.9967 on 702 degrees of freedom\n",
       "Multiple R-squared:  0.1166,\tAdjusted R-squared:  0.1128 \n",
       "F-statistic: 30.88 on 3 and 702 DF,  p-value: < 2.2e-16\n"
      ]
     },
     "metadata": {},
     "output_type": "display_data"
    },
    {
     "data": {
      "text/plain": [
       "\n",
       "Call:\n",
       "lm(formula = sleephrs ~ wrkhrse + male + age, data = sleepdata)\n",
       "\n",
       "Residuals:\n",
       "    Min      1Q  Median      3Q     Max \n",
       "-5.7929 -0.5819  0.0213  0.6250  3.4025 \n",
       "\n",
       "Coefficients:\n",
       "             Estimate Std. Error t value Pr(>|t|)    \n",
       "(Intercept)  8.064991   0.178491  45.184  < 2e-16 ***\n",
       "wrkhrse     -0.069234   0.012669  -5.465 6.45e-08 ***\n",
       "male         0.032128   0.081301   0.395   0.6928    \n",
       "age          0.008123   0.003434   2.365   0.0183 *  \n",
       "---\n",
       "Signif. codes:  0 ‘***’ 0.001 ‘**’ 0.01 ‘*’ 0.05 ‘.’ 0.1 ‘ ’ 1\n",
       "\n",
       "Residual standard error: 1.033 on 702 degrees of freedom\n",
       "Multiple R-squared:  0.05008,\tAdjusted R-squared:  0.04602 \n",
       "F-statistic: 12.34 on 3 and 702 DF,  p-value: 7.15e-08\n"
      ]
     },
     "metadata": {},
     "output_type": "display_data"
    }
   ],
   "source": [
    "mlr<-lm(sleephrs~wrkhrs+male+age, data=sleepdata)\n",
    "summary(mlr)\n",
    "mlr_cme<-lm(sleephrs~wrkhrse+male+age, data=sleepdata)\n",
    "summary(mlr_cme)"
   ]
  },
  {
   "cell_type": "markdown",
   "metadata": {},
   "source": [
    "**Why do the coefficient estimates change? Because the coefficient on work hours is biased, and `male` and `age` are not independent of work hours. Notice that while the coefficient on wkrhrs is attenuated, the coefficients on the other coviarates can change in a variety of ways -- it depends on their correlation with work hours.**"
   ]
  },
  {
   "cell_type": "markdown",
   "metadata": {},
   "source": [
    "### 2. Non-classical measurement error in independent variable\n",
    "\n",
    "Suppose $wrkhrs\\_reported1=\\sqrt{wrkhrs}+5$: people with low true work hours overreport their hours, and people with high true work hours underreport. The estimated coefficient on work hours becomes much larger! So we do not have attenuation here.\n",
    "\n",
    "Then consider other possible error values that are correlated with true work hours. These could also be correlated with reported work hours, and all bets are off in these cases. In one example, the estimated coefficient is slightly smaller, and in the other it is slightly larger.\n",
    "\n",
    "Note that it is easy to create a scenario where $cov(x^*,e)=0$ but somewhat difficult to create a scenario where $cov(x,e)=0$."
   ]
  },
  {
   "cell_type": "code",
   "execution_count": 23,
   "metadata": {},
   "outputs": [
    {
     "data": {
      "text/plain": [
       "   Min. 1st Qu.  Median    Mean 3rd Qu.    Max. \n",
       "  0.000   3.699   5.448   5.055   6.409  15.274 "
      ]
     },
     "metadata": {},
     "output_type": "display_data"
    },
    {
     "data": {
      "text/plain": [
       "   Min. 1st Qu.  Median    Mean 3rd Qu.    Max. \n",
       "  5.000   6.923   7.334   7.149   7.532   8.908 "
      ]
     },
     "metadata": {},
     "output_type": "display_data"
    },
    {
     "data": {
      "text/plain": [
       "   Min. 1st Qu.  Median    Mean 3rd Qu.    Max. \n",
       " -1.000   2.311   3.911   3.563   4.796  13.079 "
      ]
     },
     "metadata": {},
     "output_type": "display_data"
    },
    {
     "data": {
      "text/plain": [
       "   Min. 1st Qu.  Median    Mean 3rd Qu.    Max. \n",
       "  0.000   5.246   7.311   6.751   8.412  18.063 "
      ]
     },
     "metadata": {},
     "output_type": "display_data"
    },
    {
     "name": "stdout",
     "output_type": "stream",
     "text": [
      "[1] \"No measurement error\"\n"
     ]
    },
    {
     "data": {
      "text/plain": [
       "\n",
       "Call:\n",
       "lm(formula = sleephrs ~ wrkhrs, data = sleepdata)\n",
       "\n",
       "Residuals:\n",
       "    Min      1Q  Median      3Q     Max \n",
       "-5.7856 -0.5720  0.0117  0.5965  3.1898 \n",
       "\n",
       "Coefficients:\n",
       "            Estimate Std. Error t value Pr(>|t|)    \n",
       "(Intercept)  8.53899    0.09265  92.165   <2e-16 ***\n",
       "wrkhrs      -0.15075    0.01674  -9.005   <2e-16 ***\n",
       "---\n",
       "Signif. codes:  0 ‘***’ 0.001 ‘**’ 0.01 ‘*’ 0.05 ‘.’ 0.1 ‘ ’ 1\n",
       "\n",
       "Residual standard error: 1.003 on 704 degrees of freedom\n",
       "Multiple R-squared:  0.1033,\tAdjusted R-squared:  0.102 \n",
       "F-statistic: 81.09 on 1 and 704 DF,  p-value: < 2.2e-16\n"
      ]
     },
     "metadata": {},
     "output_type": "display_data"
    },
    {
     "name": "stdout",
     "output_type": "stream",
     "text": [
      "[1] \"Measurement error function 1\"\n"
     ]
    },
    {
     "data": {
      "text/plain": [
       "\n",
       "Call:\n",
       "lm(formula = sleephrs ~ wrkhrs_rp1, data = sleepdata)\n",
       "\n",
       "Residuals:\n",
       "    Min      1Q  Median      3Q     Max \n",
       "-5.8076 -0.5961  0.0176  0.6223  3.2907 \n",
       "\n",
       "Coefficients:\n",
       "            Estimate Std. Error t value Pr(>|t|)    \n",
       "(Intercept) 11.10368    0.41387  26.829  < 2e-16 ***\n",
       "wrkhrs_rp1  -0.46535    0.05765  -8.072 2.99e-15 ***\n",
       "---\n",
       "Signif. codes:  0 ‘***’ 0.001 ‘**’ 0.01 ‘*’ 0.05 ‘.’ 0.1 ‘ ’ 1\n",
       "\n",
       "Residual standard error: 1.013 on 704 degrees of freedom\n",
       "Multiple R-squared:  0.08472,\tAdjusted R-squared:  0.08342 \n",
       "F-statistic: 65.16 on 1 and 704 DF,  p-value: 2.986e-15\n"
      ]
     },
     "metadata": {},
     "output_type": "display_data"
    },
    {
     "name": "stdout",
     "output_type": "stream",
     "text": [
      "[1] \"Measurement error function 2\"\n"
     ]
    },
    {
     "data": {
      "text/plain": [
       "\n",
       "Call:\n",
       "lm(formula = sleephrs ~ wrkhrs_rp2, data = sleepdata)\n",
       "\n",
       "Residuals:\n",
       "    Min      1Q  Median      3Q     Max \n",
       "-5.7860 -0.5733  0.0102  0.6005  3.1872 \n",
       "\n",
       "Coefficients:\n",
       "            Estimate Std. Error t value Pr(>|t|)    \n",
       "(Intercept)  8.36621    0.07543 110.917   <2e-16 ***\n",
       "wrkhrs_rp2  -0.16536    0.01833  -9.021   <2e-16 ***\n",
       "---\n",
       "Signif. codes:  0 ‘***’ 0.001 ‘**’ 0.01 ‘*’ 0.05 ‘.’ 0.1 ‘ ’ 1\n",
       "\n",
       "Residual standard error: 1.003 on 704 degrees of freedom\n",
       "Multiple R-squared:  0.1036,\tAdjusted R-squared:  0.1023 \n",
       "F-statistic: 81.37 on 1 and 704 DF,  p-value: < 2.2e-16\n"
      ]
     },
     "metadata": {},
     "output_type": "display_data"
    },
    {
     "name": "stdout",
     "output_type": "stream",
     "text": [
      "[1] \"Measurement error function 3\"\n"
     ]
    },
    {
     "data": {
      "text/plain": [
       "\n",
       "Call:\n",
       "lm(formula = sleephrs ~ wrkhrs_rp3, data = sleepdata)\n",
       "\n",
       "Residuals:\n",
       "    Min      1Q  Median      3Q     Max \n",
       "-5.7864 -0.5843  0.0183  0.5980  3.2109 \n",
       "\n",
       "Coefficients:\n",
       "            Estimate Std. Error t value Pr(>|t|)    \n",
       "(Intercept)  8.60003    0.10003  85.974   <2e-16 ***\n",
       "wrkhrs_rp3  -0.12191    0.01372  -8.886   <2e-16 ***\n",
       "---\n",
       "Signif. codes:  0 ‘***’ 0.001 ‘**’ 0.01 ‘*’ 0.05 ‘.’ 0.1 ‘ ’ 1\n",
       "\n",
       "Residual standard error: 1.004 on 704 degrees of freedom\n",
       "Multiple R-squared:  0.1008,\tAdjusted R-squared:  0.09957 \n",
       "F-statistic: 78.96 on 1 and 704 DF,  p-value: < 2.2e-16\n"
      ]
     },
     "metadata": {},
     "output_type": "display_data"
    }
   ],
   "source": [
    "# create error variable: random number between 0 and 4\n",
    "sleepdata$wrkhrs_rp1=sqrt(sleepdata$wrkhrs)+5\n",
    "sleepdata$wrkhrs_rp2=sleepdata$wrkhrs-sqrt(sleepdata$wrkhrs+4)/2\n",
    "sleepdata$wrkhrs_rp3=sleepdata$wrkhrs+log(sleepdata$wrkhrs+1)\n",
    "summary(sleepdata$wrkhrs)\n",
    "summary(sleepdata$wrkhrs_rp1)\n",
    "summary(sleepdata$wrkhrs_rp2)\n",
    "summary(sleepdata$wrkhrs_rp3)\n",
    "print(\"No measurement error\")\n",
    "slr<-lm(sleephrs~wrkhrs, data=sleepdata)\n",
    "summary(slr)\n",
    "print(\"Measurement error function 1\")\n",
    "slr_ncme1<-lm(sleephrs~wrkhrs_rp1, data=sleepdata)\n",
    "summary(slr_ncme1)\n",
    "print(\"Measurement error function 2\")\n",
    "slr_ncme2<-lm(sleephrs~wrkhrs_rp2, data=sleepdata)\n",
    "summary(slr_ncme2)\n",
    "print(\"Measurement error function 3\")\n",
    "slr_ncme3<-lm(sleephrs~wrkhrs_rp3, data=sleepdata)\n",
    "summary(slr_ncme3)"
   ]
  },
  {
   "cell_type": "markdown",
   "metadata": {},
   "source": [
    "### 3. Classical measurement error in the outcome variable\n",
    "\n",
    "Suppose sleep is measured with classical random error of between 0-4 hours. What happens to our estimated coefficients?"
   ]
  },
  {
   "cell_type": "code",
   "execution_count": 24,
   "metadata": {},
   "outputs": [
    {
     "data": {
      "text/plain": [
       "   Min. 1st Qu.  Median    Mean 3rd Qu.    Max. \n",
       "  3.433   8.741   9.895   9.844  11.016  14.817 "
      ]
     },
     "metadata": {},
     "output_type": "display_data"
    },
    {
     "data": {
      "text/plain": [
       "   Min. 1st Qu.  Median    Mean 3rd Qu.    Max. \n",
       "  1.798   7.179   7.787   7.777   8.410  11.179 "
      ]
     },
     "metadata": {},
     "output_type": "display_data"
    },
    {
     "data": {
      "text/plain": [
       "\n",
       "Call:\n",
       "lm(formula = sleephrs ~ wrkhrs + male, data = sleepdata)\n",
       "\n",
       "Residuals:\n",
       "    Min      1Q  Median      3Q     Max \n",
       "-5.6432 -0.5801 -0.0053  0.6291  3.2851 \n",
       "\n",
       "Coefficients:\n",
       "            Estimate Std. Error t value Pr(>|t|)    \n",
       "(Intercept)  8.50763    0.09307  91.409  < 2e-16 ***\n",
       "wrkhrs      -0.16825    0.01800  -9.349  < 2e-16 ***\n",
       "male         0.21151    0.08187   2.584  0.00998 ** \n",
       "---\n",
       "Signif. codes:  0 ‘***’ 0.001 ‘**’ 0.01 ‘*’ 0.05 ‘.’ 0.1 ‘ ’ 1\n",
       "\n",
       "Residual standard error: 0.9987 on 703 degrees of freedom\n",
       "Multiple R-squared:  0.1117,\tAdjusted R-squared:  0.1092 \n",
       "F-statistic: 44.21 on 2 and 703 DF,  p-value: < 2.2e-16\n"
      ]
     },
     "metadata": {},
     "output_type": "display_data"
    },
    {
     "data": {
      "text/plain": [
       "\n",
       "Call:\n",
       "lm(formula = sleephrse ~ wrkhrs + male, data = sleepdata)\n",
       "\n",
       "Residuals:\n",
       "    Min      1Q  Median      3Q     Max \n",
       "-6.0438 -1.0885  0.0386  1.2204  4.3336 \n",
       "\n",
       "Coefficients:\n",
       "            Estimate Std. Error t value Pr(>|t|)    \n",
       "(Intercept) 10.69783    0.14441  74.078  < 2e-16 ***\n",
       "wrkhrs      -0.19257    0.02792  -6.896 1.19e-11 ***\n",
       "male         0.21060    0.12703   1.658   0.0978 .  \n",
       "---\n",
       "Signif. codes:  0 ‘***’ 0.001 ‘**’ 0.01 ‘*’ 0.05 ‘.’ 0.1 ‘ ’ 1\n",
       "\n",
       "Residual standard error: 1.55 on 703 degrees of freedom\n",
       "Multiple R-squared:  0.06464,\tAdjusted R-squared:  0.06198 \n",
       "F-statistic: 24.29 on 2 and 703 DF,  p-value: 6.294e-11\n"
      ]
     },
     "metadata": {},
     "output_type": "display_data"
    }
   ],
   "source": [
    "sleepdata$error=runif(nrow(sleepdata), 0,4)\n",
    "sleepdata$sleephrse=sleepdata$sleephrs+sleepdata$error\n",
    "summary(sleepdata$sleephrse)\n",
    "summary(sleepdata$sleephrs)\n",
    "mlr<-lm(sleephrs~wrkhrs+male, data=sleepdata)\n",
    "summary(mlr)\n",
    "mlr2<-lm(sleephrse~wrkhrs+male, data=sleepdata)\n",
    "summary(mlr2)"
   ]
  },
  {
   "cell_type": "markdown",
   "metadata": {},
   "source": [
    "**The random error might be correlated with the X variables by random chance, leading to bias, but we note that the coefficients are pretty similar. In both cases, however, the standard errors have increased: our estimates are less precise!**\n",
    "\n",
    "**Let's look at what happens if we repeat the process of generating random error multiple times. We'll do 1000 iterations of generating random error, regress sleep hours measured with error on work hours, store the estimated coefficients, then plot the distribution.**"
   ]
  },
  {
   "cell_type": "code",
   "execution_count": 26,
   "metadata": {},
   "outputs": [],
   "source": [
    "library(ggplot2)"
   ]
  },
  {
   "cell_type": "code",
   "execution_count": 59,
   "metadata": {},
   "outputs": [],
   "source": [
    "estimates <- data.frame(matrix(NA,    # Create empty data frame\n",
    "                          nrow = 1000,\n",
    "                          ncol = 1)) \n",
    "estimates$coef<-0\n",
    "estimates$tstat<-0\n",
    "for(i in 1:1000) {\n",
    "    set.seed(i)\n",
    "    sleepdata$error=runif(nrow(sleepdata), 0,4)\n",
    "    sleepdata$sleephrse=sleepdata$sleephrs+sleepdata$error\n",
    "    clm_y<-lm(sleephrse~wrkhrs, data=sleepdata)\n",
    "    estimates[i,'coef']<-summary(clm_y)$coefficients[2,1] \n",
    "    estimates[i,'tstat']<-summary(clm_y)$coefficients[2,3] \n",
    "}"
   ]
  },
  {
   "cell_type": "code",
   "execution_count": 60,
   "metadata": {},
   "outputs": [
    {
     "data": {
      "image/png": "[encoded data removed]",
      "text/plain": [
       "plot without title"
      ]
     },
     "metadata": {
      "image/png": {
       "height": 420,
       "width": 420
      }
     },
     "output_type": "display_data"
    }
   ],
   "source": [
    "slr<-lm(sleephrs~wrkhrs, data=sleepdata)\n",
    "truth<-summary(slr)$coefficients[2,1]\n",
    "p <- ggplot(estimates, aes(x=coef)) + \n",
    "    geom_density(fill = \"blue\", alpha = .5) +\n",
    "    geom_vline( xintercept = truth)\n",
    "p"
   ]
  },
  {
   "cell_type": "markdown",
   "metadata": {},
   "source": [
    "**The estimates are centered around the 'true' coefficient value! What about the t-stats?** "
   ]
  },
  {
   "cell_type": "code",
   "execution_count": 61,
   "metadata": {},
   "outputs": [
    {
     "data": {
      "image/png": "[encoded data removed]",
      "text/plain": [
       "plot without title"
      ]
     },
     "metadata": {
      "image/png": {
       "height": 420,
       "width": 420
      }
     },
     "output_type": "display_data"
    }
   ],
   "source": [
    "slr<-lm(sleephrs~wrkhrs, data=sleepdata)\n",
    "truth<-summary(slr)$coefficients[2,3]\n",
    "p <- ggplot(estimates, aes(x=tstat)) + \n",
    "    geom_density(fill = \"blue\", alpha = .5) +\n",
    "    geom_vline( xintercept = truth)\n",
    "p"
   ]
  },
  {
   "cell_type": "markdown",
   "metadata": {},
   "source": [
    "**The 'true' t-stat is around -9, but the t-stats with classical error in the outcome variable are centered around -6, with almost none as large (in absolute value) as -9. This shows how the estimates become less precise.**\n",
    "\n",
    "**What if y is measured with non-classical measurement error? Let's consider where the error varies first by sex and then by sleep hours.**"
   ]
  },
  {
   "cell_type": "code",
   "execution_count": 63,
   "metadata": {},
   "outputs": [
    {
     "data": {
      "text/plain": [
       "\n",
       "Call:\n",
       "lm(formula = sleephrs ~ wrkhrs + male, data = sleepdata)\n",
       "\n",
       "Residuals:\n",
       "    Min      1Q  Median      3Q     Max \n",
       "-5.6432 -0.5801 -0.0053  0.6291  3.2851 \n",
       "\n",
       "Coefficients:\n",
       "            Estimate Std. Error t value Pr(>|t|)    \n",
       "(Intercept)  8.50763    0.09307  91.409  < 2e-16 ***\n",
       "wrkhrs      -0.16825    0.01800  -9.349  < 2e-16 ***\n",
       "male         0.21151    0.08187   2.584  0.00998 ** \n",
       "---\n",
       "Signif. codes:  0 ‘***’ 0.001 ‘**’ 0.01 ‘*’ 0.05 ‘.’ 0.1 ‘ ’ 1\n",
       "\n",
       "Residual standard error: 0.9987 on 703 degrees of freedom\n",
       "Multiple R-squared:  0.1117,\tAdjusted R-squared:  0.1092 \n",
       "F-statistic: 44.21 on 2 and 703 DF,  p-value: < 2.2e-16\n"
      ]
     },
     "metadata": {},
     "output_type": "display_data"
    },
    {
     "data": {
      "text/plain": [
       "\n",
       "Call:\n",
       "lm(formula = sleephrse1 ~ wrkhrs + male, data = sleepdata)\n",
       "\n",
       "Residuals:\n",
       "    Min      1Q  Median      3Q     Max \n",
       "-5.6469 -0.6115  0.0190  0.6271  3.2858 \n",
       "\n",
       "Coefficients:\n",
       "            Estimate Std. Error t value Pr(>|t|)    \n",
       "(Intercept)  8.50099    0.09699  87.646   <2e-16 ***\n",
       "wrkhrs      -0.16662    0.01876  -8.884   <2e-16 ***\n",
       "male         1.90969    0.08532  22.383   <2e-16 ***\n",
       "---\n",
       "Signif. codes:  0 ‘***’ 0.001 ‘**’ 0.01 ‘*’ 0.05 ‘.’ 0.1 ‘ ’ 1\n",
       "\n",
       "Residual standard error: 1.041 on 703 degrees of freedom\n",
       "Multiple R-squared:  0.4162,\tAdjusted R-squared:  0.4146 \n",
       "F-statistic: 250.6 on 2 and 703 DF,  p-value: < 2.2e-16\n"
      ]
     },
     "metadata": {},
     "output_type": "display_data"
    },
    {
     "data": {
      "text/plain": [
       "\n",
       "Call:\n",
       "lm(formula = sleephrse2 ~ wrkhrs + male, data = sleepdata)\n",
       "\n",
       "Residuals:\n",
       "    Min      1Q  Median      3Q     Max \n",
       "-8.3809 -3.1322  0.1856  3.0473  9.0247 \n",
       "\n",
       "Coefficients:\n",
       "            Estimate Std. Error t value Pr(>|t|)    \n",
       "(Intercept) 14.80882    0.34888  42.447  < 2e-16 ***\n",
       "wrkhrs      -0.24996    0.06746  -3.705 0.000228 ***\n",
       "male         0.34178    0.30689   1.114 0.265781    \n",
       "---\n",
       "Signif. codes:  0 ‘***’ 0.001 ‘**’ 0.01 ‘*’ 0.05 ‘.’ 0.1 ‘ ’ 1\n",
       "\n",
       "Residual standard error: 3.744 on 703 degrees of freedom\n",
       "Multiple R-squared:  0.01928,\tAdjusted R-squared:  0.01649 \n",
       "F-statistic: 6.911 on 2 and 703 DF,  p-value: 0.001066\n"
      ]
     },
     "metadata": {},
     "output_type": "display_data"
    }
   ],
   "source": [
    "sleepdata$sleephrse1=sleepdata$sleephrs+sqrt(sleepdata$error+1)*sleepdata$male\n",
    "sleepdata$sleephrse2=sleepdata$sleephrs+sqrt(sleepdata$sleephrs+1)*sleepdata$error\n",
    "mlr<-lm(sleephrs~wrkhrs+male, data=sleepdata)\n",
    "summary(mlr)\n",
    "mlr1<-lm(sleephrse1~wrkhrs+male, data=sleepdata)\n",
    "summary(mlr1)\n",
    "mlr2<-lm(sleephrse2~wrkhrs+male, data=sleepdata)\n",
    "summary(mlr2)"
   ]
  },
  {
   "cell_type": "markdown",
   "metadata": {},
   "source": [
    "**All bets are off!**"
   ]
  }
 ],
 "metadata": {
  "kernelspec": {
   "display_name": "R",
   "language": "R",
   "name": "ir"
  },
  "language_info": {
   "codemirror_mode": "r",
   "file_extension": ".r",
   "mimetype": "text/x-r-source",
   "name": "R",
   "pygments_lexer": "r",
   "version": "4.1.1"
  }
 },
 "nbformat": 4,
 "nbformat_minor": 2
}
