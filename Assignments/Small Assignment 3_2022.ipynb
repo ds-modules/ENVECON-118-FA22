{
 "cells": [
  {
   "cell_type": "markdown",
   "metadata": {},
   "source": [
    "# Small Assignment 3"
   ]
  },
  {
   "cell_type": "markdown",
   "metadata": {},
   "source": [
    "<em>Due October 7th by 11:59pm PT. Download your notebook with your code and responses as a PDF via HTML and submit to Gradescope.</em>\n",
    "\n",
    "Is voter turnout influenced by the weather?  Let pctvote be the percent of the registered voters in a given county who turn out to vote (i.e., pctvote = 80 means that 80% of registered voters in a given county turned out to vote).  \n",
    "\n",
    "Let *rain* be a **dummy** variable for whether it rains for at least one hour on election day,  *temp* be the high temperature on election day (in degrees), and *numpoll* be the number of polling places in the county.  \n",
    "\n",
    "One model to test the relationship is \n",
    "\n",
    "$\\textrm{pctvote}=\\beta_0+\\beta_1\\textrm{rain}+\\beta_2\\textrm{temp}+\\beta_3\\textrm{numpoll}+u$\n"
   ]
  },
  {
   "cell_type": "markdown",
   "metadata": {},
   "source": [
    "### 1. State the null hypothesis that rain has no ceteris paribus effect on voter turnout.  State the alternative hypothesis that there is an effect."
   ]
  },
  {
   "cell_type": "markdown",
   "metadata": {},
   "source": [
    "Double click to type your answer here."
   ]
  },
  {
   "cell_type": "markdown",
   "metadata": {},
   "source": [
    "### 2. What signs do you expect $\\beta_1$ and $\\beta_2$ will have?"
   ]
  },
  {
   "cell_type": "markdown",
   "metadata": {},
   "source": [
    "Double click to type your answer here."
   ]
  },
  {
   "cell_type": "markdown",
   "metadata": {},
   "source": [
    "### 3. Suppose we estimate the model using data on 120 randomly selected counties in the U.S., and we deliver the estimates (with standard errors in parentheses) below. What is wrong with the statement \"one more hour of rain on election day is associated with a 4.92% decrease in voter turnout?\"\n",
    "\n",
    "$$\\hat{\\beta}_0=41.67 (1.262)$$\n",
    "$$\\hat{\\beta}_1=-4.92 (0.799)$$\n",
    "$$\\hat{\\beta}_2=0.010 (0.017)$$\n",
    "$$\\hat{\\beta}_3=0.649 (0.027)$$\n",
    "$$R^2=0.398$$\n",
    "\n"
   ]
  },
  {
   "cell_type": "markdown",
   "metadata": {},
   "source": [
    "Double click to type your answer here."
   ]
  },
  {
   "cell_type": "markdown",
   "metadata": {},
   "source": [
    "### 4. Test the hypothesis in part 1 at the 1% significance level.  Be sure to state the critical value that you use."
   ]
  },
  {
   "cell_type": "code",
   "execution_count": null,
   "metadata": {},
   "outputs": [],
   "source": [
    "# Put codes here for calculation"
   ]
  },
  {
   "cell_type": "markdown",
   "metadata": {},
   "source": [
    "Double click to type your answer here."
   ]
  }
 ],
 "metadata": {
  "kernelspec": {
   "display_name": "R",
   "language": "R",
   "name": "ir"
  },
  "language_info": {
   "codemirror_mode": "r",
   "file_extension": ".r",
   "mimetype": "text/x-r-source",
   "name": "R",
   "pygments_lexer": "r",
   "version": "4.2.1"
  }
 },
 "nbformat": 4,
 "nbformat_minor": 2
}
