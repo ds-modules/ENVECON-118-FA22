{
 "cells": [
  {
   "cell_type": "markdown",
   "metadata": {},
   "source": [
    "# EEP/IAS 118 - Problem Set 5\n",
    "\n",
    "## Due __Friday, December 3__ at 11:59PM. \n",
    "\n",
    "Submit materials as one combined pdf on __Gradescope__. All work can be completed in this notebook. Make sure to run (`shift` + `enter`) all your answer cells before submission to make sure all your output is displayed. After exporting your file to PDF, make sure that your output cells are not being cut off so we can read all of your code and results. If your output is getting cut off, try different ways of generating a PDF (File->Download as->PDF via HTML; go to print in your browser and save as PDF; whatever has worked for you or your peers in the past).\n"
   ]
  },
  {
   "cell_type": "markdown",
   "metadata": {
    "deletable": false
   },
   "source": [
    "# Exercise 1. The Effect of Broadband Internet on Employment - Difference-in-Differences\n",
    "\n",
    "## Background\n",
    "\n",
    "\n",
    "In this exercise, we are going to look at a paper studying the effects of access to broadband internet on employment outcomes (note that we are only giving you a subset of the data, so your results are not going to match the results in the paper). This paper answers a very policy-relevant question: does improving broadband access and affordability increase opportunities on the labor market for low-income households? There are large disparities in the US in adoption and access to home internet, most of it explained by income. Affordability is often cited as the main barrier to at-home internet, and lack of internet access at home may prevent low-income job seekers from accessing new job opportunities. According to the author, job seekers without broadband are 21 percent less likely to use online resources for job search and face other obstacles to employment that modern online tools may be suited to address. \n",
    "\n",
    "Zuo (2021) test whether this is true using a change of policy in 2012, where high-speed internet was offered at a very affordable price but only for eligible households (families whose children receive free or reduced-price lunch) in areas that were covered by Comcast. Zuo uses information on the specific internet provider, eligibility and labor market outcomes to study this question (he actually implements a difference-in difference-in differences strategy, similar to difference-in-difference but beyond the scope of this class). \n",
    "Pre-policy change observations are coded as 2011 and post-policy change observations are coded as 2012 in your data for the sake of simplicity. This data is then used to obtain a difference-in-differences estimate of the effect of broadband internet on employment. \n",
    "\n",
    "The dataset is saved as `ps5_wired_data.csv` and contains the following variables:\n",
    "    \n",
    "\n",
    "|    Variable Name     | Description                       | \n",
    "|----------------------|-----------------------------------|\n",
    "| $hhid $      | Household ID      |\n",
    "| $year    $ | Year    |\n",
    "| $comcast   $  | Dummy =1 if household is connected to Comcast for internet, =0 otherwise     |\n",
    "| $employed   $   | Dummy =1 if household's respondent is employed |\n",
    "| $unemployed   $   | Dummy =1 if household's respondent is unemployed |\n",
    "| $met2013 $     | Metropolitan area  |\n",
    "| $earnings95 $    | Yearly earnings  |"
   ]
  },
  {
   "cell_type": "markdown",
   "metadata": {},
   "source": [
    "## Question 1.1.\n",
    "\n",
    "### Load the data. Generate a summary table with two columns and two rows. There should be two columns:  one for households in Comcast areas (Treatment column) and one for households in areas with another provider (Control column) and two rows: one for the pre-period (year 2011), one for the post-period (year 2012). Within each cell, compute the mean percentage of respondents who are employed (the variable $employed$).\n",
    "*Hint: Remember that you can subset data by writing, for example `data[data$var1==0 & data$var2==7,]$var3` to select values for var3 for observations in data that meet the given criteria for var1 and var2.*\n",
    "\n",
    "*Hint: The command `cbind` may be helpful for constructing your table. Remember that you can create a vector of values using `c()`*\n",
    "\n",
    "*Hint: Consider loading necessary packages for the rest of the assignment here as well. It is good practice to load all necessary packages at the beginning of your code. Think about what packages we have needed previously in this class. You will also need the `lfe` package.*"
   ]
  },
  {
   "cell_type": "code",
   "execution_count": null,
   "metadata": {},
   "outputs": [],
   "source": [
    "# code here"
   ]
  },
  {
   "cell_type": "code",
   "execution_count": null,
   "metadata": {},
   "outputs": [],
   "source": [
    "# code here"
   ]
  },
  {
   "cell_type": "markdown",
   "metadata": {},
   "source": [
    "## Question 1.2.\n",
    "\n",
    "### State the difference-in-differences estimator for the change in employment in terms of the following quantities $\\bar Y_{Comcast, pre}, \\bar Y_{Comcast, post}, \\bar Y_{Control, pre}, \\bar Y_{Control, post}$, where $\\bar Y$ refers to the mean of $employed$ (writing a formula in R code is ok). Using the means reported in part 1, calculate a value for the estimator you just proposed."
   ]
  },
  {
   "cell_type": "code",
   "execution_count": null,
   "metadata": {},
   "outputs": [],
   "source": [
    "# code here"
   ]
  },
  {
   "cell_type": "markdown",
   "metadata": {},
   "source": [
    "Answer here"
   ]
  },
  {
   "cell_type": "markdown",
   "metadata": {},
   "source": [
    "## Question 1.3.\n",
    "\n",
    "### Let's proceed with estimating the difference-in-differences estimator via a regression:\n",
    "\n",
    "#### (a)  Write an equation that will give you the difference-in-differences estimator for the impact of the subsidized internet on employment. State which coefficient gives the estimated treatment effect of this policy."
   ]
  },
  {
   "cell_type": "markdown",
   "metadata": {},
   "source": [
    "We can write a difference-in-difference estimator in regression form as\n",
    "\n",
    "$$ y_{it} = \\beta_ 0+ \\beta_1 Post_t + \\beta_2 Treatment_i + \\beta_3 Post_t \\times Treatment_i + u_{it}$$\n",
    "\n",
    "In this context,\n",
    "\n",
    "$$ Employed_{it} = \\beta_ 0+ \\beta_1 2012_t + \\beta_2 Comcast_i + \\beta_3 2012_t \\times Comcast_i + u_{it}$$\n",
    "\n",
    "And $\\hat\\beta_3$ tells us the estimated treatment effect for households in Comcast areas in the period following the policy change."
   ]
  },
  {
   "cell_type": "markdown",
   "metadata": {},
   "source": [
    "#### (b) Perform the estimation. \n",
    "*Hint: You will need to create a 'post' dummy variable from the 'year' variable to run this regression. Note that 'state' is already a dummy variable.*"
   ]
  },
  {
   "cell_type": "code",
   "execution_count": null,
   "metadata": {},
   "outputs": [],
   "source": [
    "# code here"
   ]
  },
  {
   "cell_type": "markdown",
   "metadata": {},
   "source": [
    "#### (c) What do you conclude from the results of your estimation (about the differences between households connected to Comcast and other households, and the effect of the policy change)? Confirm that the results in this part are the same as your estimate in Question 1.2."
   ]
  },
  {
   "cell_type": "markdown",
   "metadata": {},
   "source": [
    "Answer here"
   ]
  },
  {
   "cell_type": "markdown",
   "metadata": {},
   "source": [
    "## Question 1.4.\n",
    "\n",
    "### In this question, we will explore the identifying assumptions for the difference-in-differences estimator.\n",
    "\n",
    "#### (a) What key assumption do you need to make for your regression in part 1.3 to estimate the causal effect of minimum wage laws?\n"
   ]
  },
  {
   "cell_type": "markdown",
   "metadata": {},
   "source": [
    "Answer here"
   ]
  },
  {
   "cell_type": "markdown",
   "metadata": {},
   "source": [
    "#### (b) What additional data might you need to provide evidence for this assumption?"
   ]
  },
  {
   "cell_type": "markdown",
   "metadata": {
    "deletable": false
   },
   "source": [
    "Answer here"
   ]
  },
  {
   "cell_type": "markdown",
   "metadata": {},
   "source": [
    "## Question 1.5.\n",
    "\n",
    "### Let's say that we wanted to estimate the effect of broadband access on employment ($employed$), but we only had data from households who are in Comcast areas. Using only data for areas with Comcast coverage, estimate and interpret the effect of subsidized internet on employment. Interpret your result, including testing for significance. \n",
    "*Hint: Save the subset of data for households in areas covered by Comcast as a new dataset, and run your regression on that dataset.*"
   ]
  },
  {
   "cell_type": "code",
   "execution_count": null,
   "metadata": {},
   "outputs": [],
   "source": [
    "# code here"
   ]
  },
  {
   "cell_type": "markdown",
   "metadata": {},
   "source": [
    "Answer here"
   ]
  },
  {
   "cell_type": "markdown",
   "metadata": {},
   "source": [
    "## Question 1.6. \n",
    "\n",
    "###  In no more than 3 sentences, compare your result from Question 1.4 to your result from Question 1.5. What are some factors that could explain the difference between the two results, and which estimator would be preferable?"
   ]
  },
  {
   "cell_type": "markdown",
   "metadata": {
    "deletable": false
   },
   "source": [
    "Answer here"
   ]
  },
  {
   "cell_type": "markdown",
   "metadata": {},
   "source": [
    "## Question 1.7\n",
    "\n",
    "\n",
    "### Consider each of the following statements (that are not necessarily true) and discuss whether it supports, violates, or is irrelevant to assumptions necessary for the DD estimator to provide a valid causal effect in this case. If it violates the assumptions, discuss how it might bias the results.\n",
    "\n",
    "1. Comcast has long been considered to be the preferred internet provider for denser areas, which are on average richer and younger, but which also experienced a boom in the labor market in the early 2010s.\n",
    "2. The dot com crash has deeply affected the bottom line of all US-based internet providers, and led to a profound restructuring of the internet provider market lasting over the next 10 years.\n",
    "3. In 2012, Comcast and Sonic were condemned by the FTC for violating customer privacy, reducing demand for internet products nationwide.\n",
    "4. Between 2010 and 2012, rural areas, where Comcast has less coverage, happened to experience more natural disasters such as hurricanes and wildfires, and had more internet outages than average. "
   ]
  },
  {
   "cell_type": "markdown",
   "metadata": {},
   "source": [
    "Answer here"
   ]
  },
  {
   "cell_type": "markdown",
   "metadata": {},
   "source": [
    "# Exercise 2:  Lead testing and Graduation - Panel Regression\n",
    "\n",
    "## Background\n",
    "\n",
    "\n",
    "In this exercise, we will look at the effect of improving water pipes to prevent lead exposure in schools on students' school outcomes. Many school districts in California, particularly less wealthy school districts, have school infrastructures that are many decades old. These schools were built at a time where lead standards might not have been as stringent as they are now, exposing the students to potentially high levels of lead in walls or in drinking water. In 2017, the state of California started an initiative to test lead levels in all public K-12 schools in the state, and helping school districts replace their water pipes. We have data for these replacements for the years 2017-2019, with the number of replacements per year more or less increasing over the sample period. This data is combined with attendance data from all school districts in California over the same period to test the impact of reducing lead exposure through infrastructure upgrading on student health. Attendance is used to measure student health because students who are chronically ill are often absent from school. The full dataset is described in detail below.\n",
    "\n",
    " The dataset `Schools_PS5.dta` is an unbalanced panel of 200 school districts for the years 2009-2012, and contains the following variables:\n",
    " \n",
    " \n",
    "\n",
    "|    Variable Name     | Description                       | \n",
    "|----------------------|-----------------------------------|\n",
    "| $district\\_code $      | Unique School District Identifier    |\n",
    "| $year    $ | Year    |\n",
    "| $lead_replace   $  | Number of Pipes Replaced   |\n",
    "| $attendance  $  | Percent of students in attendance, on average in the year   |\n",
    "| $aptrack  $   | Number of students in Advanced Learning Track   |\n",
    "| $latino $    | Number of Latino Students  |\n",
    "| $college $    | Number of Students with Parents that Attended College   |\n",
    "| $advtgd $     | Number of Students from Higher Socio-Economic Backgrounds    |\n",
    "| $fleet\\_size $    | Average lead content in the school district? in the District Fleet   |\n",
    "| $pupils\\_trans  $    | Average Number of Students Traveling per Day   |\n",
    "| $enrollment$     | Number of Students Enrolled in the District \n",
    " \n",
    "Some summary statistics are provided below:"
   ]
  },
  {
   "cell_type": "code",
   "execution_count": 8,
   "metadata": {
    "scrolled": true
   },
   "outputs": [
    {
     "data": {
      "text/html": [
       "<table class=\"dataframe\">\n",
       "<caption>A data.frame: 6 × 10</caption>\n",
       "<thead>\n",
       "\t<tr><th></th><th scope=col>district_code</th><th scope=col>year</th><th scope=col>lead_replace</th><th scope=col>aptrack</th><th scope=col>latinx</th><th scope=col>college</th><th scope=col>advtgd</th><th scope=col>pupils_trans</th><th scope=col>enrollment</th><th scope=col>attendance</th></tr>\n",
       "\t<tr><th></th><th scope=col>&lt;int&gt;</th><th scope=col>&lt;int&gt;</th><th scope=col>&lt;dbl&gt;</th><th scope=col>&lt;int&gt;</th><th scope=col>&lt;int&gt;</th><th scope=col>&lt;int&gt;</th><th scope=col>&lt;int&gt;</th><th scope=col>&lt;dbl&gt;</th><th scope=col>&lt;int&gt;</th><th scope=col>&lt;dbl&gt;</th></tr>\n",
       "</thead>\n",
       "<tbody>\n",
       "\t<tr><th scope=row>1</th><td>261333</td><td>2020</td><td>11.750881</td><td>  0</td><td>  31</td><td>   6</td><td>  25</td><td> 63.5</td><td>   97</td><td>94.07732</td></tr>\n",
       "\t<tr><th scope=row>2</th><td>461382</td><td>2018</td><td> 0.000000</td><td> 17</td><td>  87</td><td>  22</td><td>  36</td><td> 31.0</td><td>  125</td><td>93.43200</td></tr>\n",
       "\t<tr><th scope=row>3</th><td>461382</td><td>2019</td><td> 2.060723</td><td> 14</td><td>  71</td><td>  21</td><td>  28</td><td> 62.0</td><td>  126</td><td>92.92857</td></tr>\n",
       "\t<tr><th scope=row>4</th><td>461382</td><td>2020</td><td> 3.942311</td><td> 13</td><td>  62</td><td>  19</td><td>  25</td><td> 44.5</td><td>  126</td><td>96.20634</td></tr>\n",
       "\t<tr><th scope=row>5</th><td>461408</td><td>2020</td><td> 3.942311</td><td> 18</td><td> 202</td><td>  37</td><td> 134</td><td> 70.0</td><td>  534</td><td>94.89887</td></tr>\n",
       "\t<tr><th scope=row>6</th><td>461424</td><td>2018</td><td> 0.000000</td><td>776</td><td>6081</td><td>1976</td><td>5670</td><td>694.0</td><td>12364</td><td>92.08743</td></tr>\n",
       "</tbody>\n",
       "</table>\n"
      ],
      "text/latex": [
       "A data.frame: 6 × 10\n",
       "\\begin{tabular}{r|llllllllll}\n",
       "  & district\\_code & year & lead\\_replace & aptrack & latinx & college & advtgd & pupils\\_trans & enrollment & attendance\\\\\n",
       "  & <int> & <int> & <dbl> & <int> & <int> & <int> & <int> & <dbl> & <int> & <dbl>\\\\\n",
       "\\hline\n",
       "\t1 & 261333 & 2020 & 11.750881 &   0 &   31 &    6 &   25 &  63.5 &    97 & 94.07732\\\\\n",
       "\t2 & 461382 & 2018 &  0.000000 &  17 &   87 &   22 &   36 &  31.0 &   125 & 93.43200\\\\\n",
       "\t3 & 461382 & 2019 &  2.060723 &  14 &   71 &   21 &   28 &  62.0 &   126 & 92.92857\\\\\n",
       "\t4 & 461382 & 2020 &  3.942311 &  13 &   62 &   19 &   25 &  44.5 &   126 & 96.20634\\\\\n",
       "\t5 & 461408 & 2020 &  3.942311 &  18 &  202 &   37 &  134 &  70.0 &   534 & 94.89887\\\\\n",
       "\t6 & 461424 & 2018 &  0.000000 & 776 & 6081 & 1976 & 5670 & 694.0 & 12364 & 92.08743\\\\\n",
       "\\end{tabular}\n"
      ],
      "text/markdown": [
       "\n",
       "A data.frame: 6 × 10\n",
       "\n",
       "| <!--/--> | district_code &lt;int&gt; | year &lt;int&gt; | lead_replace &lt;dbl&gt; | aptrack &lt;int&gt; | latinx &lt;int&gt; | college &lt;int&gt; | advtgd &lt;int&gt; | pupils_trans &lt;dbl&gt; | enrollment &lt;int&gt; | attendance &lt;dbl&gt; |\n",
       "|---|---|---|---|---|---|---|---|---|---|---|\n",
       "| 1 | 261333 | 2020 | 11.750881 |   0 |   31 |    6 |   25 |  63.5 |    97 | 94.07732 |\n",
       "| 2 | 461382 | 2018 |  0.000000 |  17 |   87 |   22 |   36 |  31.0 |   125 | 93.43200 |\n",
       "| 3 | 461382 | 2019 |  2.060723 |  14 |   71 |   21 |   28 |  62.0 |   126 | 92.92857 |\n",
       "| 4 | 461382 | 2020 |  3.942311 |  13 |   62 |   19 |   25 |  44.5 |   126 | 96.20634 |\n",
       "| 5 | 461408 | 2020 |  3.942311 |  18 |  202 |   37 |  134 |  70.0 |   534 | 94.89887 |\n",
       "| 6 | 461424 | 2018 |  0.000000 | 776 | 6081 | 1976 | 5670 | 694.0 | 12364 | 92.08743 |\n",
       "\n"
      ],
      "text/plain": [
       "  district_code year lead_replace aptrack latinx college advtgd pupils_trans\n",
       "1 261333        2020 11.750881      0       31      6      25    63.5       \n",
       "2 461382        2018  0.000000     17       87     22      36    31.0       \n",
       "3 461382        2019  2.060723     14       71     21      28    62.0       \n",
       "4 461382        2020  3.942311     13       62     19      25    44.5       \n",
       "5 461408        2020  3.942311     18      202     37     134    70.0       \n",
       "6 461424        2018  0.000000    776     6081   1976    5670   694.0       \n",
       "  enrollment attendance\n",
       "1    97      94.07732  \n",
       "2   125      93.43200  \n",
       "3   126      92.92857  \n",
       "4   126      96.20634  \n",
       "5   534      94.89887  \n",
       "6 12364      92.08743  "
      ]
     },
     "metadata": {},
     "output_type": "display_data"
    },
    {
     "name": "stdout",
     "output_type": "stream",
     "text": [
      "[1] \"Sum Stats\"\n"
     ]
    },
    {
     "data": {
      "text/html": [
       "<table class=\"dataframe\">\n",
       "<caption>A data.frame: 3 × 5</caption>\n",
       "<thead>\n",
       "\t<tr><th scope=col>Variable</th><th scope=col>mean</th><th scope=col>sd</th><th scope=col>min</th><th scope=col>max</th></tr>\n",
       "\t<tr><th scope=col>&lt;chr&gt;</th><th scope=col>&lt;dbl&gt;</th><th scope=col>&lt;dbl&gt;</th><th scope=col>&lt;dbl&gt;</th><th scope=col>&lt;dbl&gt;</th></tr>\n",
       "</thead>\n",
       "<tbody>\n",
       "\t<tr><td>Pipe Replacements            </td><td>   2.351899</td><td>   3.315411</td><td>0</td><td>   12.92825</td></tr>\n",
       "\t<tr><td>Enrollment                   </td><td>1006.066536</td><td>1562.073757</td><td>7</td><td>12931.00000</td></tr>\n",
       "\t<tr><td># of Students Commuting Daily</td><td> 276.635616</td><td> 393.571615</td><td>0</td><td> 2988.00000</td></tr>\n",
       "</tbody>\n",
       "</table>\n"
      ],
      "text/latex": [
       "A data.frame: 3 × 5\n",
       "\\begin{tabular}{lllll}\n",
       " Variable & mean & sd & min & max\\\\\n",
       " <chr> & <dbl> & <dbl> & <dbl> & <dbl>\\\\\n",
       "\\hline\n",
       "\t Pipe Replacements             &    2.351899 &    3.315411 & 0 &    12.92825\\\\\n",
       "\t Enrollment                    & 1006.066536 & 1562.073757 & 7 & 12931.00000\\\\\n",
       "\t \\# of Students Commuting Daily &  276.635616 &  393.571615 & 0 &  2988.00000\\\\\n",
       "\\end{tabular}\n"
      ],
      "text/markdown": [
       "\n",
       "A data.frame: 3 × 5\n",
       "\n",
       "| Variable &lt;chr&gt; | mean &lt;dbl&gt; | sd &lt;dbl&gt; | min &lt;dbl&gt; | max &lt;dbl&gt; |\n",
       "|---|---|---|---|---|\n",
       "| Pipe Replacements             |    2.351899 |    3.315411 | 0 |    12.92825 |\n",
       "| Enrollment                    | 1006.066536 | 1562.073757 | 7 | 12931.00000 |\n",
       "| # of Students Commuting Daily |  276.635616 |  393.571615 | 0 |  2988.00000 |\n",
       "\n"
      ],
      "text/plain": [
       "  Variable                      mean        sd          min max        \n",
       "1 Pipe Replacements                2.351899    3.315411 0      12.92825\n",
       "2 Enrollment                    1006.066536 1562.073757 7   12931.00000\n",
       "3 # of Students Commuting Daily  276.635616  393.571615 0    2988.00000"
      ]
     },
     "metadata": {},
     "output_type": "display_data"
    }
   ],
   "source": [
    "schooldata <- read.csv(\"Schools_PS5_2022.csv\")\n",
    "head(schooldata)\n",
    "\n",
    "# Summary Stats\n",
    "piperep <- summarize(schooldata, mean = mean(lead_replace),\n",
    "             sd= sd(lead_replace),\n",
    "             min= min(lead_replace),\n",
    "             max = max(lead_replace))\n",
    "enroll <- summarize(schooldata, mean = mean(enrollment),\n",
    "             sd = sd(enrollment),\n",
    "             min = min(enrollment),\n",
    "             max = max(enrollment))\n",
    "pupils <- summarize(schooldata, mean = mean(pupils_trans, na.rm = TRUE),\n",
    "             sd = sd(pupils_trans, na.rm = TRUE),\n",
    "             min = min(pupils_trans, na.rm = TRUE),\n",
    "             max = max(pupils_trans, na.rm = TRUE))\n",
    "\n",
    "ss <- rbind(piperep, enroll, pupils)\n",
    "sumstats <- cbind(c(\"Pipe Replacements\", \"Enrollment\", \"# of Students Commuting Daily\"), ss)\n",
    "names(sumstats)[1] <- \"Variable\"\n",
    "\n",
    "print('Sum Stats')\n",
    "sumstats"
   ]
  },
  {
   "cell_type": "code",
   "execution_count": 9,
   "metadata": {},
   "outputs": [
    {
     "data": {
      "text/html": [
       "200"
      ],
      "text/latex": [
       "200"
      ],
      "text/markdown": [
       "200"
      ],
      "text/plain": [
       "[1] 200"
      ]
     },
     "metadata": {},
     "output_type": "display_data"
    }
   ],
   "source": [
    "#Confirm number of observations\n",
    "length(unique(schooldata$district_code))"
   ]
  },
  {
   "cell_type": "markdown",
   "metadata": {},
   "source": [
    "## Question 2.1.\n",
    "\n",
    "### You think that it might be important to control for the year in your regression of attendance on pipe replacements.  First, generate year dummy variables $(yr_{2017}, yr_{2018}, yr_{2019}, yr_{2020})$.  Next, estimate the following equation for school attendance.\n",
    "\\begin{align*}\n",
    "attendance_{it} = \\beta_0+ \\beta_1 lead\\_replace_{it} + \\beta_2latinx_{it} &+ \\beta_3college_{it} + \\beta_4advtgd_{it} + \\beta_5aptrack_{it} \\ \\ \\ \\ \\ \\ (1) \\\\\n",
    "&+ \\delta_1yr_{2018} + \\delta_2yr_{2019} + \\delta_3yr_{2020} + u_{it}    \n",
    "\\end{align*}\n",
    "\n",
    "#### (a) Estimate the model and report your results."
   ]
  },
  {
   "cell_type": "code",
   "execution_count": null,
   "metadata": {},
   "outputs": [],
   "source": [
    "# code here"
   ]
  },
  {
   "cell_type": "markdown",
   "metadata": {},
   "source": [
    "#### (b) Give the meaning (economic interpretation) of $\\beta_0$ and $\\delta_{1}$"
   ]
  },
  {
   "cell_type": "markdown",
   "metadata": {},
   "source": [
    "Answer here"
   ]
  },
  {
   "cell_type": "markdown",
   "metadata": {},
   "source": [
    "#### (c) Interpret $\\hat \\beta_1$.  Be sure to mention sign, size and significance and what is being held constant."
   ]
  },
  {
   "cell_type": "markdown",
   "metadata": {},
   "source": [
    "Answer here"
   ]
  },
  {
   "cell_type": "markdown",
   "metadata": {},
   "source": [
    "#### (d) Why is the year 2017 dummy excluded?"
   ]
  },
  {
   "cell_type": "markdown",
   "metadata": {},
   "source": [
    "Answer here"
   ]
  },
  {
   "cell_type": "markdown",
   "metadata": {},
   "source": [
    "## Question 2.2.\n",
    "\n",
    "### Consider now the following (unobserved) fixed effects model:\n",
    "\\begin{align*}\n",
    "attendance_{it} =\\beta_0+ \\beta_1 lead\\_replace_{it} + \\beta_2latinx_{it} + \\beta_3college_{it} + \\beta_4advtgd_{it}+ \\beta_5aptrack_{it} + \\boldsymbol{\\delta}_t+\\mathbf{a_i} +u_{it} \\ \\ \\ (2)\n",
    "\\end{align*}\n",
    "#### (a) Why are we adding district fixed effects ($\\mathbf{a_{i}}$)? In other words, what do these fixed effects control for in the regression? "
   ]
  },
  {
   "cell_type": "markdown",
   "metadata": {},
   "source": [
    "Answer here"
   ]
  },
  {
   "cell_type": "markdown",
   "metadata": {},
   "source": [
    "#### (b)  Estimate the model and interpret $\\hat \\beta_1$.  Be sure to mention sign, size, and significance and what is being held constant.\n",
    "*Hint: Use `felm`. Remember to use `as.factor` to turn your fixed effects variables into factors (dummy variables for each category).*"
   ]
  },
  {
   "cell_type": "code",
   "execution_count": null,
   "metadata": {},
   "outputs": [],
   "source": [
    "# code here"
   ]
  },
  {
   "cell_type": "markdown",
   "metadata": {},
   "source": [
    "Answer here"
   ]
  },
  {
   "cell_type": "markdown",
   "metadata": {},
   "source": [
    "#### (c) Comment specifically on how the size of $\\hat \\beta_1$ changes from model (1) to model (2). Describe your intuition for why it changes in the way that it does, and a possible omitted variable that could explain the differences. "
   ]
  },
  {
   "cell_type": "markdown",
   "metadata": {},
   "source": [
    "Answer here"
   ]
  },
  {
   "cell_type": "markdown",
   "metadata": {},
   "source": [
    "## Question 2.3.\n",
    "\n",
    "### What is the MLR 4 assumption for model (2) to be unbiased? Do you think it is likely to hold in this case? Whatever position you take, give your argument."
   ]
  },
  {
   "cell_type": "markdown",
   "metadata": {},
   "source": [
    "Answer here"
   ]
  }
 ],
 "metadata": {
  "@webio": {
   "lastCommId": null,
   "lastKernelId": null
  },
  "kernelspec": {
   "display_name": "R",
   "language": "R",
   "name": "ir"
  },
  "language_info": {
   "codemirror_mode": "r",
   "file_extension": ".r",
   "mimetype": "text/x-r-source",
   "name": "R",
   "pygments_lexer": "r",
   "version": "4.2.1"
  },
  "toc": {
   "base_numbering": 1,
   "nav_menu": {},
   "number_sections": true,
   "sideBar": true,
   "skip_h1_title": false,
   "title_cell": "Table of Contents",
   "title_sidebar": "Contents",
   "toc_cell": false,
   "toc_position": {},
   "toc_section_display": true,
   "toc_window_display": false
  },
  "varInspector": {
   "cols": {
    "lenName": 16,
    "lenType": 16,
    "lenVar": 40
   },
   "kernels_config": {
    "python": {
     "delete_cmd_postfix": "",
     "delete_cmd_prefix": "del ",
     "library": "var_list.py",
     "varRefreshCmd": "print(var_dic_list())"
    },
    "r": {
     "delete_cmd_postfix": ") ",
     "delete_cmd_prefix": "rm(",
     "library": "var_list.r",
     "varRefreshCmd": "cat(var_dic_list()) "
    }
   },
   "types_to_exclude": [
    "module",
    "function",
    "builtin_function_or_method",
    "instance",
    "_Feature"
   ],
   "window_display": false
  }
 },
 "nbformat": 4,
 "nbformat_minor": 4
}
