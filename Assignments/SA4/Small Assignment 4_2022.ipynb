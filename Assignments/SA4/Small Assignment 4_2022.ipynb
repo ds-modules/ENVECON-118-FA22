{
 "cells": [
  {
   "cell_type": "markdown",
   "metadata": {},
   "source": [
    "# Small Assignment 4"
   ]
  },
  {
   "cell_type": "markdown",
   "metadata": {},
   "source": [
    "<em>Due October 28th by 11:59pm PT. Download your notebook with responses as a PDF via HTML and submit to Gradescope.</em>\n",
    "\n",
    "In Small Assignment 2, we estimated the relationship between housing prices, age of the house, owner occupancy status and the presence of hazardous waste in the neighborhood. Suppose our estimates were given by: \n",
    "\n",
    "$\\widehat{log(hhvalue)}= 11.45 (3.4) - 0.175 (0.34) * waste - 0.00532  (0.00356)  * nbyrs + 2.68 (1.435) * owner occupied$              \n",
    "\n",
    "$ N = 560, R^2 = 0.113$\n",
    "                 \n",
    "where standard errors are given in parentheses.\n",
    "\n",
    "As a reminder: **hhvalue** is the housing price measured in dollars and **waste** is the quantity in kgs of hazardous waste in the house's census tract, **nbyrs** is the number of years since the house was built, and **owner_occupied** is a dummy variable for whether the house is occupied by its owner (vs rented)."
   ]
  },
  {
   "cell_type": "markdown",
   "metadata": {},
   "source": [
    "### 1. Is either the age of house or owner occupancy significant at the 5% level against a 2-sided alternative? Show your work."
   ]
  },
  {
   "cell_type": "markdown",
   "metadata": {},
   "source": [
    "Double-click this text to type your answer here"
   ]
  },
  {
   "cell_type": "markdown",
   "metadata": {},
   "source": [
    "### 2. Dropping _nbyrs_ and _owneroccupied_ from the equation gives the equation below. Are _nbyrs_ or _owneroccupied_ jointly significant at the 5% level? Justify your answer. \n",
    "\n",
    "$\\widehat{log(hhvalue)}= 11.45 (2.5) - 0.178 (0.36) * waste$              \n",
    "\n",
    "$ N = 560, R^2 = 0.103$\n",
    "where standard errors are given in parentheses."
   ]
  },
  {
   "cell_type": "markdown",
   "metadata": {},
   "source": [
    "Double-click this text to type your answer here"
   ]
  },
  {
   "cell_type": "markdown",
   "metadata": {},
   "source": [
    "### 3. Does including _nbyrs_ and _owneroccupied_ in the model greatly affect the estimated tradeoff between environmental value and housing prices?"
   ]
  },
  {
   "cell_type": "markdown",
   "metadata": {},
   "source": [
    "Double-click this text to type your answer here"
   ]
  },
  {
   "cell_type": "markdown",
   "metadata": {},
   "source": [
    "### 4. Carefully explain the difference between the null hypothesis in your tests in part 1 and part 2. What could you learn by rejecting the null hypothesis in each of them?"
   ]
  },
  {
   "cell_type": "markdown",
   "metadata": {},
   "source": [
    "Double-click this text to type your answer here"
   ]
  }
 ],
 "metadata": {
  "kernelspec": {
   "display_name": "R",
   "language": "R",
   "name": "ir"
  },
  "language_info": {
   "codemirror_mode": "r",
   "file_extension": ".r",
   "mimetype": "text/x-r-source",
   "name": "R",
   "pygments_lexer": "r",
   "version": "4.2.1"
  }
 },
 "nbformat": 4,
 "nbformat_minor": 2
}
