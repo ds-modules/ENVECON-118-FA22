{
 "cells": [
  {
   "cell_type": "markdown",
   "metadata": {},
   "source": [
    "# Assignment 3 - Due Friday, October 21 at 11:59 PM\n",
    "\n",
    "## Background\n",
    "\n",
    "The data for this exercise were used in Ebonya Washington's paper: \"Female Socialization: How Daughters Affect Their Legislator Fathers' Voting on Women's Issues.\"  published in the American Economic Review in 2008. The paper asks whether having daughters influences the voting behavior of members of the US Congress. The hypothesis is that having (more) daughters makes legislators more likely to vote liberally (in terms of political alignment, and in contrast to conservatively) on issues concerning women.\n",
    "\n",
    "For this exercise, we will focus on votes that took place in the 108th Congress, which held session in 2003/04. As a measure of a liberal voting record, we use scores assigned by the American Association of University Women (AAUW), a liberal group that concerns itself with issues of interest to women. For the 108th Congress, the AAUW selected 9 pieces of legislation in the areas of education, equality and reproductive rights. The AAUW then assigned a score to each member of Congress. The scores range from 0 to 100 and measure the percentage of times the legislator voted in favor of the position held by the AAUW.\n",
    "\n",
    " The dataset `legislators.dta` contains the following characteristics for a random sample of 386 members of the 108th Congress:\n",
    " \n",
    " * $ngirls$ number of daughters\n",
    " * $totchi$ total number of children\n",
    " * $age$ age\n",
    " * $female$ indicator for being female\n",
    " * $repub$ indicator for being a Republican\n",
    " * $moredef$ proportion of people in the legislator's district who are in favor of \"more spending on defense\" \n",
    " * $aauw$ AAUW score\n",
    " \n",
    "(For the purposes of this exercise, you can assume all members of the 108th Congress were either Democrats or Republicans and were either male or female.) "
   ]
  },
  {
   "cell_type": "markdown",
   "metadata": {},
   "source": [
    "### (a) Estimate and report results for the following regression models:\n",
    "\n",
    "Load in the data set `legislators.dta`. Remember, you will first need to call the `haven` package to do so.\n",
    "\n",
    "Generate a variable `ngirls2` $=\\text{ngirls}^2$\n",
    "\n",
    "Generate an interaction variable `repubngirls` $= \\text{repub}*\\text{ngirls}$\n",
    "\n",
    "Generate an interaction variable `repubngirls2` $=\\text{repub}*\\text{ngirls2}$\n",
    "\n",
    "Estimate the following three regression models, save the output as reg1, reg2, and reg3, and show the results of each using `summary()`:\n",
    "\n",
    "\\begin{align}\n",
    "aauw&=\\beta_0 +\\beta_1female+\\beta_2repub+\\beta_3ngirls+u  ~~~~~~~~~~~~~~~~~~~~~~~~~~~~~~~~~~~~~~~~~~~~~~~~~~~~~~~~~~~~~~~~ (1) \\\\\n",
    "aauw&=\\beta_0 +\\beta_1female+\\beta_2repub+\\beta_3ngirls+\\beta_4 ngirls2+ \\beta_5 totchi + u ~~~~~~~~~~~~~~~~~~~~~~~~~~~~~~~~~~~~~~~~~~~~~~~(2)  \\\\\n",
    "aauw&=\\beta_0 + \\beta_1female+\\beta_2repub+\\beta_3ngirls+\\beta_4 ngirls2+\\beta_5 repubngirls+\\beta_6 repubngirls2+\\beta_7 totchi + \\beta_8 moredef + u\\ \\ \\ (3) \n",
    "\\end{align}\n",
    "\n",
    "*(Note: this method of generating interaction variables (multiplying them together) is appropriate when one of the interacted variables is a dummy variable, but may not be appropriate in all cases.)*"
   ]
  },
  {
   "cell_type": "code",
   "execution_count": null,
   "metadata": {
    "scrolled": true
   },
   "outputs": [],
   "source": []
  },
  {
   "cell_type": "markdown",
   "metadata": {},
   "source": [
    "### (b) Suggest which model is the best fit to the data. How did you determine this? (no more than 1 sentence is required)"
   ]
  },
  {
   "cell_type": "markdown",
   "metadata": {},
   "source": [
    " Text goes here"
   ]
  },
  {
   "cell_type": "markdown",
   "metadata": {},
   "source": [
    "### (c) Interpret the marginal effect at the mean of the number of daughters on AAUW score in each model.\n",
    "*(Hint: Calculate the total marginal effect, using the coefficients for all terms including the number of daughters. Calculating a marginal effect at the mean involves plugging in the mean number of daughters in the sample into any estimate of the total marginal effect of the number of daughters where this effect varies by the number of daughters.)*\n",
    "\n",
    "*(Hint: Instead of typing in numbers from the regressions manually, you can call regression coefficients using summary(reg1)$coefficients[#,1] for coefficient number # starting with the intercept as number 1.)*\n",
    "\n",
    "*(Hint: In model 3, the marginal effect will differ by particular subgroups. Interpret the different effects for each subgroup.)*"
   ]
  },
  {
   "cell_type": "markdown",
   "metadata": {},
   "source": [
    "Text goes here "
   ]
  },
  {
   "cell_type": "markdown",
   "metadata": {},
   "source": [
    "### (d) Test whether there is an effect of the number of daughters on AAUW scores using the second model. Be sure to describe carefully the null and alternative hypothesis.\n",
    "*(Hint: You can access the residuals from a regression you have saved as reg by calling `reg$residuals`, and you can access the r-squared by calling `summary(reg)$r.squared`.)*"
   ]
  },
  {
   "cell_type": "markdown",
   "metadata": {},
   "source": [
    "Text goes here\n"
   ]
  },
  {
   "cell_type": "code",
   "execution_count": null,
   "metadata": {},
   "outputs": [],
   "source": []
  },
  {
   "cell_type": "markdown",
   "metadata": {},
   "source": [
    " Text goes here"
   ]
  },
  {
   "cell_type": "markdown",
   "metadata": {},
   "source": [
    "### (e) Using the third model, predict the AAUW score for male democrats who have 3 daughters and 0 son, and who have 36% of constituents who want more spending on defense, on average. Suggest a $95\\%$ CI for that predicted value.\n",
    "\n",
    "*(Hint: See part 3-A of Section Notes 8.)*"
   ]
  },
  {
   "cell_type": "code",
   "execution_count": null,
   "metadata": {},
   "outputs": [],
   "source": []
  },
  {
   "cell_type": "markdown",
   "metadata": {},
   "source": [
    " Text goes here"
   ]
  },
  {
   "cell_type": "markdown",
   "metadata": {},
   "source": [
    "### (f) Suppose a particular male Democrat has 3 daughters and no son in a state where 36% of constituents want more spending on defense. Generate a $95\\%$ CI for his *particular* AAUW score, continuing to use the third model.\n",
    "\n",
    "*(Hint: See part 3-B of Section Notes 8. Note that you can use most the values you already calculated in part (e) to answer this question.)*"
   ]
  },
  {
   "cell_type": "code",
   "execution_count": null,
   "metadata": {},
   "outputs": [],
   "source": []
  },
  {
   "cell_type": "markdown",
   "metadata": {},
   "source": [
    " Text goes here"
   ]
  },
  {
   "cell_type": "markdown",
   "metadata": {},
   "source": [
    "### (g) Suppose you think Republicans and non-Republicans may have different gender patterns in voting with respect to the AAUW score. That is, Republican men may vote differently than Republican women, who may vote differently than Democratic women who may vote differently than Democratic men. \n",
    "\n",
    "### Write down an estimation equation you could use to test whether Republican women, Democratic women, and Democratic men each vote differently than Republican men. Specify what your null and alternative hypotheses would be."
   ]
  },
  {
   "cell_type": "markdown",
   "metadata": {},
   "source": [
    " Text goes here\n"
   ]
  },
  {
   "cell_type": "markdown",
   "metadata": {},
   "source": [
    "### (h) Implement your test. Interpret each coeffcient.\n",
    "*(Hint: To create dummy variables based on particular characteristics, it is easiest to first create the dummy variable and set it equal to 0 for all observations: `data$dummy<0`. Then, replace the values for that dummy with 1 for the observations that match the requirements you are looking for, as in `data[data$x1==0 & data$x2==1,]$dummy<-1`.)*\n",
    "\n",
    "*(Hint: If you need to, you can include an interaction term in your regression using `:`. For example `lm(y~x1+x2+x1:x2,data=data)` includes an interaction between `x1` and `x2`. You will need to load the `car` package.)*\n"
   ]
  },
  {
   "cell_type": "code",
   "execution_count": null,
   "metadata": {
    "scrolled": true
   },
   "outputs": [],
   "source": []
  },
  {
   "cell_type": "markdown",
   "metadata": {},
   "source": [
    "  Text goes here"
   ]
  },
  {
   "cell_type": "markdown",
   "metadata": {},
   "source": [
    "### (i) Adapt your regression to test whether Democratic women vote in the same way as Republican women with respect to the AAUW score. Write out the estimating equation and report your results. Conclude as to whether Democratic and Republican women vote similarly."
   ]
  },
  {
   "cell_type": "code",
   "execution_count": null,
   "metadata": {
    "scrolled": true
   },
   "outputs": [],
   "source": []
  },
  {
   "cell_type": "markdown",
   "metadata": {},
   "source": [
    " Text goes here"
   ]
  },
  {
   "cell_type": "markdown",
   "metadata": {},
   "source": [
    "## Downloading your Notebook\n",
    "\n",
    "Download a PDF copy of your notebook by using __File > Download as HTML.__ Alternatively, go to print preview and __Save as PDF__ (but make sure your code does not get cut off at the side of the page!)"
   ]
  }
 ],
 "metadata": {
  "kernelspec": {
   "display_name": "R",
   "language": "R",
   "name": "ir"
  },
  "language_info": {
   "codemirror_mode": "r",
   "file_extension": ".r",
   "mimetype": "text/x-r-source",
   "name": "R",
   "pygments_lexer": "r",
   "version": "4.2.1"
  }
 },
 "nbformat": 4,
 "nbformat_minor": 2
}
