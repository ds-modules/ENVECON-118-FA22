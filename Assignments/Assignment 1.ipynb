{
 "cells": [
  {
   "cell_type": "markdown",
   "metadata": {},
   "source": [
    "# ENV ECON 118/IAS 118 - Introductory Applied Econometrics Assignment 1\n",
    "\n",
    "## Fall 2022"
   ]
  },
  {
   "cell_type": "markdown",
   "metadata": {},
   "source": [
    "There is a large literature in macroeconomics that investigates why there exist such large differences in gross domestic product (GDP) per capita between developed and developing countries. Recently economists have focused on the role of agriculture in accounting for these differences (Restuccia et al. 2008, _Journal of Monetary Economics_). Why might agriculture be important? Consider two facts, which we will explore in greater detail below. First, labor productivity in agriculture for the richest countries is 78 times that of the poorest countries. Second, the poorest countries allocate 86% of their employment to this sector, as compared to only 4% in the richest countries."
   ]
  },
  {
   "cell_type": "markdown",
   "metadata": {},
   "source": [
    "<p style=\"text-align: center;\"> Figure 1. </p>\n",
    "\n",
    "<img src=\"fig1.png\" width=\"400\" />"
   ]
  },
  {
   "cell_type": "markdown",
   "metadata": {},
   "source": [
    "<p style=\"text-align: center;\"> Figure 2. </p>\n",
    "\n",
    "<img src=\"fig2.png\" width=\"400\" />"
   ]
  },
  {
   "cell_type": "markdown",
   "metadata": {},
   "source": [
    "The data are from the World Bank development indicators (http://data.worldbank.org/data-catalog/world-development-indicators) for 2019. \n",
    "\n",
    "Labor Productivity in Agriculture is measured as the output of the agricultural sector less the value of intermediate inputs, divided by the number of workers. It is measured in thousands of US $ \\$ $. GDP per capita is gross domestic product divided by midyear population, and is also measured in thousands of US $ \\$ $. Agricultural Employment is the percentage of all workers engaged in agriculture. \n",
    "\n",
    "The graphs above include all 94 countries in the original dataset which have data on Labor Productivity in Agriculture, Agricultural Employment and GDP per capita. The values for selected countries can be found in the csv files \"countries1\" and \"countries2\"."
   ]
  },
  {
   "cell_type": "markdown",
   "metadata": {},
   "source": [
    "# Exercise 1. Relationship between GDP per capita and Labor Productivity in Agriculture\n",
    "\n",
    "As you see in Figure 1, there appears to be some association between GDP per capita and Labor\n",
    "Productivity in Agriculture.\n",
    "We will estimate a simple linear relationship on a (very small) subset of 5 countries."
   ]
  },
  {
   "cell_type": "markdown",
   "metadata": {},
   "source": [
    "(a) Use R to create a scatter plot of these observations. "
   ]
  },
  {
   "cell_type": "markdown",
   "metadata": {},
   "source": [
    "a-Step 1: Load the .csv file called countries1.csv. (Hint: the `read.csv()` command will likely be helpful.)"
   ]
  },
  {
   "cell_type": "code",
   "execution_count": null,
   "metadata": {},
   "outputs": [],
   "source": []
  },
  {
   "cell_type": "markdown",
   "metadata": {},
   "source": [
    "a-Step 2: Look at the data. This dataset only has 5 rows so you can just call the entire dataset. In general you want to use the `head()` command so that R does not print the entire dataset which will take way too many pages."
   ]
  },
  {
   "cell_type": "code",
   "execution_count": null,
   "metadata": {},
   "outputs": [],
   "source": []
  },
  {
   "cell_type": "markdown",
   "metadata": {},
   "source": [
    "a-Step 3: Rename the variables to \"country\", \"gdp_pc\", and \"labor_prod\". (Hint: the `colnames()` command may be useful. Also remember that to select multiple values (such as mulitple variable names, you can use R's vector notation `c()`. For example: `c(\"a\", \"b\", \"c\")`."
   ]
  },
  {
   "cell_type": "code",
   "execution_count": null,
   "metadata": {},
   "outputs": [],
   "source": []
  },
  {
   "cell_type": "markdown",
   "metadata": {},
   "source": [
    "a-Step 4: Create a scatterplot of the data. Make sure to (1) label the axes and their\n",
    "units, and (2) title your graph. (Hint: the `plot()` command will likely come in handy. Use `help(plot)` or `?plot` to view the documentation for the function and how to include labels.)"
   ]
  },
  {
   "cell_type": "code",
   "execution_count": null,
   "metadata": {},
   "outputs": [],
   "source": []
  },
  {
   "cell_type": "markdown",
   "metadata": {},
   "source": [
    "b) Estimate the linear relationship between GDP per capita and Labor Productivity in Agriculture (\"E\") by OLS, showing all intermediate calculations as we did in the handout.\n",
    "\n",
    "$$\\widehat{E} = \\hat{\\beta}_0 + \\hat{\\beta}_1GDP / cap$$\n",
    "\n",
    "For this exercise,  **DO NOT** use the built-in R commands like `cov()` or `lm()`. Use basic mathematical commands (`+`, `-`, `*`, `\\`, `sum()`, `^`) to reproduce all the values from table and show all the steps."
   ]
  },
  {
   "cell_type": "markdown",
   "metadata": {},
   "source": [
    "b-Step 1: Create new data objects called  __mean_gdp_pc__ and __mean_labor_prod__ equal to the mean of __gdp_pc__ and __labor_prod__."
   ]
  },
  {
   "cell_type": "code",
   "execution_count": null,
   "metadata": {},
   "outputs": [],
   "source": []
  },
  {
   "cell_type": "markdown",
   "metadata": {},
   "source": [
    "b-Step 2: Calculate the covariance (only using the mathematical operations specified above) between gdp_pc and labor_prod: $cov(gdp_{pc},labor_{prod})$. \n",
    "\n",
    "- Do this by first creating two new columns of residuals: __devgdp__, a column that subtracts the __mean_gdp_pc__ from __gdp_pc__ and __devlp__ that subtracts the __mean_labor_prod__ from __labor_prod__. \n",
    "- Next create a column __devgdplp__ which is equal to __devlp__ multiplied by __devgdp__.\n",
    "- Finally, generate a value named `covar` which is equal to the sum of __devgdplp__ divided by n-1.\n",
    "- Make sure to call `covar` at the end so we can see it printed in the output."
   ]
  },
  {
   "cell_type": "code",
   "execution_count": null,
   "metadata": {},
   "outputs": [],
   "source": [
    "        "
   ]
  },
  {
   "cell_type": "markdown",
   "metadata": {},
   "source": [
    "b-Step 3: Calculate the variance. \n",
    "- First generate a column __sqdev__ equal to the square of __devgdp__. \n",
    "- Generate a value named `var` which is equal to the sum of __sqdevgdp__ divided by n-1. \n",
    "- Make sure to call `var` at the end so we can see it printed in the output."
   ]
  },
  {
   "cell_type": "code",
   "execution_count": null,
   "metadata": {},
   "outputs": [],
   "source": []
  },
  {
   "cell_type": "markdown",
   "metadata": {},
   "source": [
    "b-Step 4: Using the quantities generated above, generate and print `beta_1` and `beta_0`, your estimates for $\\hat{\\beta}_0$ and $\\hat{\\beta}_1$."
   ]
  },
  {
   "cell_type": "code",
   "execution_count": null,
   "metadata": {},
   "outputs": [],
   "source": []
  },
  {
   "cell_type": "markdown",
   "metadata": {},
   "source": [
    "c) Interpret the value of the estimated parameters $\\hat{\\beta}_0$ and $\\hat{\\beta}_1$"
   ]
  },
  {
   "cell_type": "markdown",
   "metadata": {},
   "source": []
  },
  {
   "cell_type": "markdown",
   "metadata": {},
   "source": [
    "d) In your data frame, compute the fitted value and the residual (the difference between the actual and fitted value) for each observation. Use only basic mathematical commands (`+`, `-`, `*`, `\\`, `sum()`, `^`) to do this. Create a new column named \"fitted\" and another new column called \"residuals\". Call the head() of your dataset so we can see these new columns. Verify that the residuals sum to 0 (approximately)."
   ]
  },
  {
   "cell_type": "code",
   "execution_count": null,
   "metadata": {},
   "outputs": [],
   "source": []
  },
  {
   "cell_type": "markdown",
   "metadata": {},
   "source": [
    "e) Now use the `lm()` command to run this regression automatically rather than manually as you did above and save the output as \"reg1\". \n",
    "\n",
    "Check that your estimates of $\\hat{\\beta_0}$ and $\\hat{\\beta_1}$ that you calculated manually above match the estimates using `lm()`. \n",
    "Call the `summary()` of reg1 so we can see the output."
   ]
  },
  {
   "cell_type": "code",
   "execution_count": null,
   "metadata": {},
   "outputs": [],
   "source": []
  },
  {
   "cell_type": "markdown",
   "metadata": {},
   "source": [
    "f) According to the estimated relation, what is the predicted $\\widehat{E}$ for a country with a GDP per capita of \\$12,000?\n",
    "\n"
   ]
  },
  {
   "cell_type": "code",
   "execution_count": null,
   "metadata": {},
   "outputs": [],
   "source": []
  },
  {
   "cell_type": "markdown",
   "metadata": {},
   "source": []
  },
  {
   "cell_type": "markdown",
   "metadata": {},
   "source": [
    "g) How much of the variation in Labor Productivity in Agriculture for these 5 countries is explained by their GDP per capita?\n",
    "\n",
    "Calculate the $R^2$ by calculating the sum of squared model residuals and the sum of squared total (variation of the dependent variable). Use only basic mathematical commands (`+`, `-`, `*`, `\\`, `sum()`, `^`) to do this. Then calculate $R^2$ and make sure to call the value so we can see it printed out."
   ]
  },
  {
   "cell_type": "code",
   "execution_count": null,
   "metadata": {},
   "outputs": [],
   "source": []
  },
  {
   "cell_type": "markdown",
   "metadata": {},
   "source": [
    " "
   ]
  },
  {
   "cell_type": "markdown",
   "metadata": {},
   "source": [
    "h) Repeat exercises (a), (b), and (e) for the additional set of countries whose data is available in the file countries2.csv.\n",
    "*Note:* We outline how you might fill out the code in separate cells. If needed, click on \"Insert\" in the menu to add additional cells below, or simply click \"b\" on your keyboard while not in edit mode to add a cell below. Click \"d\" twice while not in edit mode to delete a cell, or go to \"Edit\"->\"Delete Cells\"."
   ]
  },
  {
   "cell_type": "code",
   "execution_count": 1,
   "metadata": {
    "scrolled": false
   },
   "outputs": [],
   "source": [
    "# (a) Steps 1-3\n"
   ]
  },
  {
   "cell_type": "code",
   "execution_count": 2,
   "metadata": {},
   "outputs": [],
   "source": [
    "# (a) Step 4\n"
   ]
  },
  {
   "cell_type": "code",
   "execution_count": 3,
   "metadata": {},
   "outputs": [],
   "source": [
    "# (b) Steps 1-3\n"
   ]
  },
  {
   "cell_type": "code",
   "execution_count": 4,
   "metadata": {},
   "outputs": [],
   "source": [
    "# (b) Step 4\n"
   ]
  },
  {
   "cell_type": "code",
   "execution_count": 5,
   "metadata": {},
   "outputs": [],
   "source": [
    "# (e)\n"
   ]
  },
  {
   "cell_type": "markdown",
   "metadata": {},
   "source": [
    "i) How do your estimates of $\\hat{\\beta}_0$ and $\\hat{\\beta}_1$ change between the two sets of 5 countries? Discuss and briefly explain this variation in 3-5 sentences."
   ]
  },
  {
   "cell_type": "markdown",
   "metadata": {},
   "source": []
  },
  {
   "cell_type": "markdown",
   "metadata": {},
   "source": [
    " # Exercise 2. Regression Assumptions"
   ]
  },
  {
   "cell_type": "markdown",
   "metadata": {},
   "source": [
    "Refer to the first figure.  Suppose you wanted to estimate the relationship between GDP and Agricultural Productivity.  \n",
    "\n",
    "a) Write down assumption SLR2.  Interpret the assumption in this context (1-3 sentences), and discuss whether you think it is likely to hold for this exercise (2-4 sentences)"
   ]
  },
  {
   "cell_type": "markdown",
   "metadata": {},
   "source": [
    "Write your answer here"
   ]
  },
  {
   "cell_type": "markdown",
   "metadata": {},
   "source": [
    "b) Write down assumption SLR4. Interpret the assumption in this context (1-3 sentences), and discuss whether you think it is likely to hold for this exercise (2-4 sentences)"
   ]
  },
  {
   "cell_type": "markdown",
   "metadata": {},
   "source": [
    " Write your answer here"
   ]
  },
  {
   "cell_type": "markdown",
   "metadata": {},
   "source": [
    "# Submission Instructions \n",
    "\n",
    "Go to the file dropdown menu and select the ”Download as” dropdown menu. In this menu make sure to select ”PDF via HTML” (the bottom option, not the middle one) or \"PDF via Chrome\" (if that option appears instead). \n",
    "\n",
    "The figures in the problem statement may not show up in the pdf you generate. That is ok.\n",
    "\n",
    "Once you have downloaded this pdf, make sure it shows all your answers and upload it to Gradescope."
   ]
  }
 ],
 "metadata": {
  "kernelspec": {
   "display_name": "R",
   "language": "R",
   "name": "ir"
  },
  "language_info": {
   "codemirror_mode": "r",
   "file_extension": ".r",
   "mimetype": "text/x-r-source",
   "name": "R",
   "pygments_lexer": "r",
   "version": "4.2.1"
  }
 },
 "nbformat": 4,
 "nbformat_minor": 2
}
