{
 "cells": [
  {
   "cell_type": "markdown",
   "metadata": {},
   "source": [
    "# EEP/IAS 118 Assignment 4\n",
    "Due on November 14th, 2022 at 11.59pm on Gradescope\n"
   ]
  },
  {
   "cell_type": "markdown",
   "metadata": {},
   "source": [
    "Trees are able to absorb a lot of the CO2 in the atmosphere. Thus, a lot of policy attention has been focused on the role trees can play in slowing down the increase in CO2 levels. One potential avenue has been to reduce deforestation, by preventing forest owners from cutting down trees. In the context we study and many other contexts, tree cutting is a very lucrative activity (mostly from selling timber), but also provides firewood for fuel and cooking. People might resort to tree cutting as their main economic activity, or to provide them with extra income in case of an emergency. \n",
    "\n",
    "One paper by Jayachandran, de Laat, Lambin, Stanton, Audy and Thomas (2017) looks at a policy in Uganda, where farmers in different villages are enrolled into a randomized controlled trial and are offered cash  in exchange of not cutting down their trees (this type of intervention or policy is often called payment for ecosystem services or PES). However there is still debate over whether these are effective (especially cost-effective) policies for environmental conservation. (The paper is [Cash for carbon: A randomized trial of payments for ecosystem services to reduce deforestation](https://www-science-org.libproxy.berkeley.edu/doi/full/10.1126/science.aan0568#supplementary-materials) _Science_ Vol 357, Issue 6348.)\n",
    "\n",
    "We are going to work with a (simplified) version of their data for this problem set to estimate the effects of cash incentives on deforestation. Compared to the published paper, we also look at a simplified version of the treatment effects."
   ]
  },
  {
   "cell_type": "markdown",
   "metadata": {},
   "source": [
    "### Part A:\n",
    "\n",
    "**Suppose the researchers did not conduct a randomized controlled trial. Instead they surveyed farmers and compared tree cover in villages where village leaders decided to give financial incentives to farmers to stop cutting down trees, compared to villages where no such program was in place. Would this comparison allow you to estimate the effect of cash incentives on environmental conservation? Explain why or why not using both words and potential outcomes notation. \n",
    "How would the expression for the estimated impact of cash incentives on tree cover differ if cash incentives were randomized?**"
   ]
  },
  {
   "cell_type": "markdown",
   "metadata": {},
   "source": [
    "Text here"
   ]
  },
  {
   "cell_type": "markdown",
   "metadata": {},
   "source": [
    "### Part B:\n",
    "\n",
    "Now let's analyze the RCT data. The dataset contains observations of sixteen variables from 995 farm households. The variables are as follows:\n",
    "\n",
    "- $partid$: This is just the unique ID for each farmer\n",
    "- $forest\\_cover$: This is the forest cover tree measured in hectares. The tree cover helps us measure the extent of the deforestation. A higher tree cover corresponds to more trees/higher tree density.\n",
    "- $cash$: This is the treatment variable of interest - equal to 1 if the household was given cash to not cut trees (i.e. in the treatment group) and 0 otherwise (i.e in the control group)\n",
    "- $cut\\_cult$: This is a dummy equal to 1 if households cut trees to clear area for agriculture and 0 otherwise\n",
    "- $cut\\_timber$: This is a dummy equal to 1 if households cut trees for timber products and 0 otherwise \n",
    "- $cut\\_emerg$: This is a dummy equal to 1 if households cut trees for emergency/large expenses and 0 otherwise\n",
    "- $any\\_tree\\_cut\\_1yr$: This is a dummy equal to 1 if households cut any tree during the program and 0 otherwise\n",
    "- $any\\_tree\\_cut\\_3yr$: This is a dummy equal to 1 if households cut any tree in the past 3 years and 0 otherwise\n",
    "- $timvisit\\_y$: This is a dummy equal to 1 if the household received any visit from timber dealers looking to buy trees in the past year and 0 otherwise \n",
    "- $opi\\_hurtenv\\_agr$: This is a dummy equal to 1 if the household head agrees that he has to damage the environment to improve his life and 0 otherwise.\n",
    "- $envprog\\_bi$: This is a dummy equal to 1 if the household head has been involved in any environmental organization and 0 otherwise.\n",
    "- $log\\_tim\\_price$: This is the log of total income from cutting trees earned by the household.\n",
    "- $hhead\\_age$: This is the age of the household head\n",
    "- $hhead\\_educ$: This is the number of years of education of the household head\n",
    "- $hhland\\_area$: This is the land area owned by the household, in hectares (ha)\n",
    "- $hhforest\\_area$: This is the forest area owned by the household, in hectares (ha)\n",
    "\n",
    "Note that all variables other than tree cover and cutting trees during the program were measured *before* the distribution of incentives. They were measured either the year before or for the 3 years before the intervention.\n",
    "\n",
    "a) **Before running any regressions, show how you can obtain the average treatment effect (ATE) of cash incentives on tree cover. Then write down the regression you could use to estimate the ATE.**"
   ]
  },
  {
   "cell_type": "markdown",
   "metadata": {},
   "source": [
    "Text here"
   ]
  },
  {
   "cell_type": "markdown",
   "metadata": {},
   "source": [
    "**b) Read in the data from `ps4_pes_data.dta` (remember you need to use the `read_dta` function from the `haven` package to read `.dta` files. You will also probably want to load `tidyverse`).** \n",
    "\n",
    "**Then, estimate the regression you wrote down using `lm()` and test whether the ATE is statistically significant at a 99\\% confidence level.** \n",
    "\n",
    "**Is the ATE on cutting trees also statistically significant at the 99\\% level? Show your work and interpret the coefficient**"
   ]
  },
  {
   "cell_type": "code",
   "execution_count": null,
   "metadata": {},
   "outputs": [],
   "source": [
    "# code here"
   ]
  },
  {
   "cell_type": "code",
   "execution_count": null,
   "metadata": {},
   "outputs": [],
   "source": [
    "#code here for second ATE"
   ]
  },
  {
   "cell_type": "markdown",
   "metadata": {},
   "source": [
    "Text here"
   ]
  },
  {
   "cell_type": "markdown",
   "metadata": {},
   "source": [
    "### Part C:\n",
    "**a) Now let's check to make sure our sample is balanced across treatment and control. For each of the four household demographics variables, conduct a t-test against the null that they are on average equal between treatment and control.** \n",
    "\n",
    "**Coding Hints**: The command for a t-test is `t.test()`. One way to test whether coviarate $X$ is correlated with treatment status $T$, you can put `X~T` inside `t.test()`, just like you would for `lm()`. If you just want to print the t-stat or the p-value rather than the entire test output, you can call `$statistic` or `$p.value`, respectively. \n",
    "\n",
    "You can repeat this separately for each covariate, but if you want to be extra fancy you can use the `lapply()` function. `lapply()` is super useful for applying a function repeatedly over different variables. The way you would use it here is `lapply(X, function (x) FUN)` where `X` is the data frame of the variables you are interested in testing and `FUN` is the function you want to apply. One of the arguments of this function should be (small) `x`, which serves as a stand-in for the column of (big) `X` that you want to apply the function over. Finally, if you want to show the output as a single data frame (instead of a list), you can wrap all of this with `as.data.frame()`. With all of this information, you could theoretically produce a nice-ish table of p-values for the four tests you run using a single line of code. You are not required or expected to use this method, but it might come in handy if you find yourself having to work with larger datasets in the future."
   ]
  },
  {
   "cell_type": "code",
   "execution_count": null,
   "metadata": {},
   "outputs": [],
   "source": [
    "#code here"
   ]
  },
  {
   "cell_type": "markdown",
   "metadata": {},
   "source": [
    "**b) Do you conclude that the sample is well-balanced? Are you surprised or concerned by any of the results? If so, what could you do to address your concerns?**"
   ]
  },
  {
   "cell_type": "markdown",
   "metadata": {},
   "source": [
    "Text here"
   ]
  },
  {
   "cell_type": "markdown",
   "metadata": {},
   "source": [
    "### Part D\n",
    "\n",
    "**a) What happens if you control for additional covariates (household demographics, a dummy for agreeing that environmental conservation is antithetic to their livelihood, and a dummy for having cut any trees in the past 3 years) in this regression? What (if any) advantages are there to controlling for these variables? What (if any) disadvantages are there?**"
   ]
  },
  {
   "cell_type": "markdown",
   "metadata": {},
   "source": [
    "Text here"
   ]
  },
  {
   "cell_type": "markdown",
   "metadata": {},
   "source": [
    "**b) Run the regression controlling for all six of these variables. Interpret how your results change, if at all.** "
   ]
  },
  {
   "cell_type": "code",
   "execution_count": null,
   "metadata": {},
   "outputs": [],
   "source": [
    "# code here"
   ]
  },
  {
   "cell_type": "markdown",
   "metadata": {},
   "source": [
    "Text here"
   ]
  },
  {
   "cell_type": "markdown",
   "metadata": {},
   "source": [
    "### Part E\n",
    "\n",
    "**You think households might differ in the financial incentives they face when cutting trees, which might affect the effect of the cash incentives. You hypothesize that households that have been earning more money from cut trees might be less willing to stop cutting trees, so might experience smaller increases in tree cover even if they receive a cash incentive. Propose, implement, and interpret a test of whether the effect of the cash on tree cover is different for households that received above average income from cutting trees in the past year, building on the model from Part D.**\n",
    "\n",
    "_Hint: Create the variable **above\\_average\\_inc** first, by summarizing the income variable, and creating a dummy variable as in Assignment 3, where the new dummy is equal to 1 when income is above the mean income. Don't forget to remove NA values from the mean calculation, using `mean(x, na.rm = TRUE)` to get the mean of x._"
   ]
  },
  {
   "cell_type": "markdown",
   "metadata": {},
   "source": [
    "Text here"
   ]
  },
  {
   "cell_type": "code",
   "execution_count": null,
   "metadata": {},
   "outputs": [],
   "source": [
    "# code here"
   ]
  },
  {
   "cell_type": "markdown",
   "metadata": {},
   "source": [
    "Text here"
   ]
  },
  {
   "cell_type": "markdown",
   "metadata": {},
   "source": [
    "### Part F\n",
    "\n",
    "Of course, not everyone who was offered cash ended up taking it up and stopped cutting trees. So what we've estimated so far for the average treatment effect of _receiving cash incentives on tree cover_ can be interpreted as an **intent to treat** estimate for the effect of  _cash for environmental conservation_.\n",
    "\n",
    "**Suppose 75\\% of people who were offered cash incentives ended up stopping cutting trees, compared to 10\\% of people in the control group. Write down a Treatment on the Treated estimator and calculate it using your result from Part D (you don't have to run any additional regressions for this part). Under what circumstances would this be equal to the average treatment effect of cash incentives? Do you think these hold in this context?**"
   ]
  },
  {
   "cell_type": "code",
   "execution_count": null,
   "metadata": {},
   "outputs": [],
   "source": [
    "# code here (optional)"
   ]
  },
  {
   "cell_type": "markdown",
   "metadata": {},
   "source": [
    "Text here"
   ]
  }
 ],
 "metadata": {
  "kernelspec": {
   "display_name": "R",
   "language": "R",
   "name": "ir"
  },
  "language_info": {
   "codemirror_mode": "r",
   "file_extension": ".r",
   "mimetype": "text/x-r-source",
   "name": "R",
   "pygments_lexer": "r",
   "version": "4.2.1"
  }
 },
 "nbformat": 4,
 "nbformat_minor": 2
}
