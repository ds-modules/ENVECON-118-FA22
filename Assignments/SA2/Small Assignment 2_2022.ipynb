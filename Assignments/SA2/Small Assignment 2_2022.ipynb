{
 "cells": [
  {
   "cell_type": "markdown",
   "metadata": {},
   "source": [
    "# Small Assignment 2"
   ]
  },
  {
   "cell_type": "markdown",
   "metadata": {},
   "source": [
    "<em>Due September 23th by 11:59pm PT. Download your notebook with your code and responses as a PDF via HTML and submit to Gradescope.</em>\n",
    "\n",
    "The following model is a simplified version of the multiple regression model used by Greenstone and Gallagher (2008) to study the tradeoff between environmental clean-up of hazardous waste and housing prices and to look at other factors affecting housing prices.\n",
    "\n",
    "$\\textrm{lnhhvalue}=\\beta_0+\\beta_1\\textrm{waste}+\\beta_2\\textrm{nbyrs}+\\beta_3\\textrm{owner_occupied}+u$\n",
    "\n",
    "where house value is measured in dollars and waste is the quantity in kgs of hazardous waste (that could be cleaned up) in the house's census tract, nbyrs is the number of years since the house was built, and owner_occupied is a dummy variable (taking a value of 0 or 1) for whether the house is occupied by its owner (vs rented)."
   ]
  },
  {
   "cell_type": "markdown",
   "metadata": {},
   "source": [
    "### 1. If households incorporate environmental quality in the housing value, what is the sign of $\\beta_1$?\n",
    "\n",
    "(Note: typing the words \"beta 1\" is fine. If you want to have it as math notation, type: $ \\beta_1 $ . You can double click this cell and copy the code.)"
   ]
  },
  {
   "cell_type": "markdown",
   "metadata": {},
   "source": [
    "Double click to type your answer here."
   ]
  },
  {
   "cell_type": "markdown",
   "metadata": {},
   "source": [
    "### 2. What signs do you think $\\beta_2$ and $\\beta_3$ will have?"
   ]
  },
  {
   "cell_type": "markdown",
   "metadata": {},
   "source": [
    "Double click to type your answer here."
   ]
  },
  {
   "cell_type": "markdown",
   "metadata": {},
   "source": [
    "### 3. Load in the dataset: gg2008.dta and estimate the above model using `lm()`. Display the results with the `summary()` command.  \n",
    "Hint: <em>Remember that this is a .dta file, meaning that the `haven` package and `read_dta()` commands will be useful. You may also look at the Jupyter Notebook for section 3, which uses these data, for some example code.</em>"
   ]
  },
  {
   "cell_type": "code",
   "execution_count": 1,
   "metadata": {},
   "outputs": [],
   "source": [
    "##Code your answer here!"
   ]
  },
  {
   "cell_type": "markdown",
   "metadata": {},
   "source": [
    "### 4. Interpret the effect $\\hat{\\beta}_1 $."
   ]
  },
  {
   "cell_type": "markdown",
   "metadata": {},
   "source": [
    "Double click to type your answer here."
   ]
  },
  {
   "cell_type": "markdown",
   "metadata": {},
   "source": [
    "### 5. Discuss whether assumptions MLR1-MLR4 are reasonable or may be violated in these data. "
   ]
  },
  {
   "cell_type": "markdown",
   "metadata": {},
   "source": [
    "Double Click to type your answer here."
   ]
  }
 ],
 "metadata": {
  "kernelspec": {
   "display_name": "R",
   "language": "R",
   "name": "ir"
  },
  "language_info": {
   "codemirror_mode": "r",
   "file_extension": ".r",
   "mimetype": "text/x-r-source",
   "name": "R",
   "pygments_lexer": "r",
   "version": "4.2.1"
  }
 },
 "nbformat": 4,
 "nbformat_minor": 2
}
