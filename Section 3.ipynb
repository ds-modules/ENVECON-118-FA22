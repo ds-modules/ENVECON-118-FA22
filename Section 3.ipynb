{
 "cells": [
  {
   "cell_type": "markdown",
   "metadata": {},
   "source": [
    "# EEP C118 Section 3: R Demonstration"
   ]
  },
  {
   "cell_type": "markdown",
   "metadata": {},
   "source": [
    "Let's practice running multiple linear regression in R. Suppose we want to know the relationship between hours slept and hours worked. To do this, we will use `sleep.dta` which contains the relevant data. Remember to read in `.dta` files, we need to use the `haven` package."
   ]
  },
  {
   "cell_type": "code",
   "execution_count": 1,
   "metadata": {},
   "outputs": [
    {
     "name": "stderr",
     "output_type": "stream",
     "text": [
      "── \u001b[1mAttaching packages\u001b[22m ─────────────────────────────────────── tidyverse 1.3.1 ──\n",
      "\n",
      "\u001b[32m✔\u001b[39m \u001b[34mggplot2\u001b[39m 3.3.5     \u001b[32m✔\u001b[39m \u001b[34mpurrr  \u001b[39m 0.3.4\n",
      "\u001b[32m✔\u001b[39m \u001b[34mtibble \u001b[39m 3.1.3     \u001b[32m✔\u001b[39m \u001b[34mdplyr  \u001b[39m 1.0.7\n",
      "\u001b[32m✔\u001b[39m \u001b[34mtidyr  \u001b[39m 1.1.3     \u001b[32m✔\u001b[39m \u001b[34mstringr\u001b[39m 1.4.0\n",
      "\u001b[32m✔\u001b[39m \u001b[34mreadr  \u001b[39m 2.0.1     \u001b[32m✔\u001b[39m \u001b[34mforcats\u001b[39m 0.5.1\n",
      "\n",
      "── \u001b[1mConflicts\u001b[22m ────────────────────────────────────────── tidyverse_conflicts() ──\n",
      "\u001b[31m✖\u001b[39m \u001b[34mdplyr\u001b[39m::\u001b[32mfilter()\u001b[39m masks \u001b[34mstats\u001b[39m::filter()\n",
      "\u001b[31m✖\u001b[39m \u001b[34mdplyr\u001b[39m::\u001b[32mlag()\u001b[39m    masks \u001b[34mstats\u001b[39m::lag()\n",
      "\n"
     ]
    }
   ],
   "source": [
    "library(tidyverse)\n",
    "library(haven)\n",
    "sleepdata <- read_dta(\"sleep75.dta\")"
   ]
  },
  {
   "cell_type": "code",
   "execution_count": 2,
   "metadata": {},
   "outputs": [
    {
     "data": {
      "text/html": [
       "<table class=\"dataframe\">\n",
       "<caption>A tibble: 6 × 34</caption>\n",
       "<thead>\n",
       "\t<tr><th scope=col>age</th><th scope=col>black</th><th scope=col>case</th><th scope=col>clerical</th><th scope=col>construc</th><th scope=col>educ</th><th scope=col>earns74</th><th scope=col>gdhlth</th><th scope=col>inlf</th><th scope=col>leis1</th><th scope=col>⋯</th><th scope=col>spwrk75</th><th scope=col>totwrk</th><th scope=col>union</th><th scope=col>worknrm</th><th scope=col>workscnd</th><th scope=col>exper</th><th scope=col>yngkid</th><th scope=col>yrsmarr</th><th scope=col>hrwage</th><th scope=col>agesq</th></tr>\n",
       "\t<tr><th scope=col>&lt;dbl&gt;</th><th scope=col>&lt;dbl&gt;</th><th scope=col>&lt;dbl&gt;</th><th scope=col>&lt;dbl&gt;</th><th scope=col>&lt;dbl&gt;</th><th scope=col>&lt;dbl&gt;</th><th scope=col>&lt;dbl&gt;</th><th scope=col>&lt;dbl&gt;</th><th scope=col>&lt;dbl&gt;</th><th scope=col>&lt;dbl&gt;</th><th scope=col>⋯</th><th scope=col>&lt;dbl&gt;</th><th scope=col>&lt;dbl&gt;</th><th scope=col>&lt;dbl&gt;</th><th scope=col>&lt;dbl&gt;</th><th scope=col>&lt;dbl&gt;</th><th scope=col>&lt;dbl&gt;</th><th scope=col>&lt;dbl&gt;</th><th scope=col>&lt;dbl&gt;</th><th scope=col>&lt;dbl&gt;</th><th scope=col>&lt;dbl&gt;</th></tr>\n",
       "</thead>\n",
       "<tbody>\n",
       "\t<tr><td>32</td><td>0</td><td>1</td><td>0</td><td>0</td><td>12</td><td>    0</td><td>0</td><td>1</td><td>3529</td><td>⋯</td><td>0</td><td>3438</td><td>0</td><td>3438</td><td>   0</td><td>14</td><td>0</td><td>13</td><td> 7.070004</td><td>1024</td></tr>\n",
       "\t<tr><td>31</td><td>0</td><td>2</td><td>0</td><td>0</td><td>14</td><td> 9500</td><td>1</td><td>1</td><td>2140</td><td>⋯</td><td>0</td><td>5020</td><td>0</td><td>5020</td><td>   0</td><td>11</td><td>0</td><td> 0</td><td> 1.429999</td><td> 961</td></tr>\n",
       "\t<tr><td>44</td><td>0</td><td>3</td><td>0</td><td>0</td><td>17</td><td>42500</td><td>1</td><td>1</td><td>4595</td><td>⋯</td><td>1</td><td>2815</td><td>0</td><td>2815</td><td>   0</td><td>21</td><td>0</td><td> 0</td><td>20.529997</td><td>1936</td></tr>\n",
       "\t<tr><td>30</td><td>0</td><td>4</td><td>0</td><td>0</td><td>12</td><td>42500</td><td>1</td><td>1</td><td>3211</td><td>⋯</td><td>1</td><td>3786</td><td>0</td><td>3786</td><td>   0</td><td>12</td><td>0</td><td>12</td><td> 9.619998</td><td> 900</td></tr>\n",
       "\t<tr><td>64</td><td>0</td><td>5</td><td>0</td><td>0</td><td>14</td><td> 2500</td><td>1</td><td>1</td><td>4052</td><td>⋯</td><td>1</td><td>2580</td><td>0</td><td>2580</td><td>   0</td><td>44</td><td>0</td><td>33</td><td> 2.750000</td><td>4096</td></tr>\n",
       "\t<tr><td>41</td><td>0</td><td>6</td><td>0</td><td>0</td><td>12</td><td>    0</td><td>1</td><td>1</td><td>4812</td><td>⋯</td><td>0</td><td>1205</td><td>0</td><td>   0</td><td>1205</td><td>23</td><td>0</td><td>23</td><td>19.249998</td><td>1681</td></tr>\n",
       "</tbody>\n",
       "</table>\n"
      ],
      "text/latex": [
       "A tibble: 6 × 34\n",
       "\\begin{tabular}{lllllllllllllllllllll}\n",
       " age & black & case & clerical & construc & educ & earns74 & gdhlth & inlf & leis1 & ⋯ & spwrk75 & totwrk & union & worknrm & workscnd & exper & yngkid & yrsmarr & hrwage & agesq\\\\\n",
       " <dbl> & <dbl> & <dbl> & <dbl> & <dbl> & <dbl> & <dbl> & <dbl> & <dbl> & <dbl> & ⋯ & <dbl> & <dbl> & <dbl> & <dbl> & <dbl> & <dbl> & <dbl> & <dbl> & <dbl> & <dbl>\\\\\n",
       "\\hline\n",
       "\t 32 & 0 & 1 & 0 & 0 & 12 &     0 & 0 & 1 & 3529 & ⋯ & 0 & 3438 & 0 & 3438 &    0 & 14 & 0 & 13 &  7.070004 & 1024\\\\\n",
       "\t 31 & 0 & 2 & 0 & 0 & 14 &  9500 & 1 & 1 & 2140 & ⋯ & 0 & 5020 & 0 & 5020 &    0 & 11 & 0 &  0 &  1.429999 &  961\\\\\n",
       "\t 44 & 0 & 3 & 0 & 0 & 17 & 42500 & 1 & 1 & 4595 & ⋯ & 1 & 2815 & 0 & 2815 &    0 & 21 & 0 &  0 & 20.529997 & 1936\\\\\n",
       "\t 30 & 0 & 4 & 0 & 0 & 12 & 42500 & 1 & 1 & 3211 & ⋯ & 1 & 3786 & 0 & 3786 &    0 & 12 & 0 & 12 &  9.619998 &  900\\\\\n",
       "\t 64 & 0 & 5 & 0 & 0 & 14 &  2500 & 1 & 1 & 4052 & ⋯ & 1 & 2580 & 0 & 2580 &    0 & 44 & 0 & 33 &  2.750000 & 4096\\\\\n",
       "\t 41 & 0 & 6 & 0 & 0 & 12 &     0 & 1 & 1 & 4812 & ⋯ & 0 & 1205 & 0 &    0 & 1205 & 23 & 0 & 23 & 19.249998 & 1681\\\\\n",
       "\\end{tabular}\n"
      ],
      "text/markdown": [
       "\n",
       "A tibble: 6 × 34\n",
       "\n",
       "| age &lt;dbl&gt; | black &lt;dbl&gt; | case &lt;dbl&gt; | clerical &lt;dbl&gt; | construc &lt;dbl&gt; | educ &lt;dbl&gt; | earns74 &lt;dbl&gt; | gdhlth &lt;dbl&gt; | inlf &lt;dbl&gt; | leis1 &lt;dbl&gt; | ⋯ ⋯ | spwrk75 &lt;dbl&gt; | totwrk &lt;dbl&gt; | union &lt;dbl&gt; | worknrm &lt;dbl&gt; | workscnd &lt;dbl&gt; | exper &lt;dbl&gt; | yngkid &lt;dbl&gt; | yrsmarr &lt;dbl&gt; | hrwage &lt;dbl&gt; | agesq &lt;dbl&gt; |\n",
       "|---|---|---|---|---|---|---|---|---|---|---|---|---|---|---|---|---|---|---|---|---|\n",
       "| 32 | 0 | 1 | 0 | 0 | 12 |     0 | 0 | 1 | 3529 | ⋯ | 0 | 3438 | 0 | 3438 |    0 | 14 | 0 | 13 |  7.070004 | 1024 |\n",
       "| 31 | 0 | 2 | 0 | 0 | 14 |  9500 | 1 | 1 | 2140 | ⋯ | 0 | 5020 | 0 | 5020 |    0 | 11 | 0 |  0 |  1.429999 |  961 |\n",
       "| 44 | 0 | 3 | 0 | 0 | 17 | 42500 | 1 | 1 | 4595 | ⋯ | 1 | 2815 | 0 | 2815 |    0 | 21 | 0 |  0 | 20.529997 | 1936 |\n",
       "| 30 | 0 | 4 | 0 | 0 | 12 | 42500 | 1 | 1 | 3211 | ⋯ | 1 | 3786 | 0 | 3786 |    0 | 12 | 0 | 12 |  9.619998 |  900 |\n",
       "| 64 | 0 | 5 | 0 | 0 | 14 |  2500 | 1 | 1 | 4052 | ⋯ | 1 | 2580 | 0 | 2580 |    0 | 44 | 0 | 33 |  2.750000 | 4096 |\n",
       "| 41 | 0 | 6 | 0 | 0 | 12 |     0 | 1 | 1 | 4812 | ⋯ | 0 | 1205 | 0 |    0 | 1205 | 23 | 0 | 23 | 19.249998 | 1681 |\n",
       "\n"
      ],
      "text/plain": [
       "  age black case clerical construc educ earns74 gdhlth inlf leis1 ⋯ spwrk75\n",
       "1 32  0     1    0        0        12       0   0      1    3529  ⋯ 0      \n",
       "2 31  0     2    0        0        14    9500   1      1    2140  ⋯ 0      \n",
       "3 44  0     3    0        0        17   42500   1      1    4595  ⋯ 1      \n",
       "4 30  0     4    0        0        12   42500   1      1    3211  ⋯ 1      \n",
       "5 64  0     5    0        0        14    2500   1      1    4052  ⋯ 1      \n",
       "6 41  0     6    0        0        12       0   1      1    4812  ⋯ 0      \n",
       "  totwrk union worknrm workscnd exper yngkid yrsmarr hrwage    agesq\n",
       "1 3438   0     3438       0     14    0      13       7.070004 1024 \n",
       "2 5020   0     5020       0     11    0       0       1.429999  961 \n",
       "3 2815   0     2815       0     21    0       0      20.529997 1936 \n",
       "4 3786   0     3786       0     12    0      12       9.619998  900 \n",
       "5 2580   0     2580       0     44    0      33       2.750000 4096 \n",
       "6 1205   0        0    1205     23    0      23      19.249998 1681 "
      ]
     },
     "metadata": {},
     "output_type": "display_data"
    }
   ],
   "source": [
    "head(sleepdata)"
   ]
  },
  {
   "cell_type": "markdown",
   "metadata": {},
   "source": [
    "Uh oh. The data set is kind of long and hence Jupyter isn't showing us the middle columns. But we can also get a list of the columns by calling `colnames()`"
   ]
  },
  {
   "cell_type": "code",
   "execution_count": 3,
   "metadata": {},
   "outputs": [
    {
     "data": {
      "text/html": [
       "<style>\n",
       ".list-inline {list-style: none; margin:0; padding: 0}\n",
       ".list-inline>li {display: inline-block}\n",
       ".list-inline>li:not(:last-child)::after {content: \"\\00b7\"; padding: 0 .5ex}\n",
       "</style>\n",
       "<ol class=list-inline><li>'age'</li><li>'black'</li><li>'case'</li><li>'clerical'</li><li>'construc'</li><li>'educ'</li><li>'earns74'</li><li>'gdhlth'</li><li>'inlf'</li><li>'leis1'</li><li>'leis2'</li><li>'leis3'</li><li>'smsa'</li><li>'lhrwage'</li><li>'lothinc'</li><li>'male'</li><li>'marr'</li><li>'prot'</li><li>'rlxall'</li><li>'selfe'</li><li>'sleep'</li><li>'slpnaps'</li><li>'south'</li><li>'spsepay'</li><li>'spwrk75'</li><li>'totwrk'</li><li>'union'</li><li>'worknrm'</li><li>'workscnd'</li><li>'exper'</li><li>'yngkid'</li><li>'yrsmarr'</li><li>'hrwage'</li><li>'agesq'</li></ol>\n"
      ],
      "text/latex": [
       "\\begin{enumerate*}\n",
       "\\item 'age'\n",
       "\\item 'black'\n",
       "\\item 'case'\n",
       "\\item 'clerical'\n",
       "\\item 'construc'\n",
       "\\item 'educ'\n",
       "\\item 'earns74'\n",
       "\\item 'gdhlth'\n",
       "\\item 'inlf'\n",
       "\\item 'leis1'\n",
       "\\item 'leis2'\n",
       "\\item 'leis3'\n",
       "\\item 'smsa'\n",
       "\\item 'lhrwage'\n",
       "\\item 'lothinc'\n",
       "\\item 'male'\n",
       "\\item 'marr'\n",
       "\\item 'prot'\n",
       "\\item 'rlxall'\n",
       "\\item 'selfe'\n",
       "\\item 'sleep'\n",
       "\\item 'slpnaps'\n",
       "\\item 'south'\n",
       "\\item 'spsepay'\n",
       "\\item 'spwrk75'\n",
       "\\item 'totwrk'\n",
       "\\item 'union'\n",
       "\\item 'worknrm'\n",
       "\\item 'workscnd'\n",
       "\\item 'exper'\n",
       "\\item 'yngkid'\n",
       "\\item 'yrsmarr'\n",
       "\\item 'hrwage'\n",
       "\\item 'agesq'\n",
       "\\end{enumerate*}\n"
      ],
      "text/markdown": [
       "1. 'age'\n",
       "2. 'black'\n",
       "3. 'case'\n",
       "4. 'clerical'\n",
       "5. 'construc'\n",
       "6. 'educ'\n",
       "7. 'earns74'\n",
       "8. 'gdhlth'\n",
       "9. 'inlf'\n",
       "10. 'leis1'\n",
       "11. 'leis2'\n",
       "12. 'leis3'\n",
       "13. 'smsa'\n",
       "14. 'lhrwage'\n",
       "15. 'lothinc'\n",
       "16. 'male'\n",
       "17. 'marr'\n",
       "18. 'prot'\n",
       "19. 'rlxall'\n",
       "20. 'selfe'\n",
       "21. 'sleep'\n",
       "22. 'slpnaps'\n",
       "23. 'south'\n",
       "24. 'spsepay'\n",
       "25. 'spwrk75'\n",
       "26. 'totwrk'\n",
       "27. 'union'\n",
       "28. 'worknrm'\n",
       "29. 'workscnd'\n",
       "30. 'exper'\n",
       "31. 'yngkid'\n",
       "32. 'yrsmarr'\n",
       "33. 'hrwage'\n",
       "34. 'agesq'\n",
       "\n",
       "\n"
      ],
      "text/plain": [
       " [1] \"age\"      \"black\"    \"case\"     \"clerical\" \"construc\" \"educ\"    \n",
       " [7] \"earns74\"  \"gdhlth\"   \"inlf\"     \"leis1\"    \"leis2\"    \"leis3\"   \n",
       "[13] \"smsa\"     \"lhrwage\"  \"lothinc\"  \"male\"     \"marr\"     \"prot\"    \n",
       "[19] \"rlxall\"   \"selfe\"    \"sleep\"    \"slpnaps\"  \"south\"    \"spsepay\" \n",
       "[25] \"spwrk75\"  \"totwrk\"   \"union\"    \"worknrm\"  \"workscnd\" \"exper\"   \n",
       "[31] \"yngkid\"   \"yrsmarr\"  \"hrwage\"   \"agesq\"   "
      ]
     },
     "metadata": {},
     "output_type": "display_data"
    }
   ],
   "source": [
    "colnames(sleepdata)"
   ]
  },
  {
   "cell_type": "code",
   "execution_count": 3,
   "metadata": {},
   "outputs": [
    {
     "data": {
      "text/plain": [
       "   Min. 1st Qu.  Median    Mean 3rd Qu.    Max. \n",
       " 0.0000  0.0000  0.0000  0.1289  0.0000  1.0000 "
      ]
     },
     "metadata": {},
     "output_type": "display_data"
    }
   ],
   "source": [
    "summary(sleepdata$yngkid)"
   ]
  },
  {
   "cell_type": "markdown",
   "metadata": {},
   "source": []
  },
  {
   "cell_type": "markdown",
   "metadata": {},
   "source": [
    "Looks like _sleep_ and _totwork_ are our main variables of interest. But note that in this data set, it happens to the that _sleep_ describes minutes of sleep per week."
   ]
  },
  {
   "cell_type": "code",
   "execution_count": 4,
   "metadata": {},
   "outputs": [
    {
     "data": {
      "text/plain": [
       "   Min. 1st Qu.  Median    Mean 3rd Qu.    Max. \n",
       "    755    3015    3270    3266    3532    4695 "
      ]
     },
     "metadata": {},
     "output_type": "display_data"
    },
    {
     "data": {
      "text/plain": [
       "   Min. 1st Qu.  Median    Mean 3rd Qu.    Max. \n",
       "      0    1554    2288    2123    2692    6415 "
      ]
     },
     "metadata": {},
     "output_type": "display_data"
    }
   ],
   "source": [
    "summary(sleepdata$sleep)\n",
    "summary(sleepdata$totwrk)"
   ]
  },
  {
   "cell_type": "markdown",
   "metadata": {},
   "source": [
    "Let's make a new variable called _sleephrs_ that is hours slept per night."
   ]
  },
  {
   "cell_type": "code",
   "execution_count": 5,
   "metadata": {},
   "outputs": [
    {
     "data": {
      "text/plain": [
       "   Min. 1st Qu.  Median    Mean 3rd Qu.    Max. \n",
       "  1.798   7.179   7.787   7.777   8.410  11.179 "
      ]
     },
     "metadata": {},
     "output_type": "display_data"
    }
   ],
   "source": [
    "sleepdata$sleephrs<-sleepdata$sleep/(7*60)\n",
    "summary(sleepdata$sleephrs)"
   ]
  },
  {
   "cell_type": "markdown",
   "metadata": {},
   "source": [
    "Let's do the same thing for _totwrk_, making a variable called _wrkhrs_."
   ]
  },
  {
   "cell_type": "code",
   "execution_count": 6,
   "metadata": {},
   "outputs": [
    {
     "data": {
      "text/plain": [
       "   Min. 1st Qu.  Median    Mean 3rd Qu.    Max. \n",
       "  0.000   3.699   5.448   5.055   6.409  15.274 "
      ]
     },
     "metadata": {},
     "output_type": "display_data"
    }
   ],
   "source": [
    "sleepdata$wrkhrs<-sleepdata$totwrk/(7*60)\n",
    "summary(sleepdata$wrkhrs)"
   ]
  },
  {
   "cell_type": "markdown",
   "metadata": {},
   "source": [
    "Great! Now let's run a regression and look at the results."
   ]
  },
  {
   "cell_type": "code",
   "execution_count": 7,
   "metadata": {},
   "outputs": [
    {
     "data": {
      "text/plain": [
       "\n",
       "Call:\n",
       "lm(formula = sleephrs ~ wrkhrs, data = sleepdata)\n",
       "\n",
       "Residuals:\n",
       "    Min      1Q  Median      3Q     Max \n",
       "-5.7856 -0.5720  0.0117  0.5965  3.1898 \n",
       "\n",
       "Coefficients:\n",
       "            Estimate Std. Error t value Pr(>|t|)    \n",
       "(Intercept)  8.53899    0.09265  92.165   <2e-16 ***\n",
       "wrkhrs      -0.15075    0.01674  -9.005   <2e-16 ***\n",
       "---\n",
       "Signif. codes:  0 ‘***’ 0.001 ‘**’ 0.01 ‘*’ 0.05 ‘.’ 0.1 ‘ ’ 1\n",
       "\n",
       "Residual standard error: 1.003 on 704 degrees of freedom\n",
       "Multiple R-squared:  0.1033,\tAdjusted R-squared:  0.102 \n",
       "F-statistic: 81.09 on 1 and 704 DF,  p-value: < 2.2e-16\n"
      ]
     },
     "metadata": {},
     "output_type": "display_data"
    }
   ],
   "source": [
    "slr<-lm(sleephrs~wrkhrs, data=sleepdata)\n",
    "summary(slr)"
   ]
  },
  {
   "cell_type": "markdown",
   "metadata": {},
   "source": [
    "So it seems like for every additional hour a person works, they sleep about 0.15 hours less. But is this causal? Not necessarily. Recall SLR 4, that $E[u\\vert x]=0$. Is this likely to be true here? What are some confounders that we might be picking up in $u$ with this specification? Maybe age, health status, gender, etc. Let's do a multiple linear regression where we controll for some more factors."
   ]
  },
  {
   "cell_type": "code",
   "execution_count": 12,
   "metadata": {},
   "outputs": [
    {
     "data": {
      "text/plain": [
       "\n",
       "Call:\n",
       "lm(formula = sleephrs ~ wrkhrs + gdhlth + age + male, data = sleepdata)\n",
       "\n",
       "Residuals:\n",
       "    Min      1Q  Median      3Q     Max \n",
       "-5.5354 -0.5677  0.0094  0.6252  3.2351 \n",
       "\n",
       "Coefficients:\n",
       "             Estimate Std. Error t value Pr(>|t|)    \n",
       "(Intercept)  8.452901   0.196528  43.011   <2e-16 ***\n",
       "wrkhrs      -0.163110   0.018035  -9.044   <2e-16 ***\n",
       "gdhlth      -0.221831   0.121370  -1.828   0.0680 .  \n",
       "age          0.005919   0.003329   1.778   0.0758 .  \n",
       "male         0.205585   0.081706   2.516   0.0121 *  \n",
       "---\n",
       "Signif. codes:  0 ‘***’ 0.001 ‘**’ 0.01 ‘*’ 0.05 ‘.’ 0.1 ‘ ’ 1\n",
       "\n",
       "Residual standard error: 0.995 on 701 degrees of freedom\n",
       "Multiple R-squared:  0.1208,\tAdjusted R-squared:  0.1157 \n",
       "F-statistic: 24.07 on 4 and 701 DF,  p-value: < 2.2e-16\n"
      ]
     },
     "metadata": {},
     "output_type": "display_data"
    }
   ],
   "source": [
    "mlr<-lm(sleephrs~wrkhrs+gdhlth+age+male, data=sleepdata)\n",
    "summary(mlr)"
   ]
  },
  {
   "cell_type": "markdown",
   "metadata": {},
   "source": [
    "When we control for these other factors, the co-efficient on _wrkhrs_ stays fairly consistent. This tells us that even after holding health status, age, and gender constant, that working more leads to less sleep. However, we still might be able to think of other confounders contained in _u_ even in this specification. To be confident in our result, let's add some more covariates and see what happens."
   ]
  },
  {
   "cell_type": "code",
   "execution_count": 19,
   "metadata": {},
   "outputs": [
    {
     "data": {
      "text/plain": [
       "\n",
       "Call:\n",
       "lm(formula = sleephrs ~ wrkhrs + gdhlth + age + male + lhrwage + \n",
       "    clerical + marr + black + earns74 + union + exper, data = sleepdata)\n",
       "\n",
       "Residuals:\n",
       "    Min      1Q  Median      3Q     Max \n",
       "-4.3431 -0.5948 -0.0021  0.5899  3.0868 \n",
       "\n",
       "Coefficients:\n",
       "              Estimate Std. Error t value Pr(>|t|)    \n",
       "(Intercept)  8.643e+00  4.339e-01  19.919  < 2e-16 ***\n",
       "wrkhrs      -1.531e-01  2.104e-02  -7.279 1.25e-12 ***\n",
       "gdhlth      -1.756e-01  1.378e-01  -1.274    0.203    \n",
       "age         -9.461e-03  1.983e-02  -0.477    0.633    \n",
       "male         1.016e-01  1.077e-01   0.944    0.346    \n",
       "lhrwage      4.543e-02  8.452e-02   0.537    0.591    \n",
       "clerical     7.525e-02  1.178e-01   0.639    0.523    \n",
       "marr         1.464e-01  1.117e-01   1.311    0.190    \n",
       "black       -1.613e-01  1.944e-01  -0.830    0.407    \n",
       "earns74     -8.388e-06  5.986e-06  -1.401    0.162    \n",
       "union        5.240e-02  1.045e-01   0.501    0.616    \n",
       "exper        1.260e-02  1.821e-02   0.692    0.489    \n",
       "---\n",
       "Signif. codes:  0 ‘***’ 0.001 ‘**’ 0.01 ‘*’ 0.05 ‘.’ 0.1 ‘ ’ 1\n",
       "\n",
       "Residual standard error: 0.9706 on 520 degrees of freedom\n",
       "  (174 observations deleted due to missingness)\n",
       "Multiple R-squared:  0.1238,\tAdjusted R-squared:  0.1053 \n",
       "F-statistic: 6.679 on 11 and 520 DF,  p-value: 1.652e-10\n"
      ]
     },
     "metadata": {},
     "output_type": "display_data"
    }
   ],
   "source": [
    "mlr2<-lm(sleephrs~wrkhrs+gdhlth+age+male+lhrwage+clerical+marr+black+earns74+union+exper, data=sleepdata)\n",
    "summary(mlr2)"
   ]
  },
  {
   "cell_type": "markdown",
   "metadata": {},
   "source": [
    "Wow, our coefficient estimate on _wrkhrs_ is still quite stable, making us more confident that working 1 more hour leads to about 0.15 less hours of sleep a night. However, note that in our `mlr` regression, being a male was associated with .20 additional hours of sleep a night, but when we add in other covariates in `mlr2`, this coefficient shrinks and it is no longer statistically signficant."
   ]
  }
 ],
 "metadata": {
  "kernelspec": {
   "display_name": "R",
   "language": "R",
   "name": "ir"
  },
  "language_info": {
   "codemirror_mode": "r",
   "file_extension": ".r",
   "mimetype": "text/x-r-source",
   "name": "R",
   "pygments_lexer": "r",
   "version": "4.1.1"
  }
 },
 "nbformat": 4,
 "nbformat_minor": 2
}
